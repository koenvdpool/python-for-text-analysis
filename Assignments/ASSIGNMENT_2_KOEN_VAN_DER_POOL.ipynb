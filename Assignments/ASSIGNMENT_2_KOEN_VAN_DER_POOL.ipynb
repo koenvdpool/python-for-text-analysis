{
 "cells": [
  {
   "cell_type": "markdown",
   "metadata": {},
   "source": [
    "# Assignment 2: Containers\n",
    "\n",
    "- Please name your files:\n",
    "    * ASSIGNMENT_2_FIRSTNAME_LASTNAME.ipynb \n",
    "    * assignment2_utils.py\n",
    "- Please store the two files in a folder called ASSIGNMENT_2_FIRSTNAME_LASTNAME\n",
    "- Please zip your folder and please follow the following naming convention for the zip file: ASSIGNMENT_2_FIRSTNAME_LASTNAME.zip\n",
    "- Please submit your assignment on Canvas: Assignment 2\n",
    "- If you have **questions** about this topic, please contact us **(cltl.python.course@gmail.com)**. Questions and answers will be collected on Piazza, so please check if your question has already been answered first.\n",
    "\n",
    "In this block, we covered the following chapters:\n",
    "- Chapter 05 - Core concepts of containers\n",
    "- Chapter 06 - Lists\n",
    "- Chapter 07 - Sets\n",
    "- Chapter 08 - Comparison of lists and sets\n",
    "- Chapter 09 - Looping over containers.\n",
    "- Chapter 10 - Dictionaries\n",
    "- Chapter 11 - Functions and scope\n",
    "\n",
    "In this assignment, you will be asked to show what you have learned from the topics above! \n",
    "\n",
    "**Finding solutions online**\n",
    "\n",
    "Very often, you can find good solutions online. We encourage you to use online resources when you get stuck. However, please always try to understand the code you find and indicate that it is not your own. Use the following format to mark code written by someone else:\n",
    "\n",
    "###Taken from [link] [date]\n",
    "\n",
    "[code]\n",
    "\n",
    "\\###\n",
    "\n",
    "Please use a similar format to indicate that you have worked with a classmate (e.g. mention the name instead of the link). \n",
    "\n",
    "*Please stick to this strategy for all course assignments.*"
   ]
  },
  {
   "cell_type": "markdown",
   "metadata": {},
   "source": [
    "## Exercise 1: Beersong\n",
    "*99 Bottles of Beer* is a traditional song in the United States and Canada. Write a python program that generates the lyrics to the song."
   ]
  },
  {
   "cell_type": "markdown",
   "metadata": {},
   "source": [
    "The song's simple lyrics are as follows:\n",
    "\n",
    "    99 bottles of beer on the wall,\n",
    "    99 bottles of beer.\n",
    "    Take one down, pass it around,\n",
    "    98 bottles of beer on the wall.\n",
    "\n",
    "The same verse is repeated, each time with one fewer bottle. The song\n",
    "is completed when the singer or singers reach zero. After the last bottle\n",
    "is taken down and passed around, there is a special verse:\n",
    "\n",
    "    No more bottles of beer on the wall,\n",
    "    no more bottles of beer.\n",
    "    Go to the store and buy some more,\n",
    "    99 bottles of beer on the wall."
   ]
  },
  {
   "cell_type": "markdown",
   "metadata": {},
   "source": [
    "Notes:\n",
    "\n",
    "* Leave a blank line between verses.\n",
    "* Make sure that you print the singular form of \"bottles\" when the counter is at one."
   ]
  },
  {
   "cell_type": "markdown",
   "metadata": {},
   "source": [
    "Hint:\n",
    "\n",
    "* While debugging the program, start from a small number, and\n",
    "change it to 100 when you are done (as shown below).\n",
    "* Use variables to prevent code repetition\n",
    "\n",
    "You can use the following code snippet as a start:"
   ]
  },
  {
   "cell_type": "code",
   "execution_count": 25,
   "metadata": {},
   "outputs": [
    {
     "name": "stdout",
     "output_type": "stream",
     "text": [
      "99 bottles of beer on the wall,\n",
      "99 bottles of beer.\n",
      "Take one down, pass it around,\n",
      "98 bottles of beer on the wall.\n",
      "\n",
      "98 bottles of beer on the wall,\n",
      "98 bottles of beer.\n",
      "Take one down, pass it around,\n",
      "97 bottles of beer on the wall.\n",
      "\n",
      "97 bottles of beer on the wall,\n",
      "97 bottles of beer.\n",
      "Take one down, pass it around,\n",
      "96 bottles of beer on the wall.\n",
      "\n",
      "96 bottles of beer on the wall,\n",
      "96 bottles of beer.\n",
      "Take one down, pass it around,\n",
      "95 bottles of beer on the wall.\n",
      "\n",
      "95 bottles of beer on the wall,\n",
      "95 bottles of beer.\n",
      "Take one down, pass it around,\n",
      "94 bottles of beer on the wall.\n",
      "\n",
      "94 bottles of beer on the wall,\n",
      "94 bottles of beer.\n",
      "Take one down, pass it around,\n",
      "93 bottles of beer on the wall.\n",
      "\n",
      "93 bottles of beer on the wall,\n",
      "93 bottles of beer.\n",
      "Take one down, pass it around,\n",
      "92 bottles of beer on the wall.\n",
      "\n",
      "92 bottles of beer on the wall,\n",
      "92 bottles of beer.\n",
      "Take one down, pass it around,\n",
      "91 bottles of beer on the wall.\n",
      "\n",
      "91 bottles of beer on the wall,\n",
      "91 bottles of beer.\n",
      "Take one down, pass it around,\n",
      "90 bottles of beer on the wall.\n",
      "\n",
      "90 bottles of beer on the wall,\n",
      "90 bottles of beer.\n",
      "Take one down, pass it around,\n",
      "89 bottles of beer on the wall.\n",
      "\n",
      "89 bottles of beer on the wall,\n",
      "89 bottles of beer.\n",
      "Take one down, pass it around,\n",
      "88 bottles of beer on the wall.\n",
      "\n",
      "88 bottles of beer on the wall,\n",
      "88 bottles of beer.\n",
      "Take one down, pass it around,\n",
      "87 bottles of beer on the wall.\n",
      "\n",
      "87 bottles of beer on the wall,\n",
      "87 bottles of beer.\n",
      "Take one down, pass it around,\n",
      "86 bottles of beer on the wall.\n",
      "\n",
      "86 bottles of beer on the wall,\n",
      "86 bottles of beer.\n",
      "Take one down, pass it around,\n",
      "85 bottles of beer on the wall.\n",
      "\n",
      "85 bottles of beer on the wall,\n",
      "85 bottles of beer.\n",
      "Take one down, pass it around,\n",
      "84 bottles of beer on the wall.\n",
      "\n",
      "84 bottles of beer on the wall,\n",
      "84 bottles of beer.\n",
      "Take one down, pass it around,\n",
      "83 bottles of beer on the wall.\n",
      "\n",
      "83 bottles of beer on the wall,\n",
      "83 bottles of beer.\n",
      "Take one down, pass it around,\n",
      "82 bottles of beer on the wall.\n",
      "\n",
      "82 bottles of beer on the wall,\n",
      "82 bottles of beer.\n",
      "Take one down, pass it around,\n",
      "81 bottles of beer on the wall.\n",
      "\n",
      "81 bottles of beer on the wall,\n",
      "81 bottles of beer.\n",
      "Take one down, pass it around,\n",
      "80 bottles of beer on the wall.\n",
      "\n",
      "80 bottles of beer on the wall,\n",
      "80 bottles of beer.\n",
      "Take one down, pass it around,\n",
      "79 bottles of beer on the wall.\n",
      "\n",
      "79 bottles of beer on the wall,\n",
      "79 bottles of beer.\n",
      "Take one down, pass it around,\n",
      "78 bottles of beer on the wall.\n",
      "\n",
      "78 bottles of beer on the wall,\n",
      "78 bottles of beer.\n",
      "Take one down, pass it around,\n",
      "77 bottles of beer on the wall.\n",
      "\n",
      "77 bottles of beer on the wall,\n",
      "77 bottles of beer.\n",
      "Take one down, pass it around,\n",
      "76 bottles of beer on the wall.\n",
      "\n",
      "76 bottles of beer on the wall,\n",
      "76 bottles of beer.\n",
      "Take one down, pass it around,\n",
      "75 bottles of beer on the wall.\n",
      "\n",
      "75 bottles of beer on the wall,\n",
      "75 bottles of beer.\n",
      "Take one down, pass it around,\n",
      "74 bottles of beer on the wall.\n",
      "\n",
      "74 bottles of beer on the wall,\n",
      "74 bottles of beer.\n",
      "Take one down, pass it around,\n",
      "73 bottles of beer on the wall.\n",
      "\n",
      "73 bottles of beer on the wall,\n",
      "73 bottles of beer.\n",
      "Take one down, pass it around,\n",
      "72 bottles of beer on the wall.\n",
      "\n",
      "72 bottles of beer on the wall,\n",
      "72 bottles of beer.\n",
      "Take one down, pass it around,\n",
      "71 bottles of beer on the wall.\n",
      "\n",
      "71 bottles of beer on the wall,\n",
      "71 bottles of beer.\n",
      "Take one down, pass it around,\n",
      "70 bottles of beer on the wall.\n",
      "\n",
      "70 bottles of beer on the wall,\n",
      "70 bottles of beer.\n",
      "Take one down, pass it around,\n",
      "69 bottles of beer on the wall.\n",
      "\n",
      "69 bottles of beer on the wall,\n",
      "69 bottles of beer.\n",
      "Take one down, pass it around,\n",
      "68 bottles of beer on the wall.\n",
      "\n",
      "68 bottles of beer on the wall,\n",
      "68 bottles of beer.\n",
      "Take one down, pass it around,\n",
      "67 bottles of beer on the wall.\n",
      "\n",
      "67 bottles of beer on the wall,\n",
      "67 bottles of beer.\n",
      "Take one down, pass it around,\n",
      "66 bottles of beer on the wall.\n",
      "\n",
      "66 bottles of beer on the wall,\n",
      "66 bottles of beer.\n",
      "Take one down, pass it around,\n",
      "65 bottles of beer on the wall.\n",
      "\n",
      "65 bottles of beer on the wall,\n",
      "65 bottles of beer.\n",
      "Take one down, pass it around,\n",
      "64 bottles of beer on the wall.\n",
      "\n",
      "64 bottles of beer on the wall,\n",
      "64 bottles of beer.\n",
      "Take one down, pass it around,\n",
      "63 bottles of beer on the wall.\n",
      "\n",
      "63 bottles of beer on the wall,\n",
      "63 bottles of beer.\n",
      "Take one down, pass it around,\n",
      "62 bottles of beer on the wall.\n",
      "\n",
      "62 bottles of beer on the wall,\n",
      "62 bottles of beer.\n",
      "Take one down, pass it around,\n",
      "61 bottles of beer on the wall.\n",
      "\n",
      "61 bottles of beer on the wall,\n",
      "61 bottles of beer.\n",
      "Take one down, pass it around,\n",
      "60 bottles of beer on the wall.\n",
      "\n",
      "60 bottles of beer on the wall,\n",
      "60 bottles of beer.\n",
      "Take one down, pass it around,\n",
      "59 bottles of beer on the wall.\n",
      "\n",
      "59 bottles of beer on the wall,\n",
      "59 bottles of beer.\n",
      "Take one down, pass it around,\n",
      "58 bottles of beer on the wall.\n",
      "\n",
      "58 bottles of beer on the wall,\n",
      "58 bottles of beer.\n",
      "Take one down, pass it around,\n",
      "57 bottles of beer on the wall.\n",
      "\n",
      "57 bottles of beer on the wall,\n",
      "57 bottles of beer.\n",
      "Take one down, pass it around,\n",
      "56 bottles of beer on the wall.\n",
      "\n",
      "56 bottles of beer on the wall,\n",
      "56 bottles of beer.\n",
      "Take one down, pass it around,\n",
      "55 bottles of beer on the wall.\n",
      "\n",
      "55 bottles of beer on the wall,\n",
      "55 bottles of beer.\n",
      "Take one down, pass it around,\n",
      "54 bottles of beer on the wall.\n",
      "\n",
      "54 bottles of beer on the wall,\n",
      "54 bottles of beer.\n",
      "Take one down, pass it around,\n",
      "53 bottles of beer on the wall.\n",
      "\n",
      "53 bottles of beer on the wall,\n",
      "53 bottles of beer.\n",
      "Take one down, pass it around,\n",
      "52 bottles of beer on the wall.\n",
      "\n",
      "52 bottles of beer on the wall,\n",
      "52 bottles of beer.\n",
      "Take one down, pass it around,\n",
      "51 bottles of beer on the wall.\n",
      "\n",
      "51 bottles of beer on the wall,\n",
      "51 bottles of beer.\n",
      "Take one down, pass it around,\n",
      "50 bottles of beer on the wall.\n",
      "\n",
      "50 bottles of beer on the wall,\n",
      "50 bottles of beer.\n",
      "Take one down, pass it around,\n",
      "49 bottles of beer on the wall.\n",
      "\n",
      "49 bottles of beer on the wall,\n",
      "49 bottles of beer.\n",
      "Take one down, pass it around,\n",
      "48 bottles of beer on the wall.\n",
      "\n",
      "48 bottles of beer on the wall,\n",
      "48 bottles of beer.\n",
      "Take one down, pass it around,\n",
      "47 bottles of beer on the wall.\n",
      "\n",
      "47 bottles of beer on the wall,\n",
      "47 bottles of beer.\n",
      "Take one down, pass it around,\n",
      "46 bottles of beer on the wall.\n",
      "\n",
      "46 bottles of beer on the wall,\n",
      "46 bottles of beer.\n",
      "Take one down, pass it around,\n",
      "45 bottles of beer on the wall.\n",
      "\n",
      "45 bottles of beer on the wall,\n",
      "45 bottles of beer.\n",
      "Take one down, pass it around,\n",
      "44 bottles of beer on the wall.\n",
      "\n",
      "44 bottles of beer on the wall,\n",
      "44 bottles of beer.\n",
      "Take one down, pass it around,\n",
      "43 bottles of beer on the wall.\n",
      "\n",
      "43 bottles of beer on the wall,\n",
      "43 bottles of beer.\n",
      "Take one down, pass it around,\n",
      "42 bottles of beer on the wall.\n",
      "\n",
      "42 bottles of beer on the wall,\n",
      "42 bottles of beer.\n",
      "Take one down, pass it around,\n",
      "41 bottles of beer on the wall.\n",
      "\n",
      "41 bottles of beer on the wall,\n",
      "41 bottles of beer.\n",
      "Take one down, pass it around,\n",
      "40 bottles of beer on the wall.\n",
      "\n",
      "40 bottles of beer on the wall,\n",
      "40 bottles of beer.\n",
      "Take one down, pass it around,\n",
      "39 bottles of beer on the wall.\n",
      "\n",
      "39 bottles of beer on the wall,\n",
      "39 bottles of beer.\n",
      "Take one down, pass it around,\n",
      "38 bottles of beer on the wall.\n",
      "\n",
      "38 bottles of beer on the wall,\n",
      "38 bottles of beer.\n",
      "Take one down, pass it around,\n",
      "37 bottles of beer on the wall.\n",
      "\n",
      "37 bottles of beer on the wall,\n",
      "37 bottles of beer.\n",
      "Take one down, pass it around,\n",
      "36 bottles of beer on the wall.\n",
      "\n",
      "36 bottles of beer on the wall,\n",
      "36 bottles of beer.\n",
      "Take one down, pass it around,\n",
      "35 bottles of beer on the wall.\n",
      "\n",
      "35 bottles of beer on the wall,\n",
      "35 bottles of beer.\n",
      "Take one down, pass it around,\n",
      "34 bottles of beer on the wall.\n",
      "\n",
      "34 bottles of beer on the wall,\n",
      "34 bottles of beer.\n",
      "Take one down, pass it around,\n",
      "33 bottles of beer on the wall.\n",
      "\n",
      "33 bottles of beer on the wall,\n",
      "33 bottles of beer.\n",
      "Take one down, pass it around,\n",
      "32 bottles of beer on the wall.\n",
      "\n",
      "32 bottles of beer on the wall,\n",
      "32 bottles of beer.\n",
      "Take one down, pass it around,\n",
      "31 bottles of beer on the wall.\n",
      "\n",
      "31 bottles of beer on the wall,\n",
      "31 bottles of beer.\n",
      "Take one down, pass it around,\n",
      "30 bottles of beer on the wall.\n",
      "\n",
      "30 bottles of beer on the wall,\n",
      "30 bottles of beer.\n",
      "Take one down, pass it around,\n",
      "29 bottles of beer on the wall.\n",
      "\n",
      "29 bottles of beer on the wall,\n",
      "29 bottles of beer.\n",
      "Take one down, pass it around,\n",
      "28 bottles of beer on the wall.\n",
      "\n",
      "28 bottles of beer on the wall,\n",
      "28 bottles of beer.\n",
      "Take one down, pass it around,\n",
      "27 bottles of beer on the wall.\n",
      "\n",
      "27 bottles of beer on the wall,\n",
      "27 bottles of beer.\n",
      "Take one down, pass it around,\n",
      "26 bottles of beer on the wall.\n",
      "\n",
      "26 bottles of beer on the wall,\n",
      "26 bottles of beer.\n",
      "Take one down, pass it around,\n",
      "25 bottles of beer on the wall.\n",
      "\n",
      "25 bottles of beer on the wall,\n",
      "25 bottles of beer.\n",
      "Take one down, pass it around,\n",
      "24 bottles of beer on the wall.\n",
      "\n",
      "24 bottles of beer on the wall,\n",
      "24 bottles of beer.\n",
      "Take one down, pass it around,\n",
      "23 bottles of beer on the wall.\n",
      "\n",
      "23 bottles of beer on the wall,\n",
      "23 bottles of beer.\n",
      "Take one down, pass it around,\n",
      "22 bottles of beer on the wall.\n",
      "\n",
      "22 bottles of beer on the wall,\n",
      "22 bottles of beer.\n",
      "Take one down, pass it around,\n",
      "21 bottles of beer on the wall.\n",
      "\n",
      "21 bottles of beer on the wall,\n",
      "21 bottles of beer.\n",
      "Take one down, pass it around,\n",
      "20 bottles of beer on the wall.\n",
      "\n",
      "20 bottles of beer on the wall,\n",
      "20 bottles of beer.\n",
      "Take one down, pass it around,\n",
      "19 bottles of beer on the wall.\n",
      "\n",
      "19 bottles of beer on the wall,\n",
      "19 bottles of beer.\n",
      "Take one down, pass it around,\n",
      "18 bottles of beer on the wall.\n",
      "\n",
      "18 bottles of beer on the wall,\n",
      "18 bottles of beer.\n",
      "Take one down, pass it around,\n",
      "17 bottles of beer on the wall.\n",
      "\n",
      "17 bottles of beer on the wall,\n",
      "17 bottles of beer.\n",
      "Take one down, pass it around,\n",
      "16 bottles of beer on the wall.\n",
      "\n",
      "16 bottles of beer on the wall,\n",
      "16 bottles of beer.\n",
      "Take one down, pass it around,\n",
      "15 bottles of beer on the wall.\n",
      "\n",
      "15 bottles of beer on the wall,\n",
      "15 bottles of beer.\n",
      "Take one down, pass it around,\n",
      "14 bottles of beer on the wall.\n",
      "\n",
      "14 bottles of beer on the wall,\n",
      "14 bottles of beer.\n",
      "Take one down, pass it around,\n",
      "13 bottles of beer on the wall.\n",
      "\n",
      "13 bottles of beer on the wall,\n",
      "13 bottles of beer.\n",
      "Take one down, pass it around,\n",
      "12 bottles of beer on the wall.\n",
      "\n",
      "12 bottles of beer on the wall,\n",
      "12 bottles of beer.\n",
      "Take one down, pass it around,\n",
      "11 bottles of beer on the wall.\n",
      "\n",
      "11 bottles of beer on the wall,\n",
      "11 bottles of beer.\n",
      "Take one down, pass it around,\n",
      "10 bottles of beer on the wall.\n",
      "\n",
      "10 bottles of beer on the wall,\n",
      "10 bottles of beer.\n",
      "Take one down, pass it around,\n",
      "9 bottles of beer on the wall.\n",
      "\n",
      "9 bottles of beer on the wall,\n",
      "9 bottles of beer.\n",
      "Take one down, pass it around,\n",
      "8 bottles of beer on the wall.\n",
      "\n",
      "8 bottles of beer on the wall,\n",
      "8 bottles of beer.\n",
      "Take one down, pass it around,\n",
      "7 bottles of beer on the wall.\n",
      "\n",
      "7 bottles of beer on the wall,\n",
      "7 bottles of beer.\n",
      "Take one down, pass it around,\n",
      "6 bottles of beer on the wall.\n",
      "\n",
      "6 bottles of beer on the wall,\n",
      "6 bottles of beer.\n",
      "Take one down, pass it around,\n",
      "5 bottles of beer on the wall.\n",
      "\n",
      "5 bottles of beer on the wall,\n",
      "5 bottles of beer.\n",
      "Take one down, pass it around,\n",
      "4 bottles of beer on the wall.\n",
      "\n",
      "4 bottles of beer on the wall,\n",
      "4 bottles of beer.\n",
      "Take one down, pass it around,\n",
      "3 bottles of beer on the wall.\n",
      "\n",
      "3 bottles of beer on the wall,\n",
      "3 bottles of beer.\n",
      "Take one down, pass it around,\n",
      "2 bottles of beer on the wall.\n",
      "\n",
      "2 bottles of beer on the wall,\n",
      "2 bottles of beer.\n",
      "Take one down, pass it around,\n",
      "1 bottle of beer on the wall.\n",
      "\n",
      "1 bottle of beer on the wall,\n",
      "1 bottle of beer.\n",
      "Take one down, pass it around,\n",
      "no more bottles of beer on the wall.\n",
      "\n",
      "No more bottles of beer on the wall,\n",
      "no more bottles of beer.\n",
      "Go to the store and buy some more,\n",
      "99 bottles of beer on the wall.\n",
      "\n"
     ]
    }
   ],
   "source": [
    "starting_num_bottles = 99 # the total number of bottles to start with\n",
    "\n",
    "for bottles in range(starting_num_bottles, -1, -1): # end range function at -1 to include 0 bottles\n",
    "    remaining_num_bottles = bottles - 1\n",
    "    # initialize text used for the majority of the verses\n",
    "    text_bottles = \"bottles\"\n",
    "    text_remaining_bottles = \"bottles\"\n",
    "    key_sentence = \"Take one down, pass it around,\" # the only sentence that changes in the last verse\n",
    "\n",
    "    # change text accordingly to the current number of bottles\n",
    "    if bottles == 2:\n",
    "        text_remaining_bottles = \"bottle\"\n",
    "    elif bottles == 1:\n",
    "        text_bottles = \"bottle\"\n",
    "        remaining_num_bottles = \"no more\"\n",
    "    elif bottles == 0: # change text accordingly for the special final verse\n",
    "        bottles = \"No more\"\n",
    "        key_sentence = \"Go to the store and buy some more,\" # change key sentence\n",
    "        remaining_num_bottles = starting_num_bottles # change to inital number of bottles\n",
    "    \n",
    "    print(f\"{bottles} {text_bottles} of beer on the wall,\")\n",
    "    print(f\"{'no more' if bottles == 'No more' else bottles} {text_bottles} of beer.\") # get rid of capital letter in final verse\n",
    "    print(f\"{key_sentence}\")\n",
    "    print(f\"{remaining_num_bottles} {text_remaining_bottles} of beer on the wall.\")\n",
    "    print()"
   ]
  },
  {
   "cell_type": "markdown",
   "metadata": {},
   "source": [
    "## Exercise 2: list methods"
   ]
  },
  {
   "cell_type": "markdown",
   "metadata": {},
   "source": [
    "In this exercise, we will focus on the following **list methods**:\n",
    "\n",
    "a) append <br>\n",
    "b) count <br>\n",
    "c) index <br>\n",
    "d) insert <br>\n",
    "e) pop <br>\n",
    "\n",
    "For each of the aforementioned list methods:\n",
    "\n",
    "* explain the positional parameters\n",
    "* explain the keyword parameters\n",
    "* you can exclude *self* from your explanation\n",
    "* explain what the goal of the method is and what data type it returns, e.g., string, list, set, etc.\n",
    "* give a working example. Provide also an example by providing a value for keyword parameters (assuming the method has one or more keyword parameters)."
   ]
  },
  {
   "cell_type": "markdown",
   "metadata": {},
   "source": [
    "### Please fill in your answers here: \n"
   ]
  },
  {
   "cell_type": "markdown",
   "metadata": {},
   "source": [
    "### a) append"
   ]
  },
  {
   "cell_type": "code",
   "execution_count": 83,
   "metadata": {},
   "outputs": [
    {
     "name": "stdout",
     "output_type": "stream",
     "text": [
      "Help on method_descriptor:\n",
      "\n",
      "append(self, object, /)\n",
      "    Append object to the end of the list.\n",
      "\n"
     ]
    }
   ],
   "source": [
    "help(list.append)"
   ]
  },
  {
   "cell_type": "markdown",
   "metadata": {},
   "source": [
    "#### append: positional parameters\n",
    "\n",
    "1) object: the list method append has one positional parameter, namely object. The value of the argument assigned to this parameter is the object you want to add to the end of your list."
   ]
  },
  {
   "cell_type": "markdown",
   "metadata": {},
   "source": [
    "#### append: keyword parameters\n",
    "\n",
    "The list method append does not have any keyword parameters."
   ]
  },
  {
   "cell_type": "markdown",
   "metadata": {},
   "source": [
    "#### append: goal of the method\n",
    "\n",
    "The goal of this method is, as previously mentioned, to add (or append) an object to the end of a list. This method modifies and already existing list and does not return anything. However, lists can contain any objects, so objects of all data types can be added."
   ]
  },
  {
   "cell_type": "markdown",
   "metadata": {},
   "source": [
    "#### append: a working example"
   ]
  },
  {
   "cell_type": "code",
   "execution_count": 84,
   "metadata": {},
   "outputs": [
    {
     "name": "stdout",
     "output_type": "stream",
     "text": [
      "['Nike', 'Apple', 'Coca Cola', 'McDonalds']\n"
     ]
    }
   ],
   "source": [
    "list_of_brand_names = [\"Nike\", \"Apple\", \"Coca Cola\", \"McDonalds\"]\n",
    "\n",
    "# if we print this we get the following\n",
    "print(list_of_brand_names)"
   ]
  },
  {
   "cell_type": "code",
   "execution_count": 85,
   "metadata": {},
   "outputs": [
    {
     "name": "stdout",
     "output_type": "stream",
     "text": [
      "['Nike', 'Apple', 'Coca Cola', 'McDonalds', 'Samsung']\n"
     ]
    }
   ],
   "source": [
    "# now we want to append the brandname \"Samsung\" to the end of the list and therefore we use append\n",
    "list_of_brand_names.append(\"Samsung\")\n",
    "\n",
    "# and we print the new list, observing that \"Samsung\" is added to the end\n",
    "print(list_of_brand_names)"
   ]
  },
  {
   "cell_type": "markdown",
   "metadata": {},
   "source": [
    "#### b) count"
   ]
  },
  {
   "cell_type": "code",
   "execution_count": 69,
   "metadata": {},
   "outputs": [
    {
     "name": "stdout",
     "output_type": "stream",
     "text": [
      "Help on method_descriptor:\n",
      "\n",
      "count(self, value, /)\n",
      "    Return number of occurrences of value.\n",
      "\n"
     ]
    }
   ],
   "source": [
    "help(list.count)"
   ]
  },
  {
   "cell_type": "markdown",
   "metadata": {},
   "source": [
    "#### count: positional parameters\n",
    "\n",
    "1) value: the list method count has one positional parameter, namely value. The element that you wish to count in a given list is the value of the argument assigned to this parameter."
   ]
  },
  {
   "cell_type": "markdown",
   "metadata": {},
   "source": [
    "#### count: keyword parameters\n",
    "\n",
    "The list method count does not have any keyword parameters."
   ]
  },
  {
   "cell_type": "markdown",
   "metadata": {},
   "source": [
    "#### count: goal of the method\n",
    "\n",
    "The goal of this method is to count the number of times a given element occurs in a list. The method returns this number as an integer."
   ]
  },
  {
   "cell_type": "markdown",
   "metadata": {},
   "source": [
    "#### count: a working example"
   ]
  },
  {
   "cell_type": "code",
   "execution_count": 88,
   "metadata": {},
   "outputs": [
    {
     "name": "stdout",
     "output_type": "stream",
     "text": [
      "['Ahmed', 'Bob', 'Ahmed', 'Sarah', 'Kim', 'Sascha']\n"
     ]
    }
   ],
   "source": [
    "list_of_student_names = [\"Ahmed\", \"Bob\", \"Ahmed\", \"Sarah\", \"Kim\", \"Sascha\"]\n",
    "\n",
    "# So, we have the following list\n",
    "print(list_of_student_names)"
   ]
  },
  {
   "cell_type": "code",
   "execution_count": 90,
   "metadata": {},
   "outputs": [
    {
     "name": "stdout",
     "output_type": "stream",
     "text": [
      "2\n"
     ]
    }
   ],
   "source": [
    "# Assume we want to know how many students are called Ahmed, we can use the count method\n",
    "count_of_ahmed = list_of_student_names.count(\"Ahmed\")\n",
    "print(count_of_ahmed)\n",
    "\n",
    "# We see that the count is 2"
   ]
  },
  {
   "cell_type": "markdown",
   "metadata": {},
   "source": [
    "#### c) index"
   ]
  },
  {
   "cell_type": "code",
   "execution_count": 70,
   "metadata": {},
   "outputs": [
    {
     "name": "stdout",
     "output_type": "stream",
     "text": [
      "Help on method_descriptor:\n",
      "\n",
      "index(self, value, start=0, stop=9223372036854775807, /)\n",
      "    Return first index of value.\n",
      "    \n",
      "    Raises ValueError if the value is not present.\n",
      "\n"
     ]
    }
   ],
   "source": [
    "help(list.index)"
   ]
  },
  {
   "cell_type": "markdown",
   "metadata": {},
   "source": [
    "#### index: positional parameters\n",
    "\n",
    "1) value: the value of the argument assigned to this parameter is the element for which you want to know the index of its first occurrence.\n",
    "2) start: the index at which you wish to begin looking for the element is the value of the argument that was assigned to this parameter. The default value of this is 0.\n",
    "3) stop: this is the index at which you wish to stop searching. The index you assign to this parameter is not included in the search, so you search up to this point. The default value is 9223372036854775807, so a very high number."
   ]
  },
  {
   "cell_type": "markdown",
   "metadata": {},
   "source": [
    "#### index: keyword parameters\n",
    "\n",
    "The list method index does not have any keyword parameters."
   ]
  },
  {
   "cell_type": "markdown",
   "metadata": {},
   "source": [
    "#### index: goal of the method\n",
    "\n",
    "The goal of this method is to find the index of the first occurence of an element you are looking for in a list. The method return the index of this element, which is an integer number. "
   ]
  },
  {
   "cell_type": "markdown",
   "metadata": {},
   "source": [
    "#### index: a working example"
   ]
  },
  {
   "cell_type": "code",
   "execution_count": 95,
   "metadata": {},
   "outputs": [
    {
     "name": "stdout",
     "output_type": "stream",
     "text": [
      "['Manchester United', 'Ajax', 'FC Barcelona', 'Bayern Munchen', 'Real Madrid']\n"
     ]
    }
   ],
   "source": [
    "list_of_football_clubs = [\"Manchester United\", \"Ajax\", \"FC Barcelona\", \"Bayern Munchen\", \"Real Madrid\"]\n",
    "\n",
    "# we get the following list\n",
    "print(list_of_football_clubs)"
   ]
  },
  {
   "cell_type": "code",
   "execution_count": 96,
   "metadata": {},
   "outputs": [
    {
     "name": "stdout",
     "output_type": "stream",
     "text": [
      "1\n"
     ]
    }
   ],
   "source": [
    "# now we want to know the index at which Ajax occurs\n",
    "index_ajax = list_of_football_clubs.index(\"Ajax\")\n",
    "print(index_ajax)\n",
    "\n",
    "# the index at which Ajax occurs is 1"
   ]
  },
  {
   "cell_type": "markdown",
   "metadata": {},
   "source": [
    "#### d) insert"
   ]
  },
  {
   "cell_type": "code",
   "execution_count": 110,
   "metadata": {},
   "outputs": [
    {
     "name": "stdout",
     "output_type": "stream",
     "text": [
      "Help on method_descriptor:\n",
      "\n",
      "insert(self, index, object, /)\n",
      "    Insert object before index.\n",
      "\n"
     ]
    }
   ],
   "source": [
    "help(list.insert)"
   ]
  },
  {
   "cell_type": "markdown",
   "metadata": {},
   "source": [
    "#### insert: positional parameters\n",
    "\n",
    "1) index: The value of the argument assigned to this parameter is the index at which you like to insert the object before.\n",
    "2) object: This is an element you would like to insert to your list. "
   ]
  },
  {
   "cell_type": "markdown",
   "metadata": {},
   "source": [
    "#### insert: keyword parameters\n",
    "\n",
    "The list method insert does not have any keyword parameters."
   ]
  },
  {
   "cell_type": "markdown",
   "metadata": {},
   "source": [
    "#### insert: goal of the method\n",
    "\n",
    "The goal of this method is to insert an element before a given index in a list. This method modifies an already existing list and does not return anything. "
   ]
  },
  {
   "cell_type": "markdown",
   "metadata": {},
   "source": [
    "#### insert: a working example"
   ]
  },
  {
   "cell_type": "code",
   "execution_count": 111,
   "metadata": {},
   "outputs": [
    {
     "name": "stdout",
     "output_type": "stream",
     "text": [
      "['Berlin', 'Madrid', 'Rome']\n"
     ]
    }
   ],
   "source": [
    "list_of_city_names = [\"Berlin\", \"Madrid\", \"Rome\"]\n",
    "\n",
    "# this gives us the following list\n",
    "print(list_of_city_names)"
   ]
  },
  {
   "cell_type": "code",
   "execution_count": 112,
   "metadata": {},
   "outputs": [
    {
     "name": "stdout",
     "output_type": "stream",
     "text": [
      "['Amsterdam', 'Berlin', 'Madrid', 'Rome']\n"
     ]
    }
   ],
   "source": [
    "# assume we want to insert Amsterdam but also keep the list in alphabetical order, we can do the following:\n",
    "list_of_city_names.insert(0, \"Amsterdam\")\n",
    "\n",
    "# Amsterdam is added to the list\n",
    "print(list_of_city_names)"
   ]
  },
  {
   "cell_type": "markdown",
   "metadata": {},
   "source": [
    "#### e) pop"
   ]
  },
  {
   "cell_type": "code",
   "execution_count": 113,
   "metadata": {},
   "outputs": [
    {
     "name": "stdout",
     "output_type": "stream",
     "text": [
      "Help on method_descriptor:\n",
      "\n",
      "pop(self, index=-1, /)\n",
      "    Remove and return item at index (default last).\n",
      "    \n",
      "    Raises IndexError if list is empty or index is out of range.\n",
      "\n"
     ]
    }
   ],
   "source": [
    "help(list.pop)"
   ]
  },
  {
   "cell_type": "markdown",
   "metadata": {},
   "source": [
    "#### pop: positional parameters\n",
    "\n",
    "1) index: the value of this argument assigned to the parameter is the index of the element you would like to remove from your list. The default value is -1, so the last element of the list."
   ]
  },
  {
   "cell_type": "markdown",
   "metadata": {},
   "source": [
    "#### pop: keyword parameters\n",
    "\n",
    "The list method pop does not have any keyword parameters."
   ]
  },
  {
   "cell_type": "markdown",
   "metadata": {},
   "source": [
    "#### pop: goal of the method\n",
    "\n",
    "The goal of this method is to remove an element of a list at a given index and return this element. The data type of the returned element could be any, it depends on the data type of the element. "
   ]
  },
  {
   "cell_type": "markdown",
   "metadata": {},
   "source": [
    "#### pop: a working example"
   ]
  },
  {
   "cell_type": "code",
   "execution_count": 122,
   "metadata": {},
   "outputs": [
    {
     "name": "stdout",
     "output_type": "stream",
     "text": [
      "[2.78, 3.1415, 0, 10, 123]\n"
     ]
    }
   ],
   "source": [
    "list_of_number = [2.78, 3.1415, 0, 10, 123]\n",
    "\n",
    "# this will give us the following list\n",
    "print(list_of_number)"
   ]
  },
  {
   "cell_type": "code",
   "execution_count": 123,
   "metadata": {},
   "outputs": [
    {
     "name": "stdout",
     "output_type": "stream",
     "text": [
      "[2.78, 0, 10, 123]\n",
      "3.1415\n"
     ]
    }
   ],
   "source": [
    "# assume we want to remove pi (on index 1) from this list\n",
    "pi = list_of_number.pop(1)\n",
    "\n",
    "# printing the new list, we see that pi is removed and assigned to the variable pi\n",
    "print(list_of_number)\n",
    "print(pi)"
   ]
  },
  {
   "cell_type": "markdown",
   "metadata": {},
   "source": [
    "## Exercise 3: set methods"
   ]
  },
  {
   "cell_type": "markdown",
   "metadata": {},
   "source": [
    "In this exercise, we will focus on the following **set methods**:\n",
    "\n",
    "a) update <br>\n",
    "b) pop <br>\n",
    "c) remove <br>\n",
    "d) clear <br>\n",
    "\n",
    "For each of the aforementioned set methods:\n",
    "\n",
    "* explain the positional parameters\n",
    "* explain the keyword parameters\n",
    "* you can exclude *self* from your explanation\n",
    "* explain what the goal of the method is and what data type it returns, e.g., string, list, set, etc.\n",
    "* give a working example. Provide also an example by providing a value for keyword parameters (assuming the method has one or more keyword parameters)."
   ]
  },
  {
   "cell_type": "markdown",
   "metadata": {},
   "source": [
    "### Please fill in your answers here: \n"
   ]
  },
  {
   "cell_type": "markdown",
   "metadata": {},
   "source": [
    "#### a) update"
   ]
  },
  {
   "cell_type": "code",
   "execution_count": 106,
   "metadata": {},
   "outputs": [
    {
     "name": "stdout",
     "output_type": "stream",
     "text": [
      "Help on method_descriptor:\n",
      "\n",
      "update(...)\n",
      "    Update a set with the union of itself and others.\n",
      "\n"
     ]
    }
   ],
   "source": [
    "help(set.update)"
   ]
  },
  {
   "cell_type": "markdown",
   "metadata": {},
   "source": [
    "#### b) pop"
   ]
  },
  {
   "cell_type": "code",
   "execution_count": 107,
   "metadata": {},
   "outputs": [
    {
     "name": "stdout",
     "output_type": "stream",
     "text": [
      "Help on method_descriptor:\n",
      "\n",
      "pop(...)\n",
      "    Remove and return an arbitrary set element.\n",
      "    Raises KeyError if the set is empty.\n",
      "\n"
     ]
    }
   ],
   "source": [
    "help(set.pop)"
   ]
  },
  {
   "cell_type": "markdown",
   "metadata": {},
   "source": [
    "#### c) remove"
   ]
  },
  {
   "cell_type": "code",
   "execution_count": 108,
   "metadata": {},
   "outputs": [
    {
     "name": "stdout",
     "output_type": "stream",
     "text": [
      "Help on method_descriptor:\n",
      "\n",
      "remove(...)\n",
      "    Remove an element from a set; it must be a member.\n",
      "    \n",
      "    If the element is not a member, raise a KeyError.\n",
      "\n"
     ]
    }
   ],
   "source": [
    "help(set.remove)"
   ]
  },
  {
   "cell_type": "markdown",
   "metadata": {},
   "source": [
    "#### d) clear"
   ]
  },
  {
   "cell_type": "code",
   "execution_count": 109,
   "metadata": {},
   "outputs": [
    {
     "name": "stdout",
     "output_type": "stream",
     "text": [
      "Help on method_descriptor:\n",
      "\n",
      "clear(...)\n",
      "    Remove all elements from this set.\n",
      "\n"
     ]
    }
   ],
   "source": [
    "help(set.clear)"
   ]
  },
  {
   "cell_type": "markdown",
   "metadata": {},
   "source": [
    "## Exercise 4: Analyzing vocabulary using sets\n",
    "Please consider the following two texts:"
   ]
  },
  {
   "cell_type": "markdown",
   "metadata": {},
   "source": [
    "These stories were copied from [here](http://www.english-for-students.com/)."
   ]
  },
  {
   "cell_type": "code",
   "execution_count": 26,
   "metadata": {},
   "outputs": [
    {
     "name": "stdout",
     "output_type": "stream",
     "text": [
      "In a far away kingdom, there was a river. This river was home to many golden swans. The swans spent most of their time on the banks of the river. Every six months, the swans would leave a golden feather as a fee for using the lake. The soldiers of the kingdom would collect the feathers and deposit them in the royal treasury. \n",
      "One day, a homeless bird saw the river. \"The water in this river seems so cool and soothing. I will make my home here,\" thought the bird. \n",
      "As soon as the bird settled down near the river, the golden swans noticed her. They came shouting. \"This river belongs to us. We pay a golden feather to the King to use this river. You can not live here.\" \n",
      "\"I am homeless, brothers. I too will pay the rent. Please give me shelter,\" the bird pleaded. \"How will you pay the rent? You do not have golden feathers,\" said the swans laughing. They further added, \"Stop dreaming and leave once.\" The humble bird pleaded many times. But the arrogant swans drove the bird away. \n",
      "\"I will teach them a lesson!\" decided the humiliated bird. \n",
      "She went to the King and said, \"O King! The swans in your river are impolite and unkind. I begged for shelter but they said that they had purchased the river with golden feathers.\" \n",
      "The King was angry with the arrogant swans for having insulted the homeless bird. He ordered his soldiers to bring the arrogant swans to his court. In no time, all the golden swans were brought to the King’s court. \n",
      "\"Do you think the royal treasury depends upon your golden feathers? You can not decide who lives by the river. Leave the river at once or you all will be beheaded!\" shouted the King. \n",
      "The swans shivered with fear on hearing the King. They flew away never to return. The bird built her home near the river and lived there happily forever. The bird gave shelter to all other birds in the river. \n"
     ]
    }
   ],
   "source": [
    "a_story = \"\"\"In a far away kingdom, there was a river. This river was home to many golden swans. The swans spent most of their time on the banks of the river. Every six months, the swans would leave a golden feather as a fee for using the lake. The soldiers of the kingdom would collect the feathers and deposit them in the royal treasury. \n",
    "One day, a homeless bird saw the river. \"The water in this river seems so cool and soothing. I will make my home here,\" thought the bird. \n",
    "As soon as the bird settled down near the river, the golden swans noticed her. They came shouting. \"This river belongs to us. We pay a golden feather to the King to use this river. You can not live here.\" \n",
    "\"I am homeless, brothers. I too will pay the rent. Please give me shelter,\" the bird pleaded. \"How will you pay the rent? You do not have golden feathers,\" said the swans laughing. They further added, \"Stop dreaming and leave once.\" The humble bird pleaded many times. But the arrogant swans drove the bird away. \n",
    "\"I will teach them a lesson!\" decided the humiliated bird. \n",
    "She went to the King and said, \"O King! The swans in your river are impolite and unkind. I begged for shelter but they said that they had purchased the river with golden feathers.\" \n",
    "The King was angry with the arrogant swans for having insulted the homeless bird. He ordered his soldiers to bring the arrogant swans to his court. In no time, all the golden swans were brought to the King’s court. \n",
    "\"Do you think the royal treasury depends upon your golden feathers? You can not decide who lives by the river. Leave the river at once or you all will be beheaded!\" shouted the King. \n",
    "The swans shivered with fear on hearing the King. They flew away never to return. The bird built her home near the river and lived there happily forever. The bird gave shelter to all other birds in the river. \"\"\"\n",
    "print(a_story)"
   ]
  },
  {
   "cell_type": "code",
   "execution_count": 27,
   "metadata": {},
   "outputs": [],
   "source": [
    "another_story = \"\"\"Long time ago, there lived a King. He was lazy and liked all the comforts of life. He never carried out his duties as a King. \"Our King does not take care of our needs. He also ignores the affairs of his kingdom.\" The people complained. \n",
    "One day, the King went into the forest to hunt. After having wandered for quite sometime, he became thirsty. To his relief, he spotted a lake. As he was drinking water, he suddenly saw a golden swan come out of the lake and perch on a stone. \"Oh! A golden swan. I must capture it,\" thought the King. \n",
    "But as soon as he held his bow up, the swan disappeared. And the King heard a voice, \"I am the Golden Swan. If you want to capture me, you must come to heaven.\" \n",
    "Surprised, the King said, \"Please show me the way to heaven.\" Do good deeds, serve your people and the messenger from heaven would come to fetch you to heaven,\" replied the voice. \n",
    "The selfish King, eager to capture the Swan, tried doing some good deeds in his Kingdom. \"Now, I suppose a messenger will come to take me to heaven,\" he thought. But, no messenger came. \n",
    "The King then disguised himself and went out into the street. There he tried helping an old man. But the old man became angry and said, \"You need not try to help. I am in this miserable state because of out selfish King. He has done nothing for his people.\" \n",
    "Suddenly, the King heard the golden swan’s voice, \"Do good deeds and you will come to heaven.\" It dawned on the King that by doing selfish acts, he will not go to heaven. \n",
    "He realized that his people needed him and carrying out his duties was the only way to heaven. After that day he became a responsible King. \n",
    "\"\"\""
   ]
  },
  {
   "cell_type": "markdown",
   "metadata": {},
   "source": [
    "### Exercise 4a: preprocessing text\n",
    "Before analyzing the two texts, we are first going to preprocess them. \n",
    "Please use a particular string method multiple times to replace the following characters by empty strings in both **a_story** and **another_story**:\n",
    "* newlines: '\\n'\n",
    "* commas: ','\n",
    "* dots: '.'\n",
    "* quotes: '\"'\n",
    "\n",
    "\n",
    "Please assign the processed texts to the variables **cleaned_story** and **cleaned_another_story**."
   ]
  },
  {
   "cell_type": "code",
   "execution_count": 28,
   "metadata": {},
   "outputs": [],
   "source": [
    "# preprocessing a_story\n",
    "cleaned_story = a_story.replace('\\n', '')\n",
    "cleaned_story = cleaned_story.replace(',', '')\n",
    "cleaned_story = cleaned_story.replace('.', '')\n",
    "cleaned_story = cleaned_story.replace('\"', '')\n",
    "\n",
    "# preprocessing another_story\n",
    "cleaned_another_story = another_story.replace('\\n', '')\n",
    "cleaned_another_story = cleaned_another_story.replace(',', '')\n",
    "cleaned_another_story = cleaned_another_story.replace('.', '')\n",
    "cleaned_another_story = cleaned_another_story.replace('\"', '')"
   ]
  },
  {
   "cell_type": "markdown",
   "metadata": {},
   "source": [
    "\n",
    "\n",
    "#### Exercise 4b: from text to a list\n",
    "For each text (**cleaned_story** and **cleaned_another_story**), please use a string method to convert **cleaned_story** and **cleaned_another_story** into lists by splitting using spaces. Please call the lists **list_cleaned_story** and **list_cleaned_another_story**."
   ]
  },
  {
   "cell_type": "code",
   "execution_count": 29,
   "metadata": {},
   "outputs": [],
   "source": [
    "# note: assumption here is made that with \"splitting using spaces\" it is meant all white spaces\n",
    "\n",
    "# convert cleaned_story into list\n",
    "list_cleaned_story = cleaned_story.split()\n",
    "\n",
    "# convert cleaned_another_story into list\n",
    "list_cleaned_another_story = cleaned_another_story.split()"
   ]
  },
  {
   "cell_type": "markdown",
   "metadata": {},
   "source": [
    "#### Exercise 4c: from a list to a vocabulary (a set)\n",
    "Please create a set for the words in each text by adding each word to a set. In the end, you should have two variables **vocab_a_story** and **vocab_another_story**, each containing the unique words in each story. Please use the output of Exercise 4b as the input for this exercise."
   ]
  },
  {
   "cell_type": "code",
   "execution_count": 30,
   "metadata": {},
   "outputs": [],
   "source": [
    "vocab_a_story = set()\n",
    "for word in list_cleaned_story:\n",
    "    vocab_a_story.add(word)"
   ]
  },
  {
   "cell_type": "markdown",
   "metadata": {},
   "source": [
    "do the same for the other text"
   ]
  },
  {
   "cell_type": "code",
   "execution_count": 31,
   "metadata": {},
   "outputs": [],
   "source": [
    "vocab_another_story = set()\n",
    "for word in list_cleaned_another_story:\n",
    "    vocab_another_story.add(word)"
   ]
  },
  {
   "cell_type": "markdown",
   "metadata": {},
   "source": [
    "### Exercise 4d: analyzing vocabularies\n",
    "Please analyze the vocabularies by using set methods to determine:\n",
    "* which words occur in both texts\n",
    "* which words only occur in **a_story**\n",
    "* which words only occur in **another_story**"
   ]
  },
  {
   "cell_type": "code",
   "execution_count": 32,
   "metadata": {},
   "outputs": [
    {
     "name": "stdout",
     "output_type": "stream",
     "text": [
      "{'But', 'golden', 'all', 'soon', 'went', 'lived', 'will', 'As', 'water', 'his', 'said', 'the', 'thought', 'me', 'you', 'no', 'time', 'lake', 'to', 'not', 'King', 'this', 'He', 'by', 'I', 'One', 'in', 'having', 'angry', 'was', 'would', 'came', 'never', 'on', 'as', 'and', 'of', 'am', 'Do', 'there', 'day', 'that', 'a', 'your', 'Please', 'for', 'The', 'kingdom', 'saw', 'You'}\n",
      "50\n",
      "\n",
      "{'They', 'bird', 'down', 'forever', 'lives', 'think', 'but', 'seems', 'us', 'shelter', 'flew', 'King!', 'begged', 'be', 'they', 'give', 'How', 'other', 'have', 'pleaded', 'fear', 'too', 'humble', 'impolite', 'feather', 'at', 'with', 'who', 'brothers', 'Leave', 'bring', 'O', 'humiliated', 'are', 'shouting', 'further', 'court', 'feathers', 'here', 'treasury', 'their', 'fee', 'them', 'my', 'river', 'purchased', 'In', 'use', 'or', 'gave', 'unkind', 'This', 'settled', 'months', 'leave', 'her', 'Every', 'do', 'times', 'home', 'can', 'six', 'laughing', 'swans', 'Stop', 'ordered', 'decided', 'added', 'happily', 'banks', 'We', 'so', 'once', 'were', 'shouted', 'teach', 'She', 'near', 'feathers?', 'insulted', 'collect', 'decide', 'cool', 'make', 'arrogant', 'dreaming', 'had', 'rent', 'soothing', 'using', 'hearing', 'noticed', 'beheaded!', 'soldiers', 'built', 'deposit', 'drove', 'belongs', 'most', 'depends', 'pay', 'shivered', 'royal', 'live', 'birds', 'spent', 'upon', 'lesson!', 'far', 'many', 'King’s', 'homeless', 'brought', 'away', 'rent?', 'return'}\n",
      "116\n",
      "\n",
      "{'come', 'eager', 'To', 'heard', 'serve', 'A', 'nothing', 'need', 'doing', 'try', 'him', 'helping', 'sometime', 'take', 'only', 'needs', 'ignores', 'show', 'it', 'into', 'Long', 'After', 'some', 'way', 'responsible', 'care', 'became', 'perch', 'disguised', 'has', 'realized', 'people', 'If', 'affairs', 'street', 'must', 'want', 'our', 'forest', 'quite', 'from', 'Our', 'dawned', 'And', 'stone', 'heaven', 'man', 'held', 'voice', 'fetch', 'Surprised', 'because', 'There', 'swan', 'drinking', 'help', 'life', 'comforts', 'replied', 'also', 'thirsty', 'old', 'Kingdom', 'Golden', 'capture', 'himself', 'disappeared', 'messenger', 'wandered', 'bow', 'selfish', 'suppose', 'state', 'suddenly', 'duties', 'hunt', 'liked', 'does', 'complained', 'Oh!', 'miserable', 'lazy', 'up', 'tried', 'acts', 'he', 'ago', 'an', 'Now', 'Suddenly', 'deeds', 'carrying', 'out', 'go', 'It', 'Swan', 'done', 'carried', 'relief', 'spotted', 'swan’s', 'then', 'needed', 'good'}\n",
      "104\n"
     ]
    }
   ],
   "source": [
    "occur_in_both_text = vocab_a_story.intersection(vocab_another_story)\n",
    "print(occur_in_both_text)\n",
    "print(len(occur_in_both_text))\n",
    "print()\n",
    "\n",
    "occur_only_a_story = vocab_a_story.difference(vocab_another_story)\n",
    "print(occur_only_a_story)\n",
    "print(len(occur_only_a_story))\n",
    "print()\n",
    "\n",
    "occur_only_another_story = vocab_another_story.difference(vocab_a_story)\n",
    "print(occur_only_another_story)\n",
    "print(len(occur_only_another_story))"
   ]
  },
  {
   "cell_type": "markdown",
   "metadata": {},
   "source": [
    "## Exercise 5: counting\n",
    "Below you find a list called **words**, which is a list of strings. \n",
    "\n",
    "a) Please create a dictionary in which the **key** is the word, and the **value** is the frequency of the word. \n",
    "\n",
    "\n",
    "Exclude all words which meet at least one of the following requirements:\n",
    "\n",
    " * end with the letter e\n",
    " * start with the letter t\n",
    " * start with the letter c and end with the letter w (both conditions must be met)\n",
    " * have six or more letters\n",
    "\n",
    "You are not allowed to use the **collections** module to do this."
   ]
  },
  {
   "cell_type": "code",
   "execution_count": 33,
   "metadata": {},
   "outputs": [],
   "source": [
    "words = ['there',\n",
    " 'was',\n",
    " 'a',\n",
    " 'village',\n",
    " 'near',\n",
    " 'a',\n",
    " 'jungle',\n",
    " 'the',\n",
    " 'village',\n",
    " 'cows',\n",
    " 'used',\n",
    " 'to',\n",
    " 'go',\n",
    " 'up',\n",
    " 'to',\n",
    " 'the',\n",
    " 'jungle',\n",
    " 'in',\n",
    " 'search',\n",
    " 'of',\n",
    " 'food.',\n",
    " 'in',\n",
    " 'the',\n",
    " 'forest',\n",
    " 'there',\n",
    " 'lived',\n",
    " 'a',\n",
    " 'wicked',\n",
    " 'lion',\n",
    " 'he',\n",
    " 'used',\n",
    " 'to',\n",
    " 'kill',\n",
    " 'a',\n",
    " 'cow',\n",
    " 'now',\n",
    " 'and',\n",
    " 'then',\n",
    " 'and',\n",
    " 'eat',\n",
    " 'her',\n",
    " 'this',\n",
    " 'was',\n",
    " 'happening',\n",
    " 'for',\n",
    " 'quite',\n",
    " 'sometime',\n",
    " 'the',\n",
    " 'cows',\n",
    " 'were',\n",
    " 'frightened',\n",
    " 'one',\n",
    " 'day',\n",
    " 'all',\n",
    " 'the',\n",
    " 'cows',\n",
    " 'held',\n",
    " 'a',\n",
    " 'meeting',\n",
    " 'an',\n",
    " 'old',\n",
    " 'cow',\n",
    " 'said',\n",
    " 'listen',\n",
    " 'everybody',\n",
    " 'the',\n",
    " 'lion',\n",
    " 'eats',\n",
    " 'one',\n",
    " 'of',\n",
    " 'us',\n",
    " 'only',\n",
    " 'because',\n",
    " 'we',\n",
    " 'go',\n",
    " 'into',\n",
    " 'the',\n",
    " 'jungle',\n",
    " 'separately',\n",
    " 'from',\n",
    " 'now',\n",
    " 'on',\n",
    " 'we',\n",
    " 'will',\n",
    " 'all',\n",
    " 'be',\n",
    " 'together',\n",
    " 'from',\n",
    " 'then',\n",
    " 'on',\n",
    " 'all',\n",
    " 'the',\n",
    " 'cows',\n",
    " 'went',\n",
    " 'into',\n",
    " 'the',\n",
    " 'jungle',\n",
    " 'in',\n",
    " 'a',\n",
    " 'herd',\n",
    " 'when',\n",
    " 'they',\n",
    " 'heard',\n",
    " 'or',\n",
    " 'saw',\n",
    " 'the',\n",
    " 'lion',\n",
    " 'all',\n",
    " 'of',\n",
    " 'them',\n",
    " 'unitedly',\n",
    " 'moo',\n",
    " 'and',\n",
    " 'chased',\n",
    " 'him',\n",
    " 'away',\n",
    " 'moral',\n",
    " 'divided',\n",
    " 'we',\n",
    " 'fall',\n",
    " 'united',\n",
    " 'we',\n",
    " 'stand']"
   ]
  },
  {
   "cell_type": "markdown",
   "metadata": {},
   "source": [
    "b) Analyze your dicitionary by printing:\n",
    "* how many keys it has \n",
    "* what the highest word frequency is\n",
    "* the sum of all frequencies."
   ]
  },
  {
   "cell_type": "code",
   "execution_count": 34,
   "metadata": {},
   "outputs": [
    {
     "name": "stdout",
     "output_type": "stream",
     "text": [
      "The dictionary has 43 keys.\n",
      "The highest word frequency is 6.\n",
      "The sum of all frequencies is 69.\n"
     ]
    }
   ],
   "source": [
    "word_dict = {}\n",
    "\n",
    "for word in words:\n",
    "    if word.endswith(\"e\") \\\n",
    "    or word.startswith(\"t\") \\\n",
    "    or (word.startswith(\"c\") and word.endswith(\"w\")) \\\n",
    "    or len(word) >= 6:\n",
    "        continue\n",
    "    else:\n",
    "        if word in word_dict:\n",
    "            word_dict[word] += 1\n",
    "        else:\n",
    "            word_dict[word] = 1\n",
    "\n",
    "word_dict_keys = word_dict.keys()\n",
    "word_dict_values = word_dict.values()\n",
    "\n",
    "print(f\"The dictionary has {len(word_dict_keys)} keys.\")\n",
    "print(f\"The highest word frequency is {max(word_dict_values)}.\")\n",
    "print(f\"The sum of all frequencies is {sum(word_dict_values)}.\")"
   ]
  },
  {
   "cell_type": "markdown",
   "metadata": {},
   "source": [
    "c) In addition, print the frequencies of the following words using your dictionary (if the word does not occur in the dictionary, print 'WORD does not occur')\n",
    "* up\n",
    "* near\n",
    "* together\n",
    "* lion\n",
    "* cow"
   ]
  },
  {
   "cell_type": "code",
   "execution_count": 35,
   "metadata": {},
   "outputs": [
    {
     "name": "stdout",
     "output_type": "stream",
     "text": [
      "The frequency of the word 'up' in the dictionary is: 1\n",
      "The frequency of the word 'near' in the dictionary is: 1\n",
      "The frequency of the word 'together' in the dictionary is: WORD does not occur\n",
      "The frequency of the word 'lion' in the dictionary is: 3\n",
      "The frequency of the word 'cow' in the dictionary is: WORD does not occur\n"
     ]
    }
   ],
   "source": [
    "for word in ['up', 'near' , 'together', 'lion', 'cow']:\n",
    "    if word in word_dict:\n",
    "        print(f\"The frequency of the word '{word}' in the dictionary is: {word_dict[word]}\")\n",
    "    else:\n",
    "        print(f\"The frequency of the word '{word}' in the dictionary is: WORD does not occur\")"
   ]
  },
  {
   "cell_type": "markdown",
   "metadata": {},
   "source": [
    "## Exercise 6: Functions"
   ]
  },
  {
   "cell_type": "markdown",
   "metadata": {},
   "source": [
    "#### Exercise 6a: the beersong\n",
    "Please write a function that prints the beersong when it is called.\n",
    "The function:\n",
    "* is called `print_beersong`\n",
    "* has one positional parameter `start_number` (this is 99 in the original song) \n",
    "* prints the beer song"
   ]
  },
  {
   "cell_type": "code",
   "execution_count": 36,
   "metadata": {},
   "outputs": [
    {
     "name": "stdout",
     "output_type": "stream",
     "text": [
      "99 bottles of beer on the wall,\n",
      "99 bottles of beer.\n",
      "Take one down, pass it around,\n",
      "98 bottles of beer on the wall.\n",
      "\n",
      "98 bottles of beer on the wall,\n",
      "98 bottles of beer.\n",
      "Take one down, pass it around,\n",
      "97 bottles of beer on the wall.\n",
      "\n",
      "97 bottles of beer on the wall,\n",
      "97 bottles of beer.\n",
      "Take one down, pass it around,\n",
      "96 bottles of beer on the wall.\n",
      "\n",
      "96 bottles of beer on the wall,\n",
      "96 bottles of beer.\n",
      "Take one down, pass it around,\n",
      "95 bottles of beer on the wall.\n",
      "\n",
      "95 bottles of beer on the wall,\n",
      "95 bottles of beer.\n",
      "Take one down, pass it around,\n",
      "94 bottles of beer on the wall.\n",
      "\n",
      "94 bottles of beer on the wall,\n",
      "94 bottles of beer.\n",
      "Take one down, pass it around,\n",
      "93 bottles of beer on the wall.\n",
      "\n",
      "93 bottles of beer on the wall,\n",
      "93 bottles of beer.\n",
      "Take one down, pass it around,\n",
      "92 bottles of beer on the wall.\n",
      "\n",
      "92 bottles of beer on the wall,\n",
      "92 bottles of beer.\n",
      "Take one down, pass it around,\n",
      "91 bottles of beer on the wall.\n",
      "\n",
      "91 bottles of beer on the wall,\n",
      "91 bottles of beer.\n",
      "Take one down, pass it around,\n",
      "90 bottles of beer on the wall.\n",
      "\n",
      "90 bottles of beer on the wall,\n",
      "90 bottles of beer.\n",
      "Take one down, pass it around,\n",
      "89 bottles of beer on the wall.\n",
      "\n",
      "89 bottles of beer on the wall,\n",
      "89 bottles of beer.\n",
      "Take one down, pass it around,\n",
      "88 bottles of beer on the wall.\n",
      "\n",
      "88 bottles of beer on the wall,\n",
      "88 bottles of beer.\n",
      "Take one down, pass it around,\n",
      "87 bottles of beer on the wall.\n",
      "\n",
      "87 bottles of beer on the wall,\n",
      "87 bottles of beer.\n",
      "Take one down, pass it around,\n",
      "86 bottles of beer on the wall.\n",
      "\n",
      "86 bottles of beer on the wall,\n",
      "86 bottles of beer.\n",
      "Take one down, pass it around,\n",
      "85 bottles of beer on the wall.\n",
      "\n",
      "85 bottles of beer on the wall,\n",
      "85 bottles of beer.\n",
      "Take one down, pass it around,\n",
      "84 bottles of beer on the wall.\n",
      "\n",
      "84 bottles of beer on the wall,\n",
      "84 bottles of beer.\n",
      "Take one down, pass it around,\n",
      "83 bottles of beer on the wall.\n",
      "\n",
      "83 bottles of beer on the wall,\n",
      "83 bottles of beer.\n",
      "Take one down, pass it around,\n",
      "82 bottles of beer on the wall.\n",
      "\n",
      "82 bottles of beer on the wall,\n",
      "82 bottles of beer.\n",
      "Take one down, pass it around,\n",
      "81 bottles of beer on the wall.\n",
      "\n",
      "81 bottles of beer on the wall,\n",
      "81 bottles of beer.\n",
      "Take one down, pass it around,\n",
      "80 bottles of beer on the wall.\n",
      "\n",
      "80 bottles of beer on the wall,\n",
      "80 bottles of beer.\n",
      "Take one down, pass it around,\n",
      "79 bottles of beer on the wall.\n",
      "\n",
      "79 bottles of beer on the wall,\n",
      "79 bottles of beer.\n",
      "Take one down, pass it around,\n",
      "78 bottles of beer on the wall.\n",
      "\n",
      "78 bottles of beer on the wall,\n",
      "78 bottles of beer.\n",
      "Take one down, pass it around,\n",
      "77 bottles of beer on the wall.\n",
      "\n",
      "77 bottles of beer on the wall,\n",
      "77 bottles of beer.\n",
      "Take one down, pass it around,\n",
      "76 bottles of beer on the wall.\n",
      "\n",
      "76 bottles of beer on the wall,\n",
      "76 bottles of beer.\n",
      "Take one down, pass it around,\n",
      "75 bottles of beer on the wall.\n",
      "\n",
      "75 bottles of beer on the wall,\n",
      "75 bottles of beer.\n",
      "Take one down, pass it around,\n",
      "74 bottles of beer on the wall.\n",
      "\n",
      "74 bottles of beer on the wall,\n",
      "74 bottles of beer.\n",
      "Take one down, pass it around,\n",
      "73 bottles of beer on the wall.\n",
      "\n",
      "73 bottles of beer on the wall,\n",
      "73 bottles of beer.\n",
      "Take one down, pass it around,\n",
      "72 bottles of beer on the wall.\n",
      "\n",
      "72 bottles of beer on the wall,\n",
      "72 bottles of beer.\n",
      "Take one down, pass it around,\n",
      "71 bottles of beer on the wall.\n",
      "\n",
      "71 bottles of beer on the wall,\n",
      "71 bottles of beer.\n",
      "Take one down, pass it around,\n",
      "70 bottles of beer on the wall.\n",
      "\n",
      "70 bottles of beer on the wall,\n",
      "70 bottles of beer.\n",
      "Take one down, pass it around,\n",
      "69 bottles of beer on the wall.\n",
      "\n",
      "69 bottles of beer on the wall,\n",
      "69 bottles of beer.\n",
      "Take one down, pass it around,\n",
      "68 bottles of beer on the wall.\n",
      "\n",
      "68 bottles of beer on the wall,\n",
      "68 bottles of beer.\n",
      "Take one down, pass it around,\n",
      "67 bottles of beer on the wall.\n",
      "\n",
      "67 bottles of beer on the wall,\n",
      "67 bottles of beer.\n",
      "Take one down, pass it around,\n",
      "66 bottles of beer on the wall.\n",
      "\n",
      "66 bottles of beer on the wall,\n",
      "66 bottles of beer.\n",
      "Take one down, pass it around,\n",
      "65 bottles of beer on the wall.\n",
      "\n",
      "65 bottles of beer on the wall,\n",
      "65 bottles of beer.\n",
      "Take one down, pass it around,\n",
      "64 bottles of beer on the wall.\n",
      "\n",
      "64 bottles of beer on the wall,\n",
      "64 bottles of beer.\n",
      "Take one down, pass it around,\n",
      "63 bottles of beer on the wall.\n",
      "\n",
      "63 bottles of beer on the wall,\n",
      "63 bottles of beer.\n",
      "Take one down, pass it around,\n",
      "62 bottles of beer on the wall.\n",
      "\n",
      "62 bottles of beer on the wall,\n",
      "62 bottles of beer.\n",
      "Take one down, pass it around,\n",
      "61 bottles of beer on the wall.\n",
      "\n",
      "61 bottles of beer on the wall,\n",
      "61 bottles of beer.\n",
      "Take one down, pass it around,\n",
      "60 bottles of beer on the wall.\n",
      "\n",
      "60 bottles of beer on the wall,\n",
      "60 bottles of beer.\n",
      "Take one down, pass it around,\n",
      "59 bottles of beer on the wall.\n",
      "\n",
      "59 bottles of beer on the wall,\n",
      "59 bottles of beer.\n",
      "Take one down, pass it around,\n",
      "58 bottles of beer on the wall.\n",
      "\n",
      "58 bottles of beer on the wall,\n",
      "58 bottles of beer.\n",
      "Take one down, pass it around,\n",
      "57 bottles of beer on the wall.\n",
      "\n",
      "57 bottles of beer on the wall,\n",
      "57 bottles of beer.\n",
      "Take one down, pass it around,\n",
      "56 bottles of beer on the wall.\n",
      "\n",
      "56 bottles of beer on the wall,\n",
      "56 bottles of beer.\n",
      "Take one down, pass it around,\n",
      "55 bottles of beer on the wall.\n",
      "\n",
      "55 bottles of beer on the wall,\n",
      "55 bottles of beer.\n",
      "Take one down, pass it around,\n",
      "54 bottles of beer on the wall.\n",
      "\n",
      "54 bottles of beer on the wall,\n",
      "54 bottles of beer.\n",
      "Take one down, pass it around,\n",
      "53 bottles of beer on the wall.\n",
      "\n",
      "53 bottles of beer on the wall,\n",
      "53 bottles of beer.\n",
      "Take one down, pass it around,\n",
      "52 bottles of beer on the wall.\n",
      "\n",
      "52 bottles of beer on the wall,\n",
      "52 bottles of beer.\n",
      "Take one down, pass it around,\n",
      "51 bottles of beer on the wall.\n",
      "\n",
      "51 bottles of beer on the wall,\n",
      "51 bottles of beer.\n",
      "Take one down, pass it around,\n",
      "50 bottles of beer on the wall.\n",
      "\n",
      "50 bottles of beer on the wall,\n",
      "50 bottles of beer.\n",
      "Take one down, pass it around,\n",
      "49 bottles of beer on the wall.\n",
      "\n",
      "49 bottles of beer on the wall,\n",
      "49 bottles of beer.\n",
      "Take one down, pass it around,\n",
      "48 bottles of beer on the wall.\n",
      "\n",
      "48 bottles of beer on the wall,\n",
      "48 bottles of beer.\n",
      "Take one down, pass it around,\n",
      "47 bottles of beer on the wall.\n",
      "\n",
      "47 bottles of beer on the wall,\n",
      "47 bottles of beer.\n",
      "Take one down, pass it around,\n",
      "46 bottles of beer on the wall.\n",
      "\n",
      "46 bottles of beer on the wall,\n",
      "46 bottles of beer.\n",
      "Take one down, pass it around,\n",
      "45 bottles of beer on the wall.\n",
      "\n",
      "45 bottles of beer on the wall,\n",
      "45 bottles of beer.\n",
      "Take one down, pass it around,\n",
      "44 bottles of beer on the wall.\n",
      "\n",
      "44 bottles of beer on the wall,\n",
      "44 bottles of beer.\n",
      "Take one down, pass it around,\n",
      "43 bottles of beer on the wall.\n",
      "\n",
      "43 bottles of beer on the wall,\n",
      "43 bottles of beer.\n",
      "Take one down, pass it around,\n",
      "42 bottles of beer on the wall.\n",
      "\n",
      "42 bottles of beer on the wall,\n",
      "42 bottles of beer.\n",
      "Take one down, pass it around,\n",
      "41 bottles of beer on the wall.\n",
      "\n",
      "41 bottles of beer on the wall,\n",
      "41 bottles of beer.\n",
      "Take one down, pass it around,\n",
      "40 bottles of beer on the wall.\n",
      "\n",
      "40 bottles of beer on the wall,\n",
      "40 bottles of beer.\n",
      "Take one down, pass it around,\n",
      "39 bottles of beer on the wall.\n",
      "\n",
      "39 bottles of beer on the wall,\n",
      "39 bottles of beer.\n",
      "Take one down, pass it around,\n",
      "38 bottles of beer on the wall.\n",
      "\n",
      "38 bottles of beer on the wall,\n",
      "38 bottles of beer.\n",
      "Take one down, pass it around,\n",
      "37 bottles of beer on the wall.\n",
      "\n",
      "37 bottles of beer on the wall,\n",
      "37 bottles of beer.\n",
      "Take one down, pass it around,\n",
      "36 bottles of beer on the wall.\n",
      "\n",
      "36 bottles of beer on the wall,\n",
      "36 bottles of beer.\n",
      "Take one down, pass it around,\n",
      "35 bottles of beer on the wall.\n",
      "\n",
      "35 bottles of beer on the wall,\n",
      "35 bottles of beer.\n",
      "Take one down, pass it around,\n",
      "34 bottles of beer on the wall.\n",
      "\n",
      "34 bottles of beer on the wall,\n",
      "34 bottles of beer.\n",
      "Take one down, pass it around,\n",
      "33 bottles of beer on the wall.\n",
      "\n",
      "33 bottles of beer on the wall,\n",
      "33 bottles of beer.\n",
      "Take one down, pass it around,\n",
      "32 bottles of beer on the wall.\n",
      "\n",
      "32 bottles of beer on the wall,\n",
      "32 bottles of beer.\n",
      "Take one down, pass it around,\n",
      "31 bottles of beer on the wall.\n",
      "\n",
      "31 bottles of beer on the wall,\n",
      "31 bottles of beer.\n",
      "Take one down, pass it around,\n",
      "30 bottles of beer on the wall.\n",
      "\n",
      "30 bottles of beer on the wall,\n",
      "30 bottles of beer.\n",
      "Take one down, pass it around,\n",
      "29 bottles of beer on the wall.\n",
      "\n",
      "29 bottles of beer on the wall,\n",
      "29 bottles of beer.\n",
      "Take one down, pass it around,\n",
      "28 bottles of beer on the wall.\n",
      "\n",
      "28 bottles of beer on the wall,\n",
      "28 bottles of beer.\n",
      "Take one down, pass it around,\n",
      "27 bottles of beer on the wall.\n",
      "\n",
      "27 bottles of beer on the wall,\n",
      "27 bottles of beer.\n",
      "Take one down, pass it around,\n",
      "26 bottles of beer on the wall.\n",
      "\n",
      "26 bottles of beer on the wall,\n",
      "26 bottles of beer.\n",
      "Take one down, pass it around,\n",
      "25 bottles of beer on the wall.\n",
      "\n",
      "25 bottles of beer on the wall,\n",
      "25 bottles of beer.\n",
      "Take one down, pass it around,\n",
      "24 bottles of beer on the wall.\n",
      "\n",
      "24 bottles of beer on the wall,\n",
      "24 bottles of beer.\n",
      "Take one down, pass it around,\n",
      "23 bottles of beer on the wall.\n",
      "\n",
      "23 bottles of beer on the wall,\n",
      "23 bottles of beer.\n",
      "Take one down, pass it around,\n",
      "22 bottles of beer on the wall.\n",
      "\n",
      "22 bottles of beer on the wall,\n",
      "22 bottles of beer.\n",
      "Take one down, pass it around,\n",
      "21 bottles of beer on the wall.\n",
      "\n",
      "21 bottles of beer on the wall,\n",
      "21 bottles of beer.\n",
      "Take one down, pass it around,\n",
      "20 bottles of beer on the wall.\n",
      "\n",
      "20 bottles of beer on the wall,\n",
      "20 bottles of beer.\n",
      "Take one down, pass it around,\n",
      "19 bottles of beer on the wall.\n",
      "\n",
      "19 bottles of beer on the wall,\n",
      "19 bottles of beer.\n",
      "Take one down, pass it around,\n",
      "18 bottles of beer on the wall.\n",
      "\n",
      "18 bottles of beer on the wall,\n",
      "18 bottles of beer.\n",
      "Take one down, pass it around,\n",
      "17 bottles of beer on the wall.\n",
      "\n",
      "17 bottles of beer on the wall,\n",
      "17 bottles of beer.\n",
      "Take one down, pass it around,\n",
      "16 bottles of beer on the wall.\n",
      "\n",
      "16 bottles of beer on the wall,\n",
      "16 bottles of beer.\n",
      "Take one down, pass it around,\n",
      "15 bottles of beer on the wall.\n",
      "\n",
      "15 bottles of beer on the wall,\n",
      "15 bottles of beer.\n",
      "Take one down, pass it around,\n",
      "14 bottles of beer on the wall.\n",
      "\n",
      "14 bottles of beer on the wall,\n",
      "14 bottles of beer.\n",
      "Take one down, pass it around,\n",
      "13 bottles of beer on the wall.\n",
      "\n",
      "13 bottles of beer on the wall,\n",
      "13 bottles of beer.\n",
      "Take one down, pass it around,\n",
      "12 bottles of beer on the wall.\n",
      "\n",
      "12 bottles of beer on the wall,\n",
      "12 bottles of beer.\n",
      "Take one down, pass it around,\n",
      "11 bottles of beer on the wall.\n",
      "\n",
      "11 bottles of beer on the wall,\n",
      "11 bottles of beer.\n",
      "Take one down, pass it around,\n",
      "10 bottles of beer on the wall.\n",
      "\n",
      "10 bottles of beer on the wall,\n",
      "10 bottles of beer.\n",
      "Take one down, pass it around,\n",
      "9 bottles of beer on the wall.\n",
      "\n",
      "9 bottles of beer on the wall,\n",
      "9 bottles of beer.\n",
      "Take one down, pass it around,\n",
      "8 bottles of beer on the wall.\n",
      "\n",
      "8 bottles of beer on the wall,\n",
      "8 bottles of beer.\n",
      "Take one down, pass it around,\n",
      "7 bottles of beer on the wall.\n",
      "\n",
      "7 bottles of beer on the wall,\n",
      "7 bottles of beer.\n",
      "Take one down, pass it around,\n",
      "6 bottles of beer on the wall.\n",
      "\n",
      "6 bottles of beer on the wall,\n",
      "6 bottles of beer.\n",
      "Take one down, pass it around,\n",
      "5 bottles of beer on the wall.\n",
      "\n",
      "5 bottles of beer on the wall,\n",
      "5 bottles of beer.\n",
      "Take one down, pass it around,\n",
      "4 bottles of beer on the wall.\n",
      "\n",
      "4 bottles of beer on the wall,\n",
      "4 bottles of beer.\n",
      "Take one down, pass it around,\n",
      "3 bottles of beer on the wall.\n",
      "\n",
      "3 bottles of beer on the wall,\n",
      "3 bottles of beer.\n",
      "Take one down, pass it around,\n",
      "2 bottles of beer on the wall.\n",
      "\n",
      "2 bottles of beer on the wall,\n",
      "2 bottles of beer.\n",
      "Take one down, pass it around,\n",
      "1 bottle of beer on the wall.\n",
      "\n",
      "1 bottle of beer on the wall,\n",
      "1 bottle of beer.\n",
      "Take one down, pass it around,\n",
      "no more bottles of beer on the wall.\n",
      "\n",
      "No more bottles of beer on the wall,\n",
      "no more bottles of beer.\n",
      "Go to the store and buy some more,\n",
      "99 bottles of beer on the wall.\n",
      "\n"
     ]
    }
   ],
   "source": [
    "def print_beersong(start_number, /):\n",
    "    \"\"\"\n",
    "    Prints beersong where the length of the song in determined by the given number of beer bottles.\n",
    "    \n",
    "    :param start_number: number of beer bottles to start the song with\n",
    "    \"\"\"\n",
    "    for bottles in range(start_number, -1, -1): # end of range function at -1 to include 0 bottles\n",
    "        remaining_num_bottles = bottles - 1\n",
    "        # initialize text used for the majority of the verses\n",
    "        text_bottles = \"bottles\"\n",
    "        text_remaining_bottles = \"bottles\"\n",
    "        key_sentence = \"Take one down, pass it around,\" # the only sentence that changes in the last verse\n",
    "\n",
    "        # change text accordingly to the current number of bottles\n",
    "        if bottles == 2:\n",
    "            text_remaining_bottles = \"bottle\"\n",
    "        elif bottles == 1:\n",
    "            text_bottles = \"bottle\"\n",
    "            remaining_num_bottles = \"no more\"\n",
    "        elif bottles == 0: # change text accordingly for the special final verse\n",
    "            bottles = \"No more\"\n",
    "            key_sentence = \"Go to the store and buy some more,\" # change key sentence\n",
    "            remaining_num_bottles = start_number # change to inital number of bottles\n",
    "\n",
    "        print(f\"{bottles} {text_bottles} of beer on the wall,\")\n",
    "        print(f\"{'no more' if bottles == 'No more' else bottles} {text_bottles} of beer.\") # get rid of capital letter in final verse\n",
    "        print(f\"{key_sentence}\")\n",
    "        print(f\"{remaining_num_bottles} {text_remaining_bottles} of beer on the wall.\")\n",
    "        print()\n",
    "\n",
    "print_beersong(99)"
   ]
  },
  {
   "cell_type": "markdown",
   "metadata": {},
   "source": [
    "#### Exercise 6b: the whatever can be in a bottle song\n",
    "There are other liquids than beer than can be placed in a bottle (e.g., *99 bottles of water on the wall.*).\n",
    "Please write a function that prints a variation of the beersong when it is called. All occurrences of **beer** will be replaced by what the user provides as an argument, e.g., *water*.\n",
    "\n",
    "The function:\n",
    "* is called `print_liquids`\n",
    "* has one positional parameter: `start_number` (this is **99** in the original song) \n",
    "* has one keyword parameter: `liquid` (set the default value to **beer**)\n",
    "* prints a liquids song"
   ]
  },
  {
   "cell_type": "code",
   "execution_count": 37,
   "metadata": {},
   "outputs": [
    {
     "name": "stdout",
     "output_type": "stream",
     "text": [
      "99 bottles of water on the wall,\n",
      "99 bottles of water.\n",
      "Take one down, pass it around,\n",
      "98 bottles of water on the wall.\n",
      "\n",
      "98 bottles of water on the wall,\n",
      "98 bottles of water.\n",
      "Take one down, pass it around,\n",
      "97 bottles of water on the wall.\n",
      "\n",
      "97 bottles of water on the wall,\n",
      "97 bottles of water.\n",
      "Take one down, pass it around,\n",
      "96 bottles of water on the wall.\n",
      "\n",
      "96 bottles of water on the wall,\n",
      "96 bottles of water.\n",
      "Take one down, pass it around,\n",
      "95 bottles of water on the wall.\n",
      "\n",
      "95 bottles of water on the wall,\n",
      "95 bottles of water.\n",
      "Take one down, pass it around,\n",
      "94 bottles of water on the wall.\n",
      "\n",
      "94 bottles of water on the wall,\n",
      "94 bottles of water.\n",
      "Take one down, pass it around,\n",
      "93 bottles of water on the wall.\n",
      "\n",
      "93 bottles of water on the wall,\n",
      "93 bottles of water.\n",
      "Take one down, pass it around,\n",
      "92 bottles of water on the wall.\n",
      "\n",
      "92 bottles of water on the wall,\n",
      "92 bottles of water.\n",
      "Take one down, pass it around,\n",
      "91 bottles of water on the wall.\n",
      "\n",
      "91 bottles of water on the wall,\n",
      "91 bottles of water.\n",
      "Take one down, pass it around,\n",
      "90 bottles of water on the wall.\n",
      "\n",
      "90 bottles of water on the wall,\n",
      "90 bottles of water.\n",
      "Take one down, pass it around,\n",
      "89 bottles of water on the wall.\n",
      "\n",
      "89 bottles of water on the wall,\n",
      "89 bottles of water.\n",
      "Take one down, pass it around,\n",
      "88 bottles of water on the wall.\n",
      "\n",
      "88 bottles of water on the wall,\n",
      "88 bottles of water.\n",
      "Take one down, pass it around,\n",
      "87 bottles of water on the wall.\n",
      "\n",
      "87 bottles of water on the wall,\n",
      "87 bottles of water.\n",
      "Take one down, pass it around,\n",
      "86 bottles of water on the wall.\n",
      "\n",
      "86 bottles of water on the wall,\n",
      "86 bottles of water.\n",
      "Take one down, pass it around,\n",
      "85 bottles of water on the wall.\n",
      "\n",
      "85 bottles of water on the wall,\n",
      "85 bottles of water.\n",
      "Take one down, pass it around,\n",
      "84 bottles of water on the wall.\n",
      "\n",
      "84 bottles of water on the wall,\n",
      "84 bottles of water.\n",
      "Take one down, pass it around,\n",
      "83 bottles of water on the wall.\n",
      "\n",
      "83 bottles of water on the wall,\n",
      "83 bottles of water.\n",
      "Take one down, pass it around,\n",
      "82 bottles of water on the wall.\n",
      "\n",
      "82 bottles of water on the wall,\n",
      "82 bottles of water.\n",
      "Take one down, pass it around,\n",
      "81 bottles of water on the wall.\n",
      "\n",
      "81 bottles of water on the wall,\n",
      "81 bottles of water.\n",
      "Take one down, pass it around,\n",
      "80 bottles of water on the wall.\n",
      "\n",
      "80 bottles of water on the wall,\n",
      "80 bottles of water.\n",
      "Take one down, pass it around,\n",
      "79 bottles of water on the wall.\n",
      "\n",
      "79 bottles of water on the wall,\n",
      "79 bottles of water.\n",
      "Take one down, pass it around,\n",
      "78 bottles of water on the wall.\n",
      "\n",
      "78 bottles of water on the wall,\n",
      "78 bottles of water.\n",
      "Take one down, pass it around,\n",
      "77 bottles of water on the wall.\n",
      "\n",
      "77 bottles of water on the wall,\n",
      "77 bottles of water.\n",
      "Take one down, pass it around,\n",
      "76 bottles of water on the wall.\n",
      "\n",
      "76 bottles of water on the wall,\n",
      "76 bottles of water.\n",
      "Take one down, pass it around,\n",
      "75 bottles of water on the wall.\n",
      "\n",
      "75 bottles of water on the wall,\n",
      "75 bottles of water.\n",
      "Take one down, pass it around,\n",
      "74 bottles of water on the wall.\n",
      "\n",
      "74 bottles of water on the wall,\n",
      "74 bottles of water.\n",
      "Take one down, pass it around,\n",
      "73 bottles of water on the wall.\n",
      "\n",
      "73 bottles of water on the wall,\n",
      "73 bottles of water.\n",
      "Take one down, pass it around,\n",
      "72 bottles of water on the wall.\n",
      "\n",
      "72 bottles of water on the wall,\n",
      "72 bottles of water.\n",
      "Take one down, pass it around,\n",
      "71 bottles of water on the wall.\n",
      "\n",
      "71 bottles of water on the wall,\n",
      "71 bottles of water.\n",
      "Take one down, pass it around,\n",
      "70 bottles of water on the wall.\n",
      "\n",
      "70 bottles of water on the wall,\n",
      "70 bottles of water.\n",
      "Take one down, pass it around,\n",
      "69 bottles of water on the wall.\n",
      "\n",
      "69 bottles of water on the wall,\n",
      "69 bottles of water.\n",
      "Take one down, pass it around,\n",
      "68 bottles of water on the wall.\n",
      "\n",
      "68 bottles of water on the wall,\n",
      "68 bottles of water.\n",
      "Take one down, pass it around,\n",
      "67 bottles of water on the wall.\n",
      "\n",
      "67 bottles of water on the wall,\n",
      "67 bottles of water.\n",
      "Take one down, pass it around,\n",
      "66 bottles of water on the wall.\n",
      "\n",
      "66 bottles of water on the wall,\n",
      "66 bottles of water.\n",
      "Take one down, pass it around,\n",
      "65 bottles of water on the wall.\n",
      "\n",
      "65 bottles of water on the wall,\n",
      "65 bottles of water.\n",
      "Take one down, pass it around,\n",
      "64 bottles of water on the wall.\n",
      "\n",
      "64 bottles of water on the wall,\n",
      "64 bottles of water.\n",
      "Take one down, pass it around,\n",
      "63 bottles of water on the wall.\n",
      "\n",
      "63 bottles of water on the wall,\n",
      "63 bottles of water.\n",
      "Take one down, pass it around,\n",
      "62 bottles of water on the wall.\n",
      "\n",
      "62 bottles of water on the wall,\n",
      "62 bottles of water.\n",
      "Take one down, pass it around,\n",
      "61 bottles of water on the wall.\n",
      "\n",
      "61 bottles of water on the wall,\n",
      "61 bottles of water.\n",
      "Take one down, pass it around,\n",
      "60 bottles of water on the wall.\n",
      "\n",
      "60 bottles of water on the wall,\n",
      "60 bottles of water.\n",
      "Take one down, pass it around,\n",
      "59 bottles of water on the wall.\n",
      "\n",
      "59 bottles of water on the wall,\n",
      "59 bottles of water.\n",
      "Take one down, pass it around,\n",
      "58 bottles of water on the wall.\n",
      "\n",
      "58 bottles of water on the wall,\n",
      "58 bottles of water.\n",
      "Take one down, pass it around,\n",
      "57 bottles of water on the wall.\n",
      "\n",
      "57 bottles of water on the wall,\n",
      "57 bottles of water.\n",
      "Take one down, pass it around,\n",
      "56 bottles of water on the wall.\n",
      "\n",
      "56 bottles of water on the wall,\n",
      "56 bottles of water.\n",
      "Take one down, pass it around,\n",
      "55 bottles of water on the wall.\n",
      "\n",
      "55 bottles of water on the wall,\n",
      "55 bottles of water.\n",
      "Take one down, pass it around,\n",
      "54 bottles of water on the wall.\n",
      "\n",
      "54 bottles of water on the wall,\n",
      "54 bottles of water.\n",
      "Take one down, pass it around,\n",
      "53 bottles of water on the wall.\n",
      "\n",
      "53 bottles of water on the wall,\n",
      "53 bottles of water.\n",
      "Take one down, pass it around,\n",
      "52 bottles of water on the wall.\n",
      "\n",
      "52 bottles of water on the wall,\n",
      "52 bottles of water.\n",
      "Take one down, pass it around,\n",
      "51 bottles of water on the wall.\n",
      "\n",
      "51 bottles of water on the wall,\n",
      "51 bottles of water.\n",
      "Take one down, pass it around,\n",
      "50 bottles of water on the wall.\n",
      "\n",
      "50 bottles of water on the wall,\n",
      "50 bottles of water.\n",
      "Take one down, pass it around,\n",
      "49 bottles of water on the wall.\n",
      "\n",
      "49 bottles of water on the wall,\n",
      "49 bottles of water.\n",
      "Take one down, pass it around,\n",
      "48 bottles of water on the wall.\n",
      "\n",
      "48 bottles of water on the wall,\n",
      "48 bottles of water.\n",
      "Take one down, pass it around,\n",
      "47 bottles of water on the wall.\n",
      "\n",
      "47 bottles of water on the wall,\n",
      "47 bottles of water.\n",
      "Take one down, pass it around,\n",
      "46 bottles of water on the wall.\n",
      "\n",
      "46 bottles of water on the wall,\n",
      "46 bottles of water.\n",
      "Take one down, pass it around,\n",
      "45 bottles of water on the wall.\n",
      "\n",
      "45 bottles of water on the wall,\n",
      "45 bottles of water.\n",
      "Take one down, pass it around,\n",
      "44 bottles of water on the wall.\n",
      "\n",
      "44 bottles of water on the wall,\n",
      "44 bottles of water.\n",
      "Take one down, pass it around,\n",
      "43 bottles of water on the wall.\n",
      "\n",
      "43 bottles of water on the wall,\n",
      "43 bottles of water.\n",
      "Take one down, pass it around,\n",
      "42 bottles of water on the wall.\n",
      "\n",
      "42 bottles of water on the wall,\n",
      "42 bottles of water.\n",
      "Take one down, pass it around,\n",
      "41 bottles of water on the wall.\n",
      "\n",
      "41 bottles of water on the wall,\n",
      "41 bottles of water.\n",
      "Take one down, pass it around,\n",
      "40 bottles of water on the wall.\n",
      "\n",
      "40 bottles of water on the wall,\n",
      "40 bottles of water.\n",
      "Take one down, pass it around,\n",
      "39 bottles of water on the wall.\n",
      "\n",
      "39 bottles of water on the wall,\n",
      "39 bottles of water.\n",
      "Take one down, pass it around,\n",
      "38 bottles of water on the wall.\n",
      "\n",
      "38 bottles of water on the wall,\n",
      "38 bottles of water.\n",
      "Take one down, pass it around,\n",
      "37 bottles of water on the wall.\n",
      "\n",
      "37 bottles of water on the wall,\n",
      "37 bottles of water.\n",
      "Take one down, pass it around,\n",
      "36 bottles of water on the wall.\n",
      "\n",
      "36 bottles of water on the wall,\n",
      "36 bottles of water.\n",
      "Take one down, pass it around,\n",
      "35 bottles of water on the wall.\n",
      "\n",
      "35 bottles of water on the wall,\n",
      "35 bottles of water.\n",
      "Take one down, pass it around,\n",
      "34 bottles of water on the wall.\n",
      "\n",
      "34 bottles of water on the wall,\n",
      "34 bottles of water.\n",
      "Take one down, pass it around,\n",
      "33 bottles of water on the wall.\n",
      "\n",
      "33 bottles of water on the wall,\n",
      "33 bottles of water.\n",
      "Take one down, pass it around,\n",
      "32 bottles of water on the wall.\n",
      "\n",
      "32 bottles of water on the wall,\n",
      "32 bottles of water.\n",
      "Take one down, pass it around,\n",
      "31 bottles of water on the wall.\n",
      "\n",
      "31 bottles of water on the wall,\n",
      "31 bottles of water.\n",
      "Take one down, pass it around,\n",
      "30 bottles of water on the wall.\n",
      "\n",
      "30 bottles of water on the wall,\n",
      "30 bottles of water.\n",
      "Take one down, pass it around,\n",
      "29 bottles of water on the wall.\n",
      "\n",
      "29 bottles of water on the wall,\n",
      "29 bottles of water.\n",
      "Take one down, pass it around,\n",
      "28 bottles of water on the wall.\n",
      "\n",
      "28 bottles of water on the wall,\n",
      "28 bottles of water.\n",
      "Take one down, pass it around,\n",
      "27 bottles of water on the wall.\n",
      "\n",
      "27 bottles of water on the wall,\n",
      "27 bottles of water.\n",
      "Take one down, pass it around,\n",
      "26 bottles of water on the wall.\n",
      "\n",
      "26 bottles of water on the wall,\n",
      "26 bottles of water.\n",
      "Take one down, pass it around,\n",
      "25 bottles of water on the wall.\n",
      "\n",
      "25 bottles of water on the wall,\n",
      "25 bottles of water.\n",
      "Take one down, pass it around,\n",
      "24 bottles of water on the wall.\n",
      "\n",
      "24 bottles of water on the wall,\n",
      "24 bottles of water.\n",
      "Take one down, pass it around,\n",
      "23 bottles of water on the wall.\n",
      "\n",
      "23 bottles of water on the wall,\n",
      "23 bottles of water.\n",
      "Take one down, pass it around,\n",
      "22 bottles of water on the wall.\n",
      "\n",
      "22 bottles of water on the wall,\n",
      "22 bottles of water.\n",
      "Take one down, pass it around,\n",
      "21 bottles of water on the wall.\n",
      "\n",
      "21 bottles of water on the wall,\n",
      "21 bottles of water.\n",
      "Take one down, pass it around,\n",
      "20 bottles of water on the wall.\n",
      "\n",
      "20 bottles of water on the wall,\n",
      "20 bottles of water.\n",
      "Take one down, pass it around,\n",
      "19 bottles of water on the wall.\n",
      "\n",
      "19 bottles of water on the wall,\n",
      "19 bottles of water.\n",
      "Take one down, pass it around,\n",
      "18 bottles of water on the wall.\n",
      "\n",
      "18 bottles of water on the wall,\n",
      "18 bottles of water.\n",
      "Take one down, pass it around,\n",
      "17 bottles of water on the wall.\n",
      "\n",
      "17 bottles of water on the wall,\n",
      "17 bottles of water.\n",
      "Take one down, pass it around,\n",
      "16 bottles of water on the wall.\n",
      "\n",
      "16 bottles of water on the wall,\n",
      "16 bottles of water.\n",
      "Take one down, pass it around,\n",
      "15 bottles of water on the wall.\n",
      "\n",
      "15 bottles of water on the wall,\n",
      "15 bottles of water.\n",
      "Take one down, pass it around,\n",
      "14 bottles of water on the wall.\n",
      "\n",
      "14 bottles of water on the wall,\n",
      "14 bottles of water.\n",
      "Take one down, pass it around,\n",
      "13 bottles of water on the wall.\n",
      "\n",
      "13 bottles of water on the wall,\n",
      "13 bottles of water.\n",
      "Take one down, pass it around,\n",
      "12 bottles of water on the wall.\n",
      "\n",
      "12 bottles of water on the wall,\n",
      "12 bottles of water.\n",
      "Take one down, pass it around,\n",
      "11 bottles of water on the wall.\n",
      "\n",
      "11 bottles of water on the wall,\n",
      "11 bottles of water.\n",
      "Take one down, pass it around,\n",
      "10 bottles of water on the wall.\n",
      "\n",
      "10 bottles of water on the wall,\n",
      "10 bottles of water.\n",
      "Take one down, pass it around,\n",
      "9 bottles of water on the wall.\n",
      "\n",
      "9 bottles of water on the wall,\n",
      "9 bottles of water.\n",
      "Take one down, pass it around,\n",
      "8 bottles of water on the wall.\n",
      "\n",
      "8 bottles of water on the wall,\n",
      "8 bottles of water.\n",
      "Take one down, pass it around,\n",
      "7 bottles of water on the wall.\n",
      "\n",
      "7 bottles of water on the wall,\n",
      "7 bottles of water.\n",
      "Take one down, pass it around,\n",
      "6 bottles of water on the wall.\n",
      "\n",
      "6 bottles of water on the wall,\n",
      "6 bottles of water.\n",
      "Take one down, pass it around,\n",
      "5 bottles of water on the wall.\n",
      "\n",
      "5 bottles of water on the wall,\n",
      "5 bottles of water.\n",
      "Take one down, pass it around,\n",
      "4 bottles of water on the wall.\n",
      "\n",
      "4 bottles of water on the wall,\n",
      "4 bottles of water.\n",
      "Take one down, pass it around,\n",
      "3 bottles of water on the wall.\n",
      "\n",
      "3 bottles of water on the wall,\n",
      "3 bottles of water.\n",
      "Take one down, pass it around,\n",
      "2 bottles of water on the wall.\n",
      "\n",
      "2 bottles of water on the wall,\n",
      "2 bottles of water.\n",
      "Take one down, pass it around,\n",
      "1 bottle of water on the wall.\n",
      "\n",
      "1 bottle of water on the wall,\n",
      "1 bottle of water.\n",
      "Take one down, pass it around,\n",
      "no more bottles of water on the wall.\n",
      "\n",
      "No more bottles of water on the wall,\n",
      "no more bottles of water.\n",
      "Go to the store and buy some more,\n",
      "99 bottles of water on the wall.\n",
      "\n"
     ]
    }
   ],
   "source": [
    "def print_liquids(start_number, /,liquid=\"beer\"):\n",
    "    \"\"\"\n",
    "    Prints song of a specified liquid where the length of the song in determined by the given number of bottles.\n",
    "\n",
    "    :param start_number: number of bottles to start the song with\n",
    "    :param liquid: liquid used for the song lyric with as default \"beer\"\n",
    "    \"\"\"\n",
    "    for bottles in range(start_number, -1, -1): # end of range function at -1 to include 0 bottles\n",
    "        remaining_num_bottles = bottles - 1\n",
    "        # initialize text used for the majority of the verses\n",
    "        text_bottles = \"bottles\"\n",
    "        text_remaining_bottles = \"bottles\"\n",
    "        key_sentence = \"Take one down, pass it around,\" # the only sentence that changes in the last verse\n",
    "\n",
    "        # change text accordingly to the current number of bottles\n",
    "        if bottles == 2:\n",
    "            text_remaining_bottles = \"bottle\"\n",
    "        elif bottles == 1:\n",
    "            text_bottles = \"bottle\"\n",
    "            remaining_num_bottles = \"no more\"\n",
    "        elif bottles == 0: # change text accordingly for the special final verse\n",
    "            bottles = \"No more\"\n",
    "            key_sentence = \"Go to the store and buy some more,\" # change key sentence\n",
    "            remaining_num_bottles = start_number # change to inital number of bottles\n",
    "\n",
    "        print(f\"{bottles} {text_bottles} of {liquid} on the wall,\")\n",
    "        print(f\"{'no more' if bottles == 'No more' else bottles} {text_bottles} of {liquid}.\") # get rid of capital letter in final verse\n",
    "        print(f\"{key_sentence}\")\n",
    "        print(f\"{remaining_num_bottles} {text_remaining_bottles} of {liquid} on the wall.\")\n",
    "        print()\n",
    "\n",
    "print_liquids(99, liquid=\"water\")"
   ]
  },
  {
   "cell_type": "markdown",
   "metadata": {},
   "source": [
    "#### Exercise 6c: preprocessing text\n",
    "Please write the answer to Exercise 4a as a function. The function replaces the following characters by empty strings in a text:\n",
    "* newlines: '\\n'\n",
    "* commas: ','\n",
    "* dots: '.'\n",
    "* quotes: '\"'\n",
    "\n",
    "The function is:\n",
    "* is called `clean_text`\n",
    "* has one positional parameter `text`\n",
    "* return a string, e.g., the cleaned text\n"
   ]
  },
  {
   "cell_type": "code",
   "execution_count": 41,
   "metadata": {},
   "outputs": [],
   "source": [
    "def clean_text(text: str, /):\n",
    "    \"\"\"\n",
    "    Preprocesses a given str text by replacing a number of punctuation characters by the empty str.\n",
    "    \n",
    "    :param text: str of text\n",
    "    :return: str of text cleared of a set of punctuation characters\n",
    "    \"\"\"\n",
    "    cleaned_text = text.replace('\\n', '')\n",
    "    cleaned_text = cleaned_text.replace(',', '')\n",
    "    cleaned_text = cleaned_text.replace('.', '')\n",
    "    cleaned_text = cleaned_text.replace('\"', '')\n",
    "    return cleaned_text"
   ]
  },
  {
   "cell_type": "markdown",
   "metadata": {},
   "source": [
    "#### Exercise 6d: preprocessing text in a more general way\n",
    "Please write a function that replaces all characters that the user provides by empty strings.\n",
    "\n",
    "The function is:\n",
    "* is called `clean_text_general`\n",
    "* has one positional parameter `text`\n",
    "* has one keyword parameter `chars_to_remove`, which is a set (set the default to {'\\n', ',', '.', '\"'})\n",
    "* return a string, e.g., the cleaned text\n",
    "\n",
    "When the user provides a different value to `chars_to_remove`, e.g., {'a'}, then only those characters should be replaced by empty spaces in the text.\n",
    "\n",
    "Please store this function in a file called **assignment2_utils.py**. Please import the function and call it in this notebook."
   ]
  },
  {
   "cell_type": "code",
   "execution_count": 42,
   "metadata": {},
   "outputs": [],
   "source": [
    "from assignment2_utils import clean_text_general"
   ]
  },
  {
   "cell_type": "code",
   "execution_count": 43,
   "metadata": {},
   "outputs": [
    {
     "name": "stdout",
     "output_type": "stream",
     "text": [
      "In  fr wy kingdom, there ws  river. This river ws home to mny golden swns. The swns spent most of their time on the bnks of the river. Every six months, the swns would leve  golden fether s  fee for using the lke. The soldiers of the kingdom would collect the fethers nd deposit them in the royl tresury. \n",
      "One dy,  homeless bird sw the river. \"The wter in this river seems so cool nd soothing. I will mke my home here,\" thought the bird.  \n"
     ]
    }
   ],
   "source": [
    "first_alinea_of_a_story = \"\"\"In a far away kingdom, there was a river. This river was home to many golden swans. The swans spent most of their time on the banks of the river. Every six months, the swans would leave a golden feather as a fee for using the lake. The soldiers of the kingdom would collect the feathers and deposit them in the royal treasury. \n",
    "One day, a homeless bird saw the river. \"The water in this river seems so cool and soothing. I will make my home here,\" thought the bird.  \"\"\"\n",
    "\n",
    "# call the function, clearing the text from the letter \"a\"\n",
    "check_clean_text_general = clean_text_general(first_alinea_of_a_story, {\"a\"})\n",
    "print(check_clean_text_general)"
   ]
  },
  {
   "cell_type": "markdown",
   "metadata": {},
   "source": [
    "#### Exercise 6e: including and excluding words\n",
    "Please write Exercise 5a as a function. \n",
    "\n",
    "The function:\n",
    "* is called `exclude_and_count`\n",
    "* has one positional parameter `words`, which is a list of strings.\n",
    "* creates a dictionary in which the **key** is a word and the **value** is the frequency of that word. \n",
    "* words are excluded if they meet one of the following criteria:\n",
    "    * end with the letter e\n",
    "    * start with the letter t\n",
    "    * start with the letter c and end with the letter w (both conditions must be met)\n",
    "    * have six or more letters\n",
    "* returns a dictionary in which the **key** is the word and the **value** is the frequency of the word. "
   ]
  },
  {
   "cell_type": "code",
   "execution_count": 44,
   "metadata": {},
   "outputs": [],
   "source": [
    "def exclude_and_count(words: list, /):\n",
    "    word_dict = {}\n",
    "\n",
    "    for word in words:\n",
    "        if word.endswith(\"e\") \\\n",
    "        or word.startswith(\"t\") \\\n",
    "        or (word.startswith(\"c\") and word.endswith(\"w\")) \\\n",
    "        or len(word) >= 6:\n",
    "            continue\n",
    "        else:\n",
    "            if word in word_dict:\n",
    "                word_dict[word] += 1\n",
    "            else:\n",
    "                word_dict[word] = 1\n",
    "    return word_dict"
   ]
  },
  {
   "cell_type": "markdown",
   "metadata": {},
   "source": [
    "## Exercise 7: Questions about Python\n",
    "Please answer the following questions about the Python language. You can give an examples if they help you.\n"
   ]
  },
  {
   "cell_type": "markdown",
   "metadata": {},
   "source": [
    "a. What is the difference between positional parameters and keyword parameters?"
   ]
  },
  {
   "cell_type": "code",
   "execution_count": 45,
   "metadata": {},
   "outputs": [],
   "source": [
    "# Positional and keyword parameters differ mostly in if you are compulsory to call them or not and \n",
    "# how you are allowed to call them."
   ]
  },
  {
   "cell_type": "code",
   "execution_count": 46,
   "metadata": {},
   "outputs": [],
   "source": [
    "# 1) Compulsory or not?\n",
    "# Positional parameters are compulsory when you call a function and the values of the arguments in\n",
    "# the function call are assigned to the parameters positionally. So, the first value of the argument\n",
    "# in the function call is assigned to the first parameter in the function definition, the second to\n",
    "# the second, third to the third, etc. \n",
    "\n",
    "# Keyword parameters on the otherhand are not compulsory when calling the function, as the parameters\n",
    "# have a default value for each keyword parameter and are not necessarily assigned positionally.\n",
    "\n",
    "# Let us show you by defining a function and walk you through the different parameters. "
   ]
  },
  {
   "cell_type": "code",
   "execution_count": 47,
   "metadata": {},
   "outputs": [],
   "source": [
    "# Below we have a simple function where we add numbers. The function definition has four parameters.\n",
    "# There is a \"/\" symbol, and all parameter on the left of this symbol are positional parameters and\n",
    "# all on the right are keyword parameters. As you can see, the keyword parameters have default values.\n",
    "\n",
    "def addition(a, b, /, c=0, d=0):\n",
    "    result  = a + b + c + d\n",
    "    print(result)"
   ]
  },
  {
   "cell_type": "code",
   "execution_count": 48,
   "metadata": {},
   "outputs": [
    {
     "ename": "TypeError",
     "evalue": "addition() missing 2 required positional arguments: 'a' and 'b'",
     "output_type": "error",
     "traceback": [
      "\u001b[0;31m---------------------------------------------------------------------------\u001b[0m",
      "\u001b[0;31mTypeError\u001b[0m                                 Traceback (most recent call last)",
      "Cell \u001b[0;32mIn[48], line 4\u001b[0m\n\u001b[1;32m      1\u001b[0m \u001b[38;5;66;03m# When we call the function without any arguments, we get an error stating that two positional \u001b[39;00m\n\u001b[1;32m      2\u001b[0m \u001b[38;5;66;03m# arguments are missing. So note, these positional arguments are compulsory.\u001b[39;00m\n\u001b[0;32m----> 4\u001b[0m \u001b[43maddition\u001b[49m\u001b[43m(\u001b[49m\u001b[43m)\u001b[49m\n",
      "\u001b[0;31mTypeError\u001b[0m: addition() missing 2 required positional arguments: 'a' and 'b'"
     ]
    }
   ],
   "source": [
    "# When we call the function without any arguments, we get an error stating that two positional \n",
    "# arguments are missing. So note, these positional arguments are compulsory.\n",
    "\n",
    "addition()"
   ]
  },
  {
   "cell_type": "code",
   "execution_count": 49,
   "metadata": {},
   "outputs": [
    {
     "name": "stdout",
     "output_type": "stream",
     "text": [
      "7\n"
     ]
    }
   ],
   "source": [
    "# Now we call the function again. When we call the function as below, the integer 3 gets \n",
    "# assigned to a and 4 to b. This works even if we do not indicate any keyword parameters. \n",
    "\n",
    "addition(3, 4)"
   ]
  },
  {
   "cell_type": "code",
   "execution_count": 50,
   "metadata": {},
   "outputs": [
    {
     "name": "stdout",
     "output_type": "stream",
     "text": [
      "10\n"
     ]
    }
   ],
   "source": [
    "# Now we want to add four numbers and we fill in values for the keyword parameters. We\n",
    "# see that the numbers add up. \n",
    "\n",
    "addition(3, 4, c = 1, d = 2)"
   ]
  },
  {
   "cell_type": "code",
   "execution_count": 51,
   "metadata": {},
   "outputs": [
    {
     "name": "stdout",
     "output_type": "stream",
     "text": [
      "2\n"
     ]
    }
   ],
   "source": [
    "# An important note is that positional parameters can also have default values:\n",
    "def multiply_two_to_the_power(x=1,/):\n",
    "    result = 2 ** x\n",
    "    print(result)\n",
    "    \n",
    "multiply_two_to_the_power()"
   ]
  },
  {
   "cell_type": "code",
   "execution_count": 52,
   "metadata": {},
   "outputs": [
    {
     "name": "stdout",
     "output_type": "stream",
     "text": [
      "My name is John Richard Michael Doe\n"
     ]
    }
   ],
   "source": [
    "# 2) How are you allowed to call them?\n",
    "# As previously mentioned, the arguments in the function call get assigned positionally \n",
    "# for the positional parameters. However, this is not the case for keyword parameters. \n",
    "# You can use the keyword in the function call and the order in how you call them does \n",
    "# not matter.\n",
    "\n",
    "# An example:\n",
    "\n",
    "def print_full_name(first_name, last_name, / , second_name=\"\", third_name=\"\"):\n",
    "    print(f\"My name is {first_name} {second_name} {third_name} {last_name}\")\n",
    "    \n",
    "print_full_name(\"John\", \"Doe\", third_name=\"Michael\", second_name=\"Richard\")\n",
    "\n",
    "# As you can see, using the keywords, to assign a value to them, the order of the\n",
    "# keyword parameters does not matter"
   ]
  },
  {
   "cell_type": "code",
   "execution_count": 53,
   "metadata": {},
   "outputs": [
    {
     "name": "stdout",
     "output_type": "stream",
     "text": [
      "My name is John Michael Richard Doe\n"
     ]
    }
   ],
   "source": [
    "# However, when you do not use the keywords in the function call for the \n",
    "# keyword parameters, the default is that the values of the arguments get assigned \n",
    "# positionally to the parameters, also for the keyword parameters.\n",
    "\n",
    "print_full_name(\"John\", \"Doe\", \"Michael\", \"Richard\")"
   ]
  },
  {
   "cell_type": "code",
   "execution_count": 54,
   "metadata": {},
   "outputs": [
    {
     "ename": "SyntaxError",
     "evalue": "positional argument follows keyword argument (2115595535.py, line 4)",
     "output_type": "error",
     "traceback": [
      "\u001b[0;36m  Cell \u001b[0;32mIn[54], line 4\u001b[0;36m\u001b[0m\n\u001b[0;31m    print_full_name(first_name=\"John\", \"Doe\", \"Michael\", \"Richard\")\u001b[0m\n\u001b[0m                                                                  ^\u001b[0m\n\u001b[0;31mSyntaxError\u001b[0m\u001b[0;31m:\u001b[0m positional argument follows keyword argument\n"
     ]
    }
   ],
   "source": [
    "# Note that you cannot use a keyword for any positional parameter, this will result\n",
    "# in an error.\n",
    "\n",
    "print_full_name(first_name=\"John\", \"Doe\", \"Michael\", \"Richard\")"
   ]
  },
  {
   "cell_type": "markdown",
   "metadata": {},
   "source": [
    "b. What is/are the type/types of containers that you define using curly brackets?"
   ]
  },
  {
   "cell_type": "code",
   "execution_count": 55,
   "metadata": {},
   "outputs": [],
   "source": [
    "# There are two types of containers that you can define using curly brackets: dictionaries and sets.\n",
    "# However, when we are creating (define) an empty set or dictionary, we use different ways to do so."
   ]
  },
  {
   "cell_type": "code",
   "execution_count": 56,
   "metadata": {},
   "outputs": [
    {
     "name": "stdout",
     "output_type": "stream",
     "text": [
      "<class 'dict'>\n",
      "<class 'dict'>\n"
     ]
    }
   ],
   "source": [
    "# When creating an empty dictionary, we can just do the following two:\n",
    "\n",
    "empty_dictionary = {} # either ...\n",
    "another_empty_dictionary = dict() # or ...\n",
    "\n",
    "print(type(empty_dictionary))\n",
    "print(type(another_empty_dictionary))"
   ]
  },
  {
   "cell_type": "code",
   "execution_count": 57,
   "metadata": {},
   "outputs": [
    {
     "name": "stdout",
     "output_type": "stream",
     "text": [
      "<class 'set'>\n"
     ]
    }
   ],
   "source": [
    "# Note that even though a dictionary and set both use curly brackets, we cannot create an empty set by just using\n",
    "# the '{}' as we do for a dictionay. For a set we do the following:\n",
    "\n",
    "empty_set = set()\n",
    "\n",
    "print(type(empty_set))"
   ]
  },
  {
   "cell_type": "markdown",
   "metadata": {},
   "source": [
    "c. When comparing the containers lists and sets, there are three properties that are unique for lists. Please name and explain them."
   ]
  },
  {
   "cell_type": "code",
   "execution_count": 58,
   "metadata": {},
   "outputs": [
    {
     "name": "stdout",
     "output_type": "stream",
     "text": [
      "['first', 'second', 'third']\n"
     ]
    }
   ],
   "source": [
    "# If we compare lists to sets, lists have the following three unique properties:\n",
    "# 1) Lists are ordered: with this we mean that the order in which element are appended to a list determines \n",
    "# the position each element will take up in the list. To clarify, look at the following example:\n",
    "\n",
    "list_of_words = []\n",
    "\n",
    "list_of_words.append(\"first\")\n",
    "list_of_words.append(\"second\")\n",
    "list_of_words.append(\"third\")\n",
    "\n",
    "print(list_of_words)\n",
    "\n",
    "# After printing we see that the first added element takes the first position in the list, the second takes\n",
    "# takes the second and the third takes the third. So, lists are ordered and the order to which we add elements \n",
    "# to a list matters."
   ]
  },
  {
   "cell_type": "code",
   "execution_count": 59,
   "metadata": {},
   "outputs": [
    {
     "name": "stdout",
     "output_type": "stream",
     "text": [
      "{'second', 'third', 'first'}\n"
     ]
    }
   ],
   "source": [
    "# However, when we compare this to adding elements to a set, we see something else:\n",
    "\n",
    "set_of_words = set()\n",
    "\n",
    "set_of_words.add(\"first\")\n",
    "set_of_words.add(\"second\")\n",
    "set_of_words.add(\"third\")\n",
    "\n",
    "print(set_of_words)\n",
    "\n",
    "# When printing the set, we see that the elements are not ordered with respect to the sequence at which they\n",
    "# are added. So, sets are unordered."
   ]
  },
  {
   "cell_type": "code",
   "execution_count": 60,
   "metadata": {},
   "outputs": [
    {
     "name": "stdout",
     "output_type": "stream",
     "text": [
      "['This will be in the list', 'This will be in the list']\n"
     ]
    }
   ],
   "source": [
    "# 2) Lists can contain duplicates: with this we mean that when you add the same element multiple times to a list.\n",
    "# Here, we show an example:\n",
    "\n",
    "list_of_same_elements = []\n",
    "\n",
    "list_of_same_elements.append(\"This will be in the list\")\n",
    "list_of_same_elements.append(\"This will be in the list\")\n",
    "\n",
    "print(list_of_same_elements)\n",
    "\n",
    "# It shows, that we can add the exact same element multiple times to a list."
   ]
  },
  {
   "cell_type": "code",
   "execution_count": 61,
   "metadata": {},
   "outputs": [
    {
     "name": "stdout",
     "output_type": "stream",
     "text": [
      "{'This will be in the list'}\n"
     ]
    }
   ],
   "source": [
    "# However, for sets, this is not the case:\n",
    "\n",
    "set_of_elements = set()\n",
    "\n",
    "set_of_elements.add(\"This will be in the list\")\n",
    "set_of_elements.add(\"This will be in the list\")\n",
    "\n",
    "print(set_of_elements)\n",
    "\n",
    "# Here we see that, even though added twice, the same element only appears once."
   ]
  },
  {
   "cell_type": "code",
   "execution_count": 62,
   "metadata": {},
   "outputs": [
    {
     "name": "stdout",
     "output_type": "stream",
     "text": [
      "['string obeject', ['a', 'list', 'object'], ('a', 'set', 'object'), 99, (98, 99)]\n"
     ]
    }
   ],
   "source": [
    "# 3) The third unique property is that lists can contain, next to immutable objects, mutable objects, \n",
    "# whereas sets can only contain immutable objects. This is best shown in an example:\n",
    "\n",
    "list_of_different_objects = []\n",
    "\n",
    "list_of_different_objects.append(\"string obeject\") # immutable\n",
    "list_of_different_objects.append([\"a\", \"list\", \"object\"]) # mutable \n",
    "list_of_different_objects.append((\"a\", \"set\", \"object\")) # mutable \n",
    "list_of_different_objects.append(99) # immutable\n",
    "list_of_different_objects.append((98,99)) # immutable\n",
    "\n",
    "print(list_of_different_objects)\n",
    "\n",
    "# Here we see that lists can both contain mutable as immutable elements. "
   ]
  },
  {
   "cell_type": "code",
   "execution_count": 63,
   "metadata": {},
   "outputs": [
    {
     "ename": "TypeError",
     "evalue": "unhashable type: 'list'",
     "output_type": "error",
     "traceback": [
      "\u001b[0;31m---------------------------------------------------------------------------\u001b[0m",
      "\u001b[0;31mTypeError\u001b[0m                                 Traceback (most recent call last)",
      "Cell \u001b[0;32mIn[63], line 6\u001b[0m\n\u001b[1;32m      3\u001b[0m set_of_different_objects \u001b[38;5;241m=\u001b[39m \u001b[38;5;28mset\u001b[39m()\n\u001b[1;32m      5\u001b[0m set_of_different_objects\u001b[38;5;241m.\u001b[39madd(\u001b[38;5;124m\"\u001b[39m\u001b[38;5;124mstring obeject\u001b[39m\u001b[38;5;124m\"\u001b[39m) \u001b[38;5;66;03m# immutable\u001b[39;00m\n\u001b[0;32m----> 6\u001b[0m \u001b[43mset_of_different_objects\u001b[49m\u001b[38;5;241;43m.\u001b[39;49m\u001b[43madd\u001b[49m\u001b[43m(\u001b[49m\u001b[43m[\u001b[49m\u001b[38;5;124;43m\"\u001b[39;49m\u001b[38;5;124;43ma\u001b[39;49m\u001b[38;5;124;43m\"\u001b[39;49m\u001b[43m,\u001b[49m\u001b[43m \u001b[49m\u001b[38;5;124;43m\"\u001b[39;49m\u001b[38;5;124;43mlist\u001b[39;49m\u001b[38;5;124;43m\"\u001b[39;49m\u001b[43m,\u001b[49m\u001b[43m \u001b[49m\u001b[38;5;124;43m\"\u001b[39;49m\u001b[38;5;124;43mobject\u001b[39;49m\u001b[38;5;124;43m\"\u001b[39;49m\u001b[43m]\u001b[49m\u001b[43m)\u001b[49m \u001b[38;5;66;03m# mutable \u001b[39;00m\n\u001b[1;32m      7\u001b[0m set_of_different_objects\u001b[38;5;241m.\u001b[39madd((\u001b[38;5;124m\"\u001b[39m\u001b[38;5;124ma\u001b[39m\u001b[38;5;124m\"\u001b[39m, \u001b[38;5;124m\"\u001b[39m\u001b[38;5;124mset\u001b[39m\u001b[38;5;124m\"\u001b[39m, \u001b[38;5;124m\"\u001b[39m\u001b[38;5;124mobject\u001b[39m\u001b[38;5;124m\"\u001b[39m)) \u001b[38;5;66;03m# mutable \u001b[39;00m\n\u001b[1;32m      8\u001b[0m set_of_different_objects\u001b[38;5;241m.\u001b[39madd(\u001b[38;5;241m99\u001b[39m) \u001b[38;5;66;03m# immutable\u001b[39;00m\n",
      "\u001b[0;31mTypeError\u001b[0m: unhashable type: 'list'"
     ]
    }
   ],
   "source": [
    "# However, when we try to do the same for a set we run into an error:\n",
    "\n",
    "set_of_different_objects = set()\n",
    "\n",
    "set_of_different_objects.add(\"string obeject\") # immutable\n",
    "set_of_different_objects.add([\"a\", \"list\", \"object\"]) # mutable \n",
    "set_of_different_objects.add((\"a\", \"set\", \"object\")) # mutable \n",
    "set_of_different_objects.add(99) # immutable\n",
    "set_of_different_objects.add((98,99)) # immutable\n",
    "\n",
    "print(set_of_different_objects)\n",
    "\n",
    "# Sets cannot contain mutable objects."
   ]
  },
  {
   "cell_type": "markdown",
   "metadata": {},
   "source": [
    "d. Explain the difference between **continue** and **break**. You can use an example for this. "
   ]
  },
  {
   "cell_type": "code",
   "execution_count": 64,
   "metadata": {},
   "outputs": [],
   "source": [
    "# Continue and break are often used in for-loops. With continue, you can skip to the next iteration once you've \n",
    "# met a particular condition in the loop. Break causes the current loop to end completely rather than skipping \n",
    "# to the next iteration. We will clarify using some examples."
   ]
  },
  {
   "cell_type": "code",
   "execution_count": 65,
   "metadata": {},
   "outputs": [
    {
     "name": "stdout",
     "output_type": "stream",
     "text": [
      "George Jr.\n",
      "George Sr.\n",
      "Sheldon\n",
      "Missy\n",
      "Meemaw\n",
      "Mary\n"
     ]
    }
   ],
   "source": [
    "# Assume you have a list of names and you'd like to print all those names except for the ones starting with a\n",
    "# letter \"J\". The use of contine suits this case:\n",
    "\n",
    "list_of_names = [\"George Jr.\", \"George Sr.\", \"Sheldon\", \"Missy\", \"Meemaw\", \"Jeff\", \"Mary\", \"John\"]\n",
    "\n",
    "for name in list_of_names:\n",
    "    if name.startswith(\"J\"):\n",
    "        continue\n",
    "    else:\n",
    "        print(name)\n",
    "        \n",
    "# As mentioned before, it can be seen that, when using continue, you move to the next iteration when a certain\n",
    "# condition (in our case a name starting with the letter \"J\") is met. From the output it can be observed that all\n",
    "# names are printed, except for those starting with the letter \"J\". When this condition was met, we moved to the\n",
    "# next iteration."
   ]
  },
  {
   "cell_type": "code",
   "execution_count": 66,
   "metadata": {},
   "outputs": [
    {
     "name": "stdout",
     "output_type": "stream",
     "text": [
      "bear\n",
      "cat\n",
      "parrot\n",
      "dog\n",
      "sheep\n"
     ]
    }
   ],
   "source": [
    "# Using break, we will not move to the next iteration, but we will exit it. Assume we now have a list of animals\n",
    "# and we want to print the names of these animals but stop when we found a lion.\n",
    "\n",
    "list_of_animals = [\"bear\", \"cat\", \"parrot\", \"dog\", \"sheep\", \"lion\", \"donkey\", \"panda\"]\n",
    "\n",
    "for animal in list_of_animals:\n",
    "    if animal == \"lion\":\n",
    "        break\n",
    "    else:\n",
    "        print(animal)\n",
    "        \n",
    "# Here we see that when we use the break statement, we exit the loop once the condition is met and we will not\n",
    "# print the names of the animals that come after lion. \n",
    "# Note: depending on putting a print statement before the break or not, lion could also be printed but we just do\n",
    "# not go to the next iteration."
   ]
  },
  {
   "cell_type": "code",
   "execution_count": null,
   "metadata": {},
   "outputs": [],
   "source": []
  }
 ],
 "metadata": {
  "anaconda-cloud": {},
  "kernelspec": {
   "display_name": "Python 3 (ipykernel)",
   "language": "python",
   "name": "python3"
  },
  "language_info": {
   "codemirror_mode": {
    "name": "ipython",
    "version": 3
   },
   "file_extension": ".py",
   "mimetype": "text/x-python",
   "name": "python",
   "nbconvert_exporter": "python",
   "pygments_lexer": "ipython3",
   "version": "3.10.12"
  }
 },
 "nbformat": 4,
 "nbformat_minor": 4
}
