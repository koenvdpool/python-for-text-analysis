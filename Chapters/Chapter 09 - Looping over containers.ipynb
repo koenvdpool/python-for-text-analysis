{
 "cells": [
  {
   "cell_type": "markdown",
   "metadata": {},
   "source": [
    "# Chapter 9 - Looping over containers\n",
    "So far, you have been introduced to **integers** (e.g., 1), **strings** (e.g., 'hello'), **lists** (e.g. [1, 'a', 3]), and **sets** (e.g., {1, 2, 'Python'}). You have learned how to create and inspect them using methods and built-in functions. \n",
    "\n",
    "However, you'll find that most of the time, you want to carry out some operation for all the items in a sequence. Built-in functions and methods are then not always the answer. However, the **for-loop** is!\n",
    "\n",
    "This chapter aims to introduce you to the **for-loop**, which is the most commonly used loop.\n",
    "\n",
    "**At the end of this chapter, you will be able to:**\n",
    "* loop over a list\n",
    "* loop over a set\n",
    "* loop over a string\n",
    "* work with a new data structure: tuples\n",
    "* use two slightly more advanced concepts:\n",
    "    * break\n",
    "    * continue\n",
    "    \n",
    "**If you want to learn more about these topics, you might find the following links useful:**\n",
    "* [Loop like a native](https://www.youtube.com/watch?v=EnSu9hHGq5o): really good video "
   ]
  },
  {
   "cell_type": "markdown",
   "metadata": {},
   "source": [
    "If you have **questions** about this chapter, please contact us **(cltl.python.course@gmail.com)**."
   ]
  },
  {
   "cell_type": "markdown",
   "metadata": {},
   "source": [
    "## 1. Looping over a list\n",
    "Let's look at an example using a **for-loop** over a list."
   ]
  },
  {
   "cell_type": "code",
   "execution_count": 1,
   "metadata": {},
   "outputs": [
    {
     "name": "stdout",
     "output_type": "stream",
     "text": [
      "1\n",
      "2\n",
      "3\n"
     ]
    }
   ],
   "source": [
    "for number in [1,2,3]:\n",
    "    print(number)"
   ]
  },
  {
   "cell_type": "markdown",
   "metadata": {},
   "source": [
    "This loop prints the numbers 1, 2, and 3, each on a new line. The variable name **number** is just something I have chosen. It could have been anything, even something like **sugar_bunny**. But **number** is nice and descriptive. \n",
    "\n",
    "OK, so how does the loop work?\n",
    "\n",
    "* The Python interpreter starts by checking whether there's anything to iterate over. If the list is empty, it just passes over the for-loop and does nothing.\n",
    "* Then, the first value in the iterable (in this case a list) gets assigned to the variable **number**.\n",
    "* Following this, we enter a **for-loop context**, indicated by the indentation (four spaces preceding the print function). This **for-loop context** can be as big as you want. All Python cares about is those four spaces. Everything that is indented is part of the **for-loop context**.\n",
    "* Then, Python carries out all the operations in the **for-loop context**. In this case, this is just **print(number)**. Because number refers to the first element of the list, it prints 1.\n",
    "* Once all operations in the **for-loop context** have been carried out, the interpreter checks if there are any more elements in the list. If so, the next value (in this case 2) gets assigned to the variable **number**.\n",
    "* Then, we move to step 3 again: enter the **for-loop context**, carry out all the operations, and check if there's another element in the list, and so on, until there are no more elements left."
   ]
  },
  {
   "cell_type": "markdown",
   "metadata": {},
   "source": [
    "Please note that if a container (in this case a list) is empty, we will not print anything."
   ]
  },
  {
   "cell_type": "code",
   "execution_count": 2,
   "metadata": {},
   "outputs": [],
   "source": [
    "for number in []:\n",
    "    print(number)"
   ]
  },
  {
   "cell_type": "markdown",
   "metadata": {},
   "source": [
    "Loops work extremely well with **if-statements**"
   ]
  },
  {
   "cell_type": "code",
   "execution_count": 3,
   "metadata": {},
   "outputs": [
    {
     "name": "stdout",
     "output_type": "stream",
     "text": [
      "Python does not start with the letter r\n",
      "is does not start with the letter r\n",
      "really startswith the letter r\n",
      "nice does not start with the letter r\n",
      "right? startswith the letter r\n"
     ]
    }
   ],
   "source": [
    "for item in ['Python', 'is', 'really', 'nice', 'right?']:\n",
    "    if item.startswith('r'):\n",
    "        print(item, 'startswith the letter r')\n",
    "    else:\n",
    "        print(item, 'does not start with the letter r')"
   ]
  },
  {
   "cell_type": "markdown",
   "metadata": {},
   "source": [
    "### Tip: \n",
    "\n",
    "You can reverse the order of a list by using list.reverse() or list[::-1]:"
   ]
  },
  {
   "cell_type": "code",
   "execution_count": 4,
   "metadata": {
    "scrolled": true
   },
   "outputs": [
    {
     "name": "stdout",
     "output_type": "stream",
     "text": [
      "4\n",
      "3\n",
      "2\n",
      "1\n"
     ]
    }
   ],
   "source": [
    "a_list = [1,2,3,4]\n",
    "a_list.reverse()\n",
    "\n",
    "for item in a_list:\n",
    "    print(item)"
   ]
  },
  {
   "cell_type": "code",
   "execution_count": 5,
   "metadata": {},
   "outputs": [
    {
     "name": "stdout",
     "output_type": "stream",
     "text": [
      "4\n",
      "3\n",
      "2\n",
      "1\n"
     ]
    }
   ],
   "source": [
    "a_list = [1,2,3,4]\n",
    "\n",
    "for item in a_list[::-1]:\n",
    "    print(item)"
   ]
  },
  {
   "cell_type": "markdown",
   "metadata": {},
   "source": [
    "## 2. Looping over a set\n",
    "It is also possible to loop over a set"
   ]
  },
  {
   "cell_type": "code",
   "execution_count": 6,
   "metadata": {},
   "outputs": [
    {
     "name": "stdout",
     "output_type": "stream",
     "text": [
      "are\n",
      "unordered\n",
      "sets\n"
     ]
    }
   ],
   "source": [
    "a_set = {'sets', 'are', 'unordered'}\n",
    "for item in a_set:\n",
    "    print(item)"
   ]
  },
  {
   "cell_type": "markdown",
   "metadata": {},
   "source": [
    "## 3. Looping over a string\n",
    "Although you might not expect this, you can actually loop over a string. You will not want to use this very often, but note that it is possible. You may encounter it later on, when you do it accidentally (instead of looping over a list). "
   ]
  },
  {
   "cell_type": "code",
   "execution_count": 7,
   "metadata": {},
   "outputs": [
    {
     "name": "stdout",
     "output_type": "stream",
     "text": [
      "h\n",
      "i\n",
      "p\n",
      "p\n",
      "o\n",
      "p\n",
      "o\n",
      "t\n",
      "a\n",
      "m\n",
      "u\n",
      "s\n"
     ]
    }
   ],
   "source": [
    "word = \"hippopotamus\"\n",
    "\n",
    "for letter in word:\n",
    "    print(letter)\n",
    "    "
   ]
  },
  {
   "cell_type": "code",
   "execution_count": 9,
   "metadata": {},
   "outputs": [
    {
     "name": "stdout",
     "output_type": "stream",
     "text": [
      "Python\n",
      "can\n",
      "be\n",
      "confusing!\n"
     ]
    }
   ],
   "source": [
    "# a more advanced example...\n",
    "\n",
    "text = 'Python can be confusing!'\n",
    "words = text.split()\n",
    "\n",
    "# something went wrong here - can you fix it?\n",
    "for word in words:\n",
    "    print(word)"
   ]
  },
  {
   "cell_type": "markdown",
   "metadata": {},
   "source": [
    "## 4. Tuples"
   ]
  },
  {
   "cell_type": "markdown",
   "metadata": {},
   "source": [
    "One data structure (a new one!) is very frequently used with for loops. This data structure is a tuple. It's very simple to create a tuple."
   ]
  },
  {
   "cell_type": "code",
   "execution_count": 10,
   "metadata": {},
   "outputs": [
    {
     "name": "stdout",
     "output_type": "stream",
     "text": [
      "(1, 'a', 2)\n"
     ]
    }
   ],
   "source": [
    "a_tuple = (1, 'a', 2)\n",
    "print(a_tuple)"
   ]
  },
  {
   "cell_type": "markdown",
   "metadata": {},
   "source": [
    "* a tuple is defined in the same way as a list, except that the whole set of elements is enclosed in parentheses instead of square brackets.\n",
    "* the elements of a tuple have a defined order, just like a list.\n",
    "* tuples can contain **immutable** objects.\n",
    "* tuples can contain **mutable** objects, but we would advise you not to use sets and lists in tuples\n",
    "* items cannot be added or removed (with some exceptions which are not important here)\n",
    "* a tuple can be empty\n",
    "* tuples have two methods: **index** and **count**\n",
    "\n",
    "**Important for use**\n",
    "* you can unpack tuples\n",
    "* tuples are often used with for-loops"
   ]
  },
  {
   "cell_type": "code",
   "execution_count": 11,
   "metadata": {},
   "outputs": [
    {
     "name": "stdout",
     "output_type": "stream",
     "text": [
      "Help on class tuple in module builtins:\n",
      "\n",
      "class tuple(object)\n",
      " |  tuple(iterable=(), /)\n",
      " |  \n",
      " |  Built-in immutable sequence.\n",
      " |  \n",
      " |  If no argument is given, the constructor returns an empty tuple.\n",
      " |  If iterable is specified the tuple is initialized from iterable's items.\n",
      " |  \n",
      " |  If the argument is a tuple, the return value is the same object.\n",
      " |  \n",
      " |  Built-in subclasses:\n",
      " |      asyncgen_hooks\n",
      " |      UnraisableHookArgs\n",
      " |  \n",
      " |  Methods defined here:\n",
      " |  \n",
      " |  __add__(self, value, /)\n",
      " |      Return self+value.\n",
      " |  \n",
      " |  __contains__(self, key, /)\n",
      " |      Return key in self.\n",
      " |  \n",
      " |  __eq__(self, value, /)\n",
      " |      Return self==value.\n",
      " |  \n",
      " |  __ge__(self, value, /)\n",
      " |      Return self>=value.\n",
      " |  \n",
      " |  __getattribute__(self, name, /)\n",
      " |      Return getattr(self, name).\n",
      " |  \n",
      " |  __getitem__(self, key, /)\n",
      " |      Return self[key].\n",
      " |  \n",
      " |  __getnewargs__(self, /)\n",
      " |  \n",
      " |  __gt__(self, value, /)\n",
      " |      Return self>value.\n",
      " |  \n",
      " |  __hash__(self, /)\n",
      " |      Return hash(self).\n",
      " |  \n",
      " |  __iter__(self, /)\n",
      " |      Implement iter(self).\n",
      " |  \n",
      " |  __le__(self, value, /)\n",
      " |      Return self<=value.\n",
      " |  \n",
      " |  __len__(self, /)\n",
      " |      Return len(self).\n",
      " |  \n",
      " |  __lt__(self, value, /)\n",
      " |      Return self<value.\n",
      " |  \n",
      " |  __mul__(self, value, /)\n",
      " |      Return self*value.\n",
      " |  \n",
      " |  __ne__(self, value, /)\n",
      " |      Return self!=value.\n",
      " |  \n",
      " |  __repr__(self, /)\n",
      " |      Return repr(self).\n",
      " |  \n",
      " |  __rmul__(self, value, /)\n",
      " |      Return value*self.\n",
      " |  \n",
      " |  count(self, value, /)\n",
      " |      Return number of occurrences of value.\n",
      " |  \n",
      " |  index(self, value, start=0, stop=9223372036854775807, /)\n",
      " |      Return first index of value.\n",
      " |      \n",
      " |      Raises ValueError if the value is not present.\n",
      " |  \n",
      " |  ----------------------------------------------------------------------\n",
      " |  Class methods defined here:\n",
      " |  \n",
      " |  __class_getitem__(...) from builtins.type\n",
      " |      See PEP 585\n",
      " |  \n",
      " |  ----------------------------------------------------------------------\n",
      " |  Static methods defined here:\n",
      " |  \n",
      " |  __new__(*args, **kwargs) from builtins.type\n",
      " |      Create and return a new object.  See help(type) for accurate signature.\n",
      "\n"
     ]
    }
   ],
   "source": [
    "help(tuple)"
   ]
  },
  {
   "cell_type": "markdown",
   "metadata": {},
   "source": [
    "A tuple can be empty. You can use **()** or **tuple()**:"
   ]
  },
  {
   "cell_type": "code",
   "execution_count": 12,
   "metadata": {},
   "outputs": [
    {
     "name": "stdout",
     "output_type": "stream",
     "text": [
      "()\n"
     ]
    }
   ],
   "source": [
    "an_empty_tuple = ()\n",
    "print(an_empty_tuple)"
   ]
  },
  {
   "cell_type": "code",
   "execution_count": 13,
   "metadata": {},
   "outputs": [
    {
     "name": "stdout",
     "output_type": "stream",
     "text": [
      "()\n"
     ]
    }
   ],
   "source": [
    "another_empty_tuple = tuple()\n",
    "print(another_empty_tuple)"
   ]
  },
  {
   "cell_type": "markdown",
   "metadata": {},
   "source": [
    "## 5. Unpacking variables\n",
    "\n",
    "It's possible to **unpack** tuples to separate variables"
   ]
  },
  {
   "cell_type": "code",
   "execution_count": 14,
   "metadata": {},
   "outputs": [
    {
     "name": "stdout",
     "output_type": "stream",
     "text": [
      "1\n",
      "a\n",
      "2\n"
     ]
    }
   ],
   "source": [
    "a_tuple = (1, 'a', 2)\n",
    "first_el, second_el, third_el = a_tuple\n",
    "print(first_el)\n",
    "print(second_el)\n",
    "print(third_el)"
   ]
  },
  {
   "cell_type": "markdown",
   "metadata": {},
   "source": [
    "### 5.1 Using tuples in a for-loop\n",
    "\n",
    "In addition, **tuples are often used with for-loops**. When working with Python, it's quite common that you end up with data structures like the following example:"
   ]
  },
  {
   "cell_type": "code",
   "execution_count": 15,
   "metadata": {},
   "outputs": [],
   "source": [
    "language_data = [('the', 'determiner'),\n",
    "                 ('house', 'noun'),\n",
    "                 ('is', 'verb'),\n",
    "                 ('big', 'adjective')]"
   ]
  },
  {
   "cell_type": "markdown",
   "metadata": {},
   "source": [
    "Usually, you would like to loop through such an example. One way of doing that is the following:"
   ]
  },
  {
   "cell_type": "code",
   "execution_count": 16,
   "metadata": {},
   "outputs": [
    {
     "name": "stdout",
     "output_type": "stream",
     "text": [
      "the determiner\n",
      "house noun\n",
      "is verb\n",
      "big adjective\n"
     ]
    }
   ],
   "source": [
    "for item in language_data:\n",
    "    print(item[0], item[1])"
   ]
  },
  {
   "cell_type": "markdown",
   "metadata": {},
   "source": [
    "However, we can unpack the tuple **within** the for-loop to make it more readable:"
   ]
  },
  {
   "cell_type": "code",
   "execution_count": 17,
   "metadata": {},
   "outputs": [
    {
     "name": "stdout",
     "output_type": "stream",
     "text": [
      "the determiner\n",
      "house noun\n",
      "is verb\n",
      "big adjective\n"
     ]
    }
   ],
   "source": [
    "for word, part_of_speech in language_data:\n",
    "    print(word, part_of_speech)"
   ]
  },
  {
   "cell_type": "markdown",
   "metadata": {},
   "source": [
    "**Note about unpacking**\n",
    "\n",
    "Unpacking is an operation that can also be used with other containers, for instance, with lists:"
   ]
  },
  {
   "cell_type": "code",
   "execution_count": 18,
   "metadata": {},
   "outputs": [
    {
     "name": "stdout",
     "output_type": "stream",
     "text": [
      "1\n",
      "2\n",
      "3\n"
     ]
    }
   ],
   "source": [
    "a_list = [1,2,3]\n",
    "first_el, second_el, third_el = a_list\n",
    "print(first_el)\n",
    "print(second_el)\n",
    "print(third_el)"
   ]
  },
  {
   "cell_type": "markdown",
   "metadata": {},
   "source": [
    "## 6. Continue and break"
   ]
  },
  {
   "cell_type": "markdown",
   "metadata": {},
   "source": [
    "**break**\n",
    "\n",
    "The break statement lets us escape a loop."
   ]
  },
  {
   "cell_type": "code",
   "execution_count": 19,
   "metadata": {},
   "outputs": [
    {
     "name": "stdout",
     "output_type": "stream",
     "text": [
      "h\n",
      "i\n",
      "p\n",
      "p\n",
      "o\n"
     ]
    }
   ],
   "source": [
    "word = \"hippopotamus\"\n",
    "\n",
    "for letter in word:\n",
    "    print(letter)\n",
    "    if letter ==\"o\":\n",
    "        break"
   ]
  },
  {
   "cell_type": "markdown",
   "metadata": {},
   "source": [
    "**continue**\n",
    "\n",
    "The continue statement ends the current iteration and jumps to the top of the loop and starts the next iteration."
   ]
  },
  {
   "cell_type": "code",
   "execution_count": 20,
   "metadata": {},
   "outputs": [
    {
     "name": "stdout",
     "output_type": "stream",
     "text": [
      "h\n",
      "i\n",
      "p\n",
      "p\n",
      "p\n",
      "t\n",
      "a\n",
      "m\n",
      "u\n",
      "s\n"
     ]
    }
   ],
   "source": [
    "word = \"hippopotamus\"\n",
    "\n",
    "for letter in word:\n",
    "    if letter ==\"o\":\n",
    "        continue\n",
    "    print(letter)"
   ]
  },
  {
   "cell_type": "markdown",
   "metadata": {},
   "source": [
    "In the two examples above, not all letters in the word 'hippopotamus' are printed. Both break and continue teleport you to another part of the code. break teleports out of the loop, continue teleports you to the next iteration of the loop.\n",
    "\n",
    "Note: break jumps out of the loop in which it is contained. If you have a *break* inside a loop inside another loop (i.e., nested loops), it only jumps out of the first loop. See below:"
   ]
  },
  {
   "cell_type": "code",
   "execution_count": 21,
   "metadata": {},
   "outputs": [
    {
     "name": "stdout",
     "output_type": "stream",
     "text": [
      "h\n",
      "i\n",
      "p\n",
      "c\n",
      "a\n",
      "t\n",
      "e\n",
      "r\n",
      "p\n",
      "e\n",
      "l\n",
      "e\n",
      "p\n"
     ]
    }
   ],
   "source": [
    "words = [\"hippopotamus\", \"caterpillar\", \"elephant\"]\n",
    "\n",
    "for word in words:\n",
    "    for letter in word:\n",
    "        print(letter)\n",
    "        if letter ==\"p\":\n",
    "            break"
   ]
  },
  {
   "cell_type": "markdown",
   "metadata": {},
   "source": [
    "## Exercises"
   ]
  },
  {
   "cell_type": "markdown",
   "metadata": {},
   "source": [
    "### Exercise 1:\n",
    "\n",
    "Use a loop to print each word in the list in a new line (i.e. only use a single print statement and do not use '\\n' to start a new line)."
   ]
  },
  {
   "cell_type": "code",
   "execution_count": 23,
   "metadata": {},
   "outputs": [
    {
     "name": "stdout",
     "output_type": "stream",
     "text": [
      "Now\n",
      "I\n",
      "know\n",
      "a\n",
      "lot\n",
      "about\n",
      "looping\n"
     ]
    }
   ],
   "source": [
    "sentence = 'Now I know a lot about looping'\n",
    "word_list = sentence.split()\n",
    "\n",
    "# your code here\n",
    "for word in word_list:\n",
    "    print(word)"
   ]
  },
  {
   "cell_type": "markdown",
   "metadata": {},
   "source": [
    "### Exercise 2:\n",
    "\n",
    "We have a collection of numbers and want to know how many unique numbers we have. Then we want to print each of them on a single line using a single print statment and not using '\\n' to stat a new line. "
   ]
  },
  {
   "cell_type": "code",
   "execution_count": 24,
   "metadata": {},
   "outputs": [
    {
     "name": "stdout",
     "output_type": "stream",
     "text": [
      "1\n",
      "2\n",
      "3\n",
      "37\n",
      "50\n",
      "57\n",
      "58\n",
      "60\n"
     ]
    }
   ],
   "source": [
    "number_collection = [1,2,2,3,50, 50, 60, 57, 58, 3, 37, 37]\n",
    "unique_number = set(number_collection)\n",
    "\n",
    "# print each number on a single line\n",
    "# your code here\n",
    "for number in unique_number:\n",
    "    print(number)"
   ]
  },
  {
   "cell_type": "markdown",
   "metadata": {},
   "source": [
    "### Exercise 3:\n",
    "    \n",
    "Why might unpacking lists in this way sometimes be a bad idea? \n",
    "Hint: Think of mutability and consider the code below.\n"
   ]
  },
  {
   "cell_type": "code",
   "execution_count": 25,
   "metadata": {},
   "outputs": [
    {
     "name": "stdout",
     "output_type": "stream",
     "text": [
      "1\n",
      "2\n",
      "3\n"
     ]
    },
    {
     "ename": "ValueError",
     "evalue": "too many values to unpack (expected 3)",
     "output_type": "error",
     "traceback": [
      "\u001b[0;31m---------------------------------------------------------------------------\u001b[0m",
      "\u001b[0;31mValueError\u001b[0m                                Traceback (most recent call last)",
      "Cell \u001b[0;32mIn[25], line 8\u001b[0m\n\u001b[1;32m      5\u001b[0m \u001b[38;5;28mprint\u001b[39m(third_el)\n\u001b[1;32m      7\u001b[0m a_list\u001b[38;5;241m.\u001b[39mappend(\u001b[38;5;241m5\u001b[39m)\n\u001b[0;32m----> 8\u001b[0m first_el, second_el, third_el \u001b[38;5;241m=\u001b[39m a_list\n\u001b[1;32m      9\u001b[0m \u001b[38;5;28mprint\u001b[39m(first_el)\n\u001b[1;32m     10\u001b[0m \u001b[38;5;28mprint\u001b[39m(second_el)\n",
      "\u001b[0;31mValueError\u001b[0m: too many values to unpack (expected 3)"
     ]
    }
   ],
   "source": [
    "a_list = [1,2,3]\n",
    "first_el, second_el, third_el = a_list\n",
    "print(first_el)\n",
    "print(second_el)\n",
    "print(third_el)\n",
    "\n",
    "a_list.append(5)\n",
    "first_el, second_el, third_el = a_list\n",
    "print(first_el)\n",
    "print(second_el)\n",
    "print(third_el)"
   ]
  },
  {
   "cell_type": "code",
   "execution_count": 26,
   "metadata": {},
   "outputs": [],
   "source": [
    "# Because lists are mutable and can be changed after unpacking. This can result in unexpecting behaviour."
   ]
  },
  {
   "cell_type": "markdown",
   "metadata": {},
   "source": [
    "### Exercise 4:\n",
    "    \n",
    "You could even do this with a set. However, not a good idea either? Why? Hint: Think about order. "
   ]
  },
  {
   "cell_type": "code",
   "execution_count": 28,
   "metadata": {},
   "outputs": [
    {
     "name": "stdout",
     "output_type": "stream",
     "text": [
      "1\n",
      "2\n",
      "3\n"
     ]
    }
   ],
   "source": [
    "a_set = {3,2,1}\n",
    "first_el, second_el, third_el = a_set\n",
    "print(first_el)\n",
    "print(second_el)\n",
    "print(third_el)\n"
   ]
  },
  {
   "cell_type": "code",
   "execution_count": 29,
   "metadata": {},
   "outputs": [],
   "source": [
    "# Since sets are unordered the order in the sets are not guaranteed to be consistent. "
   ]
  },
  {
   "cell_type": "markdown",
   "metadata": {},
   "source": [
    "### Exercise 5:\n",
    "\n",
    "Use a loop to print the words contained in the list below, but use a **break** statement to make the loop stop after word 'really'"
   ]
  },
  {
   "cell_type": "code",
   "execution_count": 30,
   "metadata": {},
   "outputs": [
    {
     "name": "stdout",
     "output_type": "stream",
     "text": [
      "Python\n",
      "is\n",
      "really\n"
     ]
    }
   ],
   "source": [
    "words = ['Python', 'is', 'really', 'nice', 'right?']\n",
    "\n",
    "for word in words:\n",
    "    print(word)\n",
    "    if word == \"really\":\n",
    "        break"
   ]
  },
  {
   "cell_type": "markdown",
   "metadata": {},
   "source": [
    "Use a loop to print the words contained in the list below, but use a **continue** statement to make sure that words that start with the letter 'r' are not printed"
   ]
  },
  {
   "cell_type": "code",
   "execution_count": 31,
   "metadata": {},
   "outputs": [
    {
     "name": "stdout",
     "output_type": "stream",
     "text": [
      "Python\n",
      "is\n",
      "nice\n"
     ]
    }
   ],
   "source": [
    "words = ['Python', 'is', 'really', 'nice', 'right?']\n",
    "\n",
    "for word in words:\n",
    "    if word[0] == \"r\":\n",
    "        continue\n",
    "    print(word)"
   ]
  },
  {
   "cell_type": "code",
   "execution_count": 32,
   "metadata": {},
   "outputs": [],
   "source": [
    "# done"
   ]
  }
 ],
 "metadata": {
  "kernelspec": {
   "display_name": "Python 3 (ipykernel)",
   "language": "python",
   "name": "python3"
  },
  "language_info": {
   "codemirror_mode": {
    "name": "ipython",
    "version": 3
   },
   "file_extension": ".py",
   "mimetype": "text/x-python",
   "name": "python",
   "nbconvert_exporter": "python",
   "pygments_lexer": "ipython3",
   "version": "3.10.12"
  }
 },
 "nbformat": 4,
 "nbformat_minor": 4
}
