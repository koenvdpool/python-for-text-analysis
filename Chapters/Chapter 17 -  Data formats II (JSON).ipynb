{
 "cells": [
  {
   "cell_type": "markdown",
   "metadata": {},
   "source": [
    "# Chapter 17: Data formats (JSON)\n",
    "\n",
    "Let's have a look at another data format: JSON (JavaScript Object Notation). JSON is a lightweight data-interchange format that is easy for humans to read and write, and easy for machines to parse and generate. There is a good chance that at some point you will be gathering information through an API that is formatted in JSON (e.g. Twitter data). \n",
    "\n",
    "\n",
    "### At the end of this chapter, you will be able to:\n",
    "\n",
    "* read and write JSON dictionary files\n",
    "* deal with multiple layers of nesting within JSON dictionary structures\n",
    "\n",
    "### If you want to learn more about these topics, you might find the following links useful:\n",
    "* [Video: Working With JSON](https://www.youtube.com/watch?v=Kf0q4Tf5M3c)\n",
    "* [Tutorial: Working With JSON Data in Python](https://realpython.com/python-json/)\n",
    "\n",
    "If you have **questions** about this chapter, please contact us at cltl.python.course@gmail.com."
   ]
  },
  {
   "cell_type": "markdown",
   "metadata": {},
   "source": [
    "## 1. Introduction to JSON\n",
    "\n",
    "JSON is completely language independent. However, data formatted in JSON works just like a Python dictionary! \n",
    "\n",
    "![box](./images/python_json_conversion_table.png)\n",
    "\n",
    "\n",
    "We will show how JSON looks like and how to deal with JSON in Python with the example dictionary shown below. "
   ]
  },
  {
   "cell_type": "code",
   "execution_count": 1,
   "metadata": {},
   "outputs": [],
   "source": [
    "dict_doe_family = {     \n",
    "    \"John\": {\n",
    "        \"first name\": \"John\", \n",
    "        \"last name\": \"Doe\", \n",
    "        \"gender\": \"male\", \n",
    "        \"age\": 30, \n",
    "        \"favorite_animal\": \"panda\",\n",
    "        \"married\": True,\n",
    "        \"children\": [\"James\", \"Jennifer\"],\n",
    "        \"hobbies\": [\"photography\", \"sky diving\", \"reading\"]},\n",
    "    \"Jane\": {\n",
    "        \"first name\": \"Jane\", \n",
    "        \"last name\": \"Doe\", \n",
    "        \"gender\": \"female\", \n",
    "        \"age\": 27, \n",
    "        \"favorite_animal\": \"zebra\",\n",
    "        \"married\": False,\n",
    "        \"children\": None,\n",
    "        \"hobbies\": [\"cooking\", \"gaming\", \"tennis\"]}}"
   ]
  },
  {
   "cell_type": "markdown",
   "metadata": {},
   "source": [
    "You can inspect any of the JSON files that we will generate or load below using a text editor (e.g. [Atom](https://atom.io/), [BBEdit](https://www.barebones.com/products/bbedit/download.html) or [Notepad++](https://notepad-plus-plus.org))."
   ]
  },
  {
   "cell_type": "markdown",
   "metadata": {},
   "source": [
    "## 2. Working with JSON in Python\n",
    "\n",
    "You could read in a JSON file just like any other text file:"
   ]
  },
  {
   "cell_type": "code",
   "execution_count": 2,
   "metadata": {},
   "outputs": [
    {
     "name": "stdout",
     "output_type": "stream",
     "text": [
      "{\n",
      "    \"fruit\": \"Apple\",\n",
      "    \"size\": \"Large\",\n",
      "    \"color\": \"Red\"\n",
      "}\n",
      "\n"
     ]
    }
   ],
   "source": [
    "with open('../Data/json_data/fruits.json') as infile:\n",
    "    text = infile.read()\n",
    "print(text)"
   ]
  },
  {
   "cell_type": "markdown",
   "metadata": {},
   "source": [
    "However, since it is structured to correspond well to Python objects, we use an existing mudule, the [**json**](https://docs.python.org/3/library/json.html) library, which provides an easy way to encode and decode data in JSON.  Let's first import it:"
   ]
  },
  {
   "cell_type": "code",
   "execution_count": 3,
   "metadata": {},
   "outputs": [],
   "source": [
    "import json"
   ]
  },
  {
   "cell_type": "markdown",
   "metadata": {},
   "source": [
    "We will focus on the following methods:\n",
    "* **to read JSON**: the methods `json.load()` and `json.loads()`\n",
    "* **to write JSON**: the methods `json.dump()` and `json.dumps()`\n",
    "\n",
    "The functions with an **s** take string arguments."
   ]
  },
  {
   "cell_type": "markdown",
   "metadata": {},
   "source": [
    "### 2.1 Loading JSON from file or string\n",
    "The `load()` method is used to load a JSON encoded file as a Python dictionary:"
   ]
  },
  {
   "cell_type": "code",
   "execution_count": 4,
   "metadata": {},
   "outputs": [
    {
     "name": "stdout",
     "output_type": "stream",
     "text": [
      "<class 'dict'>\n",
      "{'Jane': {'age': 27, 'children': None, 'favorite_animal': 'zebra', 'first name': 'Jane', 'gender': 'female', 'hobbies': ['cooking', 'gaming', 'tennis'], 'last name': 'Doe', 'married': False}, 'John': {'age': 30, 'children': ['James', 'Jennifer'], 'favorite_animal': 'panda', 'first name': 'John', 'gender': 'male', 'hobbies': ['photography', 'sky diving', 'reading'], 'last name': 'Doe', 'married': True}}\n"
     ]
    }
   ],
   "source": [
    "# open file just as you would open a txt file\n",
    "with open(\"../Data/json_data/Doe.json\", \"r\") as infile:\n",
    "    # read in file content as dict using the json module\n",
    "    dict_doe_family = json.load(infile)\n",
    "    print(type(dict_doe_family))\n",
    "    print(dict_doe_family)"
   ]
  },
  {
   "cell_type": "markdown",
   "metadata": {},
   "source": [
    "The `loads()` method is used to load a JSON formatted string as a Python dictionary. This is useful if you want to create a json dictionary from a string. There are not many situations in which you will have to use it. You may come accross json structures stored as strings in when working with corpora or collecting human annotations with annotation software. \n"
   ]
  },
  {
   "cell_type": "code",
   "execution_count": 5,
   "metadata": {},
   "outputs": [
    {
     "name": "stdout",
     "output_type": "stream",
     "text": [
      "<class 'dict'>\n",
      "{'Jane': {'age': 27, 'children': None, 'favorite_animal': 'zebra', 'first name': 'Jane', 'gender': 'female', 'hobbies': ['cooking', 'gaming', 'tennis'], 'last name': 'Doe', 'married': False}, 'John': {'age': 30, 'children': ['James', 'Jennifer'], 'favorite_animal': 'panda', 'first name': 'John', 'gender': 'male', 'hobbies': ['photography', 'sky diving', 'reading'], 'last name': 'Doe', 'married': True}}\n"
     ]
    }
   ],
   "source": [
    "str_doe_family = \"\"\"\n",
    "{\n",
    "    \"Jane\": {\n",
    "        \"age\": 27,\n",
    "        \"children\": null,\n",
    "        \"favorite_animal\": \"zebra\",\n",
    "        \"first name\": \"Jane\",\n",
    "        \"gender\": \"female\",\n",
    "        \"hobbies\": [\n",
    "            \"cooking\",\n",
    "            \"gaming\",\n",
    "            \"tennis\"\n",
    "        ],\n",
    "        \"last name\": \"Doe\",\n",
    "        \"married\": false\n",
    "    },\n",
    "    \"John\": {\n",
    "        \"age\": 30,\n",
    "        \"children\": [\n",
    "            \"James\",\n",
    "            \"Jennifer\"\n",
    "        ],\n",
    "        \"favorite_animal\": \"panda\",\n",
    "        \"first name\": \"John\",\n",
    "        \"gender\": \"male\",\n",
    "        \"hobbies\": [\n",
    "            \"photography\",\n",
    "            \"sky diving\",\n",
    "            \"reading\"\n",
    "        ],\n",
    "        \"last name\": \"Doe\",\n",
    "        \"married\": true\n",
    "    }\n",
    "}\n",
    "\"\"\"\n",
    "\n",
    "dict_doe_family = json.loads(str_doe_family)\n",
    "print(type(dict_doe_family))\n",
    "print(dict_doe_family)"
   ]
  },
  {
   "cell_type": "markdown",
   "metadata": {},
   "source": [
    "### 2.2 Writing JSON to file or string\n",
    "Let's first define our Python dictionary again:"
   ]
  },
  {
   "cell_type": "code",
   "execution_count": 6,
   "metadata": {},
   "outputs": [],
   "source": [
    "dict_doe_family = {     \n",
    "    \"John\": {\n",
    "        \"first name\": \"John\", \n",
    "        \"last name\": \"Doe\", \n",
    "        \"gender\": \"male\", \n",
    "        \"age\": 30, \n",
    "        \"favorite_animal\": \"panda\",\n",
    "        \"married\": True,\n",
    "        \"children\": [\"James\", \"Jennifer\"],\n",
    "        \"hobbies\": [\"photography\", \"sky diving\", \"reading\"]},\n",
    "    \"Jane\": {\n",
    "        \"first name\": \"Jane\", \n",
    "        \"last name\": \"Doe\", \n",
    "        \"gender\": \"female\", \n",
    "        \"age\": 27, \n",
    "        \"favorite_animal\": \"zebra\",\n",
    "        \"married\": False,\n",
    "        \"children\": None,\n",
    "        \"hobbies\": [\"cooking\", \"gaming\", \"tennis\"]}}"
   ]
  },
  {
   "cell_type": "markdown",
   "metadata": {},
   "source": [
    "The **`json.dump()`** method is used to write a Python dictionary to a JSON encoded file:"
   ]
  },
  {
   "cell_type": "code",
   "execution_count": 7,
   "metadata": {},
   "outputs": [],
   "source": [
    "with open(\"../Data/json_data/Doe.json\", \"w\") as outfile:\n",
    "     json.dump(dict_doe_family, outfile)"
   ]
  },
  {
   "cell_type": "markdown",
   "metadata": {},
   "source": [
    "The **`dumps()`** method is used to convert a Python dictionary to a JSON formatted string:"
   ]
  },
  {
   "cell_type": "code",
   "execution_count": 34,
   "metadata": {},
   "outputs": [
    {
     "name": "stdout",
     "output_type": "stream",
     "text": [
      "{\"John\": {\"first name\": \"John\", \"last name\": \"Doe\", \"gender\": \"male\", \"age\": 30, \"favorite_animal\": \"panda\", \"married\": true, \"children\": [\"James\", \"Jennifer\"], \"hobbies\": [\"photography\", \"sky diving\", \"reading\"]}, \"Jane\": {\"first name\": \"Jane\", \"last name\": \"Doe\", \"gender\": \"female\", \"age\": 27, \"favorite_animal\": \"zebra\", \"married\": false, \"children\": null, \"hobbies\": [\"cooking\", \"gaming\", \"tennis\"]}, \"Julia\": {\"first name\": \"Julia\", \"last name\": \"Doe\", \"age\": 29, \"favorite_animal\": \"penguin\", \"married\": false, \"children\": [\"Jack\"], \"hobbies\": [\"snowboarding\", \"hiking\"]}}\n",
      "<class 'str'>\n"
     ]
    }
   ],
   "source": [
    "str_doe_family = json.dumps(dict_doe_family)\n",
    "print(str_doe_family)\n",
    "print(type(str_doe_family))"
   ]
  },
  {
   "cell_type": "markdown",
   "metadata": {},
   "source": [
    "Both `dump()` and `dumps()` use the same keyword parameters. You can check them out with `help()`:\n",
    "\n",
    "**Hint**: There are ways of formating the dictionary nicely. Can you find out how it works from reading the documentation?"
   ]
  },
  {
   "cell_type": "code",
   "execution_count": 9,
   "metadata": {},
   "outputs": [
    {
     "name": "stdout",
     "output_type": "stream",
     "text": [
      "Help on function dumps in module json:\n",
      "\n",
      "dumps(obj, *, skipkeys=False, ensure_ascii=True, check_circular=True, allow_nan=True, cls=None, indent=None, separators=None, default=None, sort_keys=False, **kw)\n",
      "    Serialize ``obj`` to a JSON formatted ``str``.\n",
      "    \n",
      "    If ``skipkeys`` is true then ``dict`` keys that are not basic types\n",
      "    (``str``, ``int``, ``float``, ``bool``, ``None``) will be skipped\n",
      "    instead of raising a ``TypeError``.\n",
      "    \n",
      "    If ``ensure_ascii`` is false, then the return value can contain non-ASCII\n",
      "    characters if they appear in strings contained in ``obj``. Otherwise, all\n",
      "    such characters are escaped in JSON strings.\n",
      "    \n",
      "    If ``check_circular`` is false, then the circular reference check\n",
      "    for container types will be skipped and a circular reference will\n",
      "    result in an ``RecursionError`` (or worse).\n",
      "    \n",
      "    If ``allow_nan`` is false, then it will be a ``ValueError`` to\n",
      "    serialize out of range ``float`` values (``nan``, ``inf``, ``-inf``) in\n",
      "    strict compliance of the JSON specification, instead of using the\n",
      "    JavaScript equivalents (``NaN``, ``Infinity``, ``-Infinity``).\n",
      "    \n",
      "    If ``indent`` is a non-negative integer, then JSON array elements and\n",
      "    object members will be pretty-printed with that indent level. An indent\n",
      "    level of 0 will only insert newlines. ``None`` is the most compact\n",
      "    representation.\n",
      "    \n",
      "    If specified, ``separators`` should be an ``(item_separator, key_separator)``\n",
      "    tuple.  The default is ``(', ', ': ')`` if *indent* is ``None`` and\n",
      "    ``(',', ': ')`` otherwise.  To get the most compact JSON representation,\n",
      "    you should specify ``(',', ':')`` to eliminate whitespace.\n",
      "    \n",
      "    ``default(obj)`` is a function that should return a serializable version\n",
      "    of obj or raise TypeError. The default simply raises TypeError.\n",
      "    \n",
      "    If *sort_keys* is true (default: ``False``), then the output of\n",
      "    dictionaries will be sorted by key.\n",
      "    \n",
      "    To use a custom ``JSONEncoder`` subclass (e.g. one that overrides the\n",
      "    ``.default()`` method to serialize additional types), specify it with\n",
      "    the ``cls`` kwarg; otherwise ``JSONEncoder`` is used.\n",
      "\n"
     ]
    }
   ],
   "source": [
    "help(json.dumps)\n",
    "#help(json.dump)"
   ]
  },
  {
   "cell_type": "markdown",
   "metadata": {},
   "source": [
    "Two useful keyword arguments are for example `indent` and `sort_keys`. They are illustrated below:"
   ]
  },
  {
   "cell_type": "code",
   "execution_count": 10,
   "metadata": {},
   "outputs": [
    {
     "name": "stdout",
     "output_type": "stream",
     "text": [
      "{\n",
      "    \"Jane\": {\n",
      "        \"age\": 27,\n",
      "        \"children\": null,\n",
      "        \"favorite_animal\": \"zebra\",\n",
      "        \"first name\": \"Jane\",\n",
      "        \"gender\": \"female\",\n",
      "        \"hobbies\": [\n",
      "            \"cooking\",\n",
      "            \"gaming\",\n",
      "            \"tennis\"\n",
      "        ],\n",
      "        \"last name\": \"Doe\",\n",
      "        \"married\": false\n",
      "    },\n",
      "    \"John\": {\n",
      "        \"age\": 30,\n",
      "        \"children\": [\n",
      "            \"James\",\n",
      "            \"Jennifer\"\n",
      "        ],\n",
      "        \"favorite_animal\": \"panda\",\n",
      "        \"first name\": \"John\",\n",
      "        \"gender\": \"male\",\n",
      "        \"hobbies\": [\n",
      "            \"photography\",\n",
      "            \"sky diving\",\n",
      "            \"reading\"\n",
      "        ],\n",
      "        \"last name\": \"Doe\",\n",
      "        \"married\": true\n",
      "    }\n",
      "}\n"
     ]
    }
   ],
   "source": [
    "# Create the JSON file\n",
    "with open(\"../Data/json_data/Doe.json\", \"w\") as outfile:\n",
    "     json.dump(dict_doe_family, \n",
    "               outfile, \n",
    "               indent=4, \n",
    "               sort_keys=True)\n",
    "\n",
    "# Read in the JSON file again\n",
    "with open(\"../Data/json_data/Doe.json\", \"r\") as infile:\n",
    "    json_string = infile.read()\n",
    "    print(json_string)"
   ]
  },
  {
   "cell_type": "code",
   "execution_count": 14,
   "metadata": {},
   "outputs": [
    {
     "name": "stdout",
     "output_type": "stream",
     "text": [
      "{\n",
      "    \"Jane\": {\n",
      "        \"age\": 27,\n",
      "        \"children\": null,\n",
      "        \"favorite_animal\": \"zebra\",\n",
      "        \"first name\": \"Jane\",\n",
      "        \"gender\": \"female\",\n",
      "        \"hobbies\": [\n",
      "            \"cooking\",\n",
      "            \"gaming\",\n",
      "            \"tennis\"\n",
      "        ],\n",
      "        \"last name\": \"Doe\",\n",
      "        \"married\": false\n",
      "    },\n",
      "    \"John\": {\n",
      "        \"age\": 30,\n",
      "        \"children\": [\n",
      "            \"James\",\n",
      "            \"Jennifer\"\n",
      "        ],\n",
      "        \"favorite_animal\": \"panda\",\n",
      "        \"first name\": \"John\",\n",
      "        \"gender\": \"male\",\n",
      "        \"hobbies\": [\n",
      "            \"photography\",\n",
      "            \"sky diving\",\n",
      "            \"reading\"\n",
      "        ],\n",
      "        \"last name\": \"Doe\",\n",
      "        \"married\": true\n",
      "    }\n",
      "}\n"
     ]
    }
   ],
   "source": [
    "str_doe_family = json.dumps(dict_doe_family, \n",
    "                            indent=4, \n",
    "                            sort_keys=True)\n",
    "print(str_doe_family)"
   ]
  },
  {
   "cell_type": "markdown",
   "metadata": {},
   "source": [
    "## 3. Accessing data in a json dictionary\n",
    "\n",
    "Note that the values in this dictionary can be containers themselves: Each key has another dictionary as a value. The keys 'children' and 'hobbies' have lists as values. Note that we can look at such a dictionary in terms of **layers of nesting**.\n",
    "\n",
    "\n",
    "Consider the dict below. How many layers (i.e. containers within containers) can you identify?"
   ]
  },
  {
   "cell_type": "code",
   "execution_count": 15,
   "metadata": {},
   "outputs": [],
   "source": [
    "dict_doe_family = {     \n",
    "    \"John\": {\n",
    "        \"first name\": \"John\", \n",
    "        \"last name\": \"Doe\", \n",
    "        \"gender\": \"male\", \n",
    "        \"age\": 30, \n",
    "        \"favorite_animal\": \"panda\",\n",
    "        \"married\": True,\n",
    "        \"children\": [\"James\", \"Jennifer\"],\n",
    "        \"hobbies\": [\"photography\", \"sky diving\", \"reading\"]},\n",
    "    \"Jane\": {\n",
    "        \"first name\": \"Jane\", \n",
    "        \"last name\": \"Doe\", \n",
    "        \"gender\": \"female\", \n",
    "        \"age\": 27, \n",
    "        \"favorite_animal\": \"zebra\",\n",
    "        \"married\": False,\n",
    "        \"children\": None,\n",
    "        \"hobbies\": [\"cooking\", \"gaming\", \"tennis\"]}}"
   ]
  },
  {
   "cell_type": "markdown",
   "metadata": {},
   "source": [
    "Often, we will need to extract information from such a nested structure. To do this, it is helpful to remember what you have learned in Block II about containers and looping. \n",
    "\n",
    "Let's say we want to extract the hobbies of Doe family members. How could we approach this? There are various ways of working your way through the layers. \n",
    "\n",
    "For instance, you can use dictionary keys:"
   ]
  },
  {
   "cell_type": "code",
   "execution_count": 16,
   "metadata": {},
   "outputs": [
    {
     "name": "stdout",
     "output_type": "stream",
     "text": [
      "{'first name': 'John', 'last name': 'Doe', 'gender': 'male', 'age': 30, 'favorite_animal': 'panda', 'married': True, 'children': ['James', 'Jennifer'], 'hobbies': ['photography', 'sky diving', 'reading']}\n",
      "['photography', 'sky diving', 'reading']\n"
     ]
    }
   ],
   "source": [
    "# access information about John\n",
    "john_info = dict_doe_family['John']\n",
    "print(john_info)\n",
    "# access information about John's hobbies:\n",
    "john_hobbies = john_info['hobbies']\n",
    "print(john_hobbies)\n",
    "\n",
    "# You can also do this in one go:\n",
    "john_hobbies = dict_doe_family['John']['hobbies']\n"
   ]
  },
  {
   "cell_type": "markdown",
   "metadata": {},
   "source": [
    "Now let's extract the hobbies of all family members. Can you finish the code below?\n",
    "\n",
    "**Hint**: If you are confused about how to access elements in the structure, the type() function is your friend! If you are having a hard time remembering how to deal with the different containers, please have a look at the chapters about containers. Also, remember that you can always get a list of all methods of a container by using the dir() function (+ help() to see what they are doing). "
   ]
  },
  {
   "cell_type": "code",
   "execution_count": 17,
   "metadata": {},
   "outputs": [
    {
     "name": "stdout",
     "output_type": "stream",
     "text": [
      "John <class 'dict'>\n",
      "['photography', 'sky diving', 'reading']\n",
      "Jane <class 'dict'>\n",
      "['cooking', 'gaming', 'tennis']\n"
     ]
    }
   ],
   "source": [
    "# iterate over family dict by accessing \n",
    "#the family members (keys) and their information (values):\n",
    "\n",
    "all_hobbies = []\n",
    "for member, info_dict in dict_doe_family.items():\n",
    "    # check what we are accessing:\n",
    "    print(member, type(info_dict))\n",
    "    # access hobbies from info_dict\n",
    "    hobbies = info_dict['hobbies']\n",
    "    print(hobbies)\n",
    "    # your code here\n",
    "    "
   ]
  },
  {
   "cell_type": "markdown",
   "metadata": {},
   "source": [
    "## Exercises"
   ]
  },
  {
   "cell_type": "markdown",
   "metadata": {},
   "source": [
    "### Exercise 1:\n",
    "What is the difference between `str()` and `json.dumps()` to convert a Python dictionary to a string? Try it out below."
   ]
  },
  {
   "cell_type": "code",
   "execution_count": 18,
   "metadata": {},
   "outputs": [],
   "source": [
    "dict_doe_family = {     \n",
    "    \"John\": {\n",
    "        \"first name\": \"John\", \n",
    "        \"last name\": \"Doe\", \n",
    "        \"gender\": \"male\", \n",
    "        \"age\": 30, \n",
    "        \"favorite_animal\": \"panda\",\n",
    "        \"married\": True,\n",
    "        \"children\": [\"James\", \"Jennifer\"],\n",
    "        \"hobbies\": [\"photography\", \"sky diving\", \"reading\"]},\n",
    "    \"Jane\": {\n",
    "        \"first name\": \"Jane\", \n",
    "        \"last name\": \"Doe\", \n",
    "        \"gender\": \"female\", \n",
    "        \"age\": 27, \n",
    "        \"favorite_animal\": \"zebra\",\n",
    "        \"married\": False,\n",
    "        \"children\": None,\n",
    "        \"hobbies\": [\"cooking\", \"gaming\", \"tennis\"]}}"
   ]
  },
  {
   "cell_type": "code",
   "execution_count": 19,
   "metadata": {},
   "outputs": [
    {
     "name": "stdout",
     "output_type": "stream",
     "text": [
      "{\"John\": {\"first name\": \"John\", \"last name\": \"Doe\", \"gender\": \"male\", \"age\": 30, \"favorite_animal\": \"panda\", \"married\": true, \"children\": [\"James\", \"Jennifer\"], \"hobbies\": [\"photography\", \"sky diving\", \"reading\"]}, \"Jane\": {\"first name\": \"Jane\", \"last name\": \"Doe\", \"gender\": \"female\", \"age\": 27, \"favorite_animal\": \"zebra\", \"married\": false, \"children\": null, \"hobbies\": [\"cooking\", \"gaming\", \"tennis\"]}}\n"
     ]
    }
   ],
   "source": [
    "str_doe_family = json.dumps(dict_doe_family)\n",
    "print(str_doe_family)"
   ]
  },
  {
   "cell_type": "code",
   "execution_count": 20,
   "metadata": {},
   "outputs": [
    {
     "name": "stdout",
     "output_type": "stream",
     "text": [
      "{'John': {'first name': 'John', 'last name': 'Doe', 'gender': 'male', 'age': 30, 'favorite_animal': 'panda', 'married': True, 'children': ['James', 'Jennifer'], 'hobbies': ['photography', 'sky diving', 'reading']}, 'Jane': {'first name': 'Jane', 'last name': 'Doe', 'gender': 'female', 'age': 27, 'favorite_animal': 'zebra', 'married': False, 'children': None, 'hobbies': ['cooking', 'gaming', 'tennis']}}\n"
     ]
    }
   ],
   "source": [
    "str_doe_family = str(dict_doe_family)\n",
    "print(str_doe_family)"
   ]
  },
  {
   "cell_type": "markdown",
   "metadata": {},
   "source": [
    "### Exercise 2:\n",
    "Working with JSON data thus means working with dictionaries. Let's practice a bit more with accessing the values of dictionaries by printing the following:\n",
    "* all (parent) names\n",
    "* the age of Jane\n",
    "* the first hobby of John\n",
    "* the favorite animal of each person (use a for-loop)"
   ]
  },
  {
   "cell_type": "code",
   "execution_count": 28,
   "metadata": {},
   "outputs": [
    {
     "name": "stdout",
     "output_type": "stream",
     "text": [
      "male\n"
     ]
    }
   ],
   "source": [
    "# Example: This will print the gender of \"John\"\n",
    "print(dict_doe_family[\"John\"][\"gender\"])"
   ]
  },
  {
   "cell_type": "code",
   "execution_count": 22,
   "metadata": {},
   "outputs": [
    {
     "name": "stdout",
     "output_type": "stream",
     "text": [
      "John\n",
      "Jane\n"
     ]
    }
   ],
   "source": [
    "for person in dict_doe_family:\n",
    "    print(person)"
   ]
  },
  {
   "cell_type": "code",
   "execution_count": 23,
   "metadata": {},
   "outputs": [
    {
     "name": "stdout",
     "output_type": "stream",
     "text": [
      "27\n"
     ]
    }
   ],
   "source": [
    "print(dict_doe_family['Jane']['age'])"
   ]
  },
  {
   "cell_type": "code",
   "execution_count": 24,
   "metadata": {},
   "outputs": [
    {
     "name": "stdout",
     "output_type": "stream",
     "text": [
      "photography\n"
     ]
    }
   ],
   "source": [
    "print(dict_doe_family[\"John\"][\"hobbies\"][0])"
   ]
  },
  {
   "cell_type": "code",
   "execution_count": 29,
   "metadata": {},
   "outputs": [
    {
     "name": "stdout",
     "output_type": "stream",
     "text": [
      "panda\n",
      "zebra\n"
     ]
    }
   ],
   "source": [
    "for person in dict_doe_family:\n",
    "    print(dict_doe_family[person]['favorite_animal'])"
   ]
  },
  {
   "cell_type": "markdown",
   "metadata": {},
   "source": [
    "### Exercise 3:\n",
    "Please add the following entry to `dict_doe_family`. Write the result to a JSON file."
   ]
  },
  {
   "cell_type": "code",
   "execution_count": 35,
   "metadata": {},
   "outputs": [],
   "source": [
    "julia = {\"Julia\": {\"first name\": \"Julia\", \n",
    "                   \"last name\": \"Doe\",\n",
    "                   \"age\": 29, \n",
    "                   \"favorite_animal\": \"penguin\",\n",
    "                   \"married\": False,\n",
    "                   \"children\": [\"Jack\"],\n",
    "                   \"hobbies\": [\"snowboarding\", \"hiking\"]}}\n",
    "\n",
    "dict_doe_family.update(julia)\n",
    "\n",
    "\n",
    "with open(\"../Data/json_data/test_doe.json\", \"w\") as outfile:\n",
    "     json.dump(dict_doe_family, outfile)"
   ]
  },
  {
   "cell_type": "markdown",
   "metadata": {},
   "source": [
    "### Exercise 4:\n",
    "Let's have a look at another example. The JSON file `../Data/json_data/StrangerThings.json` contains information about episodes from the TV show Stranger Things. Read the file and store the dictionary as `tv_show`. "
   ]
  },
  {
   "cell_type": "code",
   "execution_count": 37,
   "metadata": {},
   "outputs": [],
   "source": [
    "with open(\"../Data/json_data/StrangerThings.json\", \"r\") as infile:\n",
    "    # read in file content as dict using the json module\n",
    "    tv_show = json.load(infile)"
   ]
  },
  {
   "cell_type": "markdown",
   "metadata": {},
   "source": [
    "To help you understand the structure a bit, first have a look at the following examples:"
   ]
  },
  {
   "cell_type": "code",
   "execution_count": 38,
   "metadata": {},
   "outputs": [
    {
     "name": "stdout",
     "output_type": "stream",
     "text": [
      "dict_keys(['id', 'url', 'name', 'type', 'language', 'genres', 'status', 'runtime', 'premiered', 'officialSite', 'schedule', 'rating', 'weight', 'network', 'webChannel', 'externals', 'image', 'summary', 'updated', '_links', '_embedded'])\n"
     ]
    }
   ],
   "source": [
    "print(tv_show.keys())\n"
   ]
  },
  {
   "cell_type": "code",
   "execution_count": 39,
   "metadata": {},
   "outputs": [
    {
     "name": "stdout",
     "output_type": "stream",
     "text": [
      "dict_keys(['episodes'])\n"
     ]
    }
   ],
   "source": [
    "print(tv_show[\"_embedded\"].keys())"
   ]
  },
  {
   "cell_type": "code",
   "execution_count": 40,
   "metadata": {},
   "outputs": [
    {
     "name": "stdout",
     "output_type": "stream",
     "text": [
      "[{'id': 553946, 'url': 'http://www.tvmaze.com/episodes/553946/stranger-things-1x01-chapter-one-the-vanishing-of-will-byers', 'name': 'Chapter One: The Vanishing of Will Byers', 'season': 1, 'number': 1, 'airdate': '2016-07-15', 'airtime': '', 'airstamp': '2016-07-15T12:00:00+00:00', 'runtime': 60, 'image': {'medium': 'http://static.tvmaze.com/uploads/images/medium_landscape/67/168918.jpg', 'original': 'http://static.tvmaze.com/uploads/images/original_untouched/67/168918.jpg'}, 'summary': \"<p>A young boy mysteriously disappears, and his panicked mother demands that the police find him. Meanwhile, the boy's friends conduct their own search, and meet a mysterious girl in the forest.</p>\", '_links': {'self': {'href': 'http://api.tvmaze.com/episodes/553946'}}}, {'id': 578663, 'url': 'http://www.tvmaze.com/episodes/578663/stranger-things-1x02-chapter-two-the-weirdo-on-maple-street', 'name': 'Chapter Two: The Weirdo on Maple Street', 'season': 1, 'number': 2, 'airdate': '2016-07-15', 'airtime': '', 'airstamp': '2016-07-15T12:00:00+00:00', 'runtime': 60, 'image': {'medium': 'http://static.tvmaze.com/uploads/images/medium_landscape/72/181376.jpg', 'original': 'http://static.tvmaze.com/uploads/images/original_untouched/72/181376.jpg'}, 'summary': '<p>While the search for the missing Will continues, Joyce tells Jim about a call she apparently received from her son. Meanwhile, Jane warns Mike that there are bad people after her, and he realizes that she knows what happened to Will.</p>', '_links': {'self': {'href': 'http://api.tvmaze.com/episodes/578663'}}}, {'id': 578664, 'url': 'http://www.tvmaze.com/episodes/578664/stranger-things-1x03-chapter-three-holly-jolly', 'name': 'Chapter Three: Holly, Jolly', 'season': 1, 'number': 3, 'airdate': '2016-07-15', 'airtime': '', 'airstamp': '2016-07-15T12:00:00+00:00', 'runtime': 60, 'image': {'medium': 'http://static.tvmaze.com/uploads/images/medium_landscape/67/168920.jpg', 'original': 'http://static.tvmaze.com/uploads/images/original_untouched/67/168920.jpg'}, 'summary': '<p>While Nancy looks for a missing Barbara and realizes that Jonathan may have been the last person to see her, Mike and his friends go out with Jane to find the missing Will. Meanwhile, Jim tracks Will to the lab.</p>', '_links': {'self': {'href': 'http://api.tvmaze.com/episodes/578664'}}}, {'id': 578665, 'url': 'http://www.tvmaze.com/episodes/578665/stranger-things-1x04-chapter-four-the-body', 'name': 'Chapter Four: The Body', 'season': 1, 'number': 4, 'airdate': '2016-07-15', 'airtime': '', 'airstamp': '2016-07-15T12:00:00+00:00', 'runtime': 60, 'image': {'medium': 'http://static.tvmaze.com/uploads/images/medium_landscape/67/168921.jpg', 'original': 'http://static.tvmaze.com/uploads/images/original_untouched/67/168921.jpg'}, 'summary': \"<p>Jim realizes that the government is covering something up about Will's death and begins a personal investigation. Meanwhile, Nancy discovers that Jonathan has information about Barbara's disappearance, while Mike and his friends smuggle Jane into the school so she can use the ham radio to contact Will.</p>\", '_links': {'self': {'href': 'http://api.tvmaze.com/episodes/578665'}}}, {'id': 578666, 'url': 'http://www.tvmaze.com/episodes/578666/stranger-things-1x05-chapter-five-the-flea-and-the-acrobat', 'name': 'Chapter Five: The Flea and the Acrobat', 'season': 1, 'number': 5, 'airdate': '2016-07-15', 'airtime': '', 'airstamp': '2016-07-15T12:00:00+00:00', 'runtime': 60, 'image': {'medium': 'http://static.tvmaze.com/uploads/images/medium_landscape/67/168922.jpg', 'original': 'http://static.tvmaze.com/uploads/images/original_untouched/67/168922.jpg'}, 'summary': '<p>Jim searches for Will at Hawkins Laboratory, but finds something unexpected. Meanwhile, Lonnie helps Joyce bury Will but reveals an ulterior motive for returning to town, while the boys find a way to locate Will but discover that Jane is opposing them.</p>', '_links': {'self': {'href': 'http://api.tvmaze.com/episodes/578666'}}}, {'id': 578667, 'url': 'http://www.tvmaze.com/episodes/578667/stranger-things-1x06-chapter-six-the-monster', 'name': 'Chapter Six: The Monster', 'season': 1, 'number': 6, 'airdate': '2016-07-15', 'airtime': '', 'airstamp': '2016-07-15T12:00:00+00:00', 'runtime': 60, 'image': {'medium': 'http://static.tvmaze.com/uploads/images/medium_landscape/67/168923.jpg', 'original': 'http://static.tvmaze.com/uploads/images/original_untouched/67/168923.jpg'}, 'summary': '<p>Jonathan manages to pull Nancy back to the real world from the Upside Down. Meanwhile, Lucas refuses to help with the search for Jane and goes to Hawkins Labs on his own, while Dustin and Mike look for the missing girl.</p>', '_links': {'self': {'href': 'http://api.tvmaze.com/episodes/578667'}}}, {'id': 578668, 'url': 'http://www.tvmaze.com/episodes/578668/stranger-things-1x07-chapter-seven-the-bathtub', 'name': 'Chapter Seven: The Bathtub', 'season': 1, 'number': 7, 'airdate': '2016-07-15', 'airtime': '', 'airstamp': '2016-07-15T12:00:00+00:00', 'runtime': 60, 'image': {'medium': 'http://static.tvmaze.com/uploads/images/medium_landscape/67/168925.jpg', 'original': 'http://static.tvmaze.com/uploads/images/original_untouched/67/168925.jpg'}, 'summary': '<p>Jim manages to bring everyone together so that they can join forces to reconnect Jane to the Upside Down and find Will. Meanwhile, the government closes in on Jane and the boys.</p>', '_links': {'self': {'href': 'http://api.tvmaze.com/episodes/578668'}}}, {'id': 578669, 'url': 'http://www.tvmaze.com/episodes/578669/stranger-things-1x08-chapter-eight-the-upside-down', 'name': 'Chapter Eight: The Upside Down', 'season': 1, 'number': 8, 'airdate': '2016-07-15', 'airtime': '', 'airstamp': '2016-07-15T12:00:00+00:00', 'runtime': 60, 'image': {'medium': 'http://static.tvmaze.com/uploads/images/medium_landscape/67/168926.jpg', 'original': 'http://static.tvmaze.com/uploads/images/original_untouched/67/168926.jpg'}, 'summary': '<p>Jim convinces Brenner to let him and Joyce enter the Upside Down to find Will... unaware that Brenner plans to recover Jane no matter what it takes. Meanwhile, Nancy and Jonathan prepare to trap the monster at the Byers house, but receive an unexpected visitor.</p>', '_links': {'self': {'href': 'http://api.tvmaze.com/episodes/578669'}}}, {'id': 909340, 'url': 'http://www.tvmaze.com/episodes/909340/stranger-things-2x01-chapter-one-madmax', 'name': 'Chapter One: MADMAX', 'season': 2, 'number': 1, 'airdate': '2017-10-27', 'airtime': '', 'airstamp': '2017-10-27T12:00:00+00:00', 'runtime': 60, 'image': {'medium': 'http://static.tvmaze.com/uploads/images/medium_landscape/132/331976.jpg', 'original': 'http://static.tvmaze.com/uploads/images/original_untouched/132/331976.jpg'}, 'summary': \"<p>One year after the events with the Upside Down and the Demogorgon, Will meets with a government doctor. The boys discover that there's a new player in town, and Jim pays a visit to El.</p>\", '_links': {'self': {'href': 'http://api.tvmaze.com/episodes/909340'}}}, {'id': 909342, 'url': 'http://www.tvmaze.com/episodes/909342/stranger-things-2x02-chapter-two-trick-or-treat-freak', 'name': 'Chapter Two: Trick or Treat, Freak', 'season': 2, 'number': 2, 'airdate': '2017-10-27', 'airtime': '', 'airstamp': '2017-10-27T12:00:00+00:00', 'runtime': 60, 'image': {'medium': 'http://static.tvmaze.com/uploads/images/medium_landscape/132/332034.jpg', 'original': 'http://static.tvmaze.com/uploads/images/original_untouched/132/332034.jpg'}, 'summary': '<p>The boys go trick-or-treating on Halloween, and Will has another vision. Meanwhile, El relieves the days following her escape from the Upside Down, and Dustin finds something in the garbage can.</p>', '_links': {'self': {'href': 'http://api.tvmaze.com/episodes/909342'}}}, {'id': 909343, 'url': 'http://www.tvmaze.com/episodes/909343/stranger-things-2x03-chapter-three-the-pollywog', 'name': 'Chapter Three: The Pollywog', 'season': 2, 'number': 3, 'airdate': '2017-10-27', 'airtime': '', 'airstamp': '2017-10-27T12:00:00+00:00', 'runtime': 60, 'image': {'medium': 'http://static.tvmaze.com/uploads/images/medium_landscape/132/332039.jpg', 'original': 'http://static.tvmaze.com/uploads/images/original_untouched/132/332039.jpg'}, 'summary': \"<p>Dustin takes in a stray and calls it D'Artagnan. However, his plans to show it to Mr. Clarke don't go as intended. Meanwhile, Max tries to convince Mike to let her join the group, El sneaks out to pay her friends a visit, and Will decides to take a stand and face his fears.</p>\", '_links': {'self': {'href': 'http://api.tvmaze.com/episodes/909343'}}}, {'id': 909344, 'url': 'http://www.tvmaze.com/episodes/909344/stranger-things-2x04-chapter-four-will-the-wise', 'name': 'Chapter Four: Will the Wise', 'season': 2, 'number': 4, 'airdate': '2017-10-27', 'airtime': '', 'airstamp': '2017-10-27T12:00:00+00:00', 'runtime': 60, 'image': {'medium': 'http://static.tvmaze.com/uploads/images/medium_landscape/132/332045.jpg', 'original': 'http://static.tvmaze.com/uploads/images/original_untouched/132/332045.jpg'}, 'summary': \"<p>After his encounter with the shadow creature, Will's condition worsens. Meanwhile, Jim and El fight after Jim discovers that El disobeyed the rules, and Owens brings Nancy and Jonathan to Hawkins Labs for a chat.</p>\", '_links': {'self': {'href': 'http://api.tvmaze.com/episodes/909344'}}}, {'id': 909345, 'url': 'http://www.tvmaze.com/episodes/909345/stranger-things-2x05-chapter-five-dig-dug', 'name': 'Chapter Five: Dig Dug', 'season': 2, 'number': 5, 'airdate': '2017-10-27', 'airtime': '', 'airstamp': '2017-10-27T12:00:00+00:00', 'runtime': 60, 'image': {'medium': 'http://static.tvmaze.com/uploads/images/medium_landscape/132/332050.jpg', 'original': 'http://static.tvmaze.com/uploads/images/original_untouched/132/332050.jpg'}, 'summary': '<p>Jim is trapped in the Upside Down, and Joyce enlists Bob to help find him. Meanwhile, Nancy and Jonathan go to Murray, and El learns about the circumstances surrounding her birth.</p>', '_links': {'self': {'href': 'http://api.tvmaze.com/episodes/909345'}}}, {'id': 909346, 'url': 'http://www.tvmaze.com/episodes/909346/stranger-things-2x06-chapter-six-the-spy', 'name': 'Chapter Six: The Spy', 'season': 2, 'number': 6, 'airdate': '2017-10-27', 'airtime': '', 'airstamp': '2017-10-27T12:00:00+00:00', 'runtime': 60, 'image': {'medium': 'http://static.tvmaze.com/uploads/images/medium_landscape/132/332052.jpg', 'original': 'http://static.tvmaze.com/uploads/images/original_untouched/132/332052.jpg'}, 'summary': \"<p>Owens and his team try to find a way to end the shadow creature's influence on Will. Meanwhile, Dustin and Lucas find unlikely allies in their quest to find Dart.</p>\", '_links': {'self': {'href': 'http://api.tvmaze.com/episodes/909346'}}}, {'id': 909347, 'url': 'http://www.tvmaze.com/episodes/909347/stranger-things-2x07-chapter-seven-the-lost-sister', 'name': 'Chapter Seven: The Lost Sister', 'season': 2, 'number': 7, 'airdate': '2017-10-27', 'airtime': '', 'airstamp': '2017-10-27T12:00:00+00:00', 'runtime': 60, 'image': {'medium': 'http://static.tvmaze.com/uploads/images/medium_landscape/132/332055.jpg', 'original': 'http://static.tvmaze.com/uploads/images/original_untouched/132/332055.jpg'}, 'summary': '<p>El travels to Chicago to find her sister Eight, aka Kali, who has teamed up with other outcasts to kill the men who tormented her at Hawkins Labs.</p>', '_links': {'self': {'href': 'http://api.tvmaze.com/episodes/909347'}}}, {'id': 909348, 'url': 'http://www.tvmaze.com/episodes/909348/stranger-things-2x08-chapter-eight-the-mind-flayer', 'name': 'Chapter Eight: The Mind Flayer', 'season': 2, 'number': 8, 'airdate': '2017-10-27', 'airtime': '', 'airstamp': '2017-10-27T12:00:00+00:00', 'runtime': 60, 'image': {'medium': 'http://static.tvmaze.com/uploads/images/medium_landscape/132/332059.jpg', 'original': 'http://static.tvmaze.com/uploads/images/original_untouched/132/332059.jpg'}, 'summary': \"<p>When the demo-dogs overrun Hawkins Labs, one of the group saves the others at the cost of their own life. When the others get back to the Byers house, they realize what they're facing and try to get answers from a captive Will.</p>\", '_links': {'self': {'href': 'http://api.tvmaze.com/episodes/909348'}}}, {'id': 909349, 'url': 'http://www.tvmaze.com/episodes/909349/stranger-things-2x09-chapter-nine-the-gate', 'name': 'Chapter Nine: The Gate', 'season': 2, 'number': 9, 'airdate': '2017-10-27', 'airtime': '', 'airstamp': '2017-10-27T12:00:00+00:00', 'runtime': 60, 'image': {'medium': 'http://static.tvmaze.com/uploads/images/medium_landscape/132/332064.jpg', 'original': 'http://static.tvmaze.com/uploads/images/original_untouched/132/332064.jpg'}, 'summary': '<p>The group splits up to close the gate, evict the Mind Flayer from Will, and drive the demo-dogs away from Hawkins Lab.</p>', '_links': {'self': {'href': 'http://api.tvmaze.com/episodes/909349'}}}]\n"
     ]
    }
   ],
   "source": [
    "print(tv_show[\"_embedded\"][\"episodes\"])"
   ]
  },
  {
   "cell_type": "markdown",
   "metadata": {},
   "source": [
    "Print the following information about the TV show:\n",
    "* the language \n",
    "* the summary \n",
    "* the genres \n",
    "* the average rating\n",
    "* the url of the original image of the TV show"
   ]
  },
  {
   "cell_type": "code",
   "execution_count": 43,
   "metadata": {},
   "outputs": [
    {
     "name": "stdout",
     "output_type": "stream",
     "text": [
      "English\n"
     ]
    }
   ],
   "source": [
    "print(tv_show['language'])"
   ]
  },
  {
   "cell_type": "code",
   "execution_count": 44,
   "metadata": {},
   "outputs": [
    {
     "name": "stdout",
     "output_type": "stream",
     "text": [
      "<p>A love letter to the '80s classics that captivated a generation, <b>Stranger Things</b> is set in 1983 Indiana, where a young boy vanishes into thin air. As friends, family and local police search for answers, they are drawn into an extraordinary mystery involving top-secret government experiments, terrifying supernatural forces and one very strange little girl.</p>\n"
     ]
    }
   ],
   "source": [
    "print(tv_show['summary'])"
   ]
  },
  {
   "cell_type": "code",
   "execution_count": 45,
   "metadata": {},
   "outputs": [
    {
     "name": "stdout",
     "output_type": "stream",
     "text": [
      "['Drama', 'Fantasy', 'Science-Fiction']\n"
     ]
    }
   ],
   "source": [
    "print(tv_show['genres'])"
   ]
  },
  {
   "cell_type": "code",
   "execution_count": 46,
   "metadata": {},
   "outputs": [
    {
     "name": "stdout",
     "output_type": "stream",
     "text": [
      "{'average': 8.7}\n"
     ]
    }
   ],
   "source": [
    "print(tv_show['rating'])"
   ]
  },
  {
   "cell_type": "code",
   "execution_count": 48,
   "metadata": {},
   "outputs": [
    {
     "name": "stdout",
     "output_type": "stream",
     "text": [
      "http://static.tvmaze.com/uploads/images/original_untouched/132/330543.jpg\n"
     ]
    }
   ],
   "source": [
    "print(tv_show['image']['original'])"
   ]
  },
  {
   "cell_type": "markdown",
   "metadata": {},
   "source": [
    "Print the following information about its episodes:\n",
    "* the number of episodes\n",
    "* all urls of the episodes\n",
    "* the summary of the 5th episode (Chapter Five) of season 1\n",
    "* the url of the original image of the episode with id 578664\n",
    "* all names and season numbers of the episodes where \"Nancy\" is mentioned in the summary"
   ]
  },
  {
   "cell_type": "code",
   "execution_count": 49,
   "metadata": {},
   "outputs": [
    {
     "name": "stdout",
     "output_type": "stream",
     "text": [
      "17\n"
     ]
    }
   ],
   "source": [
    "print(len(tv_show[\"_embedded\"][\"episodes\"]))"
   ]
  },
  {
   "cell_type": "code",
   "execution_count": 51,
   "metadata": {},
   "outputs": [
    {
     "name": "stdout",
     "output_type": "stream",
     "text": [
      "http://www.tvmaze.com/episodes/553946/stranger-things-1x01-chapter-one-the-vanishing-of-will-byers\n",
      "http://www.tvmaze.com/episodes/578663/stranger-things-1x02-chapter-two-the-weirdo-on-maple-street\n",
      "http://www.tvmaze.com/episodes/578664/stranger-things-1x03-chapter-three-holly-jolly\n",
      "http://www.tvmaze.com/episodes/578665/stranger-things-1x04-chapter-four-the-body\n",
      "http://www.tvmaze.com/episodes/578666/stranger-things-1x05-chapter-five-the-flea-and-the-acrobat\n",
      "http://www.tvmaze.com/episodes/578667/stranger-things-1x06-chapter-six-the-monster\n",
      "http://www.tvmaze.com/episodes/578668/stranger-things-1x07-chapter-seven-the-bathtub\n",
      "http://www.tvmaze.com/episodes/578669/stranger-things-1x08-chapter-eight-the-upside-down\n",
      "http://www.tvmaze.com/episodes/909340/stranger-things-2x01-chapter-one-madmax\n",
      "http://www.tvmaze.com/episodes/909342/stranger-things-2x02-chapter-two-trick-or-treat-freak\n",
      "http://www.tvmaze.com/episodes/909343/stranger-things-2x03-chapter-three-the-pollywog\n",
      "http://www.tvmaze.com/episodes/909344/stranger-things-2x04-chapter-four-will-the-wise\n",
      "http://www.tvmaze.com/episodes/909345/stranger-things-2x05-chapter-five-dig-dug\n",
      "http://www.tvmaze.com/episodes/909346/stranger-things-2x06-chapter-six-the-spy\n",
      "http://www.tvmaze.com/episodes/909347/stranger-things-2x07-chapter-seven-the-lost-sister\n",
      "http://www.tvmaze.com/episodes/909348/stranger-things-2x08-chapter-eight-the-mind-flayer\n",
      "http://www.tvmaze.com/episodes/909349/stranger-things-2x09-chapter-nine-the-gate\n"
     ]
    }
   ],
   "source": [
    "for episode in tv_show[\"_embedded\"][\"episodes\"]:\n",
    "    print(episode['url'])"
   ]
  },
  {
   "cell_type": "code",
   "execution_count": 54,
   "metadata": {},
   "outputs": [
    {
     "data": {
      "text/plain": [
       "'<p>Jim searches for Will at Hawkins Laboratory, but finds something unexpected. Meanwhile, Lonnie helps Joyce bury Will but reveals an ulterior motive for returning to town, while the boys find a way to locate Will but discover that Jane is opposing them.</p>'"
      ]
     },
     "execution_count": 54,
     "metadata": {},
     "output_type": "execute_result"
    }
   ],
   "source": [
    "tv_show[\"_embedded\"][\"episodes\"][4]['summary']"
   ]
  },
  {
   "cell_type": "code",
   "execution_count": 60,
   "metadata": {},
   "outputs": [
    {
     "name": "stdout",
     "output_type": "stream",
     "text": [
      "http://static.tvmaze.com/uploads/images/original_untouched/67/168920.jpg\n"
     ]
    }
   ],
   "source": [
    "for episode in tv_show[\"_embedded\"][\"episodes\"]:\n",
    "    # print(episode)\n",
    "    if episode['id'] == 578664:\n",
    "        print(episode['image']['original'])"
   ]
  },
  {
   "cell_type": "code",
   "execution_count": 62,
   "metadata": {},
   "outputs": [
    {
     "name": "stdout",
     "output_type": "stream",
     "text": [
      "Chapter Three: Holly, Jolly 1\n",
      "Chapter Four: The Body 1\n",
      "Chapter Six: The Monster 1\n",
      "Chapter Eight: The Upside Down 1\n",
      "Chapter Four: Will the Wise 2\n",
      "Chapter Five: Dig Dug 2\n"
     ]
    }
   ],
   "source": [
    "for episode in tv_show[\"_embedded\"][\"episodes\"]:\n",
    "    if \"Nancy\" in episode['summary']:\n",
    "        print(episode['name'], episode['season'])"
   ]
  },
  {
   "cell_type": "code",
   "execution_count": null,
   "metadata": {},
   "outputs": [],
   "source": []
  }
 ],
 "metadata": {
  "interpreter": {
   "hash": "6106edc083458b68f61c14c570e0f5152b4e1e25a61780539c3fe413e38ae5e6"
  },
  "kernelspec": {
   "display_name": "Python 3 (ipykernel)",
   "language": "python",
   "name": "python3"
  },
  "language_info": {
   "codemirror_mode": {
    "name": "ipython",
    "version": 3
   },
   "file_extension": ".py",
   "mimetype": "text/x-python",
   "name": "python",
   "nbconvert_exporter": "python",
   "pygments_lexer": "ipython3",
   "version": "3.10.12"
  }
 },
 "nbformat": 4,
 "nbformat_minor": 4
}
