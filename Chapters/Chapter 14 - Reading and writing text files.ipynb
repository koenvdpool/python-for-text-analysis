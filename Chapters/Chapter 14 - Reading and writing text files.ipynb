{
 "cells": [
  {
   "cell_type": "markdown",
   "metadata": {},
   "source": [
    "# Chapter 14: Reading and writing text files\n",
    "*We use some materials from [this other Python course](https://github.com/kadarakos/python-course).*"
   ]
  },
  {
   "cell_type": "markdown",
   "metadata": {},
   "source": [
    "In this chapter, you will learn how to read data from files, do some analysis, and write the results to disk. \n",
    "\n",
    "Reading and writing files are quite an essential part of programming, as it is the first step for your program to communicate with the outside world. In most cases, you will write programs that take data from some source, manipulates it in some way, and writes some results out somewhere. \n",
    "\n",
    "For example, if you would write a survey, you could take input from participants on a webserver and save their answers in some files or in a database. When the survey is over, you would read these results in and do some analysis on the data you have collected, maybe do some visualizations and save your results.\n",
    "\n",
    "In **Natural Language Processing (NLP)**, you often process files containing raw texts with some code and write the results to some other file. \n",
    "\n",
    "### At the end of this chapter, you will be able to:\n",
    "\n",
    "* open one or multiple text files\n",
    "* work with the modules `os` and `glob`\n",
    "* read the contents of a file\n",
    "* write new or manipulated content to new (or existing) files\n",
    "* close a file\n",
    "\n",
    "\n",
    "### If you want to learn more about these topics, you might find the following links useful:\n",
    "\n",
    "* [Video: File Objects - Reading and Writing to Files](https://www.youtube.com/watch?v=Uh2ebFW8OYM)\n",
    "* [Video: Automate Parsing and Renaming of Multiple Files](https://www.youtube.com/watch?v=ve2pmm5JqmI)\n",
    "* [Video: OS Module - Use Underlying Operating System Functionality](https://www.youtube.com/watch?v=tJxcKyFMTGo)\n",
    "* [Blog post: 6 Ways the Linux File System is Different From the Windows File System](http://www.howtogeek.com/137096/6-ways-the-linux-file-system-is-different-from-the-windows-file-system/) \n",
    "\n",
    "If you have **questions** about this chapter, please contact us **(cltl.python.course@gmail.com)**."
   ]
  },
  {
   "cell_type": "markdown",
   "metadata": {},
   "source": [
    "# 1. Reading a file"
   ]
  },
  {
   "cell_type": "markdown",
   "metadata": {},
   "source": [
    "In Python, you can read the content of a file, store it as the type of object that you need (string, list, etc.) and manipulate it (e.g., replacing or removing words). You can also write new content to an existing or a new file.\n",
    "\n",
    "Here, we will discuss how to:\n",
    "\n",
    "* open a file\n",
    "* read in the content\n",
    "* store the context in a variable (to do something), e.g., as a string or list\n",
    "* close the file"
   ]
  },
  {
   "cell_type": "markdown",
   "metadata": {},
   "source": [
    "## 1.1. File paths"
   ]
  },
  {
   "cell_type": "markdown",
   "metadata": {},
   "source": [
    "To open a file, we need to associate the file on disk with a variable in Python. First, we tell Python **where the file is stored on your disk**. The **location of your file** is often referred to as the **file path**. \n",
    "\n",
    "Python will start looking in the 'working' or 'current' directory (which often will be where your Python script is). If it's in the working directory, you only have to tell Python the name of the file (e.g., `charlie.txt`). If it's not in the working directory, as in our case, you have to tell Python the exact path to your file. We will create a string variable to store this information:"
   ]
  },
  {
   "cell_type": "code",
   "execution_count": 6,
   "metadata": {},
   "outputs": [],
   "source": [
    "filename = \"../Data/Charlie/charlie.txt\"  \n",
    "\n",
    "# The double dots mean 'go up one level in the directory tree'. "
   ]
  },
  {
   "cell_type": "markdown",
   "metadata": {},
   "source": [
    "Sometimes you see double dots at the beginning of the file path; this means 'the parent of the current directory'. When writing a file path, you can use the following:\n",
    "\n",
    "- /     means the root of the current drive; \n",
    "- ./    means the current directory;\n",
    "- ../   means the parent of the current directory.\n",
    "\n",
    "Consider the directory tree below. \n",
    "\n",
    "* If you want to go from your current working directory (**cwd**) to the one directly above (dir3), your path is ../. \n",
    "* If you want to go to dir1, your path is ../../\n",
    "* If you want to go to dir5, your path is ../dir5/\n",
    "* If you want to go to dir2, your path is ../../dir2/ \n",
    "\n",
    "You will learn how to navigate your directory tree quite intuitively with a bit of practice. If you have any doubts, it is always a good idea to follow a quick tutorial on basic command-line operations. "
   ]
  },
  {
   "cell_type": "markdown",
   "metadata": {},
   "source": [
    "<img src='images/directory_tree.png'>"
   ]
  },
  {
   "cell_type": "markdown",
   "metadata": {},
   "source": [
    "**Navigating your directory tree on Windows**\n",
    "\n",
    "Also, note that the formatting of file paths is different across operating systems. The file path, as specified above, should work on any UNIX platform (Linux, Mac). If you are using Windows, however, you might run into problems when formatting file paths in this way **outside of this notebook**, because Windows uses backslashes instead of forward slashes (Jupyter Notebook should already have taken care of these problems for you). In that case, it might be useful to have a look at [this page](http://www.howtogeek.com/137096/6-ways-the-linux-file-system-is-different-from-the-windows-file-system/) about the differences between the file systems. In short, it's probably best if you use the code below (we will talk about the `os` module in more detail later today). This is very useful to know if you are a Windows user, and it will become relevant for the final assignment. "
   ]
  },
  {
   "cell_type": "code",
   "execution_count": null,
   "metadata": {},
   "outputs": [],
   "source": [
    "# For windows: \n",
    "import os\n",
    "windows_file_path = os.path.normpath(\"C:/somePath/someFilename\") # Use forward slashes"
   ]
  },
  {
   "cell_type": "markdown",
   "metadata": {},
   "source": [
    "## 1.2 Opening a file"
   ]
  },
  {
   "cell_type": "markdown",
   "metadata": {},
   "source": [
    "We can use the file path to tell Python which file to open by using the built-in function `open()`. The `open()` function does not return the actual text that is saved in the text file. It returns a 'file object' from which we can read the content using the `.read()` function (more on this later). We usually pass three arguments to the `open()` function:\n",
    "\n",
    "* the **path to the file** that you wish to open\n",
    "* the **mode**, a combination of characters explaining the purpose of the file opening (like read or write) and type of content stored in the file (like textual or binary format). For instance, if we are reading a plain text file, we can use the characters 'r' (represents read-mode) and 't' (represents plain text-mode).\n",
    "* the last argument, a keyword argument (**encoding**), specifies the encoding of the text file, but you can forget about this for now.\n",
    "\n",
    "The most important **mode** arguments the `open()` function can take are:\n",
    "\n",
    "* **r** = Opens a file for reading only. The file pointer is placed at the beginning of the file.\n",
    "* **w** = Opens a file for writing only. Overwrites the file if the file exists. If the file does not exist, creates a new file for writing.\n",
    "* **a** = Opens a file for appending. The file pointer is at the end of the file if the file exists. If the file does not exist, it creates a new file for writing. Use it if you would like to add something to the end of a file\n",
    "\n",
    "Then, to open the file 'charlie.txt' for reading purposes, we use the following:"
   ]
  },
  {
   "cell_type": "code",
   "execution_count": 7,
   "metadata": {},
   "outputs": [],
   "source": [
    "filepath = \"../Data/Charlie/charlie.txt\"  \n",
    "infile = open(filepath, \"r\") # 'r' stands for READ mode\n",
    "# Do something with the file\n",
    "infile.close() # Close the file (you can ignore this for now)"
   ]
  },
  {
   "cell_type": "markdown",
   "metadata": {},
   "source": [
    "Overview of possible mode arguments (the most important ones are 'r' and 'w'):\n",
    "\n",
    "| Character | Meaning |\n",
    "| --------- | ------- |\n",
    "|'r' |\topen for reading (default)|\n",
    "|'w' |\topen for writing, truncating the file first|\n",
    "|'x' |\topen for exclusive creation, failing if the file already exists|\n",
    "|'a' |\topen for writing, appending to the end of the file if it exists|\n",
    "|'b' |\tbinary mode|\n",
    "|'t' |\ttext mode (default)|\n",
    "|'+' |\topen a disk file for updating (reading and writing)|\n",
    "|'U' |\tuniversal newlines mode (deprecated)|\n"
   ]
  },
  {
   "cell_type": "markdown",
   "metadata": {},
   "source": [
    "So far, we have opened the file. This, however, does not yet show us the file content. Try printing 'infile':"
   ]
  },
  {
   "cell_type": "code",
   "execution_count": 8,
   "metadata": {},
   "outputs": [
    {
     "name": "stdout",
     "output_type": "stream",
     "text": [
      "<_io.TextIOWrapper name='../Data/Charlie/charlie.txt' mode='r' encoding='UTF-8'>\n"
     ]
    }
   ],
   "source": [
    "infile = open(\"../Data/Charlie/charlie.txt\" , \"r\")\n",
    "print(infile)\n",
    "infile.close()"
   ]
  },
  {
   "cell_type": "markdown",
   "metadata": {},
   "source": [
    "This `TextIOWrapper` thing is Python's way of saying it has *opened* a connection to the file `charlie.txt`. To actually see its content, we need to tell python to read the file."
   ]
  },
  {
   "cell_type": "markdown",
   "metadata": {},
   "source": [
    "## 1.3 Reading a file"
   ]
  },
  {
   "cell_type": "markdown",
   "metadata": {},
   "source": [
    "Here, we will discuss three ways of reading the contents of a file:\n",
    "\n",
    "* `read()`\n",
    "* `readlines()` \n",
    "* `readline()`"
   ]
  },
  {
   "cell_type": "markdown",
   "metadata": {},
   "source": [
    "### 1.3.1 `read()`"
   ]
  },
  {
   "cell_type": "markdown",
   "metadata": {},
   "source": [
    "The `read()` method is used to access the **entire text in a file**, which we can assign to a variable. Consider the code below.\n",
    "\n",
    "The variable `content` now holds the entire content of the file `charlie.txt` as a single string, and we can access and manipulate it just like any other string. When we are done with accessing the file, we use the `close()` method to close the file."
   ]
  },
  {
   "cell_type": "code",
   "execution_count": 9,
   "metadata": {},
   "outputs": [
    {
     "name": "stdout",
     "output_type": "stream",
     "text": [
      "Charlie Bucket stared around the gigantic room in which he now found himself. The place was like a witch’s kitchen! All about him black metal pots were boiling and bubbling on huge stoves, and kettles were hissing and pans were sizzling, and strange iron machines were clanking and spluttering, and there were pipes running all over the ceiling and walls, and the whole place was filled with smoke and steam and delicious rich smells. \n",
      "\n",
      "Mr Wonka himself had suddenly become even more excited than usual, and anyone could see that this was the room he loved best of all. He was hopping about among the saucepans and the machines like a child among his Christmas presents, not knowing which thing to look at first. He lifted the lid from a huge pot and took a sniff; then he rushed over and dipped a finger into a barrel of sticky yellow stuff and had a taste; then he skipped across to one of the machines and turned half a dozen knobs this way and that; then he peered anxiously through the glass door of a gigantic oven, rubbing his hands and cackling with delight at what he saw inside. Then he ran over to another machine, a small shiny affair that kept going phut-phut-phut-phut-phut, and every time it went phut, a large green marble dropped out of it into a basket on the floor.\n",
      "\n",
      "This function returns a <class 'str'>\n"
     ]
    }
   ],
   "source": [
    "# Opening the file using the filepath and and the 'read' mode:\n",
    "infile = open(\"../Data/Charlie/charlie.txt\" , \"r\")\n",
    "# Reading the file using the `read()` function and assigning it to the variable `content`\n",
    "content = infile.read()\n",
    "print(content)\n",
    "print()\n",
    "print('This function returns a', type(content))\n",
    "\n",
    "# closing the file (more on this below)\n",
    "infile.close()"
   ]
  },
  {
   "cell_type": "markdown",
   "metadata": {},
   "source": [
    "### 1.3.2  `readlines()`"
   ]
  },
  {
   "cell_type": "markdown",
   "metadata": {},
   "source": [
    "The `readlines()` function allows you to access the content of a file as a list of lines. This means, it splits the text in a file at the new lines characters ('\\n') for you):"
   ]
  },
  {
   "cell_type": "code",
   "execution_count": 10,
   "metadata": {},
   "outputs": [
    {
     "name": "stdout",
     "output_type": "stream",
     "text": [
      "['Charlie Bucket stared around the gigantic room in which he now found himself. The place was like a witch’s kitchen! All about him black metal pots were boiling and bubbling on huge stoves, and kettles were hissing and pans were sizzling, and strange iron machines were clanking and spluttering, and there were pipes running all over the ceiling and walls, and the whole place was filled with smoke and steam and delicious rich smells. \\n', '\\n', 'Mr Wonka himself had suddenly become even more excited than usual, and anyone could see that this was the room he loved best of all. He was hopping about among the saucepans and the machines like a child among his Christmas presents, not knowing which thing to look at first. He lifted the lid from a huge pot and took a sniff; then he rushed over and dipped a finger into a barrel of sticky yellow stuff and had a taste; then he skipped across to one of the machines and turned half a dozen knobs this way and that; then he peered anxiously through the glass door of a gigantic oven, rubbing his hands and cackling with delight at what he saw inside. Then he ran over to another machine, a small shiny affair that kept going phut-phut-phut-phut-phut, and every time it went phut, a large green marble dropped out of it into a basket on the floor.']\n",
      "\n",
      "This function returns a <class 'list'>\n"
     ]
    }
   ],
   "source": [
    "# Opening the file using the filepath and and the 'read' mode:\n",
    "infile = open(\"../Data/Charlie/charlie.txt\" , \"r\")\n",
    "\n",
    "# Reading the file using the `read()` function and assigning it to the variable `content`\n",
    "lines = infile.readlines()\n",
    "print(lines)\n",
    "print()\n",
    "print('This function returns a', type(lines))\n",
    "\n",
    "# closing the file \n",
    "infile.close()\n",
    "\n"
   ]
  },
  {
   "cell_type": "markdown",
   "metadata": {},
   "source": [
    "Now you can, for example, use a for-loop to print each line in the file (note that the second line is just a newline character):"
   ]
  },
  {
   "cell_type": "code",
   "execution_count": 11,
   "metadata": {},
   "outputs": [
    {
     "name": "stdout",
     "output_type": "stream",
     "text": [
      "LINE: Charlie Bucket stared around the gigantic room in which he now found himself. The place was like a witch’s kitchen! All about him black metal pots were boiling and bubbling on huge stoves, and kettles were hissing and pans were sizzling, and strange iron machines were clanking and spluttering, and there were pipes running all over the ceiling and walls, and the whole place was filled with smoke and steam and delicious rich smells. \n",
      "\n",
      "LINE: \n",
      "\n",
      "LINE: Mr Wonka himself had suddenly become even more excited than usual, and anyone could see that this was the room he loved best of all. He was hopping about among the saucepans and the machines like a child among his Christmas presents, not knowing which thing to look at first. He lifted the lid from a huge pot and took a sniff; then he rushed over and dipped a finger into a barrel of sticky yellow stuff and had a taste; then he skipped across to one of the machines and turned half a dozen knobs this way and that; then he peered anxiously through the glass door of a gigantic oven, rubbing his hands and cackling with delight at what he saw inside. Then he ran over to another machine, a small shiny affair that kept going phut-phut-phut-phut-phut, and every time it went phut, a large green marble dropped out of it into a basket on the floor.\n"
     ]
    }
   ],
   "source": [
    "for line in lines:\n",
    "    print(\"LINE:\", line)"
   ]
  },
  {
   "cell_type": "markdown",
   "metadata": {},
   "source": [
    "**Important note**\n",
    "\n",
    "When we open a file, we can only use one of the read operations **once**. If we want to read it again, we have to open a new file variable. Consider the code below:\n",
    "\n"
   ]
  },
  {
   "cell_type": "code",
   "execution_count": 12,
   "metadata": {},
   "outputs": [
    {
     "name": "stdout",
     "output_type": "stream",
     "text": [
      "Charlie Bucket stared around the gigantic room in which he now found himself. The place was like a witch’s kitchen! All about him black metal pots were boiling and bubbling on huge stoves, and kettles were hissing and pans were sizzling, and strange iron machines were clanking and spluttering, and there were pipes running all over the ceiling and walls, and the whole place was filled with smoke and steam and delicious rich smells. \n",
      "\n",
      "Mr Wonka himself had suddenly become even more excited than usual, and anyone could see that this was the room he loved best of all. He was hopping about among the saucepans and the machines like a child among his Christmas presents, not knowing which thing to look at first. He lifted the lid from a huge pot and took a sniff; then he rushed over and dipped a finger into a barrel of sticky yellow stuff and had a taste; then he skipped across to one of the machines and turned half a dozen knobs this way and that; then he peered anxiously through the glass door of a gigantic oven, rubbing his hands and cackling with delight at what he saw inside. Then he ran over to another machine, a small shiny affair that kept going phut-phut-phut-phut-phut, and every time it went phut, a large green marble dropped out of it into a basket on the floor.\n",
      "[]\n"
     ]
    }
   ],
   "source": [
    "infile = open(\"../Data/Charlie/charlie.txt\" , \"r\")\n",
    "content = infile.read()\n",
    "lines = infile.readlines()\n",
    "print(content)\n",
    "print(lines)\n",
    "infile.close()"
   ]
  },
  {
   "cell_type": "markdown",
   "metadata": {},
   "source": [
    "The code returns an empty list. To fix this, we have to open the file again:"
   ]
  },
  {
   "cell_type": "code",
   "execution_count": 13,
   "metadata": {},
   "outputs": [
    {
     "name": "stdout",
     "output_type": "stream",
     "text": [
      "Charlie Bucket stared around the gigantic room in which he now found himself. The place was like a witch’s kitchen! All about him black metal pots were boiling and bubbling on huge stoves, and kettles were hissing and pans were sizzling, and strange iron machines were clanking and spluttering, and there were pipes running all over the ceiling and walls, and the whole place was filled with smoke and steam and delicious rich smells. \n",
      "\n",
      "Mr Wonka himself had suddenly become even more excited than usual, and anyone could see that this was the room he loved best of all. He was hopping about among the saucepans and the machines like a child among his Christmas presents, not knowing which thing to look at first. He lifted the lid from a huge pot and took a sniff; then he rushed over and dipped a finger into a barrel of sticky yellow stuff and had a taste; then he skipped across to one of the machines and turned half a dozen knobs this way and that; then he peered anxiously through the glass door of a gigantic oven, rubbing his hands and cackling with delight at what he saw inside. Then he ran over to another machine, a small shiny affair that kept going phut-phut-phut-phut-phut, and every time it went phut, a large green marble dropped out of it into a basket on the floor.\n",
      "['Charlie Bucket stared around the gigantic room in which he now found himself. The place was like a witch’s kitchen! All about him black metal pots were boiling and bubbling on huge stoves, and kettles were hissing and pans were sizzling, and strange iron machines were clanking and spluttering, and there were pipes running all over the ceiling and walls, and the whole place was filled with smoke and steam and delicious rich smells. \\n', '\\n', 'Mr Wonka himself had suddenly become even more excited than usual, and anyone could see that this was the room he loved best of all. He was hopping about among the saucepans and the machines like a child among his Christmas presents, not knowing which thing to look at first. He lifted the lid from a huge pot and took a sniff; then he rushed over and dipped a finger into a barrel of sticky yellow stuff and had a taste; then he skipped across to one of the machines and turned half a dozen knobs this way and that; then he peered anxiously through the glass door of a gigantic oven, rubbing his hands and cackling with delight at what he saw inside. Then he ran over to another machine, a small shiny affair that kept going phut-phut-phut-phut-phut, and every time it went phut, a large green marble dropped out of it into a basket on the floor.']\n"
     ]
    }
   ],
   "source": [
    "filepath = \"../Data/Charlie/charlie.txt\"\n",
    "\n",
    "infile = open(filepath , \"r\")\n",
    "content = infile.read()\n",
    "infile = open(filepath, \"r\")\n",
    "lines = infile.readlines()\n",
    "print(content)\n",
    "print(lines)\n",
    "infile.close()"
   ]
  },
  {
   "cell_type": "markdown",
   "metadata": {},
   "source": [
    "### 1.3.3 `Readline()`"
   ]
  },
  {
   "cell_type": "markdown",
   "metadata": {},
   "source": [
    "The third operation `readline()` returns the next line of the file, returning the text up to and including the next newline character (*\\n*, or *\\r\\n* on Windows). More simply put, this operation will read a file line-by-line. So if you call this operation again, it will return the next line in the file. Try it out below!"
   ]
  },
  {
   "cell_type": "code",
   "execution_count": 14,
   "metadata": {},
   "outputs": [
    {
     "name": "stdout",
     "output_type": "stream",
     "text": [
      "Charlie Bucket stared around the gigantic room in which he now found himself. The place was like a witch’s kitchen! All about him black metal pots were boiling and bubbling on huge stoves, and kettles were hissing and pans were sizzling, and strange iron machines were clanking and spluttering, and there were pipes running all over the ceiling and walls, and the whole place was filled with smoke and steam and delicious rich smells. \n",
      "\n"
     ]
    }
   ],
   "source": [
    "filepath = \"../Data/Charlie/charlie.txt\"\n",
    "\n",
    "infile = open(filepath, \"r\")\n",
    "next_line = infile.readline()\n",
    "print(next_line)"
   ]
  },
  {
   "cell_type": "code",
   "execution_count": 15,
   "metadata": {},
   "outputs": [
    {
     "name": "stdout",
     "output_type": "stream",
     "text": [
      "\n",
      "\n"
     ]
    }
   ],
   "source": [
    "next_line = infile.readline()\n",
    "print(next_line)"
   ]
  },
  {
   "cell_type": "code",
   "execution_count": 16,
   "metadata": {},
   "outputs": [
    {
     "name": "stdout",
     "output_type": "stream",
     "text": [
      "Mr Wonka himself had suddenly become even more excited than usual, and anyone could see that this was the room he loved best of all. He was hopping about among the saucepans and the machines like a child among his Christmas presents, not knowing which thing to look at first. He lifted the lid from a huge pot and took a sniff; then he rushed over and dipped a finger into a barrel of sticky yellow stuff and had a taste; then he skipped across to one of the machines and turned half a dozen knobs this way and that; then he peered anxiously through the glass door of a gigantic oven, rubbing his hands and cackling with delight at what he saw inside. Then he ran over to another machine, a small shiny affair that kept going phut-phut-phut-phut-phut, and every time it went phut, a large green marble dropped out of it into a basket on the floor.\n"
     ]
    }
   ],
   "source": [
    "next_line = infile.readline()\n",
    "print(next_line)\n",
    "infile.close()"
   ]
  },
  {
   "cell_type": "markdown",
   "metadata": {},
   "source": [
    "**Which function to choose**\n",
    "\n",
    "For small files that you want to load entirely, you can use one of these three methods (readline, read, or readlines). Note, however, that we can also simply do the following to read a file line by line (this is recommended for larger files and when we are really only interested in a small portion of the file):"
   ]
  },
  {
   "cell_type": "code",
   "execution_count": 17,
   "metadata": {},
   "outputs": [
    {
     "name": "stdout",
     "output_type": "stream",
     "text": [
      "Charlie Bucket stared around the gigantic room in which he now found himself. The place was like a witch’s kitchen! All about him black metal pots were boiling and bubbling on huge stoves, and kettles were hissing and pans were sizzling, and strange iron machines were clanking and spluttering, and there were pipes running all over the ceiling and walls, and the whole place was filled with smoke and steam and delicious rich smells. \n",
      "\n",
      "\n",
      "\n",
      "Mr Wonka himself had suddenly become even more excited than usual, and anyone could see that this was the room he loved best of all. He was hopping about among the saucepans and the machines like a child among his Christmas presents, not knowing which thing to look at first. He lifted the lid from a huge pot and took a sniff; then he rushed over and dipped a finger into a barrel of sticky yellow stuff and had a taste; then he skipped across to one of the machines and turned half a dozen knobs this way and that; then he peered anxiously through the glass door of a gigantic oven, rubbing his hands and cackling with delight at what he saw inside. Then he ran over to another machine, a small shiny affair that kept going phut-phut-phut-phut-phut, and every time it went phut, a large green marble dropped out of it into a basket on the floor.\n"
     ]
    }
   ],
   "source": [
    "filepath = \"../Data/Charlie/charlie.txt\"\n",
    "\n",
    "infile = open(filepath, \"r\")\n",
    "for line in infile:\n",
    "    print(line)\n",
    "infile.close()"
   ]
  },
  {
   "cell_type": "markdown",
   "metadata": {},
   "source": [
    "Note the last line of this code snippet: `infile.close()`. This closes our file, which is a very important operation. This prevents Python from keeping files that are unnecessary anymore still open. In the next subchapter, we will also see a more convenient way to ensure files get closed after their usage."
   ]
  },
  {
   "cell_type": "markdown",
   "metadata": {},
   "source": [
    "## 1.4. Closing the file\n",
    "\n",
    "Here, we will introduce closing a file with the method `close()` and using a **context manager** to open and close files. After reading the contents of a file, the `TextWrapper` no longer needs to be open since we have stored the content as a variable. In fact, it is good practice to close the file as soon as you do not need it anymore."
   ]
  },
  {
   "cell_type": "markdown",
   "metadata": {},
   "source": [
    "### 1.4.1  `close()`"
   ]
  },
  {
   "cell_type": "markdown",
   "metadata": {},
   "source": [
    " We do this by using the `close()` method as already shown several times above."
   ]
  },
  {
   "cell_type": "code",
   "execution_count": 18,
   "metadata": {},
   "outputs": [
    {
     "name": "stdout",
     "output_type": "stream",
     "text": [
      "Charlie Bucket stared around the gigantic room in which he now found himself. The place was like a witch’s kitchen! All about him black metal pots were boiling and bubbling on huge stoves, and kettles were hissing and pans were sizzling, and strange iron machines were clanking and spluttering, and there were pipes running all over the ceiling and walls, and the whole place was filled with smoke and steam and delicious rich smells. \n",
      "\n",
      "Mr Wonka himself had suddenly become even more excited than usual, and anyone could see that this was the room he loved best of all. He was hopping about among the saucepans and the machines like a child among his Christmas presents, not knowing which thing to look at first. He lifted the lid from a huge pot and took a sniff; then he rushed over and dipped a finger into a barrel of sticky yellow stuff and had a taste; then he skipped across to one of the machines and turned half a dozen knobs this way and that; then he peered anxiously through the glass door of a gigantic oven, rubbing his hands and cackling with delight at what he saw inside. Then he ran over to another machine, a small shiny affair that kept going phut-phut-phut-phut-phut, and every time it went phut, a large green marble dropped out of it into a basket on the floor.\n"
     ]
    }
   ],
   "source": [
    "filepath = \"../Data/Charlie/charlie.txt\"\n",
    "\n",
    "# open file\n",
    "infile = open(filepath , \"r\")\n",
    "\n",
    "# assign content to a varialbe\n",
    "content = infile.read()\n",
    "\n",
    "# close file\n",
    "infile.close()\n",
    "\n",
    "\n",
    "# do whatever you want with the context, e.g. print it:\n",
    "\n",
    "print(content)"
   ]
  },
  {
   "cell_type": "markdown",
   "metadata": {},
   "source": [
    "### 1.4.2 Using a context manager"
   ]
  },
  {
   "cell_type": "markdown",
   "metadata": {},
   "source": [
    "There is actually an easier (and preferred) way to make sure that the file is closed as soon as you don't need it anymore, namely using what is called a **context manager**. Instead of using `open()` and `close()`, we use the  syntax shown below. \n",
    "\n",
    "The main advantage of using the with-statement is that it automatically closes the file once you leave the local context defined by the indentation level. If you 'manually' open and close the file, you risk forgetting to close the file. Therefore, context managers are considered a best-practice, and we will use the with-statement in all of our following code. \n",
    "\n",
    "\n",
    "**From now on, we highly recommend using a context manager in your code.**"
   ]
  },
  {
   "cell_type": "code",
   "execution_count": 19,
   "metadata": {},
   "outputs": [
    {
     "name": "stdout",
     "output_type": "stream",
     "text": [
      "Charlie Bucket stared around the gigantic room in which he now found himself. The place was like a witch’s kitchen! All about him black metal pots were boiling and bubbling on huge stoves, and kettles were hissing and pans were sizzling, and strange iron machines were clanking and spluttering, and there were pipes running all over the ceiling and walls, and the whole place was filled with smoke and steam and delicious rich smells. \n",
      "\n",
      "Mr Wonka himself had suddenly become even more excited than usual, and anyone could see that this was the room he loved best of all. He was hopping about among the saucepans and the machines like a child among his Christmas presents, not knowing which thing to look at first. He lifted the lid from a huge pot and took a sniff; then he rushed over and dipped a finger into a barrel of sticky yellow stuff and had a taste; then he skipped across to one of the machines and turned half a dozen knobs this way and that; then he peered anxiously through the glass door of a gigantic oven, rubbing his hands and cackling with delight at what he saw inside. Then he ran over to another machine, a small shiny affair that kept going phut-phut-phut-phut-phut, and every time it went phut, a large green marble dropped out of it into a basket on the floor.\n"
     ]
    }
   ],
   "source": [
    "filepath = \"../Data/Charlie/charlie.txt\"\n",
    "\n",
    "with open(filepath, \"r\") as infile:\n",
    "    # the file is only open here\n",
    "    # get content while file is open\n",
    "    content = infile.read()\n",
    "    \n",
    "# the context manager took care of closing the file again\n",
    "# we can now work with the content without having to worry about \n",
    "# closing the file\n",
    "    \n",
    "print(content)"
   ]
  },
  {
   "cell_type": "markdown",
   "metadata": {},
   "source": [
    "# 2 Manipulating file content"
   ]
  },
  {
   "cell_type": "markdown",
   "metadata": {},
   "source": [
    "Once your file content is loaded in a Python variable, you can manipulate its content as you can manipulate any other variable. You can edit it, add/remove lines, count word occurrences, etc. Let's say we read the file content in a list of its lines, as shown below. Note that we can use all of the different methods for reading files in the context manager. "
   ]
  },
  {
   "cell_type": "code",
   "execution_count": 20,
   "metadata": {},
   "outputs": [
    {
     "name": "stdout",
     "output_type": "stream",
     "text": [
      "['Charlie Bucket stared around the gigantic room in which he now found himself. The place was like a witch’s kitchen! All about him black metal pots were boiling and bubbling on huge stoves, and kettles were hissing and pans were sizzling, and strange iron machines were clanking and spluttering, and there were pipes running all over the ceiling and walls, and the whole place was filled with smoke and steam and delicious rich smells. \\n', '\\n', 'Mr Wonka himself had suddenly become even more excited than usual, and anyone could see that this was the room he loved best of all. He was hopping about among the saucepans and the machines like a child among his Christmas presents, not knowing which thing to look at first. He lifted the lid from a huge pot and took a sniff; then he rushed over and dipped a finger into a barrel of sticky yellow stuff and had a taste; then he skipped across to one of the machines and turned half a dozen knobs this way and that; then he peered anxiously through the glass door of a gigantic oven, rubbing his hands and cackling with delight at what he saw inside. Then he ran over to another machine, a small shiny affair that kept going phut-phut-phut-phut-phut, and every time it went phut, a large green marble dropped out of it into a basket on the floor.']\n"
     ]
    }
   ],
   "source": [
    "filepath = \"../Data/Charlie/charlie.txt\"\n",
    "\n",
    "with open(filepath, \"r\") as infile:\n",
    "    lines = infile.readlines()\n",
    "    \n",
    "print(lines)"
   ]
  },
  {
   "cell_type": "markdown",
   "metadata": {},
   "source": [
    "Then we can for instance preserve only the first 2 lines of the file, in a new variable:"
   ]
  },
  {
   "cell_type": "code",
   "execution_count": 21,
   "metadata": {},
   "outputs": [
    {
     "data": {
      "text/plain": [
       "['Charlie Bucket stared around the gigantic room in which he now found himself. The place was like a witch’s kitchen! All about him black metal pots were boiling and bubbling on huge stoves, and kettles were hissing and pans were sizzling, and strange iron machines were clanking and spluttering, and there were pipes running all over the ceiling and walls, and the whole place was filled with smoke and steam and delicious rich smells. \\n',\n",
       " '\\n']"
      ]
     },
     "execution_count": 21,
     "metadata": {},
     "output_type": "execute_result"
    }
   ],
   "source": [
    "first_two_lines=lines[:2]\n",
    "first_two_lines"
   ]
  },
  {
   "cell_type": "markdown",
   "metadata": {},
   "source": [
    "We can count the lines that are longer than 15 characters:"
   ]
  },
  {
   "cell_type": "code",
   "execution_count": 22,
   "metadata": {},
   "outputs": [
    {
     "name": "stdout",
     "output_type": "stream",
     "text": [
      "2\n"
     ]
    }
   ],
   "source": [
    "counter=0\n",
    "for line in lines:\n",
    "    if len(line)>15:\n",
    "        counter+=1\n",
    "print(counter)"
   ]
  },
  {
   "cell_type": "markdown",
   "metadata": {},
   "source": [
    "We will soon see how to perform text processing once we have loaded the file, by using an external module in the next chapter. But let's first write store the modified text in a new file to preserve the changes."
   ]
  },
  {
   "cell_type": "markdown",
   "metadata": {},
   "source": [
    "# 3 Writing files"
   ]
  },
  {
   "cell_type": "markdown",
   "metadata": {},
   "source": [
    "To write content to a file, we can open a new file and write the text to this file by using the **`write()`** method. Again, we can do this by using the context manager. Remember that we have to specify the **mode** using **`w`**. "
   ]
  },
  {
   "cell_type": "markdown",
   "metadata": {},
   "source": [
    "Let's first slightly adapt our Charlie story by replacing the names in the text:"
   ]
  },
  {
   "cell_type": "code",
   "execution_count": 25,
   "metadata": {},
   "outputs": [],
   "source": [
    "filepath = \"../Data/Charlie/charlie.txt\"\n",
    "\n",
    "# read in file and assign content to the variable content\n",
    "with open(filepath, \"r\") as infile:\n",
    "    content = infile.read()\n",
    "    \n",
    "# manipulate content\n",
    "\n",
    "your_name = \"Koen van der Pool\" #type in your name \n",
    "friends_name = \"Freddy Jesus de Lima\" #type in the name of a friend \n",
    "\n",
    "# Replace all instances of Charlie Bucket with your name and save it in new_content\n",
    "new_content = content.replace(\"Charlie Bucket\", your_name)\n",
    "\n",
    "# Replace all instancs of Mr Wonka with your friends name and save it in new_new_content\n",
    "new_new_content = new_content.replace(\"Mr Wonka\", friends_name)"
   ]
  },
  {
   "cell_type": "markdown",
   "metadata": {},
   "source": [
    "We can now save the manipulated content to a new file: "
   ]
  },
  {
   "cell_type": "code",
   "execution_count": 26,
   "metadata": {},
   "outputs": [],
   "source": [
    "filename = \"../Data/Charlie/charlie_new.txt\"\n",
    "with open(filename, \"w\") as outfile:\n",
    "    outfile.write(new_new_content)"
   ]
  },
  {
   "cell_type": "markdown",
   "metadata": {},
   "source": [
    "Open the file `charle_new.txt` in the folder `../Data/Charlie` in any text editor and read a personalized version of the story!"
   ]
  },
  {
   "cell_type": "markdown",
   "metadata": {},
   "source": [
    "**Note about append mode (`a`):** \n",
    "\n",
    "The third mode of opening a file is *append* ('a'). If the file 'charlie_new.txt' does not exist, then append and write act the same: they create this new file and fill it with content. The difference between write and append occurs when this file would exist. In that case, the write mode overwrites its content, while the append mode adds the new content at the end of the existing one."
   ]
  },
  {
   "cell_type": "markdown",
   "metadata": {},
   "source": [
    "# 4 Reading and writing multiple files"
   ]
  },
  {
   "cell_type": "markdown",
   "metadata": {},
   "source": [
    "You will often have multiple files to work with. The folder ../Data/Dreams contains 10 text files describing dreams of Vickie, a 10-year-old girl. These texts are extracted from [DreamBank](http://www.dreambank.net/).\n",
    "\n",
    "To process multiple files, we often want to *iterate* over a list of files. These files are usually stored in one or multiple directories on your computer.\n",
    "\n",
    "Instead of writing out every single file path, it is much more convenient to iterate over all the files in the directory `../Data/Dreams`. So we need to find a way to tell Python: \"I want to do something with all these files at this location!\"  \n",
    "\n",
    "There are two modules which make dealing with multiple files a lot easier. \n",
    "\n",
    "* glob\n",
    "* os\n",
    "\n",
    "We will introduce them below. "
   ]
  },
  {
   "cell_type": "markdown",
   "metadata": {},
   "source": [
    "## 4.1 The `glob` module"
   ]
  },
  {
   "cell_type": "markdown",
   "metadata": {},
   "source": [
    "The `glob` module is very useful to find all the pathnames matching a specified pattern according to the rules used by the Unix shell. You can use two wildcards: the asterisk (`*`) and the question mark (`?`). An asterisk matches zero or more characters in a segment of a name, while the question mark matches a single character in a segment of a name.\n",
    "\n",
    "For example, the following code gives all filenames in the directory `../Data/dreams`:"
   ]
  },
  {
   "cell_type": "code",
   "execution_count": 27,
   "metadata": {},
   "outputs": [],
   "source": [
    "import glob"
   ]
  },
  {
   "cell_type": "code",
   "execution_count": 28,
   "metadata": {},
   "outputs": [
    {
     "name": "stdout",
     "output_type": "stream",
     "text": [
      "../Data/Dreams/vickie8.txt\n",
      "../Data/Dreams/vickie9.txt\n",
      "../Data/Dreams/vickie10.txt\n",
      "../Data/Dreams/IGNORE_ME!\n",
      "../Data/Dreams/vickie7.txt\n",
      "../Data/Dreams/vickie6.txt\n",
      "../Data/Dreams/vickie4.txt\n",
      "../Data/Dreams/vickie5.txt\n",
      "../Data/Dreams/vickie1.txt\n",
      "../Data/Dreams/vickie2.txt\n",
      "../Data/Dreams/vickie3.txt\n"
     ]
    }
   ],
   "source": [
    "for filename in glob.glob(\"../Data/Dreams/*\"):\n",
    "    print(filename)"
   ]
  },
  {
   "cell_type": "markdown",
   "metadata": {},
   "source": [
    "If we only want to consider text files and ignore everything else (here a file called 'IGNORE_ME!'), we can specify this in our search by only looking for files with the extension `.txt`:"
   ]
  },
  {
   "cell_type": "code",
   "execution_count": 29,
   "metadata": {},
   "outputs": [
    {
     "name": "stdout",
     "output_type": "stream",
     "text": [
      "../Data/Dreams/vickie8.txt\n",
      "../Data/Dreams/vickie9.txt\n",
      "../Data/Dreams/vickie10.txt\n",
      "../Data/Dreams/vickie7.txt\n",
      "../Data/Dreams/vickie6.txt\n",
      "../Data/Dreams/vickie4.txt\n",
      "../Data/Dreams/vickie5.txt\n",
      "../Data/Dreams/vickie1.txt\n",
      "../Data/Dreams/vickie2.txt\n",
      "../Data/Dreams/vickie3.txt\n"
     ]
    }
   ],
   "source": [
    "for filename in glob.glob(\"../Data/Dreams/*.txt\"):\n",
    "    print(filename)"
   ]
  },
  {
   "cell_type": "markdown",
   "metadata": {},
   "source": [
    "A question mark (`?`) matches any single character in that position in the name. For example, the following code prints all filenames in the directory `../Data/dreams` that start with 'vickie' followed by exactly 1 character and end with the extension `.txt` (note that this will not print `vickie10.txt`):"
   ]
  },
  {
   "cell_type": "code",
   "execution_count": 30,
   "metadata": {},
   "outputs": [
    {
     "name": "stdout",
     "output_type": "stream",
     "text": [
      "../Data/Dreams/vickie8.txt\n",
      "../Data/Dreams/vickie9.txt\n",
      "../Data/Dreams/vickie7.txt\n",
      "../Data/Dreams/vickie6.txt\n",
      "../Data/Dreams/vickie4.txt\n",
      "../Data/Dreams/vickie5.txt\n",
      "../Data/Dreams/vickie1.txt\n",
      "../Data/Dreams/vickie2.txt\n",
      "../Data/Dreams/vickie3.txt\n"
     ]
    }
   ],
   "source": [
    "for filename in glob.glob(\"../Data/Dreams/vickie?.txt\"):\n",
    "    print(filename)"
   ]
  },
  {
   "cell_type": "markdown",
   "metadata": {},
   "source": [
    "You can also find filenames recursively by using the pattern `**` (the keyword argument `recursive` should be set to `True`), which will match any files and zero or more directories and subdirectories. The following code prints all files with the extension `.txt` in the directory `../Data/` and in all its subdirectories:"
   ]
  },
  {
   "cell_type": "code",
   "execution_count": 33,
   "metadata": {},
   "outputs": [],
   "source": [
    "for filename in glob.glob(\"../Data/**/*.txt\", recursive=True):\n",
    "    print(filename)"
   ]
  },
  {
   "cell_type": "markdown",
   "metadata": {},
   "source": [
    "## 4.2 The `os` module"
   ]
  },
  {
   "cell_type": "markdown",
   "metadata": {},
   "source": [
    "Another module that you will frequently see being used in examples is the `os` module. The `os` module has many features that can be very useful and which are not supported by the `glob` module. We will not go over each and every useful method here, but here's a list of some of the things that you can do (some of which we have seen above): \n",
    "\n",
    "- creating single or multiple directories: `os.mkdir()`, `os.mkdirs()`;\n",
    "- removing single or multiple directories: `os.rmdir()`, `os.rmdirs()`;\n",
    "- checking whether something is a file or a directory: `os.path.isfile()`, `os.path.isdir()`;\n",
    "- split a path and return a tuple containing the directory and filename: `os.path.split()`;\n",
    "- construct a pathname out of one or more partial pathnames: `os.path.join()`\n",
    "- split a filename and return a tuple containing the filename and the file extension: `os.path.splitext()`\n",
    "- get only the basename or the directory path: `os.path.basename()`, `os.path.dirname()`.\n",
    "\n",
    "Feel free to play around with these methods and figure out how they work yourself :-) "
   ]
  },
  {
   "cell_type": "code",
   "execution_count": 32,
   "metadata": {},
   "outputs": [
    {
     "data": {
      "text/plain": [
       "'charlie.txt'"
      ]
     },
     "execution_count": 32,
     "metadata": {},
     "output_type": "execute_result"
    }
   ],
   "source": [
    "# Start by importing the module:\n",
    "import os\n",
    "\n",
    "# let's use a filepath for testing it out:\n",
    "filepath = \"../Data/Charlie/charlie.txt\"\n",
    "os.path.basename(filepath)"
   ]
  },
  {
   "cell_type": "markdown",
   "metadata": {},
   "source": [
    "# Exercises"
   ]
  },
  {
   "cell_type": "markdown",
   "metadata": {},
   "source": [
    "**Exercise 1:** \n",
    "\n",
    "Write a program that opens `RedCircle.txt` in the `../Data/RedCircle` folder and prints its content as a single string:"
   ]
  },
  {
   "cell_type": "code",
   "execution_count": 48,
   "metadata": {},
   "outputs": [],
   "source": [
    "# your code here\n",
    "filepath = \"../Data/RedCircle/RedCircle.txt\"\n",
    "\n",
    "with open(filepath, \"r\") as infile:\n",
    "    content = infile.read()\n",
    "\n",
    "# uncomment to print\n",
    "# print(content)"
   ]
  },
  {
   "cell_type": "markdown",
   "metadata": {},
   "source": [
    "**Exercise 2:** \n",
    "\n",
    "Write a program that opens `RedCircle.txt` in the `../Data/RedCircle` folder and prints a list containing all lines in the file:"
   ]
  },
  {
   "cell_type": "code",
   "execution_count": 49,
   "metadata": {},
   "outputs": [],
   "source": [
    "# your code here\n",
    "filepath = \"../Data/RedCircle/RedCircle.txt\"\n",
    "\n",
    "with open(filepath, \"r\") as infile:\n",
    "    content = infile.readlines()\n",
    "\n",
    "# uncomment to print\n",
    "# print(content)"
   ]
  },
  {
   "cell_type": "markdown",
   "metadata": {},
   "source": [
    "**Exercise 3:** \n",
    "\n",
    "Create a counter dictionary like in block 2 (the dictionaries chapter), where you will count the number of occurences of each word in a file."
   ]
  },
  {
   "cell_type": "code",
   "execution_count": 52,
   "metadata": {},
   "outputs": [
    {
     "name": "stdout",
     "output_type": "stream",
     "text": [
      "{'Project': 78, \"Gutenberg's\": 1, 'The': 45, 'Adventure': 4, 'of': 282, 'the': 491, 'Red': 8, 'Circle,': 3, 'by': 43, 'Arthur': 4, 'Conan': 4, 'Doyle': 4, 'This': 11, 'eBook': 5, 'is': 123, 'for': 77, 'use': 9, 'anyone': 4, 'anywhere': 2, 'at': 49, 'no': 28, 'cost': 2, 'and': 245, 'with': 100, 'almost': 3, 'restrictions': 2, 'whatsoever.': 2, 'You': 23, 'may': 28, 'copy': 8, 'it,': 10, 'give': 9, 'it': 80, 'away': 6, 'or': 86, 're-use': 2, 'under': 6, 'terms': 19, 'Gutenberg': 20, 'License': 8, 'included': 2, 'this': 72, 'online': 4, 'www.gutenberg.net': 2, 'Title:': 1, 'Circle': 4, 'Author:': 1, 'Posting': 1, 'Date:': 2, 'October': 1, '23,': 1, '2008': 1, '[EBook': 1, '#2345]': 1, 'Release': 1, 'October,': 1, '2000': 1, 'Language:': 1, 'English': 2, '***': 6, 'START': 1, 'OF': 12, 'THIS': 5, 'PROJECT': 4, 'GUTENBERG': 3, 'EBOOK': 2, 'THE': 8, 'ADVENTURE': 2, 'RED': 2, 'CIRCLE': 2, 'Produced': 2, 'David': 2, 'Brannan.': 2, 'HTML': 2, 'version': 3, 'Al': 2, 'Haines.': 2, 'By': 4, 'Sir': 1, '\"Well,': 15, 'Mrs.': 18, 'Warren,': 7, 'I': 103, 'cannot': 11, 'see': 19, 'that': 119, 'you': 117, 'have': 48, 'any': 40, 'particular': 4, 'cause': 2, 'uneasiness,': 1, 'nor': 5, 'do': 28, 'understand': 6, 'why': 5, 'I,': 3, 'whose': 1, 'time': 6, 'some': 19, 'value,': 1, 'should': 21, 'interfere': 1, 'in': 153, 'matter.': 1, 'really': 1, 'other': 16, 'things': 5, 'to': 213, 'engage': 1, 'me.\"': 2, 'So': 3, 'spoke': 5, 'Sherlock': 2, 'Holmes': 11, 'turned': 4, 'back': 6, 'great': 7, 'scrapbook': 1, 'which': 41, 'he': 120, 'was': 98, 'arranging': 2, 'indexing': 1, 'his': 90, 'recent': 1, 'material.': 2, 'But': 9, 'landlady': 8, 'had': 57, 'pertinacity': 1, 'also': 5, 'cunning': 1, 'her': 21, 'sex.': 1, 'She': 5, 'held': 6, 'ground': 2, 'firmly.': 1, '\"You': 3, 'arranged': 2, 'an': 23, 'affair': 3, 'a': 208, 'lodger': 8, 'mine': 1, 'last': 4, 'year,\"': 1, 'she': 17, 'said--\"Mr.': 1, 'Fairdale': 1, 'Hobbs.\"': 1, '\"Ah,': 2, 'yes--a': 1, 'simple': 1, 'matter.\"': 2, '\"But': 10, 'would': 25, 'never': 9, 'cease': 2, 'talking': 1, 'it--your': 1, 'kindness,': 1, 'sir,': 6, 'way': 7, 'brought': 4, 'light': 5, 'into': 12, 'darkness.': 2, 'remembered': 1, 'words': 6, 'when': 20, 'doubt': 4, 'darkness': 1, 'myself.': 1, 'know': 8, 'could': 19, 'if': 22, 'only': 13, 'would.\"': 1, 'accessible': 2, 'upon': 34, 'side': 5, 'flattery,': 1, 'also,': 2, 'him': 41, 'justice,': 2, 'kindliness.': 1, 'two': 9, 'forces': 1, 'made': 7, 'lay': 5, 'down': 12, 'gum-brush': 1, 'sigh': 1, 'resignation': 1, 'push': 2, 'chair.': 3, 'well,': 4, 'let': 2, 'us': 19, 'hear': 7, 'about': 12, 'then.': 2, \"don't\": 6, 'object': 2, 'tobacco,': 1, 'take': 8, 'it?': 6, 'Thank': 1, 'you,': 3, 'Watson--the': 1, 'matches!': 1, 'are': 36, 'uneasy,': 1, 'as': 51, 'understand,': 3, 'because': 3, 'your': 27, 'new': 7, 'remains': 1, 'rooms': 4, 'him.': 8, 'Why,': 2, 'bless': 1, 'were': 28, 'often': 5, 'not': 50, 'me': 22, 'weeks': 1, 'on': 35, 'end.\"': 1, '\"No': 1, 'doubt,': 1, 'sir;': 3, 'but': 29, 'different.': 1, 'It': 23, 'frightens': 1, 'me,': 5, 'Mr.': 19, 'Holmes.': 7, \"can't\": 6, 'sleep': 1, 'fright.': 1, 'To': 5, 'quick': 2, 'step': 2, 'moving': 3, 'here': 4, 'there': 19, 'from': 49, 'early': 1, 'morning': 4, 'late': 1, 'night,': 5, 'yet': 7, 'catch': 2, 'so': 17, 'much': 10, 'glimpse': 2, \"him--it's\": 1, 'more': 20, 'than': 12, 'can': 34, 'stand.': 1, 'My': 7, 'husband': 11, 'nervous': 1, 'over': 12, 'am,': 1, 'out': 24, 'work': 34, 'all': 44, 'day,': 3, 'while': 6, 'get': 4, 'rest': 1, 'it.': 7, 'What': 18, 'hiding': 1, 'for?': 1, 'has': 26, 'done?': 1, 'Except': 3, 'girl,': 1, 'am': 6, 'alone': 3, 'house': 8, 'him,': 7, \"it's\": 3, 'my': 31, 'nerves': 1, 'stand.\"': 1, 'leaned': 1, 'forward': 3, 'laid': 2, 'long,': 1, 'thin': 2, 'fingers': 1, \"woman's\": 3, 'shoulder.': 1, 'He': 29, 'hypnotic': 1, 'power': 2, 'soothing': 1, 'wished.': 1, 'scared': 1, 'look': 1, 'faded': 1, 'eyes,': 1, 'agitated': 1, 'features': 1, 'smoothed': 1, 'their': 6, 'usual': 1, 'commonplace.': 1, 'sat': 2, 'chair': 2, 'indicated.': 1, '\"If': 3, 'up': 23, 'must': 17, 'every': 5, 'detail,\"': 1, 'said': 31, 'he.': 6, '\"Take': 1, 'consider.': 1, 'smallest': 1, 'point': 2, 'be': 54, 'most': 5, 'essential.': 1, 'say': 7, 'man': 13, 'came': 17, 'ten': 3, 'days': 9, 'ago': 1, 'paid': 7, \"fortnight's\": 1, 'board': 1, 'lodging?\"': 1, '\"He': 11, 'asked': 2, 'terms,': 1, 'sir.': 4, 'fifty': 2, 'shillings': 1, 'week.': 1, 'There': 13, 'small': 6, 'sitting-room': 3, 'bedroom,': 1, 'complete,': 1, 'top': 2, 'house.\"': 2, '\"Well?\"': 1, 'said,': 1, \"'I'll\": 1, 'pay': 2, 'five': 1, 'pounds': 1, 'week': 3, 'own': 8, \"terms.'\": 1, \"I'm\": 2, 'poor': 4, 'woman,': 4, 'Warren': 5, 'earns': 1, 'little,': 2, 'money': 7, 'meant': 2, 'me.': 4, 'took': 5, 'ten-pound': 1, 'note,': 1, 'then': 4, 'there.': 1, \"'You\": 1, 'same': 8, 'fortnight': 1, 'long': 2, 'come': 12, 'keep': 5, \"terms,'\": 1, 'said.': 2, \"'If\": 2, 'not,': 1, \"I'll\": 5, \"you.'\": 1, '\"What': 1, 'terms?\"': 1, 'they': 12, 'key': 2, 'house.': 2, 'That': 12, 'right.': 2, 'Lodgers': 1, 'them.': 2, 'Also,': 1, 'left': 5, 'entirely': 2, 'himself': 4, 'never,': 1, 'excuse,': 1, 'disturbed.\"': 1, '\"Nothing': 1, 'wonderful': 3, 'that,': 5, 'surely?\"': 1, '\"Not': 3, 'reason,': 1, 'reason.': 2, 'been': 14, 'days,': 2, 'neither': 3, 'girl': 2, 'once': 9, 'set': 9, 'eyes': 6, 'We': 13, 'pacing': 1, 'down,': 2, 'morning,': 2, 'noon;': 1, 'except': 2, 'first': 6, 'night': 5, 'gone': 5, '\"Oh,': 3, 'went': 4, 'did': 7, 'he?\"': 2, '\"Yes,': 6, 'returned': 5, 'very': 20, 'late--after': 1, 'we': 70, 'bed.': 1, 'told': 7, 'after': 10, 'taken': 4, 'bar': 1, 'door.': 3, 'heard': 4, 'stair': 3, 'midnight.\"': 1, 'meals?\"': 1, '\"It': 4, 'direction': 1, 'always,': 1, 'rang,': 1, 'leave': 6, 'meal': 1, 'chair,': 1, 'outside': 4, 'Then': 6, 'rings': 1, 'again': 3, 'finished,': 1, 'If': 20, 'wants': 2, 'anything': 4, 'else': 1, 'prints': 3, 'slip': 2, 'paper': 6, 'leaves': 1, 'it.\"': 4, '\"Prints': 1, 'it?\"': 3, 'pencil.': 1, 'Just': 1, 'word,': 1, 'nothing': 9, 'more.': 1, \"Here's\": 2, 'one': 20, 'show': 1, 'you--soap.': 1, 'another--match.': 1, 'morning--daily': 1, 'gazette.': 1, 'breakfast': 2, 'morning.\"': 1, '\"Dear': 3, 'Watson,\"': 4, 'Homes,': 1, 'staring': 1, 'curiosity': 1, 'slips': 1, 'foolscap': 1, 'handed': 2, '\"this': 1, 'certainly': 5, 'little': 9, 'unusual.': 1, 'Seclusion': 1, 'understand;': 1, 'print?': 1, 'Printing': 1, 'clumsy': 1, 'process.': 1, 'Why': 2, 'write?': 1, 'suggest,': 2, 'Watson?\"': 3, '\"That': 5, 'desired': 1, 'conceal': 3, 'handwriting.\"': 1, 'why?': 1, 'matter': 3, 'word': 3, 'writing?': 1, 'Still,': 1, 'say.': 1, 'Then,': 2, 'again,': 2, 'such': 16, 'laconic': 2, 'messages?\"': 1, '\"I': 16, 'imagine.\"': 2, 'opens': 1, 'pleasing': 1, 'field': 1, 'intelligent': 1, 'speculation.': 1, 'written': 4, 'broad-pointed,': 1, 'violet-tinted': 1, 'pencil': 1, 'unusual': 2, 'pattern.': 1, 'will': 21, 'observe': 3, 'torn': 1, 'printing': 1, 'done,': 1, \"'s'\": 1, \"'soap'\": 1, 'partly': 1, 'gone.': 1, 'Suggestive,': 1, 'Watson,': 9, 'not?\"': 1, '\"Of': 1, 'caution?\"': 1, '\"Exactly.': 1, 'evidently': 2, 'mark,': 1, 'thumbprint,': 1, 'something': 4, 'might': 3, 'clue': 1, \"person's\": 2, 'identity.': 1, 'Now.': 1, 'middle': 3, 'size,': 1, 'dark,': 4, 'bearded.': 1, 'age': 1, 'be?\"': 1, '\"Youngish,': 1, 'sir--not': 1, 'thirty.\"': 1, 'further': 4, 'indications?\"': 1, 'good': 5, 'English,': 3, 'thought': 9, 'foreigner': 1, 'accent.\"': 1, '\"And': 4, 'well': 1, 'dressed?\"': 1, '\"Very': 1, 'smartly': 1, 'dressed,': 1, 'sir--quite': 1, 'gentleman.': 1, 'Dark': 1, 'clothes--nothing': 1, 'note.\"': 1, 'gave': 3, 'name?\"': 1, '\"No,': 4, 'sir.\"': 3, 'letters': 1, 'callers?\"': 1, '\"None.\"': 1, 'surely': 4, 'enter': 1, 'room': 5, 'morning?\"': 2, 'looks': 1, 'entirely.\"': 1, 'me!': 2, 'remarkable.': 2, 'luggage?\"': 1, 'big': 2, 'brown': 1, 'bag': 1, 'him--nothing': 1, 'else.\"': 1, 'seem': 1, 'material': 1, 'help': 4, 'us.': 5, 'Do': 6, 'room--absolutely': 1, 'nothing?\"': 1, 'drew': 1, 'envelope': 1, 'bag;': 1, 'shook': 2, 'burnt': 2, 'matches': 2, 'cigarette-end': 1, 'table.': 2, '\"They': 1, 'tray': 3, 'morning.': 1, 'them': 6, 'read': 4, 'ones.\"': 1, 'shrugged': 1, 'shoulders.': 2, '\"There': 4, 'here,\"': 1, '\"The': 4, 'have,': 1, 'course,': 4, 'used': 6, 'cigarettes.': 1, 'obvious': 3, 'shortness': 1, 'end.': 1, 'Half': 2, 'match': 2, 'consumed': 1, 'lighting': 1, 'pipe': 1, 'cigar.': 1, 'But,': 1, 'dear': 3, 'cigarette': 1, 'stub': 1, 'gentleman': 1, 'bearded': 1, 'moustached,': 1, 'say?\"': 1, 'that.': 2, 'clean-shaven': 1, 'smoked': 1, 'this.': 1, 'even': 5, 'modest': 1, 'moustache': 1, 'singed.\"': 1, '\"A': 3, 'holder?\"': 1, 'suggested.': 1, 'no;': 1, 'end': 3, 'matted.': 1, 'suppose': 2, 'people': 5, 'rooms,': 2, 'Warren?\"': 1, 'eats': 1, 'wonder': 1, 'life': 4, 'one.\"': 1, 'think': 9, 'wait': 3, 'After': 2, 'all,': 2, 'complain': 1, 'of.': 1, 'received': 7, 'rent,': 1, 'troublesome': 1, 'lodger,': 1, 'though': 1, 'one.': 1, 'pays': 1, 'chooses': 1, 'lie': 1, 'concealed': 1, 'direct': 1, 'business': 3, 'yours.': 1, 'excuse': 2, 'intrusion': 1, 'privacy': 1, 'until': 1, 'reason': 2, 'guilty': 1, \"I've\": 4, 'matter,': 2, \"won't\": 1, 'lose': 1, 'sight': 2, 'Report': 1, 'fresh': 2, 'occurs,': 1, 'rely': 1, 'assistance': 2, 'needed.': 1, 'points': 1, 'interest': 2, 'case,': 1, 'remarked': 1, 'may,': 1, 'trivial--individual': 1, 'eccentricity;': 1, 'deeper': 1, 'appears': 2, 'surface.': 1, 'thing': 1, 'strike': 1, 'possibility': 1, 'person': 8, 'now': 6, 'different': 2, 'who': 22, 'engaged': 1, 'them.\"': 2, '\"Why': 3, 'so?\"': 3, 'apart': 1, 'form': 6, 'cigarette-end,': 1, 'suggestive': 1, 'immediately': 1, 'taking': 2, 'rooms?': 1, 'back--or': 1, 'someone': 1, 'back--when': 1, 'witnesses': 1, 'way.': 2, 'proof': 1, 'out.': 3, 'well.': 1, 'other,': 2, 'however,': 1, \"'match'\": 1, \"'matches.'\": 1, 'imagine': 1, 'dictionary,': 1, 'noun': 1, 'plural.': 1, 'style': 1, 'absence': 1, 'knowledge': 3, 'English.': 1, 'Yes,': 3, 'reasons': 3, 'suspect': 1, 'substitution': 3, 'lodgers.\"': 1, 'what': 18, 'possible': 2, 'end?\"': 1, '\"Ah!': 2, 'lies': 3, 'our': 26, 'problem.': 2, 'rather': 4, 'line': 1, 'investigation.\"': 2, 'book': 1, 'which,': 2, 'day': 3, 'filed': 1, 'agony': 2, 'columns': 2, 'various': 2, 'London': 5, 'journals.': 1, 'me!\"': 1, 'he,': 2, 'turning': 2, 'pages,': 1, '\"what': 1, 'chorus': 1, 'groans,': 1, 'cries,': 1, 'bleatings!': 1, 'rag-bag': 1, 'singular': 1, 'happenings!': 1, 'valuable': 1, 'hunting-ground': 1, 'ever': 4, 'given': 4, 'student': 1, 'unusual!': 1, 'approached': 1, 'letter': 2, 'without': 10, 'breach': 1, 'absolute': 3, 'secrecy': 1, 'desired.': 1, 'How': 4, 'news': 2, 'message': 5, 'reach': 2, 'without?': 1, 'Obviously': 1, 'advertisement': 1, 'through': 7, 'newspaper.': 2, 'seems': 3, 'way,': 3, 'fortunately': 1, 'need': 2, 'concern': 1, 'ourselves': 5, 'only.': 1, 'Here': 2, 'Daily': 1, 'Gazette': 1, 'extracts': 1, 'fortnight.': 1, \"'Lady\": 1, 'black': 3, 'boa': 1, \"Prince's\": 1, 'Skating': 1, \"Club'--that\": 1, 'pass.': 2, \"'Surely\": 1, 'Jimmy': 1, 'break': 2, \"mother's\": 1, \"heart'--that\": 1, 'irrelevant.': 1, 'lady': 4, 'fainted': 1, 'Brixton': 1, \"bus'--she\": 1, 'does': 7, \"'Every\": 1, 'heart': 2, \"longs--'\": 1, 'Bleat,': 1, 'Watson--unmitigated': 1, 'bleat!': 1, 'Ah,': 2, 'possible.': 3, 'Listen': 1, 'this:': 1, \"'Be\": 1, 'patient.': 1, 'Will': 1, 'find': 4, 'sure': 3, 'means': 5, 'communications.': 1, 'Meanwhile,': 1, 'column.': 1, \"G.'\": 4, \"Warren's\": 6, 'arrived.': 1, 'sounds': 1, 'plausible,': 1, 'not?': 4, 'mysterious': 3, 'print': 2, 'Let': 1, 'pick': 1, 'trace': 1, 'again.': 3, 'are--three': 1, 'later.': 1, \"'Am\": 1, 'making': 1, 'successful': 1, 'arrangements.': 1, 'Patience': 1, 'prudence.': 1, 'clouds': 1, 'Nothing': 1, 'comes': 3, 'definite:': 1, \"'The\": 1, 'path': 1, 'clearing.': 1, 'chance': 1, 'signal': 3, 'remember': 1, 'code': 1, 'agreed--One': 1, 'A,': 2, 'B,': 1, 'on.': 2, 'soon.': 1, \"yesterday's\": 1, 'paper,': 2, \"to-day's.\": 1, \"It's\": 1, 'appropriate': 1, 'lodger.': 3, 'grow': 1, 'intelligible.\"': 1, 'proved;': 1, 'found': 9, 'friend': 3, 'standing': 2, 'hearthrug': 1, 'fire': 1, 'smile': 1, 'complete': 1, 'satisfaction': 1, 'face.': 1, '\"How\\'s': 1, 'this,': 1, 'cried,': 1, 'picking': 1, '\"\\'High': 2, 'red': 4, 'white': 3, 'stone': 2, 'facings.': 1, 'Third': 1, 'floor.': 3, 'Second': 1, 'window': 5, 'left.': 2, 'dusk.': 1, 'definite': 1, 'enough.': 2, 'make': 11, 'reconnaissance': 1, 'neighbourhood.': 1, 'Warren!': 1, 'bring': 2, 'Our': 2, 'client': 1, 'suddenly': 6, 'burst': 1, 'explosive': 1, 'energy': 2, 'momentous': 1, 'development.': 1, '\"It\\'s': 1, 'police': 2, 'Holmes!\"': 1, 'cried.': 4, '\"I\\'ll': 2, 'it!': 2, 'shall': 4, 'pack': 1, 'baggage.': 1, 'straight': 2, 'so,': 2, 'fair': 1, 'opinion': 2, 'first.': 2, 'patience,': 1, 'knocking': 1, 'old': 4, 'about--\"': 1, '\"Knocking': 1, 'about?\"': 1, '\"Using': 1, 'roughly,': 1, 'anyway.\"': 1, 'roughly?\"': 1, \"that's\": 1, 'want': 2, 'know!': 1, 'timekeeper': 1, 'Morton': 1, \"Waylight's,\": 1, 'Tottenham': 1, 'Court': 1, 'Road.': 1, 'before': 7, 'seven.': 1, 'Well,': 4, 'paces': 1, 'road': 1, 'men': 1, 'behind': 3, 'threw': 2, 'coat': 1, 'head,': 3, 'bundled': 1, 'cab': 1, 'beside': 2, 'curb.': 1, 'They': 4, 'drove': 2, 'hour,': 1, 'opened': 1, 'door': 5, 'shot': 1, 'roadway': 1, 'shaken': 1, 'wits': 1, 'saw': 7, 'became': 1, 'cab.': 1, 'When': 5, 'picked': 1, 'Hampstead': 1, 'Heath;': 1, 'bus': 1, 'home,': 1, 'sofa,': 1, 'round': 8, 'tell': 2, 'happened.\"': 1, '\"Most': 1, 'interesting,\"': 1, '\"Did': 2, 'appearance': 1, 'these': 6, 'men--did': 1, 'talk?\"': 1, '\"No;': 1, 'clean': 1, 'dazed.': 1, 'just': 2, 'knows': 2, 'lifted': 2, 'magic': 1, 'dropped': 1, 'magic.': 1, 'Two': 2, 'least': 1, 'maybe': 1, 'three.\"': 1, 'connect': 1, 'attack': 3, 'lodger?\"': 1, \"we've\": 2, 'lived': 1, 'fifteen': 1, 'years': 2, 'happenings': 1, 'before.': 2, 'enough': 4, \"Money's\": 1, 'everything.': 1, 'done.\"': 1, '\"Wait': 2, 'bit,': 2, 'Warren.': 1, 'rash.': 1, 'begin': 1, 'important': 2, 'appeared': 4, 'sight.': 2, 'clear': 7, 'danger': 5, 'threatening': 2, 'equally': 1, 'enemies,': 1, 'lying': 2, 'near': 5, 'door,': 5, 'mistook': 1, 'foggy': 1, 'light.': 1, 'On': 2, 'discovering': 1, 'mistake': 1, 'released': 1, 'done': 1, 'mistake,': 1, 'conjecture.\"': 1, 'do,': 2, 'Holmes?\"': 3, 'fancy': 2, 'yours,': 1, 'Warren.\"': 1, 'how': 10, 'managed,': 1, 'unless': 5, 'always': 2, 'unlock': 1, 'go': 6, 'tray.\"': 1, 'in.': 1, 'Surely': 2, 'moment.': 2, \"there's\": 2, 'box-room': 1, 'opposite.': 2, 'arrange': 1, 'looking-glass,': 1, 'maybe,': 1, 'door--\"': 1, '\"Excellent!\"': 1, '\"When': 1, 'lunch?\"': 1, '\"About': 1, 'one,': 1, '\"Then': 1, 'Dr.': 3, 'Watson': 1, 'time.': 2, 'For': 4, 'present,': 1, 'good-bye.\"': 1, 'At': 4, 'half-past': 1, 'twelve': 1, 'steps': 2, 'house--a': 1, 'high,': 1, 'thin,': 1, 'yellow-brick': 1, 'edifice': 1, 'Great': 1, 'Orme': 1, 'Street,': 2, 'narrow': 2, 'thoroughfare': 1, 'northeast': 1, 'British': 2, 'Museum.': 1, 'Standing': 1, 'corner': 1, 'street,': 2, 'commands': 1, 'view': 2, 'Howe': 3, 'its': 8, 'ore': 1, 'pretentious': 1, 'houses.': 1, 'pointed': 2, 'chuckle': 2, 'these,': 1, 'row': 1, 'residential': 1, 'flats,': 2, 'projected': 2, 'fail': 1, 'eye.': 1, '\"See,': 1, 'Watson!\"': 1, \"facings.'\": 1, 'station': 1, 'place,': 1, 'code;': 1, 'task': 1, 'simple.': 1, \"There's\": 3, \"'to\": 1, \"let'\": 1, 'card': 2, 'window.': 4, 'empty': 2, 'flat': 3, 'confederate': 1, 'access.': 1, 'now?\"': 1, 'ready': 2, 'you.': 1, 'both': 6, 'boots': 1, 'below': 1, 'landing,': 1, 'put': 3, 'now.\"': 2, 'excellent': 2, 'hiding-plate': 1, 'arranged.': 1, 'mirror': 1, 'placed': 1, 'seated': 1, 'plainly': 1, 'hardly': 1, 'settled': 1, 'us,': 2, 'distant': 1, 'tinkle': 1, 'announced': 1, 'neighbour': 1, 'rung.': 1, 'Presently': 1, 'tray,': 1, 'closed': 1, 'then,': 3, 'treading': 1, 'heavily,': 1, 'departed.': 1, 'Crouching': 1, 'together': 3, 'angle': 1, 'kept': 1, 'fixed': 3, 'mirror.': 1, 'Suddenly,': 1, \"landlady's\": 1, 'footsteps': 1, 'died': 1, 'away,': 1, 'creak': 1, 'key,': 1, 'handle': 1, 'revolved,': 1, 'hands': 6, 'darted': 1, 'An': 1, 'instant': 3, 'later': 3, 'hurriedly': 1, 'replaced,': 1, 'caught': 2, 'beautiful,': 1, 'horrified': 1, 'face': 9, 'glaring': 1, 'opening': 1, 'box-room.': 1, 'crashed': 1, 'to,': 5, 'more,': 1, 'silence.': 1, 'twitched': 1, 'sleeve,': 1, 'stole': 1, 'stair.': 1, 'call': 1, 'evening,\"': 1, 'expectant': 1, 'landlady.': 1, 'think,': 1, 'discuss': 1, 'better': 3, 'quarters.\"': 1, '\"My': 1, 'surmise,': 1, 'saw,': 1, 'proved': 1, 'correct,\"': 1, 'speaking': 1, 'depths': 1, 'easy-chair.': 1, 'lodgers.': 1, 'foresee': 1, 'ordinary': 2, 'Watson.\"': 2, '\"She': 2, 'us.\"': 2, 'alarm': 1, 'her.': 2, 'certain.': 1, 'general': 2, 'sequence': 1, 'events': 1, 'pretty': 3, 'clear,': 1, 'A': 3, 'couple': 1, 'seek': 1, 'refuge': 2, 'terrible': 3, 'danger.': 2, 'measure': 1, 'rigour': 1, 'precautions.': 1, 'man,': 6, 'desires': 1, 'woman': 4, 'safety': 1, 'easy': 1, 'problem,': 1, 'solved': 1, 'original': 2, 'fashion,': 2, 'effectively': 1, 'presence': 3, 'known': 1, 'supplies': 1, 'food.': 1, 'printed': 3, 'messages,': 1, 'evident,': 1, 'prevent': 3, 'sex': 1, 'being': 1, 'discovered': 2, 'writing.': 1, 'guide': 1, 'enemies': 2, 'Since': 1, 'communicate': 2, 'direct,': 1, 'recourse': 1, 'column': 1, 'paper.': 1, 'far': 2, 'clear.\"': 1, 'root': 2, 'yes,': 1, 'Watson--severely': 1, 'practical,': 1, 'usual!': 1, 'all?': 1, 'whimsical': 1, 'problem': 1, 'enlarges': 1, 'somewhat': 1, 'assumes': 1, 'sinister': 2, 'aspect': 1, 'proceed.': 1, 'say:': 1, 'love': 4, 'escapade.': 1, 'sign': 1, 'heard,': 1, 'too,': 1, 'landlord,': 1, 'undoubtedly': 1, 'These': 1, 'alarms,': 1, 'desperate': 2, 'secrecy,': 1, 'argue': 1, 'death.': 1, 'shows': 1, 'enemy,': 1, 'whoever': 1, 'are,': 1, 'themselves': 1, 'aware': 2, 'female': 1, 'male.': 1, 'curious': 1, 'complex,': 1, 'gain': 2, '\"What,': 1, 'indeed?': 1, 'art': 1, \"art's\": 1, 'sake,': 1, 'Watson.': 2, 'doctored': 1, 'yourself': 2, 'studying': 1, 'cases': 1, 'fee?\"': 1, '\"For': 1, 'education,': 1, 'Holmes.\"': 2, '\"Education': 1, 'ends,': 1, 'series': 1, 'lessons': 1, 'greatest': 1, 'last.': 2, 'instructive': 1, 'case.': 1, 'credit': 2, 'wish': 3, 'tidy': 1, 'up.': 1, 'dusk': 1, 'stage': 1, 'advanced': 1, 'gloom': 1, 'winter': 1, 'evening': 3, 'thickened': 1, 'gray': 1, 'curtain,': 1, 'dead': 2, 'monotone': 1, 'colour,': 1, 'broken': 1, 'sharp': 2, 'yellow': 1, 'squares': 1, 'windows': 1, 'blurred': 1, 'haloes': 1, 'gas-lamps.': 1, 'As': 3, 'peered': 3, 'darkened': 1, 'lodging-house,': 1, 'dim': 2, 'glimmered': 1, 'high': 1, 'obscurity.': 1, '\"Someone': 2, 'room,\"': 1, 'whisper,': 1, 'gaunt': 1, 'eager': 1, 'thrust': 1, 'window-pane.': 1, 'shadow.': 1, 'again!': 3, 'candle': 3, 'hand.': 1, 'Now': 3, 'peering': 1, 'across.': 1, 'lookout.': 1, 'begins': 1, 'flash.': 1, 'Take': 1, 'check': 3, 'each': 5, 'other.': 1, 'single': 1, 'flash--that': 1, 'surely.': 1, 'Now,': 2, 'many': 2, 'Twenty.': 1, 'In.': 1, 'mean': 2, 'T.': 3, \"AT--that's\": 1, 'intelligible': 1, 'Another': 1, 'beginning': 2, 'second': 4, 'word.': 1, 'then--TENTA.': 1, 'Dead': 1, 'stop.': 1, 'Watson?': 3, 'ATTENTA': 2, 'gives': 1, 'sense.': 1, 'Nor': 1, 'three': 5, 'AT,': 1, 'TEN,': 1, 'TA,': 1, 'A.': 1, 'initials.': 1, 'goes': 2, \"What's\": 1, 'that?': 1, 'ATTE--why,': 1, 'Curious,': 1, 'curious.': 1, 'off': 3, 'more!': 1, 'AT--why': 1, 'repeating': 1, 'third': 3, 'times!': 1, 'repeat': 1, 'No,': 1, 'finish.': 1, 'withdrawn': 1, 'cipher': 2, 'message,': 2, 'companion': 2, 'sudden': 2, 'comprehension.': 1, 'obscure': 1, 'cipher,': 1, '\"Why,': 3, 'Italian!': 1, 'addressed': 1, 'woman.': 1, \"'Beware!\": 1, 'Beware!': 1, \"Beware!'\": 1, \"How's\": 1, 'believe': 2, 'hit': 1, 'urgent': 1, 'thrice': 1, 'repeated': 1, 'so.': 2, 'beware': 1, 'what?': 1, 'Wait': 1, 'coming': 1, 'more.\"': 1, 'Again': 1, 'silhouette': 1, 'crouching': 1, 'whisk': 1, 'flame': 1, 'across': 4, 'signals': 2, 'renewed.': 1, 'mor': 1, 'rapidly': 2, 'before--so': 1, 'rapid': 2, 'hard': 1, 'follow': 2, '\"PERICOLO--pericolo--eh,': 1, \"what's\": 1, \"'Danger,'\": 1, \"isn't\": 1, 'Jove,': 1, 'signal.': 1, 'PERI.': 1, 'Halloa,': 1, 'earth--\"': 1, 'out,': 2, 'glimmering': 1, 'square': 1, 'disappeared,': 1, 'floor': 3, 'formed': 1, 'dark': 3, 'band': 1, 'lofty': 1, 'building,': 1, 'tiers': 1, 'shining': 1, 'casements.': 1, 'warning': 2, 'cry': 2, 'cut': 1, 'short.': 1, 'How,': 1, 'whom?': 1, 'occurred': 1, 'both.': 1, 'sprang': 2, 'where': 5, 'crouched': 1, '\"This': 2, 'serious,': 1, 'devilry': 1, 'going': 1, 'forward!': 1, 'stop': 1, 'way?': 1, 'Scotland': 3, 'Yard': 2, 'touch': 1, 'business--and': 1, 'yet,': 1, 'too': 1, 'pressing': 1, 'leave.\"': 1, '\"Shall': 1, 'police?\"': 1, '\"We': 2, 'define': 1, 'situation': 2, 'clearly.': 1, 'bear': 1, 'innocent': 1, 'interpretation.': 1, 'Come,': 1, 'walked': 1, 'Street': 2, 'glanced': 1, 'building': 1, 'There,': 2, 'dimly': 1, 'outlined': 2, 'window,': 5, 'shadow': 1, 'gazing': 1, 'tensely,': 1, 'rigidly,': 1, 'waiting': 3, 'breathless': 1, 'suspense': 1, 'renewal': 1, 'interrupted': 1, 'message.': 1, 'doorway': 1, 'flats': 1, 'muffled': 1, 'cravat': 1, 'greatcoat,': 1, 'leaning': 1, 'against': 3, 'railing.': 1, 'started': 1, 'hall-light': 1, 'fell': 1, 'faces.': 1, '\"Holmes!\"': 1, 'Gregson!\"': 1, 'detective.': 2, '\"Journeys': 1, \"lovers'\": 1, 'meetings.': 1, 'brings': 1, 'here?\"': 1, 'expect,\"': 1, 'Gregson.': 4, '\"How': 1, 'got': 3, '\"Different': 1, 'threads,': 1, 'leading': 1, 'tangle.': 1, 'signals.\"': 1, '\"Signals?\"': 1, 'broke': 2, 'middle.': 1, 'since': 2, 'safe': 2, 'continuing': 1, 'business.\"': 1, 'bit!\"': 1, 'cried': 2, 'Gregson': 7, 'eagerly.': 1, 'Holmes,': 4, 'case': 2, \"didn't\": 1, 'feel': 1, 'stronger': 1, 'having': 2, 'side.': 1, 'exit': 1, 'safe.\"': 1, '\"Who': 1, 'score': 1, 'once,': 1, 'best': 3, 'time.\"': 2, 'struck': 4, 'stick': 1, 'sharply': 1, 'ground,': 1, 'cabman,': 1, 'whip': 1, 'hand,': 1, 'sauntered': 1, 'four-wheeler': 1, 'stood': 2, 'street.': 1, '\"May': 1, 'introduce': 1, 'cabman.': 1, 'Leverton,': 1, \"Pinkerton's\": 1, 'American': 4, 'Agency.\"': 1, 'hero': 1, 'Long': 1, 'Island': 1, 'cave': 1, 'mystery?\"': 1, '\"Sir,': 1, 'pleased': 1, 'meet': 3, 'you.\"': 2, 'American,': 2, 'quiet,': 1, 'businesslike': 2, 'young': 1, 'clean-shaven,': 2, 'hatchet': 1, 'face,': 1, 'flushed': 1, 'commendation.': 1, 'trail': 1, 'now,': 2, 'Holmes,\"': 2, 'Gorgiano--\"': 1, '\"What!': 1, 'Gorgiano': 7, 'Circle?\"': 1, 'European': 1, 'fame,': 1, 'he?': 1, 'learned': 2, 'America.': 2, 'KNOW': 1, 'bottom': 1, 'murders,': 1, 'positive': 1, 'tracked': 1, 'New': 7, 'York,': 1, 'close': 3, 'London,': 2, 'hand': 5, 'collar.': 1, 'ran': 2, 'tenement': 1, 'house,': 2, 'folk': 1, 'in,': 2, 'swear': 1, \"wasn't\": 1, '\"Mr.': 1, 'talks': 1, 'signals,\"': 1, 'expect,': 1, 'usual,': 1, 'deal': 2, 'don\\'t.\"': 1, 'In': 3, 'few': 4, 'explained': 1, 'vexation.': 1, '\"He\\'s': 1, 'us!\"': 1, 'figures': 1, 'is,': 1, 'sending': 2, 'messages': 1, 'accomplice--there': 1, 'several': 2, 'gang': 1, 'London.': 1, 'suddenly,': 1, 'account': 1, 'telling': 3, 'danger,': 2, 'short': 1, 'off.': 1, 'either': 2, 'was,': 2, 'act': 1, 'right': 4, 'avoid': 2, 'ourselves.\"': 1, 'warrant': 1, 'arrest.\"': 1, 'unoccupied': 1, 'premises': 1, 'suspicious': 1, 'circumstances,\"': 1, 'heels': 1, 'York': 4, 'responsibility': 1, 'arresting': 1, 'official': 5, 'detectives': 1, 'blunder': 1, 'intelligence,': 1, 'courage.': 1, 'climbed': 1, 'arrest': 1, 'murderer': 1, 'absolutely': 1, 'quiet': 1, 'bearing': 1, 'ascended': 1, 'staircase': 1, 'Yard.': 1, 'Pinkerton': 1, 'tried': 2, 'past': 1, 'firmly': 1, 'elbowed': 1, 'back.': 1, 'dangers': 1, 'privilege': 1, 'force.': 1, 'left-hand': 1, 'landing': 1, 'ajar.': 1, 'pushed': 2, 'open.': 1, 'Within': 1, 'silence': 1, 'lit': 3, \"detective's\": 1, 'lantern.': 1, 'flicker': 1, 'steadied': 1, 'flame,': 1, 'gasp': 1, 'surprise.': 1, 'boards': 1, 'carpetless': 1, 'track': 1, 'blood.': 1, 'towards': 2, 'led': 1, 'inner': 1, 'room,': 2, 'closed.': 1, 'flung': 1, 'open': 1, 'full': 13, 'blaze': 1, 'front': 1, 'eagerly': 1, 'huddled': 1, 'figure': 2, 'enormous': 1, 'swarthy': 1, 'grotesquely': 1, 'horrible': 1, 'contortion': 1, 'head': 5, 'encircled': 1, 'ghastly': 1, 'crimson': 1, 'halo': 1, 'blood,': 1, 'broad': 1, 'wet': 1, 'circle': 1, 'woodwork.': 1, 'His': 6, 'knees': 1, 'drawn': 3, 'up,': 2, 'thrown': 1, 'agony,': 1, 'centre': 1, 'broad,': 1, 'brown,': 1, 'upturned': 1, 'throat': 1, 'haft': 1, 'knife': 1, 'driven': 2, 'blade-deep': 1, 'body.': 2, 'Giant': 1, 'like': 3, 'pole-axed': 1, 'ox': 1, 'terrific': 1, 'blow.': 1, 'Beside': 1, 'formidable': 1, 'horn-handled,': 1, 'two-edged': 1, 'dagger': 1, 'floor,': 1, 'kid': 1, 'glove.': 1, '\"By': 1, 'George!': 1, 'Black': 1, 'himself!\"': 1, 'ahead': 1, '\"Here': 1, 'whatever': 1, 'doing?\"': 1, 'stepped': 1, 'across,': 1, 'candle,': 1, 'passing': 1, 'backward': 1, 'window-panes.': 1, 'darkness,': 1, 'blew': 1, 'helpful,\"': 1, 'deep': 1, 'professionals': 1, 'examining': 1, 'downstairs,\"': 1, 'closely?\"': 1, 'did.\"': 1, '\"Was': 1, 'fellow': 1, 'thirty,': 1, 'black-bearded,': 1, 'size?\"': 1, '\"Yes;': 1, 'pass': 1, 'fancy.': 1, 'description,': 1, 'outline': 1, 'footmark.': 1, 'much,': 1, 'among': 1, 'millions': 1, 'London.\"': 1, '\"Perhaps': 1, 'not.': 1, 'summon': 1, 'aid.\"': 1, 'words.': 2, 'framed': 1, 'doorway,': 1, 'tall': 1, 'beautiful': 3, 'woman--the': 1, 'Bloomsbury.': 1, 'Slowly': 1, 'advanced,': 1, 'pale': 2, 'frightful': 1, 'apprehension,': 1, 'staring,': 1, 'terrified': 1, 'gaze': 1, 'riveted': 1, 'killed': 5, 'him!\"': 2, 'muttered.': 1, 'Dio': 1, 'mio,': 1, 'intake': 1, 'breath,': 1, 'air': 1, 'joy.': 1, 'Round': 1, 'danced,': 1, 'clapping,': 1, 'gleaming': 1, 'delighted': 1, 'wonder,': 1, 'thousand': 1, 'Italian': 5, 'exclamations': 1, 'pouring': 1, 'lips.': 1, 'amazing': 1, 'convulsed': 1, 'joy': 1, 'Suddenly': 1, 'stopped': 1, 'gazed': 1, 'questioning': 1, 'stare.': 1, 'you!': 1, 'police,': 3, 'Giuseppe': 1, 'Gorgiano.': 1, 'Is': 1, 'madam.\"': 1, 'looked': 4, 'shadows': 1, 'room.': 1, 'where,': 1, 'Gennaro?\"': 1, 'asked.': 1, 'husband,': 1, 'Gennaro': 16, 'Lucca.': 1, 'Emilia': 1, 'Lucca,': 2, 'York.': 2, 'Where': 1, 'Gennaro?': 1, 'called': 3, 'moment': 1, 'speed.\"': 1, 'called,\"': 1, '\"You!': 1, 'call?\"': 1, '\"Your': 1, 'difficult,': 1, 'madam.': 1, 'Your': 1, 'desirable.': 1, 'knew': 4, 'flash': 1, \"'Vieni'\": 1, 'come.\"': 1, 'awe': 1, 'companion.': 1, 'things,\"': 1, '\"Giuseppe': 1, 'Gorgiano--how': 1, 'he--\"': 1, 'paused,': 1, 'pride': 1, 'delight.': 1, '\"Now': 2, 'Gennaro!': 1, 'splendid,': 1, 'Gennaro,': 3, 'guarded': 1, 'harm,': 1, 'strong': 1, 'monster!': 1, 'Oh,': 1, 'are!': 1, 'worthy': 1, 'man?\"': 1, 'Lucca,\"': 1, 'prosaic': 1, 'Gregson,': 2, 'laying': 1, \"lady's\": 2, 'sleeve': 1, 'sentiment': 1, 'Notting': 1, 'Hill': 1, 'hooligan,': 1, 'are;': 1, \"you've\": 1, 'Yard.\"': 1, '\"One': 2, 'moment,': 1, 'Gregson,\"': 2, 'anxious': 1, 'information': 4, 'madam,': 1, 'arrested': 1, 'death': 1, 'us?': 1, 'evidence.': 1, 'acted': 1, 'motives': 1, 'criminal,': 1, 'known,': 1, 'serve': 1, 'whole': 2, 'story.\"': 1, 'fear': 2, 'nothing,\"': 1, 'lady.': 1, 'devil': 1, 'monster,': 1, 'judge': 2, 'world': 2, 'punish': 2, 'him.\"': 1, '\"In': 1, 'case,\"': 1, '\"my': 1, 'suggestion': 1, 'lock': 1, 'them,': 1, 'hour': 1, 'seated,': 1, 'four,': 1, 'Signora': 1, 'listening': 2, 'remarkable': 1, 'narrative': 1, 'those': 4, 'events,': 1, 'ending': 1, 'chanced': 1, 'witness.': 1, 'fluent': 1, 'unconventional': 1, 'sake': 1, 'clearness,': 1, 'grammatical.': 1, 'born': 1, 'Posilippo,': 1, 'Naples,\"': 1, 'she,': 1, '\"and': 1, 'daughter': 1, 'Augusto': 1, 'Barelli,': 1, 'chief': 2, 'lawyer': 1, 'deputy': 1, 'part.': 1, \"father's\": 1, 'employment,': 2, 'must.': 1, 'position--nothing': 1, 'beauty': 1, 'strength': 1, 'energy--so': 1, 'father': 1, 'forbade': 1, 'match.': 1, 'fled': 3, 'together,': 2, 'married': 1, 'Bari,': 1, 'sold': 1, 'jewels': 1, 'four': 1, 'ago,': 1, 'since.': 1, '\"Fortune': 1, 'able': 1, 'service': 1, 'gentleman--he': 1, 'saved': 1, 'ruffians': 1, 'place': 2, 'Bowery,': 1, 'powerful': 1, 'friend.': 1, 'name': 4, 'Tito': 1, 'Castalotte,': 2, 'senior': 1, 'partner': 1, 'firm': 1, 'Castalotte': 3, 'Zamba,': 1, 'fruit': 1, 'importers': 1, 'Signor': 2, 'Zamba': 1, 'invalid,': 1, 'within': 7, 'firm,': 1, 'employs': 1, 'hundred': 1, 'men.': 1, 'department,': 1, 'showed': 2, 'good-will': 1, 'bachelor,': 1, 'felt': 1, 'son,': 1, 'loved': 1, 'father.': 1, 'furnished': 1, 'Brooklyn,': 1, 'future': 4, 'seemed': 2, 'assured': 1, 'cloud': 1, 'soon': 1, 'overspread': 1, 'sky.': 1, 'work,': 8, 'fellow-countryman': 1, 'Gorgiano,': 2, 'Posilippo.': 1, 'huge': 2, 'testify,': 1, 'corpse.': 1, 'Not': 1, 'body': 1, 'giant': 2, 'everything': 1, 'grotesque,': 1, 'gigantic,': 1, 'terrifying.': 1, 'voice': 1, 'thunder': 1, 'scarce': 1, 'whirl': 1, 'arms': 3, 'talked.': 1, 'thoughts,': 1, 'emotions,': 1, 'passions,': 1, 'exaggerated': 1, 'monstrous.': 1, 'talked,': 1, 'roared,': 1, 'others': 1, 'sit': 2, 'listen,': 1, 'cowed': 1, 'mighty': 2, 'stream': 1, 'blazed': 1, 'mercy.': 1, 'man.': 1, 'thank': 2, 'God': 1, 'dead!': 1, 'Yet': 1, 'happy': 1, 'presence.': 1, 'listless,': 1, 'endless': 1, 'raving': 1, 'politics': 1, 'social': 1, 'questions': 1, \"visitor's\": 1, 'conversation.': 1, 'nothing,': 1, 'emotion': 1, 'seen': 1, 'dislike.': 2, 'And': 2, 'gradually,': 1, 'understood': 2, 'fear--a': 1, 'deep,': 1, 'secret,': 1, 'shrinking': 1, 'fear.': 2, 'night--the': 1, 'terror--I': 1, 'implored': 2, 'hold': 2, 'overshadowed': 1, 'grew': 1, 'cold': 1, 'ice': 1, 'listened.': 1, 'wild': 1, 'fiery': 1, 'mind': 1, 'half': 1, 'mad': 1, 'injustices': 1, 'life,': 1, 'joined': 1, 'Neapolitan': 1, 'society,': 1, 'allied': 1, 'Carbonari.': 1, 'oaths': 1, 'secrets': 1, 'brotherhood': 1, 'frightful,': 1, 'rule': 1, 'escape': 1, 'America': 2, 'cast': 1, 'forever.': 1, 'horror': 1, 'streets': 1, 'initiated': 1, 'Naples,': 1, 'earned': 1, \"'Death'\": 1, 'south': 1, 'Italy,': 1, 'elbow': 1, 'murder!': 1, 'already': 2, 'planted': 1, 'branch': 1, 'dreadful': 3, 'society': 2, 'home.': 1, 'All': 2, 'summons': 1, 'lodge': 1, 'certain': 4, 'date,': 1, 'required': 2, 'ordered.': 1, 'bad': 1, 'enough,': 1, 'worse': 2, 'come.': 2, 'noticed': 1, 'constantly': 1, 'did,': 1, 'evening,': 1, 'me;': 1, 'terrible,': 1, 'glaring,': 1, 'wild-beast': 1, 'One': 1, 'secret': 1, 'awakened': 1, \"'love'\": 1, 'him--the': 1, 'brute--a': 1, 'savage.': 1, 'came.': 2, 'seized': 1, 'arms,': 1, 'hugged': 1, \"bear's\": 1, 'embrace,': 1, 'covered': 1, 'kisses,': 1, 'struggling': 1, 'screaming': 1, 'entered': 1, 'attacked': 1, 'senseless': 1, 'enter.': 1, 'deadly': 1, 'enemy': 1, 'night.': 1, 'meeting.': 1, 'occurred.': 1, 'imagined': 1, 'funds': 1, 'raised': 1, 'blackmailing': 1, 'rich': 1, 'Italians': 2, 'violence': 1, 'refuse': 1, 'money.': 1, 'benefactor,': 1, 'approached.': 1, 'refused': 1, 'yield': 1, 'threats,': 1, 'notices': 1, 'police.': 2, 'resolved': 1, 'example': 1, 'victim': 1, 'rebelling.': 1, 'meeting': 1, 'blown': 1, 'dynamite.': 1, 'drawing': 1, 'lots': 1, 'carry': 2, 'deed.': 1, \"enemy's\": 1, 'cruel': 1, 'smiling': 1, 'dipped': 1, 'bag.': 1, 'No': 1, 'prearranged': 1, 'fatal': 1, 'disc': 1, 'mandate': 1, 'murder,': 1, 'palm.': 1, 'kill': 1, 'friend,': 1, 'expose': 1, 'vengeance': 1, 'comrades.': 1, 'part': 5, 'fiendish': 1, 'system': 1, 'whom': 3, 'feared': 1, 'hated': 1, 'injuring': 1, 'persons': 1, 'loved,': 1, 'hung': 1, 'terror': 1, \"Gennaro's\": 1, 'nearly': 2, 'crazy': 1, 'apprehension.': 1, '\"All': 1, 'strengthening': 1, 'troubles': 1, 'next': 1, 'attempt.': 1, 'midday': 1, 'benefactor': 1, 'safeguard': 1, 'future.': 1, 'rest,': 1, 'gentlemen,': 1, 'yourselves.': 1, 'shadows.': 1, 'private': 1, 'vengeance,': 1, 'ruthless,': 1, 'cunning,': 1, 'untiring': 1, 'be.': 1, 'Both': 1, 'Italy': 1, 'stories': 1, 'powers.': 1, 'exerted': 1, 'now.': 1, 'darling': 1, 'start': 2, 'fashion': 1, 'part,': 1, 'wished': 1, 'free': 6, 'myself': 1, 'lived,': 1, 'how.': 1, 'watching': 1, 'retreat.': 1, 'Finally': 1, 'warnings,': 1, 'interrupted.': 1, 'God!': 1, 'gentleman,': 1, 'ask': 1, 'whether': 2, 'law,': 1, 'earth': 2, 'condemn': 1, 'done?\"': 1, 'looking': 1, 'official,': 1, 'be,': 1, 'guess': 1, 'receive': 4, 'vote': 1, 'thanks.\"': 1, 'chief,\"': 1, 'answered.': 1, 'says': 1, 'corroborated,': 1, 'tail': 1, 'of,': 1, 'YOU': 7, 'mixed': 1, '\"Education,': 1, 'education.': 1, 'Still': 1, 'seeking': 1, 'university.': 1, 'specimen': 1, 'tragic': 1, 'grotesque': 1, 'add': 1, 'collection.': 2, 'eight': 1, \"o'clock,\": 1, 'Wagner': 1, 'Covent': 1, 'Garden!': 1, 'hurry,': 1, 'act.\"': 1, 'End': 1, 'EBook': 1, 'END': 1, '*****': 2, 'file': 2, 'named': 1, '2345.txt': 1, '2345.zip': 1, 'associated': 7, 'files': 2, 'formats': 2, 'in:': 1, 'http://www.gutenberg.org/2/3/4/2345/': 1, 'Updated': 1, 'editions': 3, 'replace': 1, 'previous': 1, 'one--the': 1, 'renamed.': 1, 'Creating': 1, 'works': 22, 'public': 8, 'domain': 7, 'owns': 2, 'United': 10, 'States': 4, 'copyright': 12, 'works,': 5, 'Foundation': 14, '(and': 1, 'you!)': 1, 'distribute': 5, 'permission': 6, 'paying': 2, 'royalties.': 1, 'Special': 1, 'rules,': 1, 'forth': 8, 'General': 3, 'Terms': 2, 'Use': 2, 'license,': 2, 'apply': 1, 'copying': 2, 'distributing': 6, 'Gutenberg-tm': 53, 'electronic': 27, 'protect': 2, 'GUTENBERG-tm': 1, 'concept': 2, 'trademark.': 3, 'registered': 2, 'trademark,': 3, 'charge': 6, 'eBooks,': 2, 'specific': 1, 'permission.': 1, 'copies': 7, 'eBook,': 1, 'complying': 3, 'rules': 1, 'easy.': 1, 'purpose': 1, 'creation': 1, 'derivative': 3, 'reports,': 1, 'performances': 1, 'research.': 1, 'modified': 1, 'away--you': 1, 'practically': 1, 'ANYTHING': 1, 'eBooks.': 2, 'Redistribution': 1, 'subject': 1, 'trademark': 3, 'especially': 1, 'commercial': 1, 'redistribution.': 1, 'START:': 1, 'FULL': 2, 'LICENSE': 2, 'PLEASE': 1, 'READ': 1, 'BEFORE': 1, 'DISTRIBUTE': 1, 'OR': 6, 'USE': 1, 'WORK': 1, 'mission': 3, 'promoting': 2, 'distribution': 6, 'using': 4, '(or': 3, 'phrase': 4, '\"Project': 5, 'Gutenberg\"),': 1, 'agree': 7, 'comply': 6, 'Full': 1, '(available': 1, 'http://gutenberg.net/license).': 1, 'Section': 7, '1.': 1, 'Redistributing': 1, '1.A.': 1, 'reading': 1, 'indicate': 1, 'read,': 1, 'accept': 1, 'license': 1, 'intellectual': 2, 'property': 2, '(trademark/copyright)': 1, 'agreement.': 3, 'abide': 1, 'agreement,': 6, 'return': 3, 'destroy': 2, 'possession.': 1, 'fee': 8, 'obtaining': 2, 'access': 10, 'bound': 2, 'obtain': 3, 'refund': 6, 'entity': 3, 'paragraph': 10, '1.E.8.': 2, '1.B.': 1, 'Gutenberg\"': 4, 'See': 2, '1.C': 1, 'below.': 3, 'lot': 1, 'agreement': 8, 'preserve': 1, 'works.': 5, '1.E': 1, '1.C.': 1, 'Literary': 13, 'Archive': 13, '(\"the': 1, 'Foundation\"': 1, 'PGLAF),': 1, 'compilation': 1, 'collection': 3, 'Nearly': 1, 'individual': 4, 'States.': 4, 'located': 4, 'States,': 2, 'claim': 1, 'copying,': 2, 'distributing,': 1, 'performing,': 3, 'displaying': 2, 'creating': 3, 'based': 2, 'references': 2, 'removed.': 1, 'Of': 1, 'hope': 1, 'support': 3, 'freely': 4, 'sharing': 1, 'compliance': 3, 'keeping': 2, 'work.': 5, 'easily': 1, 'format': 4, 'attached': 1, 'share': 1, 'others.': 1, '1.D.': 1, 'laws': 7, 'govern': 1, 'Copyright': 1, 'countries': 1, 'constant': 1, 'state': 5, 'change.': 1, 'country': 2, 'addition': 1, 'downloading,': 1, 'displaying,': 2, 'makes': 1, 'representations': 1, 'concerning': 2, 'status': 4, '1.E.': 1, 'Unless': 1, 'removed': 1, 'Gutenberg:': 1, '1.E.1.': 2, 'following': 3, 'sentence,': 1, 'active': 2, 'links': 3, 'immediate': 2, 'appear': 1, 'prominently': 2, 'whenever': 1, '(any': 1, 'appears,': 1, 'associated)': 1, 'accessed,': 1, 'displayed,': 1, 'performed,': 1, 'viewed,': 1, 'copied': 2, 'distributed:': 1, '1.E.2.': 1, 'derived': 1, '(does': 1, 'contain': 2, 'notice': 2, 'indicating': 1, 'posted': 5, 'holder),': 1, 'distributed': 3, 'fees': 2, 'charges.': 1, 'redistributing': 1, 'providing': 4, 'appearing': 1, 'requirements': 2, 'paragraphs': 3, '1.E.1': 3, '1.E.7': 2, '1.E.8': 2, '1.E.9.': 3, '1.E.3.': 1, 'holder,': 1, 'additional': 3, 'imposed': 1, 'holder.': 1, 'Additional': 1, 'linked': 1, 'holder': 1, '1.E.4.': 1, 'unlink': 1, 'detach': 1, 'remove': 1, 'containing': 1, 'Gutenberg-tm.': 1, '1.E.5.': 1, 'copy,': 4, 'display,': 1, 'perform,': 1, 'redistribute': 1, 'sentence': 1, 'License.': 2, '1.E.6.': 1, 'convert': 1, 'binary,': 1, 'compressed,': 1, 'marked': 2, 'nonproprietary': 1, 'proprietary': 1, 'form,': 1, 'including': 8, 'processing': 1, 'hypertext': 1, 'form.': 2, 'However,': 1, 'provide': 6, '\"Plain': 2, 'Vanilla': 2, 'ASCII\"': 2, 'web': 3, 'site': 4, '(www.gutenberg.net),': 1, 'must,': 1, 'cost,': 1, 'expense': 1, 'user,': 1, 'exporting': 1, 'request,': 1, 'Any': 1, 'alternate': 1, 'include': 1, 'specified': 2, '1.E.7.': 1, 'viewing,': 1, 'reasonable': 1, 'provided': 3, '-': 7, 'royalty': 1, '20%': 1, 'gross': 1, 'profits': 1, 'derive': 1, 'calculated': 1, 'method': 1, 'calculate': 1, 'applicable': 3, 'taxes.': 1, 'owed': 1, 'owner': 3, 'agreed': 1, 'donate': 1, 'royalties': 1, 'Foundation.': 1, 'Royalty': 2, 'payments': 3, '60': 1, 'date': 2, 'prepare': 1, 'legally': 1, 'prepare)': 1, 'periodic': 1, 'tax': 6, 'returns.': 1, 'clearly': 1, 'sent': 1, 'address': 1, '4,': 1, '\"Information': 1, 'donations': 11, 'Foundation.\"': 1, 'user': 2, 'notifies': 1, 'writing': 3, 'e-mail)': 1, '30': 1, 'receipt': 2, 's/he': 1, 'require': 1, 'possessed': 1, 'physical': 2, 'medium': 3, 'discontinue': 1, 'provide,': 1, 'accordance': 2, '1.F.3,': 3, 'replacement': 3, 'defect': 2, 'reported': 1, '90': 2, 'group': 1, 'Michael': 2, 'Hart,': 1, 'Contact': 1, '3': 2, '1.F.': 1, '1.F.1.': 1, 'volunteers': 5, 'employees': 2, 'expend': 1, 'considerable': 2, 'effort': 1, 'identify,': 1, 'research': 1, 'on,': 1, 'transcribe': 1, 'proofread': 1, 'Despite': 1, 'efforts,': 1, 'stored,': 1, '\"Defects,\"': 1, 'as,': 1, 'limited': 2, 'incomplete,': 1, 'inaccurate': 1, 'corrupt': 1, 'data,': 1, 'transcription': 1, 'errors,': 1, 'infringement,': 1, 'defective': 2, 'damaged': 1, 'disk': 1, 'medium,': 2, 'computer': 2, 'virus,': 1, 'codes': 1, 'damage': 1, 'equipment.': 2, '1.F.2.': 1, 'LIMITED': 3, 'WARRANTY,': 1, 'DISCLAIMER': 1, 'DAMAGES': 2, '\"Right': 1, 'Replacement': 1, 'Refund\"': 1, 'described': 1, 'Foundation,': 4, 'party': 1, 'disclaim': 1, 'liability': 1, 'damages,': 1, 'costs': 2, 'expenses,': 2, 'legal': 2, 'fees.': 1, 'AGREE': 2, 'THAT': 2, 'HAVE': 1, 'NO': 2, 'REMEDIES': 1, 'FOR': 3, 'NEGLIGENCE,': 1, 'STRICT': 1, 'LIABILITY,': 1, 'BREACH': 2, 'WARRANTY': 1, 'CONTRACT': 1, 'EXCEPT': 1, 'THOSE': 1, 'PROVIDED': 1, 'IN': 1, 'PARAGRAPH': 1, 'F3.': 1, 'FOUNDATION,': 1, 'TRADEMARK': 1, 'OWNER,': 1, 'AND': 1, 'ANY': 3, 'DISTRIBUTOR': 1, 'UNDER': 1, 'AGREEMENT': 1, 'WILL': 1, 'NOT': 2, 'BE': 1, 'LIABLE': 1, 'TO': 2, 'ACTUAL,': 1, 'DIRECT,': 1, 'INDIRECT,': 1, 'CONSEQUENTIAL,': 1, 'PUNITIVE': 1, 'INCIDENTAL': 1, 'EVEN': 1, 'IF': 1, 'GIVE': 1, 'NOTICE': 1, 'POSSIBILITY': 1, 'SUCH': 1, 'DAMAGE.': 1, '1.F.3.': 1, 'RIGHT': 1, 'REPLACEMENT': 1, 'REFUND': 1, 'discover': 1, 'receiving': 1, '(if': 1, 'any)': 1, 'explanation': 1, 'from.': 1, 'explanation.': 1, 'elect': 1, 'lieu': 2, 'refund.': 2, 'electronically,': 1, 'choose': 1, 'opportunity': 1, 'electronically': 1, 'defective,': 1, 'demand': 1, 'opportunities': 1, 'fix': 1, '1.F.4.': 1, \"'AS-IS'\": 1, 'WITH': 1, 'OTHER': 1, 'WARRANTIES': 2, 'KIND,': 1, 'EXPRESS': 1, 'IMPLIED,': 1, 'INCLUDING': 1, 'BUT': 1, 'MERCHANTIBILITY': 1, 'FITNESS': 1, 'PURPOSE.': 1, '1.F.5.': 1, 'Some': 1, 'states': 4, 'allow': 1, 'disclaimers': 1, 'implied': 1, 'warranties': 1, 'exclusion': 1, 'limitation': 3, 'types': 1, 'damages.': 1, 'disclaimer': 2, 'violates': 1, 'law': 1, 'interpreted': 1, 'maximum': 1, 'permitted': 2, 'law.': 1, 'invalidity': 1, 'unenforceability': 1, 'provision': 1, 'void': 1, 'remaining': 1, 'provisions.': 1, '1.F.6.': 1, 'INDEMNITY': 1, 'indemnify': 1, 'owner,': 1, 'agent': 1, 'employee': 1, 'production,': 1, 'promotion': 1, 'harmless': 1, 'liability,': 1, 'fees,': 1, 'arise': 1, 'directly': 1, 'indirectly': 1, 'occur:': 1, '(a)': 1, '(b)': 1, 'alteration,': 1, 'modification,': 1, 'additions': 1, 'deletions': 1, '(c)': 1, 'Defect': 1, 'cause.': 1, '2.': 1, 'Information': 4, 'Mission': 1, 'synonymous': 1, 'readable': 2, 'widest': 2, 'variety': 1, 'computers': 1, 'obsolete,': 1, 'old,': 1, 'middle-aged': 1, 'computers.': 1, 'exists': 1, 'efforts': 2, 'hundreds': 1, 'walks': 1, 'life.': 1, 'Volunteers': 1, 'financial': 1, 'need,': 1, 'critical': 1, 'reaching': 1, \"Gutenberg-tm's\": 1, 'goals': 1, 'ensuring': 1, 'remain': 1, 'available': 1, 'generations': 1, '2001,': 1, 'created': 2, 'secure': 1, 'permanent': 1, 'generations.': 1, 'learn': 1, 'help,': 1, 'Sections': 1, '4': 1, 'page': 2, 'http://www.pglaf.org.': 1, '3.': 1, 'non': 1, 'profit': 1, '501(c)(3)': 2, 'educational': 1, 'corporation': 1, 'organized': 1, 'Mississippi': 1, 'granted': 1, 'exempt': 2, 'Internal': 1, 'Revenue': 1, 'Service.': 1, \"Foundation's\": 3, 'EIN': 1, 'federal': 2, 'identification': 1, 'number': 3, '64-6221541.': 1, 'Its': 2, 'http://pglaf.org/fundraising.': 1, 'Contributions': 1, 'deductible': 1, 'extent': 1, 'U.S.': 3, \"state's\": 1, 'laws.': 1, 'principal': 1, 'office': 2, '4557': 1, 'Melan': 1, 'S.': 2, 'Fairbanks,': 1, 'AK,': 1, '99712.,': 1, 'scattered': 1, 'throughout': 1, 'numerous': 1, 'locations.': 1, '809': 1, 'North': 1, '1500': 1, 'West,': 1, 'Salt': 1, 'Lake': 1, 'City,': 1, 'UT': 1, '84116,': 1, '(801)': 1, '596-1887,': 1, 'email': 2, 'business@pglaf.org.': 1, 'Email': 1, 'contact': 3, 'http://pglaf.org': 2, 'information:': 1, 'Gregory': 1, 'B.': 1, 'Newby': 1, 'Chief': 1, 'Executive': 1, 'Director': 1, 'gbnewby@pglaf.org': 1, '4.': 1, 'Donations': 2, 'depends': 1, 'survive': 1, 'wide': 1, 'spread': 1, 'increasing': 1, 'licensed': 1, 'machine': 1, 'array': 1, 'equipment': 1, 'outdated': 1, 'Many': 1, '($1': 1, '$5,000)': 1, 'particularly': 1, 'maintaining': 1, 'IRS.': 1, 'committed': 1, 'regulating': 1, 'charities': 1, 'charitable': 1, '50': 1, 'Compliance': 1, 'uniform': 1, 'takes': 1, 'effort,': 1, 'paperwork': 1, 'requirements.': 1, 'solicit': 2, 'locations': 1, 'confirmation': 1, 'compliance.': 1, 'SEND': 1, 'DONATIONS': 1, 'determine': 1, 'visit': 1, 'While': 1, 'contributions': 1, 'met': 1, 'solicitation': 1, 'requirements,': 1, 'prohibition': 1, 'accepting': 1, 'unsolicited': 1, 'donors': 1, 'approach': 1, 'offers': 1, 'donate.': 1, 'International': 1, 'gratefully': 1, 'accepted,': 1, 'statements': 1, 'treatment': 1, 'swamp': 1, 'staff.': 1, 'Please': 1, 'Web': 3, 'pages': 1, 'current': 1, 'donation': 1, 'methods': 1, 'addresses.': 1, 'accepted': 1, 'ways': 1, 'checks,': 1, 'donations.': 1, 'donate,': 1, 'please': 1, 'visit:': 1, 'http://pglaf.org/donate': 1, '5.': 1, 'About': 1, 'Professor': 1, 'Hart': 1, 'originator': 1, 'library': 1, 'shared': 1, 'anyone.': 1, 'thirty': 1, 'years,': 1, 'produced': 1, 'eBooks': 3, 'loose': 1, 'network': 1, 'volunteer': 1, 'support.': 1, 'editions,': 1, 'confirmed': 1, 'Public': 1, 'Domain': 1, 'included.': 1, 'Thus,': 1, 'necessarily': 1, 'edition.': 1, 'Most': 1, 'main': 1, 'PG': 1, 'search': 1, 'facility:': 1, 'http://www.gutenberg.net': 1, 'includes': 1, 'Gutenberg-tm,': 1, 'produce': 1, 'subscribe': 1, 'newsletter': 1}\n"
     ]
    }
   ],
   "source": [
    "# your code here\n",
    "filepath = \"../Data/RedCircle/RedCircle.txt\"\n",
    "\n",
    "with open(filepath, \"r\") as infile:\n",
    "    content = infile.read()\n",
    "\n",
    "words_in_content = content.split()\n",
    "word2freq = dict()\n",
    "\n",
    "for word in words_in_content: \n",
    "    \n",
    "    if word in word2freq: # add 1 to the dictionary if the keys exists\n",
    "        word2freq[word] += 1 \n",
    "    else:\n",
    "        word2freq[word] = 1 # set default value to 1 if key does not exists \n",
    "\n",
    "# uncomment to print\n",
    "print(word2freq)"
   ]
  },
  {
   "cell_type": "markdown",
   "metadata": {},
   "source": [
    "**Exercise 4:** \n",
    "\n",
    "The module `os` implements functions that allow us to work with the operating system (see folder contents, change directory, etc.). Use the function `listdir` from the module `os` to see the contents of the current directory. Then print all the items that do not start with a dot."
   ]
  },
  {
   "cell_type": "code",
   "execution_count": 58,
   "metadata": {},
   "outputs": [
    {
     "name": "stdout",
     "output_type": "stream",
     "text": [
      "Chapter 20 - Visualization and Statistics.ipynb\n",
      "Chapter 14 - Reading and writing text files.ipynb\n",
      "hello_world.py\n",
      "Chapter 12 - Importing external modules.ipynb\n",
      "my_second_program.py\n",
      "the_program_v2.py\n",
      "images\n",
      "Chapter 10 - Dictionaries.ipynb\n",
      "Chapter 16 - Data formats I (CSV and TSV).ipynb\n",
      "Chapter 09 - Looping over containers.ipynb\n",
      "Chapter 05 - Core concepts of containers.ipynb\n",
      "Chapter 04 - Boolean Expressions and Conditions.ipynb\n",
      "Chapter 08 - Comparison of lists and sets.ipynb\n",
      "Chapter 06 - Lists.ipynb\n",
      "Chapter 07 - Sets.ipynb\n",
      "Chapter 19 - More about Natural Language Processing Tools (spaCy).ipynb\n",
      "Chapter 03 - Strings.ipynb\n",
      "__pycache__\n",
      "Chapter 01 - Getting Started with Variables and Values.ipynb\n",
      "Chapter 21 - Tables and Networks.ipynb\n",
      "Chapter 15 - Off to analyzing text.ipynb\n",
      "Chapter 18 - Data formats III (XML).ipynb\n",
      "utils_chapter11.py\n",
      "my_utils.py\n",
      "the_program.py\n",
      "Chapter 02 - Basic Data Types (Integers and Floats).ipynb\n",
      "Chapter 17 -  Data formats II (JSON).ipynb\n",
      "utils.py\n",
      "beersong.py\n",
      "Chapter 13 - Working with Python files.ipynb\n",
      "Chapter 22 - Sentiment analysis with VADER.ipynb\n",
      "Chapter 11 - Functions and scope.ipynb\n"
     ]
    }
   ],
   "source": [
    "files = os.listdir()\n",
    "\n",
    "for file in files:\n",
    "    if file[0] == \".\":\n",
    "        continue\n",
    "    else:\n",
    "        print(file)"
   ]
  },
  {
   "cell_type": "code",
   "execution_count": 57,
   "metadata": {},
   "outputs": [],
   "source": [
    "# done"
   ]
  },
  {
   "cell_type": "code",
   "execution_count": null,
   "metadata": {},
   "outputs": [],
   "source": []
  }
 ],
 "metadata": {
  "kernelspec": {
   "display_name": "Python 3 (ipykernel)",
   "language": "python",
   "name": "python3"
  },
  "language_info": {
   "codemirror_mode": {
    "name": "ipython",
    "version": 3
   },
   "file_extension": ".py",
   "mimetype": "text/x-python",
   "name": "python",
   "nbconvert_exporter": "python",
   "pygments_lexer": "ipython3",
   "version": "3.10.12"
  }
 },
 "nbformat": 4,
 "nbformat_minor": 4
}
