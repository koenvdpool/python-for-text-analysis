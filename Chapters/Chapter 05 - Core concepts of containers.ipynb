{
 "cells": [
  {
   "cell_type": "markdown",
   "metadata": {},
   "source": [
    "# Chapter 5 - Core concepts of containers\n",
    "In the next chapters, we will introduce the most important containers in the Python language: **lists**, **sets**, **tuples**, and **dictionaries**. However, before we introduce them, it's important that we present some things that they all share, which is the goal of this chapter."
   ]
  },
  {
   "cell_type": "markdown",
   "metadata": {},
   "source": [
    "**At the end of this chapter, you will be able to understand the following concepts:**\n",
    "* positional parameters / [positional-only arguments](https://deepsource.io/blog/python-positional-only-arguments/)\n",
    "\n",
    "* keyword parameters\n",
    "* mutability"
   ]
  },
  {
   "cell_type": "markdown",
   "metadata": {},
   "source": [
    "**If you want to learn more about these topics, you might find the following links useful:**\n",
    "* [the Python glossary](https://docs.python.org/3/glossary.html): please look for the terms *immutable*, *parameter*, and *argument*\n",
    "* [What is the difference between arguments and parameters?](https://docs.python.org/3/faq/programming.html#faq-argument-vs-parameter)"
   ]
  },
  {
   "cell_type": "markdown",
   "metadata": {},
   "source": [
    "If you have **questions** about this chapter, please contact us **(cltl.python.course@gmail.com)**."
   ]
  },
  {
   "cell_type": "markdown",
   "metadata": {},
   "source": [
    "## 1. Containers\n",
    "\n",
    "When working with data, we use different Python objects (which we summarize **containers**) to order data in a way that is convenient for the task we are trying to solve. Each of the following container types has different advantages for storing and accessing data (which you will learn about in the following chapters):\n",
    "\n",
    "* lists\n",
    "* tuples\n",
    "* sets\n",
    "* dictionaries\n",
    "\n",
    "Each container type can be manipulated using different methods and functions, for instance, allowing us to add, access, or remove data. It is important that you understand those."
   ]
  },
  {
   "cell_type": "code",
   "execution_count": 3,
   "metadata": {},
   "outputs": [
    {
     "name": "stdout",
     "output_type": "stream",
     "text": [
      "[1, 2, 3, \"let's\", 'use', 'containers']\n",
      "(1, 2, 3, \"let's\", 'use', 'containers')\n",
      "{'use', 1, 2, 3, \"let's\", 'containers'}\n",
      "{1: \"let's\", 2: 'use', 3: 'containers'}\n"
     ]
    }
   ],
   "source": [
    "# Some examples (you do not have to remember this now):\n",
    "\n",
    "a_list = [1,2,3, \"let's\", \"use\", \"containers\"]\n",
    "a_tuple = (1, 2, 3, \"let's\", \"use\", \"containers\")\n",
    "a_set = {1, 2, 3, \"let's\", \"use\", \"containers\"}\n",
    "a_dict = {1:\"let's\",  2:\"use\", 3: \"containers\"}\n",
    "\n",
    "print(a_list)\n",
    "print(a_tuple)\n",
    "print(a_set)\n",
    "print(a_dict)"
   ]
  },
  {
   "cell_type": "markdown",
   "metadata": {},
   "source": [
    "## 2. Understanding class methods\n",
    "Let's look at some string method examples from the last chapters:"
   ]
  },
  {
   "cell_type": "code",
   "execution_count": 4,
   "metadata": {},
   "outputs": [
    {
     "name": "stdout",
     "output_type": "stream",
     "text": [
      "example 1. upper method: HELLO WORLD\n",
      "example 2. count method: 3\n",
      "example 3. replace method: hebbo worbd\n",
      "example 4. split method: ['hello', 'world']\n",
      "example 5. split method: ['hell', ' w', 'rld']\n"
     ]
    }
   ],
   "source": [
    "a_string = 'hello world'\n",
    "print('example 1. upper method:', a_string.upper())\n",
    "print('example 2. count method:', a_string.count('l'))\n",
    "print('example 3. replace method:', a_string.replace('l', 'b'))\n",
    "print('example 4. split method:', a_string.split())\n",
    "print('example 5. split method:', a_string.split(sep='o'))"
   ]
  },
  {
   "cell_type": "markdown",
   "metadata": {},
   "source": [
    "In all of the examples above, a string method is called, e.g., *upper* or *count*.\n",
    "However, they differ regarding their arguments:\n",
    "* There are no arguments in the case of upper, i.e., no arguments between the round brackets.\n",
    "* for count, we specify a string 'l' as an argument\n",
    "* for replace, we specify two strings as arguments\n",
    "* for split, we can specify an argument, but we do not have to\n",
    "\n",
    "This might look a bit confusing. Luckily Python has a built-in function **help**, which provides us insight into how to use each method. We will guide you through understanding the information provided for the string method **replace**."
   ]
  },
  {
   "cell_type": "code",
   "execution_count": 5,
   "metadata": {},
   "outputs": [
    {
     "name": "stdout",
     "output_type": "stream",
     "text": [
      "Help on method_descriptor:\n",
      "\n",
      "replace(self, old, new, count=-1, /)\n",
      "    Return a copy with all occurrences of substring old replaced by new.\n",
      "    \n",
      "      count\n",
      "        Maximum number of occurrences to replace.\n",
      "        -1 (the default value) means replace all occurrences.\n",
      "    \n",
      "    If the optional argument count is given, only the first count occurrences are\n",
      "    replaced.\n",
      "\n"
     ]
    }
   ],
   "source": [
    "help(str.replace)"
   ]
  },
  {
   "cell_type": "markdown",
   "metadata": {},
   "source": [
    "The method documentation contains three parts:\n",
    "1. **data structure**: sentence starting with *Help on*. This simply indicates the data structure for which information is shown, which is a method in this case.\n",
    "2. **parameters**: information about the parameters of the method, i.e., **replace(self, old, new, count=-1, /)**. This is the most important part of the documentation.\n",
    "3. **docstring**: explanation about the method in free text"
   ]
  },
  {
   "cell_type": "markdown",
   "metadata": {},
   "source": [
    "Let's go through the parameters of the string method **replace**:\n",
    "* *self*: for now, the only thing to remember about *self* is that it tells you that replace is a method and that you should ignore it when calling the method!\n",
    "* *old*: this is a positional parameter\n",
    "* *new*: this is a positional parameter\n",
    "* *count=-1*: this is a positional parameter with a default value, i.e., -1\n",
    "* */* (forward slash): this helps us know the type of the parameter (don't worry! we will come back to this!)"
   ]
  },
  {
   "cell_type": "markdown",
   "metadata": {},
   "source": [
    "In the enumeration above, we've used the term **positional parameter**, but there are also **keyword parameters**. What are they, and in what do they differ?\n",
    "* Positional parameters are **compulsory** to call a method (**unless they have a default value!**). Without them, you will not successfully call the method.\n",
    "* Keyword parameters are **optional** because **all of them have a default value**. We will see an example of this very soon!"
   ]
  },
  {
   "cell_type": "markdown",
   "metadata": {},
   "source": [
    "Let's put this to the test! Since only **positional parameters without default values**  are needed to call our method, we should be able to call the method by specifying a value for *old* and *new*, but not for *count*. The value for *old* is 'r', and the value for *new* is 'c'."
   ]
  },
  {
   "cell_type": "code",
   "execution_count": 6,
   "metadata": {},
   "outputs": [
    {
     "name": "stdout",
     "output_type": "stream",
     "text": [
      "cats ace the best.\n"
     ]
    }
   ],
   "source": [
    "a_string = 'rats are the best.'\n",
    "result = a_string.replace('r', 'c') \n",
    "print(result)"
   ]
  },
  {
   "cell_type": "markdown",
   "metadata": {},
   "source": [
    "It worked! We've called the string method by only providing a value for two of the positional parameters. However, what if we are not happy with the default value of *count*, can we override it?\n",
    "Let's try this. The positional parameter *count* allows us to indicate how many times to replace a substring. Let's try to only replace 'r' to 'c' one time."
   ]
  },
  {
   "cell_type": "code",
   "execution_count": 7,
   "metadata": {},
   "outputs": [
    {
     "name": "stdout",
     "output_type": "stream",
     "text": [
      "cats are the best.\n"
     ]
    }
   ],
   "source": [
    "a_string = 'rats are the best.'\n",
    "result = a_string.replace('r', 'c', 1) \n",
    "print(result)"
   ]
  },
  {
   "cell_type": "markdown",
   "metadata": {},
   "source": [
    "Yes! We've provided a value for *count*, e.g., 1, and now 'r' is only replaced once with 'c'. Luckily, the 'r' in 'are' has not been replaced."
   ]
  },
  {
   "cell_type": "markdown",
   "metadata": {},
   "source": [
    "We will now move on to the string method **split**."
   ]
  },
  {
   "cell_type": "code",
   "execution_count": 8,
   "metadata": {},
   "outputs": [
    {
     "name": "stdout",
     "output_type": "stream",
     "text": [
      "Help on method_descriptor:\n",
      "\n",
      "split(self, /, sep=None, maxsplit=-1)\n",
      "    Return a list of the substrings in the string, using sep as the separator string.\n",
      "    \n",
      "      sep\n",
      "        The separator used to split the string.\n",
      "    \n",
      "        When set to None (the default value), will split on any whitespace\n",
      "        character (including \\\\n \\\\r \\\\t \\\\f and spaces) and will discard\n",
      "        empty strings from the result.\n",
      "      maxsplit\n",
      "        Maximum number of splits (starting from the left).\n",
      "        -1 (the default value) means no limit.\n",
      "    \n",
      "    Note, str.split() is mainly useful for data that has been intentionally\n",
      "    delimited.  With natural text that includes punctuation, consider using\n",
      "    the regular expression module.\n",
      "\n"
     ]
    }
   ],
   "source": [
    "help(str.split)"
   ]
  },
  {
   "cell_type": "markdown",
   "metadata": {},
   "source": [
    "Let's go through the parameters of the string method **split**:\n",
    "* *self*: for now, the only thing to remember about *self* is that it tells you that replace is a method and that you should ignore it in calling the method!\n",
    "* */* (forward slash): this helps us know the type of the parameter (this will become clear very soon!)\n",
    "* *sep=None*: this is a keyword parameter, meaning that it has a default value, i.e., None.\n",
    "* *maxsplit=-1*: this is a keyword parameter, by which you can indicate how many times to split."
   ]
  },
  {
   "cell_type": "markdown",
   "metadata": {},
   "source": [
    "Since **split** has no positional parameters, we should be able to call the method without providing arguments."
   ]
  },
  {
   "cell_type": "code",
   "execution_count": 9,
   "metadata": {},
   "outputs": [
    {
     "name": "stdout",
     "output_type": "stream",
     "text": [
      "['USA', 'Today', 'has', 'come', 'out', 'with', 'a', 'new', 'survey:', 'Apparently', 'three', 'out', 'of', 'four', 'people', 'make', 'up', '75', 'percent', 'of', 'the', 'population.']\n"
     ]
    }
   ],
   "source": [
    "a_string = 'USA Today has come out with a new survey: Apparently three out of four people make up 75 percent of the population.'\n",
    "words = a_string.split()\n",
    "print(words)"
   ]
  },
  {
   "cell_type": "markdown",
   "metadata": {},
   "source": [
    "And that is correct! Of course, we can specify a value for the keyword parameters. We provide the a space ' ' for *sep* and 2 for *maxsplit*."
   ]
  },
  {
   "cell_type": "code",
   "execution_count": 10,
   "metadata": {},
   "outputs": [
    {
     "name": "stdout",
     "output_type": "stream",
     "text": [
      "['USA', 'Today', 'has come out with a new survey: Apparently three out of four people make up 75 percent of the population.']\n"
     ]
    }
   ],
   "source": [
    "a_string = 'USA Today has come out with a new survey: Apparently three out of four people make up 75 percent of the population.'\n",
    "words = a_string.split(' ', 2)\n",
    "print(words)"
   ]
  },
  {
   "cell_type": "markdown",
   "metadata": {},
   "source": [
    "Please note that we have splitted the string on a space ' ' two times."
   ]
  },
  {
   "cell_type": "markdown",
   "metadata": {},
   "source": [
    "Try and play with with the split function: (e.g. how does split(' ') differ from split()?)"
   ]
  },
  {
   "cell_type": "markdown",
   "metadata": {},
   "source": [
    "## 2.1 The forward slash (positional vs. keyword)\n",
    "So far, we have not explained the forward slash in the parameters. Here, we highlight its importance when calling a method. We show two examples. The main question is the following: why is the first call successful, and why does the second call result in error?"
   ]
  },
  {
   "cell_type": "code",
   "execution_count": 16,
   "metadata": {},
   "outputs": [
    {
     "name": "stdout",
     "output_type": "stream",
     "text": [
      "['USA', 'Today', 'has come out with a new survey: Apparently three out of four people make up 75 percent of the population.']\n"
     ]
    }
   ],
   "source": [
    "a_string = 'USA Today has come out with a new survey: Apparently three out of four people make up 75 percent of the population.'\n",
    "words = a_string.split(sep=' ', maxsplit=2)\n",
    "print(words)"
   ]
  },
  {
   "cell_type": "code",
   "execution_count": 17,
   "metadata": {},
   "outputs": [
    {
     "ename": "TypeError",
     "evalue": "str.replace() takes no keyword arguments",
     "output_type": "error",
     "traceback": [
      "\u001b[0;31m---------------------------------------------------------------------------\u001b[0m",
      "\u001b[0;31mTypeError\u001b[0m                                 Traceback (most recent call last)",
      "Cell \u001b[0;32mIn[17], line 2\u001b[0m\n\u001b[1;32m      1\u001b[0m a_string \u001b[38;5;241m=\u001b[39m \u001b[38;5;124m'\u001b[39m\u001b[38;5;124mrats are the best.\u001b[39m\u001b[38;5;124m'\u001b[39m\n\u001b[0;32m----> 2\u001b[0m result \u001b[38;5;241m=\u001b[39m \u001b[43ma_string\u001b[49m\u001b[38;5;241;43m.\u001b[39;49m\u001b[43mreplace\u001b[49m\u001b[43m(\u001b[49m\u001b[38;5;124;43m'\u001b[39;49m\u001b[38;5;124;43mr\u001b[39;49m\u001b[38;5;124;43m'\u001b[39;49m\u001b[43m,\u001b[49m\u001b[43m \u001b[49m\u001b[38;5;124;43m'\u001b[39;49m\u001b[38;5;124;43mc\u001b[39;49m\u001b[38;5;124;43m'\u001b[39;49m\u001b[43m,\u001b[49m\u001b[43m \u001b[49m\u001b[43mcount\u001b[49m\u001b[38;5;241;43m=\u001b[39;49m\u001b[38;5;241;43m1\u001b[39;49m\u001b[43m)\u001b[49m\n",
      "\u001b[0;31mTypeError\u001b[0m: str.replace() takes no keyword arguments"
     ]
    }
   ],
   "source": [
    "a_string = 'rats are the best.'\n",
    "result = a_string.replace('r', 'c', count=1) "
   ]
  },
  {
   "cell_type": "markdown",
   "metadata": {},
   "source": [
    "For the answer, we need to go back to the function parameters:\n",
    "* **replace**: replace(self, old, new, count=-1, /)\n",
    "* **split**: split(self, /, sep=None, maxsplit=-1)"
   ]
  },
  {
   "cell_type": "markdown",
   "metadata": {},
   "source": [
    "Please note that the difference is that *count* is to the **left** of the forward slash (i.e., **a positional parameter**), and *sep* and *maxsplit* are to the **right** of the forward slash (i.e., **keyword parameters**)! \n",
    "\n",
    "Parameters that appear to the left of the forward slash are ALWAYS encoded through their position. The order in which they appear is fixed. And even though you can see their name in the documentation, you cannot use their names to pass information. Officially, they are called **Positional-only parameters** and are said to have no externally-usable name.\n",
    "\n",
    "Parameters that appear to the right of the forward slash are keyword parameters. They always have a default value, so they can often be ommitted for a default behaviour.  We **can** call any keyword parameter using the name of the parameter. But this is not always necessary. Let's see below:"
   ]
  },
  {
   "cell_type": "code",
   "execution_count": 18,
   "metadata": {},
   "outputs": [
    {
     "name": "stdout",
     "output_type": "stream",
     "text": [
      "['USA', 'Today', 'has come out with a new survey: Apparently three out of four people make up 75 percent of the population.']\n"
     ]
    }
   ],
   "source": [
    "a_string = 'USA Today has come out with a new survey: Apparently three out of four people make up 75 percent of the population.'\n",
    "words = a_string.split(sep=' ', maxsplit=2)\n",
    "print(words)"
   ]
  },
  {
   "cell_type": "code",
   "execution_count": 19,
   "metadata": {},
   "outputs": [
    {
     "name": "stdout",
     "output_type": "stream",
     "text": [
      "['USA', 'Today', 'has come out with a new survey: Apparently three out of four people make up 75 percent of the population.']\n"
     ]
    }
   ],
   "source": [
    "a_string = 'USA Today has come out with a new survey: Apparently three out of four people make up 75 percent of the population.'\n",
    "words = a_string.split(' ', 2)\n",
    "print(words)"
   ]
  },
  {
   "cell_type": "markdown",
   "metadata": {},
   "source": [
    "\n",
    "As can be seen above, we can also **call keywords parameters without using their names** if we use the same position that is shown in the documentation (**note: you can't skip keyword parameters when we don't use the name**). \n",
    "\n",
    "However, **if we use their names**, we can **skip** one or more keyword parameters, and even **change the order** in which they appear! Compare the code below with the code above and make sure you understand when parameters are being skipped or have their order changed:  "
   ]
  },
  {
   "cell_type": "code",
   "execution_count": 20,
   "metadata": {},
   "outputs": [
    {
     "name": "stdout",
     "output_type": "stream",
     "text": [
      "['USA', 'Today', 'has come out with a new survey: Apparently three out of four people make up 75 percent of the population.']\n"
     ]
    }
   ],
   "source": [
    "a_string = 'USA Today has come out with a new survey: Apparently three out of four people make up 75 percent of the population.'\n",
    "words = a_string.split(maxsplit=2, sep=' ') # What happened here?\n",
    "print(words)"
   ]
  },
  {
   "cell_type": "code",
   "execution_count": 21,
   "metadata": {},
   "outputs": [
    {
     "name": "stdout",
     "output_type": "stream",
     "text": [
      "['USA', 'Today', 'has come out with a new survey: Apparently three out of four people make up 75 percent of the population.']\n"
     ]
    }
   ],
   "source": [
    "a_string = 'USA Today has come out with a new survey: Apparently three out of four people make up 75 percent of the population.'\n",
    "words = a_string.split(maxsplit=2)  # What happened here?\n",
    "print(words)"
   ]
  },
  {
   "cell_type": "code",
   "execution_count": 22,
   "metadata": {},
   "outputs": [
    {
     "ename": "TypeError",
     "evalue": "must be str or None, not int",
     "output_type": "error",
     "traceback": [
      "\u001b[0;31m---------------------------------------------------------------------------\u001b[0m",
      "\u001b[0;31mTypeError\u001b[0m                                 Traceback (most recent call last)",
      "Cell \u001b[0;32mIn[22], line 2\u001b[0m\n\u001b[1;32m      1\u001b[0m a_string \u001b[38;5;241m=\u001b[39m \u001b[38;5;124m'\u001b[39m\u001b[38;5;124mUSA Today has come out with a new survey: Apparently three out of four people make up 75 percent of the population.\u001b[39m\u001b[38;5;124m'\u001b[39m\n\u001b[0;32m----> 2\u001b[0m words \u001b[38;5;241m=\u001b[39m \u001b[43ma_string\u001b[49m\u001b[38;5;241;43m.\u001b[39;49m\u001b[43msplit\u001b[49m\u001b[43m(\u001b[49m\u001b[38;5;241;43m2\u001b[39;49m\u001b[43m)\u001b[49m \u001b[38;5;66;03m# Why does this fail?\u001b[39;00m\n\u001b[1;32m      3\u001b[0m \u001b[38;5;28mprint\u001b[39m(words)\n",
      "\u001b[0;31mTypeError\u001b[0m: must be str or None, not int"
     ]
    }
   ],
   "source": [
    "a_string = 'USA Today has come out with a new survey: Apparently three out of four people make up 75 percent of the population.'\n",
    "words = a_string.split(2) # Why does this fail?\n",
    "print(words)"
   ]
  },
  {
   "cell_type": "markdown",
   "metadata": {},
   "source": [
    "You now should be able to answer why this works:"
   ]
  },
  {
   "cell_type": "code",
   "execution_count": 23,
   "metadata": {},
   "outputs": [
    {
     "name": "stdout",
     "output_type": "stream",
     "text": [
      "cats are the best.\n"
     ]
    }
   ],
   "source": [
    "a_string = 'rats are the best.'\n",
    "result = a_string.replace('r', 'c', 1) \n",
    "print(result)"
   ]
  },
  {
   "cell_type": "markdown",
   "metadata": {},
   "source": [
    "But this does not:"
   ]
  },
  {
   "cell_type": "code",
   "execution_count": 24,
   "metadata": {},
   "outputs": [
    {
     "ename": "TypeError",
     "evalue": "str.replace() takes no keyword arguments",
     "output_type": "error",
     "traceback": [
      "\u001b[0;31m---------------------------------------------------------------------------\u001b[0m",
      "\u001b[0;31mTypeError\u001b[0m                                 Traceback (most recent call last)",
      "Cell \u001b[0;32mIn[24], line 2\u001b[0m\n\u001b[1;32m      1\u001b[0m a_string \u001b[38;5;241m=\u001b[39m \u001b[38;5;124m'\u001b[39m\u001b[38;5;124mrats are the best.\u001b[39m\u001b[38;5;124m'\u001b[39m\n\u001b[0;32m----> 2\u001b[0m result \u001b[38;5;241m=\u001b[39m \u001b[43ma_string\u001b[49m\u001b[38;5;241;43m.\u001b[39;49m\u001b[43mreplace\u001b[49m\u001b[43m(\u001b[49m\u001b[38;5;124;43m'\u001b[39;49m\u001b[38;5;124;43mr\u001b[39;49m\u001b[38;5;124;43m'\u001b[39;49m\u001b[43m,\u001b[49m\u001b[43m \u001b[49m\u001b[38;5;124;43m'\u001b[39;49m\u001b[38;5;124;43mc\u001b[39;49m\u001b[38;5;124;43m'\u001b[39;49m\u001b[43m,\u001b[49m\u001b[43m \u001b[49m\u001b[43mcount\u001b[49m\u001b[38;5;241;43m=\u001b[39;49m\u001b[38;5;241;43m1\u001b[39;49m\u001b[43m)\u001b[49m\n",
      "\u001b[0;31mTypeError\u001b[0m: str.replace() takes no keyword arguments"
     ]
    }
   ],
   "source": [
    "a_string = 'rats are the best.'\n",
    "result = a_string.replace('r', 'c', count=1) "
   ]
  },
  {
   "cell_type": "markdown",
   "metadata": {},
   "source": [
    "#### For completeness, we would like to tell you that there is a third type of parameters which are also keyword parameters that cannot be used positionally (i.e. you always have to use their name) -- but we won't cover that in this course."
   ]
  },
  {
   "cell_type": "markdown",
   "metadata": {},
   "source": [
    "**Summary**:\n",
    "* ignore **self**\n",
    "* **positional parameters** are mandatory to call a method (unless they have a default value)\n",
    "* **keyword parameters** are optional since they always have a default value\n",
    "* any parameter to the right of the forward slash, we can call using the name of the parameter. \n",
    "* any parameter to the left of the forward slash, we can only provide the value."
   ]
  },
  {
   "cell_type": "markdown",
   "metadata": {},
   "source": [
    "For those interested in understanding it in more detail, please check the link about **positional-only arguments** at the top of this notebook."
   ]
  },
  {
   "cell_type": "markdown",
   "metadata": {},
   "source": [
    "## 3. Mutability\n",
    "Hopefully, it will become clear in the following chapters what we mean by **mutability**. For now, you can think of it in terms of 'can I change the data?'. Please remember the following categories for the subsequent chapters:"
   ]
  },
  {
   "cell_type": "markdown",
   "metadata": {},
   "source": [
    "| **immutable**   | **mutable** | \n",
    "|-----------------|-------------|\n",
    "|   integer       |  list       |\n",
    "|   string        |  set        |\n",
    "|     -           |  dictionary |\n"
   ]
  },
  {
   "cell_type": "markdown",
   "metadata": {},
   "source": [
    "You have already seen a little bit about strings and immutability in Chapter 3. To change a string, we have to create a new one. In contrast, you will learn that many containers can be modified. "
   ]
  },
  {
   "cell_type": "markdown",
   "metadata": {},
   "source": [
    "# Exercises\n",
    "\n",
    "Please find some exercises about core concepts of python containers below. "
   ]
  },
  {
   "cell_type": "markdown",
   "metadata": {},
   "source": [
    "### Exercise 1: \n",
    "Use the help function to figure out what the string methods below are doing. Then analyze how many positional and keyword parameters are used in the following examples:"
   ]
  },
  {
   "cell_type": "code",
   "execution_count": 27,
   "metadata": {},
   "outputs": [
    {
     "name": "stdout",
     "output_type": "stream",
     "text": [
      "rats are the best.\n",
      "rats are the best.\n",
      "rats are the best.\n",
      "('rats ', 'are', ' the best.')\n",
      "Help on built-in function partition:\n",
      "\n",
      "partition(sep, /) method of builtins.str instance\n",
      "    Partition the string into three parts using the given separator.\n",
      "    \n",
      "    This will search for the separator in the string.  If the separator is found,\n",
      "    returns a 3-tuple containing the part before the separator, the separator\n",
      "    itself, and the part after it.\n",
      "    \n",
      "    If the separator is not found, returns a 3-tuple containing the original string\n",
      "    and two empty strings.\n",
      "\n"
     ]
    }
   ],
   "source": [
    "print(a_string.lower())\n",
    "print(a_string.strip())\n",
    "print(a_string.strip('an'))\n",
    "print(a_string.partition('are'))\n",
    "\n",
    "help(a_string.partition)"
   ]
  },
  {
   "cell_type": "markdown",
   "metadata": {},
   "source": [
    "### Exercise 2: \n",
    "\n",
    "Please illustrate the difference between positional and keyword parameters using the example of string methods. Feel free to use dir(str) and the help function for inspiration."
   ]
  },
  {
   "cell_type": "code",
   "execution_count": 29,
   "metadata": {},
   "outputs": [
    {
     "name": "stdout",
     "output_type": "stream",
     "text": [
      "Why are the world.\n"
     ]
    }
   ],
   "source": [
    "text = \"We are the world.\"\n",
    "\n",
    "print(text.replace('e', 'hy', 1))"
   ]
  },
  {
   "cell_type": "code",
   "execution_count": 30,
   "metadata": {},
   "outputs": [
    {
     "ename": "TypeError",
     "evalue": "str.replace() takes no keyword arguments",
     "output_type": "error",
     "traceback": [
      "\u001b[0;31m---------------------------------------------------------------------------\u001b[0m",
      "\u001b[0;31mTypeError\u001b[0m                                 Traceback (most recent call last)",
      "Cell \u001b[0;32mIn[30], line 3\u001b[0m\n\u001b[1;32m      1\u001b[0m text \u001b[38;5;241m=\u001b[39m \u001b[38;5;124m\"\u001b[39m\u001b[38;5;124mWe are the world.\u001b[39m\u001b[38;5;124m\"\u001b[39m\n\u001b[0;32m----> 3\u001b[0m \u001b[38;5;28mprint\u001b[39m(\u001b[43mtext\u001b[49m\u001b[38;5;241;43m.\u001b[39;49m\u001b[43mreplace\u001b[49m\u001b[43m(\u001b[49m\u001b[38;5;124;43m'\u001b[39;49m\u001b[38;5;124;43me\u001b[39;49m\u001b[38;5;124;43m'\u001b[39;49m\u001b[43m,\u001b[49m\u001b[43m \u001b[49m\u001b[38;5;124;43m'\u001b[39;49m\u001b[38;5;124;43mhy\u001b[39;49m\u001b[38;5;124;43m'\u001b[39;49m\u001b[43m,\u001b[49m\u001b[43m \u001b[49m\u001b[43mcount\u001b[49m\u001b[38;5;241;43m=\u001b[39;49m\u001b[38;5;241;43m1\u001b[39;49m\u001b[43m)\u001b[49m)\n",
      "\u001b[0;31mTypeError\u001b[0m: str.replace() takes no keyword arguments"
     ]
    }
   ],
   "source": [
    "text = \"We are the world.\"\n",
    "\n",
    "print(text.replace('e', 'hy', count=1))"
   ]
  },
  {
   "cell_type": "code",
   "execution_count": 31,
   "metadata": {},
   "outputs": [
    {
     "name": "stdout",
     "output_type": "stream",
     "text": [
      "['W', ' are the world.']\n"
     ]
    }
   ],
   "source": [
    "text = \"We are the world.\"\n",
    "\n",
    "print(text.split('e', 1))"
   ]
  },
  {
   "cell_type": "code",
   "execution_count": 33,
   "metadata": {},
   "outputs": [
    {
     "ename": "TypeError",
     "evalue": "must be str or None, not int",
     "output_type": "error",
     "traceback": [
      "\u001b[0;31m---------------------------------------------------------------------------\u001b[0m",
      "\u001b[0;31mTypeError\u001b[0m                                 Traceback (most recent call last)",
      "Cell \u001b[0;32mIn[33], line 3\u001b[0m\n\u001b[1;32m      1\u001b[0m text \u001b[38;5;241m=\u001b[39m \u001b[38;5;124m\"\u001b[39m\u001b[38;5;124mWe are the world.\u001b[39m\u001b[38;5;124m\"\u001b[39m\n\u001b[0;32m----> 3\u001b[0m \u001b[38;5;28mprint\u001b[39m(\u001b[43mtext\u001b[49m\u001b[38;5;241;43m.\u001b[39;49m\u001b[43msplit\u001b[49m\u001b[43m(\u001b[49m\u001b[38;5;241;43m1\u001b[39;49m\u001b[43m)\u001b[49m)\n",
      "\u001b[0;31mTypeError\u001b[0m: must be str or None, not int"
     ]
    }
   ],
   "source": [
    "text = \"We are the world.\"\n",
    "\n",
    "print(text.split(1))"
   ]
  },
  {
   "cell_type": "code",
   "execution_count": 34,
   "metadata": {},
   "outputs": [
    {
     "name": "stdout",
     "output_type": "stream",
     "text": [
      "['W', ' are the world.']\n"
     ]
    }
   ],
   "source": [
    "text = \"We are the world.\"\n",
    "\n",
    "print(text.split('e', maxsplit = 1))"
   ]
  },
  {
   "cell_type": "code",
   "execution_count": null,
   "metadata": {},
   "outputs": [],
   "source": [
    "# done"
   ]
  }
 ],
 "metadata": {
  "anaconda-cloud": {},
  "kernelspec": {
   "display_name": "Python 3 (ipykernel)",
   "language": "python",
   "name": "python3"
  },
  "language_info": {
   "codemirror_mode": {
    "name": "ipython",
    "version": 3
   },
   "file_extension": ".py",
   "mimetype": "text/x-python",
   "name": "python",
   "nbconvert_exporter": "python",
   "pygments_lexer": "ipython3",
   "version": "3.10.12"
  }
 },
 "nbformat": 4,
 "nbformat_minor": 4
}
