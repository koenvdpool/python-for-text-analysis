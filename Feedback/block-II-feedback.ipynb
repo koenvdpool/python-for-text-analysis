{
 "cells": [
  {
   "cell_type": "markdown",
   "id": "6782b603-8759-4696-8def-6577a3e61df4",
   "metadata": {},
   "source": [
    "# Feedback Assignment 2: Containers\n",
    "\n",
    "- **Note on Block 3:** You should expect an announcement to redownload the repository\n",
    "\n",
    "\n",
    "This notebook contains sample solutions to most exercises. Some are correct, **some are partially correct, some are incorrect (always indicated)**. If we show incorrect solutions, we do this to explain common confusions and pitfalls. \n",
    "\n",
    "\n",
    "**Plan for today (your suggestions)**\n",
    "\n",
    "* 6c\n",
    "\n",
    "\n",
    "**Our Suggestions:**\n",
    "* Exercise 1: Beer Song\n",
    "* Exercise 3: Parameters & Set Methods\n",
    "* Exercise 5a: Creating a frequency dictionary\n",
    "* Exercise 6d: Functions and .py scripts"
   ]
  },
  {
   "cell_type": "markdown",
   "id": "50b3daab-7a31-4a77-9d75-98b0c942b6c4",
   "metadata": {},
   "source": [
    "<br><br><br><br><br><br><br><br><br><br><br><br>"
   ]
  },
  {
   "cell_type": "markdown",
   "id": "1038cb20-e964-4c17-bca0-d0be062d532d",
   "metadata": {},
   "source": [
    "# Exercise 1: Beersong\n",
    "*99 Bottles of Beer* is a traditional song in the United States and Canada. Write a python program that generates the lyrics to the song.\n",
    "\n",
    "The song's simple lyrics are as follows:\n",
    "\n",
    "    99 bottles of beer on the wall,\n",
    "    99 bottles of beer.\n",
    "    Take one down, pass it around,\n",
    "    98 bottles of beer on the wall.\n",
    "\n",
    "The same verse is repeated, each time with one fewer bottle. The song\n",
    "is completed when the singer or singers reach zero. After the last bottle\n",
    "is taken down and passed around, there is a special verse:\n",
    "\n",
    "    No more bottles of beer on the wall,\n",
    "    no more bottles of beer.\n",
    "    Go to the store and buy some more,\n",
    "    99 bottles of beer on the wall."
   ]
  },
  {
   "cell_type": "markdown",
   "id": "0642eaac-b387-4c76-9ccc-6d1971aedf69",
   "metadata": {},
   "source": [
    "Notes:\n",
    "\n",
    "* Leave a blank line between verses.\n",
    "* Make sure that you print the singular form of \"bottles\" when the counter is at one.\n",
    "\n",
    "Hint:\n",
    "\n",
    "* While debugging the program, start from a small number, and\n",
    "change it to 100 when you are done (as shown below).\n",
    "* Use variables to prevent code repetition\n",
    "\n",
    "You can use the following code snippet as a start:"
   ]
  },
  {
   "cell_type": "code",
   "execution_count": null,
   "id": "bf3d7c13-9187-4444-a015-60364c9cfe56",
   "metadata": {
    "tags": []
   },
   "outputs": [],
   "source": [
    "for number in range(5, 0, -1): # change 4 to 99 when you're done with debugging\n",
    "    print(number, 'bottles of beer on the wall,')"
   ]
  },
  {
   "cell_type": "markdown",
   "id": "8694d13f-29a7-4d59-9d1c-9cb777adaccf",
   "metadata": {},
   "source": [
    "<br><br><br><br><br><br><br><br><br><br><br><br>"
   ]
  },
  {
   "cell_type": "markdown",
   "id": "a7a30475-d56c-4c0b-816b-f251a9ad6784",
   "metadata": {},
   "source": [
    "### How to approach this exercise? "
   ]
  },
  {
   "cell_type": "markdown",
   "id": "c467f3fa-e8c5-4da5-8953-acbe30b69e3a",
   "metadata": {},
   "source": [
    "\n",
    "Count down from 99 using a for loop and print lines.\n",
    "\n",
    "For specific numbers, the lines should be different. \n",
    "\n",
    "**Step 1:** What are the different cases? Start with **pseudocode**:\n",
    "\n",
    "* if n is higher than 2, e.g.:\n",
    "\n",
    "```\n",
    "3 bottles of beer on the wall,\n",
    "3 bottles of beer.\n",
    "Take one down, pass it around,\n",
    "2 bottles of beer on the wall.\n",
    "``` \n",
    "\n",
    "* if n is 2:\n",
    "\n",
    "```\n",
    "2 bottles of beer on the wall,\n",
    "2 bottles of beer.\n",
    "Take one down, pass it around,\n",
    "1 *bottle* of beer on the wall.\n",
    "``` \n",
    "\n",
    "* if n is 1:\n",
    "\n",
    "```\n",
    "1 *bottle* of beer on the wall,\n",
    "1 *bottle* of beer.\n",
    "Take one down, pass it around,\n",
    "*0 bottles*/No more bottles of beer on the wall.\n",
    "``` \n",
    "\n",
    "* if n is 0:\n",
    "\n",
    "```\n",
    "No more bottles of beer on the wall,\n",
    "no more bottles of beer.\n",
    "Go to the store and buy some more,\n",
    "99 bottles of beer on the wall.\n",
    "```\n",
    "\n",
    "**Step 2: Think about how you can generalize**\n",
    "\n",
    "* Can you find repetitions across the different cases? What remains the same? What changes? \n",
    "* Tip: You can split up lines and assign the individual components to variables\n",
    "* Use string concatenation/f-strings to print the lines\n",
    "\n"
   ]
  },
  {
   "cell_type": "markdown",
   "id": "845918a4-b9f8-4eca-b7d2-025d6ebf47fb",
   "metadata": {},
   "source": [
    "<br><br>"
   ]
  },
  {
   "cell_type": "code",
   "execution_count": null,
   "id": "4c3b113f-6e2a-43a4-a121-412a0b85859a",
   "metadata": {
    "tags": []
   },
   "outputs": [],
   "source": [
    "# This is where you should start!\n",
    "for number in range(5, 0, -1): # change 4 to 99 when you're done with debugging\n",
    "    print(number, 'bottles of beer on the wall,')"
   ]
  },
  {
   "cell_type": "code",
   "execution_count": null,
   "id": "7b1d0579-f84d-402b-a225-378b7d857077",
   "metadata": {
    "tags": []
   },
   "outputs": [],
   "source": [
    "# What is range(5, 0, -1) doing? \n",
    "# How low does it go?"
   ]
  },
  {
   "cell_type": "markdown",
   "id": "b7fa8aec-75c8-4c13-9f6e-e24f5f48ad32",
   "metadata": {},
   "source": [
    "\n",
    "<br><br><br><br><br><br>\n",
    "**Most people probably reached to something like this:**"
   ]
  },
  {
   "cell_type": "code",
   "execution_count": null,
   "id": "a7b31c9a-f65a-459d-99c2-f6b7c71fdcc8",
   "metadata": {
    "tags": []
   },
   "outputs": [],
   "source": [
    "for number in range(5, 0, -1): # change 4 to 99 when you're done with debugging\n",
    "    if number == 1:\n",
    "        print('1 bottle of beer on the wall,')\n",
    "        print('1 bottle of beer.')\n",
    "        print('Take one down, pass it around,')\n",
    "        print('No more bottles of beer on the wall.\\n')\n",
    "    elif number > 2:\n",
    "        print(f'{number} bottles of beer on the wall,')\n",
    "        print(f'{number} bottles of beer.')\n",
    "        print('Take one down, pass it around,')\n",
    "        print(f'{number-1} bottles of beer on the wall.\\n')\n",
    "    else:\n",
    "        print(f'{number} bottles of beer on the wall,')\n",
    "        print(f'{number} bottles of beer.')\n",
    "        print('Take one down, pass it around,')\n",
    "        print(f'{number-1} bottle of beer on the wall.\\n')\n",
    "        \n",
    "        #if number > 2:\n",
    "        #    print(f'{number-1} bottles of beer on the wall.\\n')\n",
    "        #else:\n",
    "        #    print(f'{number-1} bottle of beer on the wall.\\n')\n",
    "            \n",
    "\n",
    "print('No more bottles of beer on the wall,\\nno more bottles of beer.\\nGo to the store and buy some more,\\n99 bottles of beer on the wall.\\n')\n",
    "\n",
    "# Can you spot what is missing?"
   ]
  },
  {
   "cell_type": "markdown",
   "id": "ceedefcb-b78e-4569-8283-ac4be50750c8",
   "metadata": {},
   "source": [
    "**A good solution** (nice use of variables)"
   ]
  },
  {
   "cell_type": "code",
   "execution_count": null,
   "id": "866a1832-0d3d-4505-9d1c-bf72e697f5a9",
   "metadata": {
    "tags": []
   },
   "outputs": [],
   "source": [
    "verse1 = 'bottles of beer on the wall,'\n",
    "verse2 = 'bottles of beer.'\n",
    "verse3 = 'Take one down, pass it around,'\n",
    "verse1_1 = 'bottle of beer on the wall,'\n",
    "verse2_1 = 'bottle of beer.'\n",
    "\n",
    "for number in range(5, -1, -1): # Notice that this goes down to -1, why?\n",
    "    if number > 1:\n",
    "        print(number, verse1)\n",
    "        print(number, verse2)\n",
    "        print(verse3)\n",
    "        if number-1 == 1:\n",
    "            print(number-1, verse1_1)\n",
    "        else:\n",
    "            print(number-1, verse1)\n",
    "    elif number == 1:\n",
    "        print(number, verse1_1)\n",
    "        print(number, verse2_1)\n",
    "        print(verse3)\n",
    "        print('No more', verse1)\n",
    "    elif number == 0:\n",
    "        print('No more', verse1)\n",
    "        print('No more', verse2)\n",
    "        print('Go to the store and buy some more,')\n",
    "        print('99 bottles of beer on the wall.')   \n",
    "    print()"
   ]
  },
  {
   "cell_type": "markdown",
   "id": "ee50af53-93b5-49b6-a5b0-6099dbdfe188",
   "metadata": {},
   "source": [
    "<br><br><br><br><br><br><br><br><br><br><br><br><br>"
   ]
  },
  {
   "cell_type": "markdown",
   "id": "96b6effe-96e3-4cde-bdce-b37a954844fd",
   "metadata": {},
   "source": [
    "# Exercise 3: set methods</span>\n",
    "\n",
    "In this exercise, we will focus on the following set methods:\n",
    "* update\n",
    "* pop\n",
    "* remove\n",
    "* clear\n",
    "\n",
    "For each of the aforementioned set methods:\n",
    "\n",
    "* explain the positional parameters\n",
    "* explain the keyword parameters\n",
    "* you can exclude *self* from your explanation\n",
    "* explain what the goal of the method is and what data type it returns, e.g., string, list, set, etc.\n",
    "* give a working example. Provide also an example by providing a value for keyword parameters (assuming the method has one or more keyword parameters)."
   ]
  },
  {
   "cell_type": "markdown",
   "id": "aa655485-6429-4a49-b1bf-580c376732e3",
   "metadata": {},
   "source": [
    "## How to approach this?\n",
    "\n",
    "As many of you may have realized, the python documentation does not show the parameters for set methods. But we told you in class: **we gave you the tools to figure this out!**\n",
    "\n",
    "We can test the behavior of methods:\n",
    "\n",
    "- Run it without parameters:\n",
    "- Run it with one or more parameters:\n",
    "    - Test a few different types\n",
    "- Try to pass a name for the parameter (python is usually very clear about this)\n",
    "\n",
    "\n",
    "**See what breaks... Read the error messages!**"
   ]
  },
  {
   "cell_type": "markdown",
   "id": "12fc27a7-05c6-4623-9cf8-044c409c9ed9",
   "metadata": {},
   "source": [
    "<br><br>\n",
    "## Let's try it for set.update()"
   ]
  },
  {
   "cell_type": "code",
   "execution_count": 11,
   "id": "9433ab85-1fcb-44cf-9d25-7e1150c0ed48",
   "metadata": {
    "tags": []
   },
   "outputs": [
    {
     "name": "stdout",
     "output_type": "stream",
     "text": [
      "Help on method_descriptor:\n",
      "\n",
      "update(...)\n",
      "    Update a set with the union of itself and others.\n",
      "\n",
      "{1, 2, 3}\n",
      "{1, 2, 3, 4, 5, 6}\n",
      "{1, 2, 3, 4, 5, 6, 7, 8, 9}\n"
     ]
    },
    {
     "ename": "TypeError",
     "evalue": "unhashable type: 'list'",
     "output_type": "error",
     "traceback": [
      "\u001b[0;31m---------------------------------------------------------------------------\u001b[0m",
      "\u001b[0;31mTypeError\u001b[0m                                 Traceback (most recent call last)",
      "Cell \u001b[0;32mIn[11], line 21\u001b[0m\n\u001b[1;32m     16\u001b[0m \u001b[38;5;28mprint\u001b[39m(myset)\n\u001b[1;32m     18\u001b[0m \u001b[38;5;66;03m# myset.update(10) # TypeError: 'int' object is not iterable\u001b[39;00m\n\u001b[0;32m---> 21\u001b[0m myset\u001b[38;5;241m.\u001b[39mupdate([[\u001b[38;5;241m10\u001b[39m]])\n\u001b[1;32m     22\u001b[0m \u001b[38;5;28mprint\u001b[39m(myset)\n",
      "\u001b[0;31mTypeError\u001b[0m: unhashable type: 'list'"
     ]
    }
   ],
   "source": [
    "# where do we start?\n",
    "help(set.update)\n",
    "\n",
    "myset = {1,2,3}\n",
    "myset2 = {4,5,6}\n",
    "myset3 = {7,8,9}\n",
    "\n",
    "\n",
    "myset.update()\n",
    "print(myset)\n",
    "\n",
    "myset.update(myset2)\n",
    "print(myset)\n",
    "\n",
    "myset.update(myset2,myset3)\n",
    "print(myset)\n",
    "\n",
    "# myset.update(10) # TypeError: 'int' object is not iterable\n",
    "\n",
    "\n",
    "myset.update([[10]])\n",
    "print(myset)\n",
    "#myset.update(n={10,11,12}) # fails: TypeError: set.update() takes no keyword arguments"
   ]
  },
  {
   "cell_type": "markdown",
   "id": "9000e2ad-0c11-49cc-a336-2a022f938a8b",
   "metadata": {},
   "source": [
    "<br><br><br><br><br><br><br><br><br><br><br><br><br><br><br>"
   ]
  },
  {
   "cell_type": "markdown",
   "id": "be2f6641-a957-47bc-9e09-de29aa8526eb",
   "metadata": {
    "tags": []
   },
   "source": [
    "## set.update()"
   ]
  },
  {
   "cell_type": "code",
   "execution_count": 7,
   "id": "b5cc7d36-e55a-4e3a-983c-b59ae0507d0d",
   "metadata": {
    "tags": []
   },
   "outputs": [
    {
     "name": "stdout",
     "output_type": "stream",
     "text": [
      "Help on method_descriptor:\n",
      "\n",
      "update(...)\n",
      "    Update a set with the union of itself and others.\n",
      "\n",
      "{1, 2, 3}\n",
      "{1, 2, 3, 4, 5, 6}\n",
      "{1, 2, 3, 4, 5, 6, 7, 8, 9}\n",
      "{1, 2, 3, 4, 5, 6, 7, 8, 9, 999}\n",
      "{1, 2, 3, 4, 5, 6, 7, 8, 9, 999, 'cat'}\n"
     ]
    }
   ],
   "source": [
    "# Good answer [missing explicit mention of what it returns, but the rest if quite good.\n",
    "#              The student was also able to figure out that multiple iterables could \n",
    "#              be passed as arguments]\n",
    "\n",
    "help(set.update)\n",
    "# testing\n",
    "set_1 = {1,2,3} \n",
    "set_2 = {4,5,6}\n",
    "set_3 = {7,8,9}\n",
    "\n",
    "set_1.update() # works\n",
    "print(set_1)\n",
    "set_1.update(set_2) #  works\n",
    "print(set_1)\n",
    "set_1.update(set_2, set_3) # also works\n",
    "print(set_1)\n",
    "set_1.update([999]) # works\n",
    "print(set_1)\n",
    "set_1.update({'cat':'dog'}) # works\n",
    "print(set_1)\n",
    "# set_1.update(set=set_2) # fails\n",
    "# set_1.update(1) # fails\n",
    "\n",
    "# This set can be used to provide the union of itself with other iterables. \n",
    "# It can take multiple iterables as positional parameters. It has no keyword\n",
    "# parameters;"
   ]
  },
  {
   "cell_type": "markdown",
   "id": "65a45f41-f5ea-4b41-9e61-ef9171a29185",
   "metadata": {},
   "source": [
    "<br><br><br><br><br><br><br>\n",
    "## Let's try to do something similar to set.remove()"
   ]
  },
  {
   "cell_type": "code",
   "execution_count": 10,
   "id": "ee8d9eb8-88f8-4813-831e-2a247c6fd1e5",
   "metadata": {
    "tags": []
   },
   "outputs": [
    {
     "name": "stdout",
     "output_type": "stream",
     "text": [
      "Help on method_descriptor:\n",
      "\n",
      "remove(...)\n",
      "    Remove an element from a set; it must be a member.\n",
      "    \n",
      "    If the element is not a member, raise a KeyError.\n",
      "\n"
     ]
    }
   ],
   "source": [
    "help(set.remove)"
   ]
  },
  {
   "cell_type": "markdown",
   "id": "66bba6f8-16a0-46a7-afe3-9fe4bf7c34c4",
   "metadata": {},
   "source": [
    "<br><br><br><br><br><br><br><br><br><br><br><br><br><br><br><br><br>"
   ]
  },
  {
   "cell_type": "markdown",
   "id": "ee93789d-5fa6-46b8-a8c9-f0157bb61f4b",
   "metadata": {},
   "source": [
    "## set.remove()"
   ]
  },
  {
   "cell_type": "code",
   "execution_count": null,
   "id": "92c141c6-63bc-444c-9c77-7f611dca8a37",
   "metadata": {
    "tags": []
   },
   "outputs": [],
   "source": [
    "# Great Answer:\n",
    "\n",
    "help(set.remove)\n",
    "# testing\n",
    "set_1 = {1,2,3,4,5,6}\n",
    "\n",
    "# Errors:\n",
    "# set_1.remove() # TypeError: set.remove() takes exactly one argument (0 given)\n",
    "# set_1.remove(i=5) # TypeError: set.remove() takes no keyword arguments\n",
    "\n",
    "set_1.remove(6)\n",
    "print(set_1) # 6 is removed\n",
    "print(set_1.remove(5))\n",
    "\n",
    "# Errors:\n",
    "# set_1.remove(6,5) # TypeError: set.remove() takes exactly one argument (2 given)\n",
    "# set_1.remove(7) # KeyError: 7\n",
    "\n",
    "# Answer:\n",
    "# The method remove can be used to remove/delete items from a set. It takes exactly \n",
    "# one positional argument; It returns None (since it changes the method in place);\n",
    "# It raises an error if the element passed as argument does not belong to the set."
   ]
  },
  {
   "cell_type": "markdown",
   "id": "8d2eaacb-cf46-4dc0-9146-bb8abdb9bb90",
   "metadata": {},
   "source": [
    "<br><br><br><br><br><br><br><br><br><br><br><br><br><br><br>"
   ]
  },
  {
   "cell_type": "markdown",
   "id": "cf4f469f-b03f-496e-b9fe-c083229b1cf7",
   "metadata": {},
   "source": [
    "# Exercise 5: counting\n",
    "Below you find a list called **words**, which is a list of strings. \n",
    "\n",
    "a) Please create a dictionary in which the **key** is the word, and the **value** is the frequency of the word. \n",
    "\n",
    "\n",
    "Exclude all words which meet at least one of the following requirements:\n",
    "\n",
    " * end with the letter e\n",
    " * start with the letter t\n",
    " * start with the letter c and end with the letter w (both conditions must be met)\n",
    " * have six or more letters\n",
    "\n",
    "You are not allowed to use the **collections** module to do this."
   ]
  },
  {
   "cell_type": "code",
   "execution_count": 12,
   "id": "f4c7fa22-fb5e-447b-b508-ed29db4c8836",
   "metadata": {
    "tags": []
   },
   "outputs": [],
   "source": [
    "words = [\n",
    "    'there', 'was', 'a', 'village', 'near', 'a', 'jungle', 'the', 'village', \n",
    "    'cows', 'used', 'to', 'go', 'up', 'to', 'the', 'jungle', 'in', 'search', \n",
    "    'of', 'food.', 'in', 'the', 'forest', 'there', 'lived', 'a', 'wicked', \n",
    "    'lion', 'he', 'used', 'to', 'kill', 'a', 'cow', 'now', 'and', 'then', \n",
    "    'and', 'eat', 'her', 'this', 'was', 'happening', 'for', 'quite', 'sometime', \n",
    "    'the', 'cows', 'were', 'frightened', 'one', 'day', 'all', 'the', 'cows', \n",
    "    'held', 'a', 'meeting', 'an', 'old', 'cow', 'said', 'listen', 'everybody', \n",
    "    'the', 'lion', 'eats', 'one', 'of', 'us', 'only', 'because', 'we', 'go', \n",
    "    'into', 'the', 'jungle', 'separately', 'from', 'now', 'on', 'we', 'will', \n",
    "    'all', 'be', 'together', 'from', 'then', 'on', 'all', 'the', 'cows', 'went', \n",
    "    'into', 'the', 'jungle', 'in', 'a', 'herd', 'when', 'they', 'heard', 'or', \n",
    "    'saw', 'the', 'lion', 'all', 'of', 'them', 'unitedly', 'moo', 'and', 'chased', \n",
    "    'him', 'away', 'moral', 'divided', 'we', 'fall', 'united', 'we', 'stand'\n",
    "]"
   ]
  },
  {
   "cell_type": "markdown",
   "id": "00d6dbae-08f5-4a9e-9c81-128a80919585",
   "metadata": {
    "tags": []
   },
   "source": [
    "## How to approach this?\n"
   ]
  },
  {
   "cell_type": "markdown",
   "id": "0f278e41-517a-479f-8b56-8264bdec1766",
   "metadata": {},
   "source": [
    "### There is at least 2 main approaches:\n",
    "1) Try to clean the list first, then count what is left\n",
    "\n",
    "2) Clean & Count at the same time\n",
    "\n",
    "<br><br><br><br><br><br><br><br><br><br><br><br><br>"
   ]
  },
  {
   "cell_type": "code",
   "execution_count": 18,
   "id": "8a7cf7eb-f652-4d89-a438-206e580a8e70",
   "metadata": {
    "tags": []
   },
   "outputs": [
    {
     "name": "stdout",
     "output_type": "stream",
     "text": [
      "['was', 'a', 'near', 'a', 'cows', 'used', 'go', 'up', 'in', 'of', 'food.', 'in', 'lived', 'a', 'lion', 'used', 'kill', 'a', 'now', 'and', 'and', 'eat', 'her', 'was', 'for', 'cows', 'day', 'all', 'cows', 'held', 'a', 'an', 'old', 'said', 'lion', 'eats', 'of', 'us', 'only', 'go', 'into', 'from', 'now', 'on', 'will', 'all', 'from', 'on', 'all', 'cows', 'went', 'into', 'in', 'a', 'herd', 'when', 'heard', 'or', 'saw', 'lion', 'all', 'of', 'moo', 'and', 'him', 'away', 'moral', 'fall', 'stand']\n",
      "{'was': 2, 'a': 6, 'near': 1, 'cows': 4, 'used': 2, 'go': 2, 'up': 1, 'in': 3, 'of': 3, 'food.': 1, 'lived': 1, 'lion': 3, 'kill': 1, 'now': 2, 'and': 3, 'eat': 1, 'her': 1, 'for': 1, 'day': 1, 'all': 4, 'held': 1, 'an': 1, 'old': 1, 'said': 1, 'eats': 1, 'us': 1, 'only': 1, 'into': 2, 'from': 2, 'on': 2, 'will': 1, 'went': 1, 'herd': 1, 'when': 1, 'heard': 1, 'or': 1, 'saw': 1, 'moo': 1, 'him': 1, 'away': 1, 'moral': 1, 'fall': 1, 'stand': 1}\n"
     ]
    }
   ],
   "source": [
    "# Let's try to clean the list first\n",
    "\n",
    "cleaned_words =[]\n",
    "\n",
    "for word in words:\n",
    "    if word[-1] == \"e\":\n",
    "        continue\n",
    "    elif word[0] == \"t\":\n",
    "        continue\n",
    "    elif word[-1] == \"w\" and word[0] == \"c\" :\n",
    "        continue\n",
    "    elif len(word) >= 6:\n",
    "        continue\n",
    "    else:\n",
    "        cleaned_words.append(word)\n",
    "            \n",
    "print(cleaned_words)\n",
    "\n",
    "\n",
    "word_freq = dict()\n",
    "for word in cleaned_words:\n",
    "    \n",
    "    if word in word_freq:\n",
    "        word_freq[word] = word_freq[word] + 1\n",
    "    else: # if the word was not in the dictionary\n",
    "        word_freq[word] = 1\n",
    "    \n",
    "    \n",
    "print(word_freq)"
   ]
  },
  {
   "cell_type": "markdown",
   "id": "e7ee5554-e736-47d3-b266-f6833e7b0978",
   "metadata": {},
   "source": [
    "### Make me proud: what is wrong with the approach above?"
   ]
  },
  {
   "cell_type": "code",
   "execution_count": null,
   "id": "1b5a357b-abe0-47c5-ad2b-f8b16dcc71c5",
   "metadata": {
    "tags": []
   },
   "outputs": [],
   "source": [
    "# Let's fix it! And then count the frequencies!"
   ]
  },
  {
   "cell_type": "markdown",
   "id": "83711903-8161-4f13-8aac-6f2357d518f6",
   "metadata": {},
   "source": [
    "<br><br><br><br><br><br><br><br><br><br><br><br><br><br><br><br><br><br><br><br>"
   ]
  },
  {
   "cell_type": "markdown",
   "id": "857cd756-590c-438c-bf30-fcff666f3789",
   "metadata": {},
   "source": [
    "### Below there is a really nice attempt (very nice comments), but not quite there... \n",
    "**See if you can spot the mistakes!** (Hint: look around the else)"
   ]
  },
  {
   "cell_type": "code",
   "execution_count": 19,
   "id": "50e29d71-3533-4f9f-ab68-b7d7c2629158",
   "metadata": {
    "tags": []
   },
   "outputs": [],
   "source": [
    "cleaned_words = [] # new list to put all included words in\n",
    "words_freq = dict() # dictionary for the words and their frequencies\n",
    "\n",
    "# exclude all words which meet at least one of the following requirements:\n",
    "for word in words:\n",
    "    # end with the letter e\n",
    "    if word.endswith('e'):\n",
    "        cleaned_words = cleaned_words\n",
    "    # start with the letter t\n",
    "    if word.startswith('t'):\n",
    "        cleaned_words = cleaned_words\n",
    "    # start with the letter c and end with the letter w (both conditions must be met)\n",
    "    if word.startswith('c') and word.endswith('w'): \n",
    "        cleaned_words = cleaned_words\n",
    "    # have six or more letters\n",
    "    if len(word) >= 6:\n",
    "        cleaned_words = cleaned_words\n",
    "    # if words doesn't need to be excluded\n",
    "    # add to cleaned_words list\n",
    "    else:\n",
    "        cleaned_words.append(word)\n",
    "        \n",
    "# go through all the words and get the frequency\n",
    "for word in cleaned_words:\n",
    "    if word in words_freq: # add 1 to the dictionary if the keys exists\n",
    "        words_freq[word] += 1\n",
    "    else:\n",
    "        words_freq[word] = 1 # set default value to 1 if key does not exists "
   ]
  },
  {
   "cell_type": "code",
   "execution_count": null,
   "id": "e31b76cc-ec06-4ab5-9be5-607118d1f631",
   "metadata": {
    "tags": []
   },
   "outputs": [],
   "source": [
    "print(words_freq)"
   ]
  },
  {
   "cell_type": "markdown",
   "id": "e633cfa4-9576-49ab-b71d-433b72a98c57",
   "metadata": {},
   "source": [
    "<br><br><br><br><br><br><br><br><br><br><br><br><br><br>\n",
    "### Below there is a nice \"Clean & Count at the same time\" solution"
   ]
  },
  {
   "cell_type": "code",
   "execution_count": null,
   "id": "8fc95816-4935-4952-b3aa-8bbe7aa1c9ff",
   "metadata": {},
   "outputs": [],
   "source": [
    "word_freq = {}\n",
    "\n",
    "for word in words:\n",
    "    if word.endswith('e'):\n",
    "        continue\n",
    "    elif word.startswith('t'):\n",
    "        continue\n",
    "    elif (word.startswith('c')) & (word.endswith('w')):\n",
    "        continue\n",
    "    elif len(word) >= 6:\n",
    "        continue\n",
    "    else:\n",
    "        if word in word_freq:\n",
    "            word_freq[word] += 1\n",
    "        else:\n",
    "            word_freq[word] = 1"
   ]
  },
  {
   "cell_type": "markdown",
   "id": "ad14b591-44c8-4251-a42c-c62c116e10d1",
   "metadata": {
    "tags": []
   },
   "source": [
    "<br><br><br><br><br><br><br><br><br><br><br><br><br><br><br><br><br><br>"
   ]
  },
  {
   "cell_type": "markdown",
   "id": "ac7b4c6c-9df3-4deb-8d81-a15d1331f0b8",
   "metadata": {},
   "source": [
    "# Exercise 6c: preprocessing text\n",
    "Please write the answer to Exercise 4a as a function. The function replaces the following characters by empty strings in a text:\n",
    "* newlines: '\\n'\n",
    "* commas: ','\n",
    "* dots: '.'\n",
    "* quotes: '\"'\n",
    "\n",
    "The function is:\n",
    "* is called `clean_text`\n",
    "* has one positional parameter `text`\n",
    "* return a string, e.g., the cleaned text"
   ]
  },
  {
   "cell_type": "code",
   "execution_count": 27,
   "id": "6bcb577c-65d1-4cde-9d43-c4569a1c7c3b",
   "metadata": {
    "tags": []
   },
   "outputs": [
    {
     "name": "stdout",
     "output_type": "stream",
     "text": [
      "This is a string great\n"
     ]
    }
   ],
   "source": [
    "#help(str.replace)\n",
    "\n",
    "mystr = \"\"\"This is a string, \"great\".\"\"\"\n",
    "mystr = mystr.replace(\"\\n\",\"\")\n",
    "mystr = mystr.replace(\",\",\"\")\n",
    "mystr = mystr.replace(\".\",\"\")\n",
    "mystr = mystr.replace('\"',\"\")\n",
    "\n",
    "\n",
    "print(mystr)"
   ]
  },
  {
   "cell_type": "code",
   "execution_count": 31,
   "id": "01c31c2f-a937-4584-87a6-81c05ff8cf5b",
   "metadata": {
    "tags": []
   },
   "outputs": [
    {
     "data": {
      "text/plain": [
       "'This is a string great'"
      ]
     },
     "execution_count": 31,
     "metadata": {},
     "output_type": "execute_result"
    }
   ],
   "source": [
    "def clean_text(text):\n",
    "\n",
    "    text = text.replace(\"\\n\",\"\")\n",
    "    text = text.replace(\",\",\"\")\n",
    "    text = text.replace(\".\",\"\")\n",
    "    text = text.replace('\"',\"\")\n",
    "\n",
    "    return text\n",
    "\n",
    "clean_text(\"\"\"This is a string, \"great\".\"\"\")"
   ]
  },
  {
   "cell_type": "markdown",
   "id": "313dff05-d6c9-4cf8-b188-533b60f2b849",
   "metadata": {},
   "source": [
    "# Exercise 6d: preprocessing text in a more general way\n",
    "Please write a function that replaces all characters that the user provides by empty strings.\n",
    "\n",
    "The function is:\n",
    "* is called `clean_text_general`\n",
    "* has one positional parameter `text`\n",
    "* has one keyword parameter `chars_to_remove`, which is a set (set the default to {'\\n', ',', '.', '\"'})\n",
    "* return a string, e.g., the cleaned text\n",
    "\n",
    "When the user provides a different value to `chars_to_remove`, e.g., {'a'}, then only those characters should be replaced by empty spaces in the text.\n",
    "\n",
    "Please store this function in a file called **assignment2_utils.py**. Please import the function and call it in this notebook."
   ]
  },
  {
   "cell_type": "code",
   "execution_count": 40,
   "id": "0fa33559-cd5d-427e-b006-fa6566e105ed",
   "metadata": {
    "tags": []
   },
   "outputs": [
    {
     "name": "stdout",
     "output_type": "stream",
     "text": [
      "Ths s  strng, \"grt\".\n"
     ]
    }
   ],
   "source": [
    "# Let's try to start the function here and move it after... How do I start?\n",
    "\n",
    "def clean_text_general(text, chars_to_remove={'\\n', ',', '.', '\"'}):\n",
    "    \"\"\" Documentation HERE \"\"\"\n",
    "    \n",
    "    for char in chars_to_remove:\n",
    "        text = text.replace(char,\"\")\n",
    "    \n",
    "    return text\n",
    "\n",
    "\n",
    "print(clean_text_general(\"\"\"This is a string, \"great\".\"\"\", chars_to_remove={'i','a','e','o','u'}))"
   ]
  },
  {
   "cell_type": "markdown",
   "id": "b7a8617b-e1af-4e8d-b2f6-8c71f05fb8ba",
   "metadata": {},
   "source": [
    "<br><br><br><br><br><br><br><br><br><br><br><br><br><br><br>"
   ]
  },
  {
   "cell_type": "markdown",
   "id": "39b580d4-ce34-42d5-957b-a5639743404e",
   "metadata": {
    "tags": []
   },
   "source": [
    "### Below is an excellent solution (with a nice docstring!!!!):"
   ]
  },
  {
   "cell_type": "code",
   "execution_count": null,
   "id": "fa54146f-7dca-4127-a46f-e4a37092281a",
   "metadata": {},
   "outputs": [],
   "source": [
    "def clean_text_general(text, chars_to_remove={'\\n', ',', '.', '\"'}):\n",
    "    \"\"\"\n",
    "    Cleans a given text by removing a set of characters from it (default characters are: '\\n', ',', '.', '\"')\n",
    "\n",
    "    :param text: The text to clean\n",
    "    :param chars_to_remove: A set of characters to be removed from the text\n",
    "    :return: The cleaned text\n",
    "    \"\"\"\n",
    "    # Put text in cleaned_text beforehand\n",
    "    cleaned_text = text\n",
    "    for char_to_remove in chars_to_remove:\n",
    "        # Every character in the set is removed from cleaned_text one-by-one\n",
    "        cleaned_text = cleaned_text.replace(char_to_remove, '')\n",
    "    return cleaned_text\n"
   ]
  }
 ],
 "metadata": {
  "kernelspec": {
   "display_name": "Python 3 (ipykernel)",
   "language": "python",
   "name": "python3"
  },
  "language_info": {
   "codemirror_mode": {
    "name": "ipython",
    "version": 3
   },
   "file_extension": ".py",
   "mimetype": "text/x-python",
   "name": "python",
   "nbconvert_exporter": "python",
   "pygments_lexer": "ipython3",
   "version": "3.11.4"
  }
 },
 "nbformat": 4,
 "nbformat_minor": 5
}
