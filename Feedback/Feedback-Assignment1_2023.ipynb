{
 "cells": [
  {
   "cell_type": "markdown",
   "metadata": {},
   "source": [
    "# Feedback for block I\n",
    "\n",
    "This assignment of block I is not graded. In this notebook, we give you an overview of different solutions and how we would grade them if we were to grade the assignment. We use the same grading scheme is applied to the following assignments. \n",
    "\n",
    "**Today**\n",
    "\n",
    "* solutions, feedback and additional clarifications assignment 1\n",
    "* Solutions for this assignment will be uploaded to Canvas\n",
    "* subsequent assignments: feedback will be uploaded to Canvas, but we will not share full solutions\n",
    "* highly recommended: team up, compare, discuss\n",
    "* strategies: help, tests, examples, pen-and-paper, rubber duck debugging\n",
    "\n",
    "\n",
    "**For Thursday**\n",
    "\n",
    "* Get started on Block II\n",
    "* Work through things you haven't understood yet in Block I\n",
    "* Piazza questions about Block II will be answered from today \n",
    "\n",
    "\n",
    "**General feedback**\n",
    "\n",
    "* Overall: Many good solutions!\n",
    "* Please just submit the assignment notebook with your solutions (rather than a new notebook without the exercise descriptions).\n",
    "* If notebooks contained answeres, they were mostly correct\n",
    "* If notebooks were incomplete, they also tended to contain incorrect answers \n",
    "    * Not enough time?\n",
    "    * Discouraged? \n",
    "* To the more advanced coders: I saw solutions containing functions. Nice effort! Several of these functions are not going to work (well) ;-) For now, this is fine, but please stick around for Bocks 2 and 3!\n",
    "* Deadline: The deadline is strict. Unforeseen things can happen, which is why it's always a good idea to submit a version as early. You can always update your submission later (before the deadline) if you have time.\n",
    "\n",
    "\n"
   ]
  },
  {
   "cell_type": "markdown",
   "metadata": {},
   "source": [
    "**Grading for upcoming assignments:**\n",
    "\n",
    "* good (100%)\n",
    "* ok (50%)\n",
    "* not ok (0%)\n",
    "\n",
    "Each exercise has points. We treat the points as weights and calculate a final score.\n",
    "\n",
    "For example:\n",
    "\n",
    "Exercise 1: 100% of 2 points  \n",
    "\n",
    "Exercise 3: 50% of 5 point \n",
    "\n",
    "Exercise 3: 100% of 3 points\n",
    "\n",
    "Total = 1\\*2 + 0.5\\*5 + 1\\*3 = 7.5\n",
    "\n",
    "Grade: 7.5/10"
   ]
  },
  {
   "cell_type": "markdown",
   "metadata": {},
   "source": [
    "**Topics to go through in class**\n",
    "\n",
    "* Strings: indices and methods (start)\n",
    "* Assignment exercises (based on request or from top to bottom)\n",
    "* Requests:\n",
    "    * parcel delivery - variable postage\n",
    "    * string methods in variations - find method\n"
   ]
  },
  {
   "cell_type": "markdown",
   "metadata": {},
   "source": [
    "## Exercise 1: Calculation"
   ]
  },
  {
   "cell_type": "markdown",
   "metadata": {},
   "source": [
    "#### 1a. Average\n",
    "\n",
    "Define three variables `var1`, `var2` and `var3`. Calculate the average of these variables and assign it to the variable `average`. Print the outcome of your program as follows (use casting or an f-string):\n",
    "\n",
    "`The average of [...], [...] and [...] is: [...]`"
   ]
  },
  {
   "cell_type": "markdown",
   "metadata": {},
   "source": [
    "**Pay attention to:**\n",
    "\n",
    "* Bracketing \n",
    "* String concatenation (recommended: f-strings)"
   ]
  },
  {
   "cell_type": "code",
   "execution_count": 1,
   "metadata": {
    "tags": []
   },
   "outputs": [
    {
     "ename": "KeyboardInterrupt",
     "evalue": "Interrupted by user",
     "output_type": "error",
     "traceback": [
      "\u001b[0;31m---------------------------------------------------------------------------\u001b[0m",
      "\u001b[0;31mKeyboardInterrupt\u001b[0m                         Traceback (most recent call last)",
      "Cell \u001b[0;32mIn[1], line 1\u001b[0m\n\u001b[0;32m----> 1\u001b[0m my_str \u001b[38;5;241m=\u001b[39m \u001b[38;5;28minput\u001b[39m(\u001b[38;5;124m\"\u001b[39m\u001b[38;5;124mWhat\u001b[39m\u001b[38;5;124m'\u001b[39m\u001b[38;5;124ms your name?\u001b[39m\u001b[38;5;124m\"\u001b[39m)\n",
      "File \u001b[0;32m~/opt/anaconda3/envs/an-py3.11/lib/python3.11/site-packages/ipykernel/kernelbase.py:1175\u001b[0m, in \u001b[0;36mKernel.raw_input\u001b[0;34m(self, prompt)\u001b[0m\n\u001b[1;32m   1171\u001b[0m \u001b[38;5;28;01mif\u001b[39;00m \u001b[38;5;129;01mnot\u001b[39;00m \u001b[38;5;28mself\u001b[39m\u001b[38;5;241m.\u001b[39m_allow_stdin:\n\u001b[1;32m   1172\u001b[0m     \u001b[38;5;28;01mraise\u001b[39;00m StdinNotImplementedError(\n\u001b[1;32m   1173\u001b[0m         \u001b[38;5;124m\"\u001b[39m\u001b[38;5;124mraw_input was called, but this frontend does not support input requests.\u001b[39m\u001b[38;5;124m\"\u001b[39m\n\u001b[1;32m   1174\u001b[0m     )\n\u001b[0;32m-> 1175\u001b[0m \u001b[38;5;28;01mreturn\u001b[39;00m \u001b[38;5;28mself\u001b[39m\u001b[38;5;241m.\u001b[39m_input_request(\n\u001b[1;32m   1176\u001b[0m     \u001b[38;5;28mstr\u001b[39m(prompt),\n\u001b[1;32m   1177\u001b[0m     \u001b[38;5;28mself\u001b[39m\u001b[38;5;241m.\u001b[39m_parent_ident[\u001b[38;5;124m\"\u001b[39m\u001b[38;5;124mshell\u001b[39m\u001b[38;5;124m\"\u001b[39m],\n\u001b[1;32m   1178\u001b[0m     \u001b[38;5;28mself\u001b[39m\u001b[38;5;241m.\u001b[39mget_parent(\u001b[38;5;124m\"\u001b[39m\u001b[38;5;124mshell\u001b[39m\u001b[38;5;124m\"\u001b[39m),\n\u001b[1;32m   1179\u001b[0m     password\u001b[38;5;241m=\u001b[39m\u001b[38;5;28;01mFalse\u001b[39;00m,\n\u001b[1;32m   1180\u001b[0m )\n",
      "File \u001b[0;32m~/opt/anaconda3/envs/an-py3.11/lib/python3.11/site-packages/ipykernel/kernelbase.py:1217\u001b[0m, in \u001b[0;36mKernel._input_request\u001b[0;34m(self, prompt, ident, parent, password)\u001b[0m\n\u001b[1;32m   1214\u001b[0m             \u001b[38;5;28;01mbreak\u001b[39;00m\n\u001b[1;32m   1215\u001b[0m \u001b[38;5;28;01mexcept\u001b[39;00m \u001b[38;5;167;01mKeyboardInterrupt\u001b[39;00m:\n\u001b[1;32m   1216\u001b[0m     \u001b[38;5;66;03m# re-raise KeyboardInterrupt, to truncate traceback\u001b[39;00m\n\u001b[0;32m-> 1217\u001b[0m     \u001b[38;5;28;01mraise\u001b[39;00m \u001b[38;5;167;01mKeyboardInterrupt\u001b[39;00m(\u001b[38;5;124m\"\u001b[39m\u001b[38;5;124mInterrupted by user\u001b[39m\u001b[38;5;124m\"\u001b[39m) \u001b[38;5;28;01mfrom\u001b[39;00m \u001b[38;5;28;01mNone\u001b[39;00m\n\u001b[1;32m   1218\u001b[0m \u001b[38;5;28;01mexcept\u001b[39;00m \u001b[38;5;167;01mException\u001b[39;00m:\n\u001b[1;32m   1219\u001b[0m     \u001b[38;5;28mself\u001b[39m\u001b[38;5;241m.\u001b[39mlog\u001b[38;5;241m.\u001b[39mwarning(\u001b[38;5;124m\"\u001b[39m\u001b[38;5;124mInvalid Message:\u001b[39m\u001b[38;5;124m\"\u001b[39m, exc_info\u001b[38;5;241m=\u001b[39m\u001b[38;5;28;01mTrue\u001b[39;00m)\n",
      "\u001b[0;31mKeyboardInterrupt\u001b[0m: Interrupted by user"
     ]
    }
   ],
   "source": [
    "#my_str = input(\"What's your name?\")"
   ]
  },
  {
   "cell_type": "code",
   "execution_count": null,
   "metadata": {
    "tags": []
   },
   "outputs": [],
   "source": [
    "print(\"hi\")"
   ]
  },
  {
   "cell_type": "markdown",
   "metadata": {},
   "source": [
    "**Good, clear:**"
   ]
  },
  {
   "cell_type": "code",
   "execution_count": null,
   "metadata": {},
   "outputs": [],
   "source": [
    "# average code\n",
    "var1 = 5\n",
    "var2 = 12\n",
    "var3 = 37\n",
    "\n",
    "average = (var1 + var2 + var3)/3\n",
    "\n",
    "print(f\"The average of {var1}, {var2} and {var3} is: {average}\")"
   ]
  },
  {
   "cell_type": "markdown",
   "metadata": {},
   "source": [
    "**Also good, but a bit less clear**"
   ]
  },
  {
   "cell_type": "code",
   "execution_count": null,
   "metadata": {},
   "outputs": [],
   "source": [
    "var1 = 5\n",
    "var2 = 6\n",
    "var3 = 13\n",
    "\n",
    "print(f'The average of {var1},{var2} and {var3} is {(var1+var2+var3)/3}')"
   ]
  },
  {
   "cell_type": "markdown",
   "metadata": {},
   "source": [
    "#### 1b. Book prices\n",
    "\n",
    "\n",
    "Calculate book prices for the following scenarios:\n",
    "\n",
    "Suppose the price of a book is 24.95 EUR, but if the book is bought by a bookstore, they get a 30 percent discount (as opposed to customers buying from an online stores). Shipping costs 3 EUR for the first copy and 75 cents for each additional copy. Shipping costs always apply (the books also have to be shipped to the bookstore). \n",
    "\n",
    "Write a program that can calculate the total costs for any number of copies for both bookstores and other customers. Use variables with clear names for your calculations and print the result using a full sentence.\n",
    "\n",
    "The program should use variables which indicate whether the customer is a bookstore or not and how many books are bought. You can simply assign values to the variables in you code or use the input function (both is accepted).\n",
    "\n",
    "\n",
    "**Tip**\n",
    "\n",
    "Start small and add things in steps. For instance, start by calculating the price minus the discount. Then add the additional steps. Also, it helps to a start by simply assuming a specific number of books (start with 1 and make sure it works with any other number). Do not forget to test your program!"
   ]
  },
  {
   "cell_type": "markdown",
   "metadata": {},
   "source": [
    "**Pay attention to**:\n",
    "\n",
    "* test your code\n",
    "* use intermediate steps - your first draft does not have to be the final version\n",
    "* generalize in steps\n",
    "\n",
    "\n",
    "**Overall impression:**\n",
    "\n",
    "* Many very good solutions\n",
    "* Some solutions are a bit too complicated (e.g. many nested if-conditions)\n",
    "* Hardly any wrong solutions\n"
   ]
  },
  {
   "cell_type": "markdown",
   "metadata": {},
   "source": [
    "**Approach**\n",
    "\n",
    "Simply write down the calculationn for a couple of scenarios. Then try to generalize.\n",
    "\n",
    "Write down test cases:\n",
    "\n",
    "What is the correct answer for one book at the bookstore and online?\n",
    "\n",
    "What is the correct answer for three books at the bookstore and online?\n",
    "\n"
   ]
  },
  {
   "cell_type": "code",
   "execution_count": 4,
   "metadata": {
    "tags": []
   },
   "outputs": [
    {
     "name": "stdout",
     "output_type": "stream",
     "text": [
      "20.465 27.95\n"
     ]
    }
   ],
   "source": [
    "price = 24.95\n",
    "discount = 0.7\n",
    "shipping1 = 3\n",
    "shipping_add = 0.75\n",
    "\n",
    "n_books = 1\n",
    "\n",
    "bookstore = (price * discount * n_books) + shipping1 + shipping_add * (n_books -1)\n",
    "online = (price * n_books) + shipping1 + shipping_add * (n_books -1)\n",
    "\n",
    "print(bookstore, online)"
   ]
  },
  {
   "cell_type": "code",
   "execution_count": null,
   "metadata": {
    "tags": []
   },
   "outputs": [],
   "source": [
    "\n"
   ]
  },
  {
   "cell_type": "markdown",
   "metadata": {},
   "source": [
    "**Good**"
   ]
  },
  {
   "cell_type": "code",
   "execution_count": 1,
   "metadata": {
    "tags": []
   },
   "outputs": [
    {
     "name": "stdout",
     "output_type": "stream",
     "text": [
      "\n",
      "You bought 0 copies of the book which makes the total price:\n",
      "Book Price: 0.0\n",
      "Shipping: 2.25\n",
      "--------------------\n",
      "Total Price: 2.25\n"
     ]
    }
   ],
   "source": [
    "# complete the code below\n",
    "book_price = 24.95\n",
    "shipping_cost = 3\n",
    "additional_shipping_cost = 0.75\n",
    "\n",
    "n_books = 0\n",
    "customer_is_bookstore = 'y'\n",
    "\n",
    "# you bookprice calculations here\n",
    "if customer_is_bookstore == \"y\":\n",
    "    tot_book_price = n_books*(book_price*0.7)\n",
    "else:\n",
    "    tot_book_price = n_books*book_price\n",
    "\n",
    "shipping = shipping_cost+((n_books-1)*additional_shipping_cost)\n",
    "total_price = tot_book_price + shipping\n",
    "\n",
    "print(f\"\\nYou bought {n_books} copies of the book which makes the total price:\\n\\\n",
    "Book Price: {round(tot_book_price,2)}\\n\\\n",
    "Shipping: {round(shipping,2)}\\n\\\n",
    "--------------------\\n\\\n",
    "Total Price: {round(total_price,2)}\")\n"
   ]
  },
  {
   "cell_type": "markdown",
   "metadata": {},
   "source": [
    "**Correct, but could be clearer**\n",
    "\n",
    "Does this work? What is a more explicit way of writing this?\n"
   ]
  },
  {
   "cell_type": "code",
   "execution_count": 2,
   "metadata": {},
   "outputs": [
    {
     "data": {
      "text/plain": [
       "2.25"
      ]
     },
     "execution_count": 2,
     "metadata": {},
     "output_type": "execute_result"
    }
   ],
   "source": [
    "# complete the code below\n",
    "n_books = 0\n",
    "customer_is_bookstore = True\n",
    "\n",
    "# you bookprice calculations here\n",
    "\n",
    "# Shorthand if-else to decide on discount percentage\n",
    "discount_percent = 0.3 if customer_is_bookstore else 0\n",
    "\n",
    "# Compute shipping cost (always 3 or more)\n",
    "shipping_cost = 3. + (0.75 * (n_books - 1))\n",
    "\n",
    "# Calculate book price and adjust for discount percentage\n",
    "book_price = (24.95 * n_books) * (1 - discount_percent)\n",
    "\n",
    "# Adjust for shipping cost\n",
    "book_price += shipping_cost\n",
    "\n",
    "book_price"
   ]
  },
  {
   "cell_type": "markdown",
   "metadata": {},
   "source": [
    "**Okay: This works, but can be improved. Can you help?**\n",
    "\n",
    "Tip: Is all of the code necessacy?\n",
    "\n",
    "--> Time to practice your debugging skills!"
   ]
  },
  {
   "cell_type": "code",
   "execution_count": 5,
   "metadata": {
    "tags": []
   },
   "outputs": [
    {
     "name": "stdin",
     "output_type": "stream",
     "text": [
      "Number of books:  0\n"
     ]
    },
    {
     "name": "stdout",
     "output_type": "stream",
     "text": [
      "If the customer is a bookstore, the price is: 2.25\n",
      "If the customer buys from an online store, the price is: 2.25\n"
     ]
    }
   ],
   "source": [
    "#Exercise 1b\n",
    "\n",
    "n_books = int(input(\"Number of books: \"))\n",
    "book_price = 24.95\n",
    "if n_books == 1:\n",
    "    customer_is_bookstore = book_price - (book_price * 0.30) + 3\n",
    "    customer_is_individual = book_price + 3\n",
    "    print(\"If the customer is a bookstore, the price is:\", customer_is_bookstore)\n",
    "    print(\"If the customer buys from an online store, the price is:\", customer_is_individual)\n",
    "else:\n",
    "    customer_is_bookstore = (book_price - (book_price * 0.30)) * n_books + 3 + (0.75 * (n_books - 1))\n",
    "    customer_is_individual = book_price * n_books + 3 + (0.75 * (n_books - 1))\n",
    "    print(\"If the customer is a bookstore, the price is:\", customer_is_bookstore)\n",
    "    print(\"If the customer buys from an online store, the price is:\", customer_is_individual)"
   ]
  },
  {
   "cell_type": "markdown",
   "metadata": {},
   "source": [
    "**Not okay: Can you fix this?**\n",
    "\n",
    "* What went wrong?\n",
    "* Tip: First calculate by hand, then check if the result matches\n"
   ]
  },
  {
   "cell_type": "code",
   "execution_count": null,
   "metadata": {
    "tags": []
   },
   "outputs": [],
   "source": [
    "\n",
    "n_books = 3\n",
    "print()\n",
    "customer = 'yes'\n",
    "print()\n",
    "\n",
    "price_of_books = int(n_books) * 24.95\n",
    "shipping = (int(n_books) - 1) * 0.75 + 3\n",
    "bookstore_discount = price_of_books * 30 / 100\n",
    "total_sum_bookstore = int(bookstore_discount) + int(shipping)\n",
    "total_sum_customer = int(price_of_books) + int(shipping)\n",
    "\n",
    "\n",
    "if customer =='yes' or customer =='Yes':\n",
    "    print(f\"The total sum for your order of {n_books} books will be {total_sum_bookstore} Euros.\\\n",
    " This includes {shipping} Euros for shipping.\\n Thank you for your order.\")\n",
    "else:\n",
    "    print (f\"The total sum for your order of {n_books} books will be {total_sum_customer} Euros.\\\n",
    " This includes {shipping} Euros for shipping.\\n Thank you for your order.\")\n",
    "\n"
   ]
  },
  {
   "cell_type": "markdown",
   "metadata": {},
   "source": [
    "**Not okay: Can you fix this?**\n",
    "\n",
    "Can you explain the wrong assumptions? What is missing?"
   ]
  },
  {
   "cell_type": "code",
   "execution_count": null,
   "metadata": {
    "tags": []
   },
   "outputs": [],
   "source": [
    "\n",
    "no_books = input()\n",
    "customer_is_bookstore = 1\n",
    "\n",
    "# you bookprice calculations here\n",
    "\n",
    "book = 24.95\n",
    "discount = 0.3\n",
    "firstcopy_shipping = 3\n",
    "shipping = 0.75\n",
    "discount = float(discount)\n",
    "firstcopy_shipping = int(firstcopy_shipping)\n",
    "shipping = int(shipping)\n",
    "\n",
    "book_times_percent = (book * float(discount))\n",
    "print(book_times_percent)\n",
    "thirty_discount_book = (int(book - book_times_percent))\n",
    "print(thirty_discount_book)\n",
    "print(thirty_discount_book + firstcopy_shipping)\n",
    "customer_is_bookstore_price = thirty_discount_book + firstcopy_shipping\n",
    "print(customer_is_bookstore_price)"
   ]
  },
  {
   "cell_type": "markdown",
   "metadata": {},
   "source": [
    "#### 1c. The modulus operator \n",
    "\n",
    "There is one operator (like the ones for multiplication and subtraction) that we did not discuss yet, namely the modulus operator %. Could you figure out by yourself what it does when you place it between two numbers (e.g. 113 % 9)? (PS: Try to figure it out by yourself first, by trying multiple combinations of numbers. If you do not manage, it's OK to use online resources...) \n",
    "\n",
    "You don't need this operator all that often, but when you do, it comes in really handy! Also, it is important to learn how to figure out what operators/methods/functions you have never seen before do by playing with code, googling or reading documentation. \n"
   ]
  },
  {
   "cell_type": "code",
   "execution_count": null,
   "metadata": {},
   "outputs": [],
   "source": [
    "print(5 % 2)\n",
    "print(10 % 2)\n",
    "print(7 % 4)\n",
    "print(8 % 4)"
   ]
  },
  {
   "cell_type": "code",
   "execution_count": null,
   "metadata": {},
   "outputs": [],
   "source": [
    "print(5/2)"
   ]
  },
  {
   "cell_type": "code",
   "execution_count": null,
   "metadata": {},
   "outputs": [],
   "source": [
    "print(5//2)"
   ]
  },
  {
   "cell_type": "markdown",
   "metadata": {},
   "source": [
    "**Help the cashier**\n",
    "\n",
    "Can you use the modulus operator you just learned about to solve the following task? Imagine you want to help cashiers to return the change in a convenient way. This means you do not want to return hands full of small coins, but rather use bills and as few coins as possible. \n",
    "\n",
    "Write code  that classifies a given amount of money into smaller monetary units. Given a specific amout of dollars, your program should report the maximum number of dollar bills,  quarters, dimes, nickels, and pennies. \n",
    "\n",
    "Set the amount variable to 11.67. You code should output a report listing the monetary equivalent in dollars, quarters, dimes, nickels, and pennies (one quarter is equivalent to 25 cents; one dime to 10 cents; one nickle to 5 cents and a pennie to 1 cent). Your program should report the maximum number of dollars, then the number of quarters, dimes, nickels, and pennies, in this order, to result in the minimum number of coins. Here are the steps in developing the program:\n",
    "\n",
    "1. Convert the amount (11.67) into cents (1167).\n",
    "2. First get the amount of cents that you would get after subtracting the maximum amount of dollars (100 cents) using the modulus operator (67 cents).\n",
    "3. Then subtract the remainder (67 cents) from the total amount of cents (1167 cents) and divide this by 100 to find the number of dollars.\n",
    "4. Use the modulus operator again to find out the remainder after subtracting the maximum amount of quarters (17 cents).\n",
    "5. Subtract this remainder (17 cents) from the previous remainder (67 cents) and divide this by 25 to find out the number of quarters.\n",
    "6. Follow the same steps for the dimes, nickels and pennies.\n",
    "7. Display the result for your cashier! (the amount of dollars, quarters, dimes, nickels and pennies that (s)he would have to give back)`"
   ]
  },
  {
   "cell_type": "markdown",
   "metadata": {},
   "source": [
    "**General**\n",
    "\n",
    "\n",
    "* many good solutions\n",
    "* use clear and indicative variable names\n",
    "* try to avoid using numbers in the code (assign them to indicative variable names)"
   ]
  },
  {
   "cell_type": "code",
   "execution_count": 6,
   "metadata": {
    "tags": []
   },
   "outputs": [
    {
     "name": "stdout",
     "output_type": "stream",
     "text": [
      "Dollars in cents: 1167.0\n",
      "Remainder in cents 67.0\n",
      "Dollar bills 11.0\n"
     ]
    },
    {
     "ename": "NameError",
     "evalue": "name 'remainder_cents' is not defined",
     "output_type": "error",
     "traceback": [
      "\u001b[0;31m---------------------------------------------------------------------------\u001b[0m",
      "\u001b[0;31mNameError\u001b[0m                                 Traceback (most recent call last)",
      "Cell \u001b[0;32mIn[6], line 12\u001b[0m\n\u001b[1;32m      9\u001b[0m \u001b[38;5;28mprint\u001b[39m(\u001b[38;5;124m'\u001b[39m\u001b[38;5;124mDollar bills\u001b[39m\u001b[38;5;124m'\u001b[39m, dollar_bills)\n\u001b[1;32m     11\u001b[0m one_quarter_in_cents \u001b[38;5;241m=\u001b[39m \u001b[38;5;241m25\u001b[39m\n\u001b[0;32m---> 12\u001b[0m remainder_cents_quarters \u001b[38;5;241m=\u001b[39m \u001b[43mremainder_cents\u001b[49m \u001b[38;5;241m%\u001b[39m one_quarter_in_cents\n\u001b[1;32m     13\u001b[0m \u001b[38;5;28mprint\u001b[39m(\u001b[38;5;124m'\u001b[39m\u001b[38;5;124mRemainder cents after quarters\u001b[39m\u001b[38;5;124m'\u001b[39m, remainder_cents_quarters)\n\u001b[1;32m     14\u001b[0m quarters \u001b[38;5;241m=\u001b[39m (remainder_cents \u001b[38;5;241m-\u001b[39m remainder_cents_quarters)\u001b[38;5;241m/\u001b[39m one_quarter_in_cents\n",
      "\u001b[0;31mNameError\u001b[0m: name 'remainder_cents' is not defined"
     ]
    }
   ],
   "source": [
    "dollars = 11.67\n",
    "one_dollar_in_cents = 100\n",
    "dollars_in_cents = dollars * one_dollar_in_cents\n",
    "\n",
    "print('Dollars in cents:', dollars_in_cents)\n",
    "remainder_cents_dollars = dollars_in_cents % one_dollar_in_cents\n",
    "print('Remainder in cents', remainder_cents_dollars)\n",
    "dollar_bills = (dollars_in_cents - remainder_cents_dollars) / one_dollar_in_cents\n",
    "print('Dollar bills', dollar_bills)\n",
    "\n",
    "one_quarter_in_cents = 25\n",
    "remainder_cents_quarters = remainder_cents % one_quarter_in_cents\n",
    "print('Remainder cents after quarters', remainder_cents_quarters)\n",
    "quarters = (remainder_cents - remainder_cents_quarters)/ one_quarter_in_cents\n",
    "print('Quarters', quarters)\n",
    "\n",
    "\n"
   ]
  },
  {
   "cell_type": "markdown",
   "metadata": {},
   "source": [
    "**Tip for improvement for all solutions**\n",
    "\n",
    "Use variable names whereever possible.  --> e.g. cents_in_dollars (100), cents_in_quarters (25), ..."
   ]
  },
  {
   "cell_type": "markdown",
   "metadata": {},
   "source": [
    "**Good**"
   ]
  },
  {
   "cell_type": "code",
   "execution_count": 7,
   "metadata": {},
   "outputs": [
    {
     "name": "stdout",
     "output_type": "stream",
     "text": [
      "Dollars: 11.0\n",
      "Quarters: 2.0\n",
      "Dimes:     1.0\n",
      "Nickels: 1.0\n",
      "Pennies: 2.0\n"
     ]
    }
   ],
   "source": [
    "# cashier code\n",
    "amount = 11.67\n",
    "amount_in_cents = amount*100\n",
    "remainder_dollars = amount_in_cents%100\n",
    "max_amount_dollars = (amount_in_cents- remainder_dollars) / 100\n",
    "remainder_quarters = remainder_dollars%25\n",
    "max_amount_quarters = (remainder_dollars-remainder_quarters)/25\n",
    "remainder_dimes = remainder_quarters%10\n",
    "max_amount_dimes = (remainder_quarters-remainder_dimes)/10\n",
    "remainder_nickels = remainder_quarters%5\n",
    "max_amount_nickels = (remainder_dimes-remainder_nickels)/5\n",
    "remainder_pennies = remainder_quarters%1\n",
    "max_amount_pennies = (remainder_nickels-remainder_pennies)/1\n",
    "\n",
    "#print result\n",
    "print(f\"Dollars: {max_amount_dollars}\\nQuarters: {max_amount_quarters}\\nDimes: \\\n",
    "    {max_amount_dimes}\\nNickels: {max_amount_nickels}\\nPennies: {max_amount_pennies}\")\n",
    "\n",
    "\n"
   ]
  },
  {
   "cell_type": "markdown",
   "metadata": {},
   "source": [
    "**Good and very clear!**"
   ]
  },
  {
   "cell_type": "code",
   "execution_count": null,
   "metadata": {},
   "outputs": [],
   "source": [
    "# cashier code\n",
    "\n",
    "# set amount and convert to cents\n",
    "amount = 11.67\n",
    "amount_in_cents = amount * 100\n",
    "\n",
    "# calculate number of dollars\n",
    "amount_minus_dollars = amount_in_cents % 100\n",
    "n_dollars = (amount_in_cents - amount_minus_dollars) / 100\n",
    "\n",
    "# calculate number of quarters\n",
    "amount_minus_quarters = amount_minus_dollars % 25\n",
    "n_quarters = (amount_minus_dollars - amount_minus_quarters) / 25\n",
    "\n",
    "# calculate number of dimes\n",
    "amount_minus_dimes = amount_minus_quarters % 10\n",
    "n_dimes = (amount_minus_quarters - amount_minus_dimes) / 10\n",
    "\n",
    "# calculate number of nickles and pennies\n",
    "n_cents = amount_minus_dimes % 5\n",
    "n_nickles = (amount_minus_dimes - n_cents) / 5\n",
    "\n",
    "# print result\n",
    "print(f\"Give back {n_dollars} dollars, {n_quarters} quarters, \\\n",
    "{n_dimes} dimes, {n_nickles} nickles and {n_cents} cents.\")"
   ]
  },
  {
   "cell_type": "markdown",
   "metadata": {},
   "source": [
    "**OK, but hard to understand**"
   ]
  },
  {
   "cell_type": "code",
   "execution_count": null,
   "metadata": {
    "tags": []
   },
   "outputs": [],
   "source": [
    "#1c\n",
    "\n",
    "var1 = 11.67\n",
    "cents = int(var1 * 100)\n",
    "print(cents)\n",
    "dollar = cents // 100\n",
    "cents %= 100\n",
    "print(cents)\n",
    "quarters = cents // 25\n",
    "cents %= 25\n",
    "print(cents)\n",
    "dimes = cents // 10\n",
    "cents %= 10\n",
    "nickels = cents // 5\n",
    "cents %= 5\n",
    "pennies = cents\n",
    "print(\"Dollar:\", dollar)\n",
    "print(\"Quarters:\", quarters)\n",
    "print(\"Dimes:\", dimes)\n",
    "print(\"Nickels:\", nickels)\n",
    "print(\"Pennies:\", pennies)"
   ]
  },
  {
   "cell_type": "markdown",
   "metadata": {},
   "source": [
    "**Correct, but please use clear variable names:**"
   ]
  },
  {
   "cell_type": "code",
   "execution_count": null,
   "metadata": {},
   "outputs": [],
   "source": [
    "x = 11.67\n",
    "x_cents= x * 100\n",
    "remaining_cents = x_cents % 100\n",
    "x_dollars = x_cents - remaining_cents\n",
    "dollar = x_dollars/100\n",
    "\n",
    "x = remaining_cents % 25\n",
    "x1 = remaining_cents - x\n",
    "quarters = x1 / 25\n",
    "\n",
    "x_dimes = x % 10\n",
    "x2=x-x_dimes\n",
    "dimes = x2/10\n",
    "\n",
    "x_nickels = x_dimes % 5\n",
    "x3= x_dimes-x_nickels \n",
    "nickels=x3/5\n",
    "\n",
    "x_pennie = x_dimes-x3\n",
    "pennie=x_pennie/1\n",
    "\n",
    "print(\"dollar:\",dollar)\n",
    "print(\"Quarter:\",quarters)\n",
    "print(\"Dimes:\",dimes)\n",
    "print(\"Nickel:\",nickels)\n",
    "print(\"Pennie:\",pennie)"
   ]
  },
  {
   "cell_type": "markdown",
   "metadata": {},
   "source": [
    "## Exercise 2: Printing and user input"
   ]
  },
  {
   "cell_type": "markdown",
   "metadata": {},
   "source": [
    "#### 2a. Difference between \",\" and \"+\"\n",
    "\n",
    "What is the difference between using **+** and **,** in a print statement? Illustrate by using both in each of the following:\n",
    "\n",
    "* calling the `print()` fuction with multiple strings\n",
    "* printing combinations of strings and integers\n",
    "* concatenating multiple strings and assign to one single variable\n",
    "* concatenating strings and integers and assign to one single variable"
   ]
  },
  {
   "cell_type": "code",
   "execution_count": null,
   "metadata": {},
   "outputs": [],
   "source": [
    "# clear\n",
    "print('hello', 'you')\n",
    "print('hello'+'you')"
   ]
  },
  {
   "cell_type": "code",
   "execution_count": null,
   "metadata": {
    "tags": []
   },
   "outputs": [],
   "source": [
    "print('just', 4, 'fun')"
   ]
  },
  {
   "cell_type": "code",
   "execution_count": null,
   "metadata": {
    "tags": []
   },
   "outputs": [],
   "source": [
    "print('just'+4+'fun')"
   ]
  },
  {
   "cell_type": "code",
   "execution_count": null,
   "metadata": {
    "tags": []
   },
   "outputs": [],
   "source": [
    "my_str = 'just ' +str(4)+ ' fun'\n",
    "print(my_str)"
   ]
  },
  {
   "cell_type": "markdown",
   "metadata": {},
   "source": [
    "####  2b. Small Talk\n",
    "Write a program to have a little conversation with someone. First ask them for their name and their age, and then say something about your own age compared to theirs. Your code should result in a conversation following this example:\n",
    "\n",
    "> `Hello there! What is your name?`\n",
    "\n",
    "> -- Emily.\n",
    "\n",
    "> `Nice to meet you, Emily. How old are you?`\n",
    "\n",
    "> -- 23\n",
    "\n",
    "> `I'm 25 years old, so I'm 2 years older than you.`\n",
    "\n",
    "Also account for situations where the other person is older or the same age. You will need to use `if-else`-statements!"
   ]
  },
  {
   "cell_type": "markdown",
   "metadata": {},
   "source": [
    "**Pay attention to:**\n",
    "\n",
    "* input() returns a string --> convert to int to use in comparisons\n",
    "* Include all three scenarios\n",
    "* Use string concatenation (recommended: f-strings) to personalize the chat\n",
    "\n",
    "\n",
    "**General observations:**\n",
    "\n",
    "* What went wrong --> fundamental problem with understanding code execution\n",
    "* Mainly two approaches:\n",
    "    * A: Calculate difference after older/younger check\n",
    "    * B: Calculate difference right away and then use the absolute value\n",
    "    \n",
    "* String knowledge: \n",
    "    * Concatenation (+)\n",
    "    * f-strings (f'a string with a {variable}')\n",
    "    * print statement separating strings and variables by commas\n",
    "    \n",
    "    \n",
    "Difference:\n",
    "\n",
    "30 - 50 = -20 ==> absolute difference is 20"
   ]
  },
  {
   "cell_type": "markdown",
   "metadata": {},
   "source": [
    "**Good**"
   ]
  },
  {
   "cell_type": "code",
   "execution_count": null,
   "metadata": {
    "tags": []
   },
   "outputs": [],
   "source": [
    "name = input(\"Hello there! What is your name? \")\n",
    "# finish this code\n",
    "\n",
    "age = int(input(f\"Nice to meet you, {name}. How old are you? \"))\n",
    "\n",
    "if age > 25:\n",
    "    comparison_string = f\"I'm {age - 25} years younger than you\"\n",
    "elif age == 25:\n",
    "    comparison_string = 'we are the same age'\n",
    "else:\n",
    "    comparison_string = f\"I'm {25 - age} years older than you\"\n",
    "\n",
    "print(f\"I'm 25 years old, so {comparison_string}.\")"
   ]
  },
  {
   "cell_type": "markdown",
   "metadata": {},
   "source": [
    "**Good: Nice solution - what does abs() do?**"
   ]
  },
  {
   "cell_type": "code",
   "execution_count": null,
   "metadata": {
    "tags": []
   },
   "outputs": [],
   "source": [
    "name = input(\"Hello there! What is your name? \")\n",
    "age = int(input(f\"Nice to meet you, {name}. How old are you?\"))\n",
    "\n",
    "my_age = 23\n",
    "difference = age - my_age\n",
    "\n",
    "if difference < 0: # negative difference, so I am older\n",
    "    print(f\"I'm {my_age}, so I'm {abs(difference)} years older than you.\")\n",
    "elif difference == 0: # no difference, so same age\n",
    "    print(f\"I'm {my_age} too, so we're the same age!\")\n",
    "else: # positive difference, so I am younger\n",
    "    print(f\"I'm {my_age}, so I'm {abs(difference)} years younger than you.\")"
   ]
  },
  {
   "cell_type": "code",
   "execution_count": null,
   "metadata": {
    "tags": []
   },
   "outputs": [],
   "source": [
    "help(abs)"
   ]
  },
  {
   "cell_type": "code",
   "execution_count": null,
   "metadata": {
    "tags": []
   },
   "outputs": [],
   "source": [
    "abs(-10)"
   ]
  },
  {
   "cell_type": "markdown",
   "metadata": {},
   "source": [
    "**Not ok: Someone is stuck - can you explain what is going on?**\n",
    "\n"
   ]
  },
  {
   "cell_type": "code",
   "execution_count": null,
   "metadata": {},
   "outputs": [],
   "source": [
    "#Small Talk\n",
    "their_name = input('Hello there! What is your name?')\n",
    "their_age = input('Nice to meet you,' their_name, 'How old are you? ')\n",
    "#I tried to put the outcome of the first input into the second input,\n",
    "#with no succes. I could not find another way.\n"
   ]
  },
  {
   "cell_type": "markdown",
   "metadata": {},
   "source": [
    "## Exercise 3: String Art"
   ]
  },
  {
   "cell_type": "markdown",
   "metadata": {},
   "source": [
    "#### 3a. Drawing figures\n",
    "We start with some repetition of the theory about strings:"
   ]
  },
  {
   "cell_type": "markdown",
   "metadata": {},
   "source": [
    "| Topic | Explanation |\n",
    "|-----------|--------|\n",
    "| `quotes` |\tA string is delimited by single quotes ('...') or double quotes (\"...\") |\n",
    "| `special characters` |\tCertain special characters can be used, such as \"\\n\" (for newline) and \"\\t\" (for a tab) \t|  \t \n",
    "| `printing special characters` |\tTo print the special characters, they must be preceded by a backslash (\\\\)\t |\n",
    "| `continue on next line` |\tA backslash (\\\\) at the end of a line is used to continue a string on the next line\t  \t |\n",
    "| `multi-line strings` |\tA multi-line print statement should be enclosed by three double or three single quotes (\"\"\"...\"\"\" of '''...''')\t | "
   ]
  },
  {
   "cell_type": "markdown",
   "metadata": {},
   "source": [
    "Now write a Python script that prints the following figure using **only one line of code**! (so don't use triple quotes)\n",
    "\n",
    "        | | |\n",
    "         @ @\n",
    "          u\n",
    "        |\"\"\"|\n"
   ]
  },
  {
   "cell_type": "markdown",
   "metadata": {},
   "source": [
    "**Good**"
   ]
  },
  {
   "cell_type": "code",
   "execution_count": null,
   "metadata": {
    "tags": []
   },
   "outputs": [],
   "source": [
    "# your code here\n",
    "\n",
    "print('| | |\\n @ @\\n  u\\n|\\\"\\\"\\\"|')"
   ]
  },
  {
   "cell_type": "markdown",
   "metadata": {},
   "source": [
    "**Good**"
   ]
  },
  {
   "cell_type": "code",
   "execution_count": null,
   "metadata": {
    "tags": []
   },
   "outputs": [],
   "source": [
    "# your code here\n",
    "print('\\t| | |\\n\\t @ @\\n\\t  u\\n\\t|\"\"\"|')"
   ]
  },
  {
   "cell_type": "markdown",
   "metadata": {},
   "source": [
    "#### 3b. Colors\n",
    "We start again with some repetition of the theory:"
   ]
  },
  {
   "cell_type": "markdown",
   "metadata": {},
   "source": [
    "| Topic | Explanation |\n",
    "|-----------|--------|\n",
    "| a = b + c\t| if b and c are strings: concatenate b and c to form a new string a| \n",
    "| a = b * c\t| if b is an integer and c is a string: c is repeated b times to form a new string a |\n",
    "| a[0] |\t the first character of string a  |\n",
    "| len(a) |\t the number of characters in string a |\n",
    "| min(a) |\t the smallest element in string a (alphabetically first) |\n",
    "| max(a) |\t the largest element in string a (alphabetically last) |"
   ]
  },
  {
   "cell_type": "markdown",
   "metadata": {},
   "source": [
    "Now write a program that asks users for their favorite color. Create the following output (assuming \"red\" is the chosen color). Use \"+\" and \"\\*\".\n",
    "It should work with any color name though.\n",
    "\n",
    "```xml\n",
    "red red red red red red red red red red  \n",
    "red                                 red\n",
    "red                                 red\n",
    "red red red red red red red red red red\n",
    "```"
   ]
  },
  {
   "cell_type": "markdown",
   "metadata": {},
   "source": [
    "**Pay attention to**\n",
    "\n",
    "* generalization\n",
    "* breaking up lines into components\n",
    "* using variable names\n"
   ]
  },
  {
   "cell_type": "markdown",
   "metadata": {},
   "source": [
    "**The following examples are OK, but miss a generalization step:**\n",
    "\n",
    "--> Try red and then try blue"
   ]
  },
  {
   "cell_type": "code",
   "execution_count": 32,
   "metadata": {
    "tags": []
   },
   "outputs": [
    {
     "name": "stdin",
     "output_type": "stream",
     "text": [
      "what is your favorite color?  blue\n"
     ]
    },
    {
     "name": "stdout",
     "output_type": "stream",
     "text": [
      "blue blue blue blue blue blue blue blue blue blue \n",
      "blue                                 blue\n",
      "blue                                 blue\n",
      "blue blue blue blue blue blue blue blue blue blue \n"
     ]
    }
   ],
   "source": [
    "# What's going wronng?\n",
    "\n",
    "color = input('what is your favorite color? ')\n",
    "\n",
    "print((color + \" \")*10)\n",
    "print(color + \"                                 \" + color)\n",
    "print(color + \"                                 \" + color)\n",
    "print((color + \" \")*10)"
   ]
  },
  {
   "cell_type": "code",
   "execution_count": null,
   "metadata": {
    "tags": []
   },
   "outputs": [],
   "source": [
    "# Can you fix this? What is the problem?\n",
    "\n",
    "#colors\n",
    "a = input('What is your fovourite color? ')\n",
    "print((a + ' ') * 10)\n",
    "print(a + (\" \" * 33) + a)\n",
    "print(a + (\" \" * 33) + a)\n",
    "print((a + ' ') * 10)\n"
   ]
  },
  {
   "cell_type": "code",
   "execution_count": null,
   "metadata": {
    "tags": []
   },
   "outputs": [],
   "source": [
    "# Similar problem\n",
    "\n",
    "color = input('what is your favorite color? ')\n",
    "\n",
    "print(color*10)\n",
    "print(color +\"                                \"+color)\n",
    "print(color +\"                                \"+color)\n",
    "print(color*10)"
   ]
  },
  {
   "cell_type": "markdown",
   "metadata": {},
   "source": [
    "**Very good!**\n",
    "\n",
    "Excellent generalization!\n",
    "\n",
    "--> Can you generalize even further?"
   ]
  },
  {
   "cell_type": "code",
   "execution_count": 41,
   "metadata": {
    "tags": []
   },
   "outputs": [
    {
     "name": "stdout",
     "output_type": "stream",
     "text": [
      "'                                                         '\n"
     ]
    }
   ],
   "source": [
    "color = 'yellow'\n",
    "white_space = ' '+ (len(color) *' ' + ' ') * 8\n",
    "print(repr(white_space))"
   ]
  },
  {
   "cell_type": "code",
   "execution_count": null,
   "metadata": {},
   "outputs": [],
   "source": [
    "# ask for input\n",
    "color = input('what is your favorite color? ')\n",
    "\n",
    "# defining the white space for 2nd & 3rd row. \n",
    "## every space and letter between the first and last word on the row needs to become a space\n",
    "## taking into account the length of the input, and the distance between the first and last word\n",
    "\n",
    "\n",
    "white_space = ((len(color) + 2) * \" \") + ((len(color) + 1) * 7 * \" \") \n",
    "\n",
    "# (len(color) + 2) * \" \") --> first ' yellow '\n",
    "# (len(color) + 1) * 7 * \" \")  --> 7 remaining times 'yellow '\n",
    "\n",
    "#result\n",
    "print((color + \" \") * 10)\n",
    "print(color + white_space + color)\n",
    "print(color + white_space + color)\n",
    "print((color + \" \") * 10)"
   ]
  },
  {
   "cell_type": "markdown",
   "metadata": {},
   "source": [
    "## Exercise 4: Strings and methods \n",
    "\n",
    "Remember that you can see all methods of the class `str` by using `dir()`. You can ignore all methods that start with one or two underscores. Remember that each character in a string has an index. We start counting from 0 at the first character. We can also start counting at the end of the string from -1 (last character). You can get the number of characters in a string by using the function `len()`. \n",
    "\n",
    "First, let's have a look at indices and methods.\n"
   ]
  },
  {
   "cell_type": "code",
   "execution_count": 2,
   "metadata": {
    "tags": []
   },
   "outputs": [
    {
     "name": "stdout",
     "output_type": "stream",
     "text": [
      "0 S\n",
      "1 a\n",
      "2 n\n",
      "3 d\n",
      "4 w\n",
      "5 i\n",
      "6 c\n",
      "7 h\n",
      "8 e\n",
      "9 s\n",
      "10  \n",
      "11 a\n",
      "12 r\n",
      "13 e\n",
      "14  \n",
      "15 y\n",
      "16 u\n",
      "17 m\n",
      "18 m\n",
      "19 y\n"
     ]
    }
   ],
   "source": [
    "# indices:\n",
    "\n",
    "my_string = \"Sandwiches are yummy\"\n",
    "\n",
    "for n, char in enumerate(my_string):\n",
    "    print(n, char)"
   ]
  },
  {
   "cell_type": "code",
   "execution_count": 22,
   "metadata": {
    "tags": []
   },
   "outputs": [
    {
     "name": "stdout",
     "output_type": "stream",
     "text": [
      "ymmuy era sehciwdnaS\n"
     ]
    }
   ],
   "source": [
    "print(my_string[::-1])"
   ]
  },
  {
   "cell_type": "code",
   "execution_count": 29,
   "metadata": {
    "tags": []
   },
   "outputs": [
    {
     "data": {
      "text/plain": [
       "True"
      ]
     },
     "execution_count": 29,
     "metadata": {},
     "output_type": "execute_result"
    }
   ],
   "source": [
    "'rfind' in dir(str)"
   ]
  },
  {
   "cell_type": "code",
   "execution_count": 26,
   "metadata": {
    "tags": []
   },
   "outputs": [
    {
     "name": "stdout",
     "output_type": "stream",
     "text": [
      "Help on method_descriptor:\n",
      "\n",
      "rfind(...)\n",
      "    S.rfind(sub[, start[, end]]) -> int\n",
      "    \n",
      "    Return the highest index in S where substring sub is found,\n",
      "    such that sub is contained within S[start:end].  Optional\n",
      "    arguments start and end are interpreted as in slice notation.\n",
      "    \n",
      "    Return -1 on failure.\n",
      "\n"
     ]
    }
   ],
   "source": [
    "help(str.rfind)"
   ]
  },
  {
   "cell_type": "code",
   "execution_count": 30,
   "metadata": {
    "tags": []
   },
   "outputs": [
    {
     "data": {
      "text/plain": [
       "['__add__',\n",
       " '__class__',\n",
       " '__contains__',\n",
       " '__delattr__',\n",
       " '__dir__',\n",
       " '__doc__',\n",
       " '__eq__',\n",
       " '__format__',\n",
       " '__ge__',\n",
       " '__getattribute__',\n",
       " '__getitem__',\n",
       " '__getnewargs__',\n",
       " '__getstate__',\n",
       " '__gt__',\n",
       " '__hash__',\n",
       " '__init__',\n",
       " '__init_subclass__',\n",
       " '__iter__',\n",
       " '__le__',\n",
       " '__len__',\n",
       " '__lt__',\n",
       " '__mod__',\n",
       " '__mul__',\n",
       " '__ne__',\n",
       " '__new__',\n",
       " '__reduce__',\n",
       " '__reduce_ex__',\n",
       " '__repr__',\n",
       " '__rmod__',\n",
       " '__rmul__',\n",
       " '__setattr__',\n",
       " '__sizeof__',\n",
       " '__str__',\n",
       " '__subclasshook__',\n",
       " 'capitalize',\n",
       " 'casefold',\n",
       " 'center',\n",
       " 'count',\n",
       " 'encode',\n",
       " 'endswith',\n",
       " 'expandtabs',\n",
       " 'find',\n",
       " 'format',\n",
       " 'format_map',\n",
       " 'index',\n",
       " 'isalnum',\n",
       " 'isalpha',\n",
       " 'isascii',\n",
       " 'isdecimal',\n",
       " 'isdigit',\n",
       " 'isidentifier',\n",
       " 'islower',\n",
       " 'isnumeric',\n",
       " 'isprintable',\n",
       " 'isspace',\n",
       " 'istitle',\n",
       " 'isupper',\n",
       " 'join',\n",
       " 'ljust',\n",
       " 'lower',\n",
       " 'lstrip',\n",
       " 'maketrans',\n",
       " 'partition',\n",
       " 'removeprefix',\n",
       " 'removesuffix',\n",
       " 'replace',\n",
       " 'rfind',\n",
       " 'rindex',\n",
       " 'rjust',\n",
       " 'rpartition',\n",
       " 'rsplit',\n",
       " 'rstrip',\n",
       " 'split',\n",
       " 'splitlines',\n",
       " 'startswith',\n",
       " 'strip',\n",
       " 'swapcase',\n",
       " 'title',\n",
       " 'translate',\n",
       " 'upper',\n",
       " 'zfill']"
      ]
     },
     "execution_count": 30,
     "metadata": {},
     "output_type": "execute_result"
    }
   ],
   "source": [
    "dir(str)"
   ]
  },
  {
   "cell_type": "code",
   "execution_count": 3,
   "metadata": {
    "tags": []
   },
   "outputs": [
    {
     "name": "stdout",
     "output_type": "stream",
     "text": [
      "i\n"
     ]
    }
   ],
   "source": [
    "print(my_string[5])"
   ]
  },
  {
   "cell_type": "code",
   "execution_count": 4,
   "metadata": {
    "tags": []
   },
   "outputs": [
    {
     "name": "stdout",
     "output_type": "stream",
     "text": [
      "-20 S\n",
      "-19 a\n",
      "-18 n\n",
      "-17 d\n",
      "-16 w\n",
      "-15 i\n",
      "-14 c\n",
      "-13 h\n",
      "-12 e\n",
      "-11 s\n",
      "-10  \n",
      "-9 a\n",
      "-8 r\n",
      "-7 e\n",
      "-6  \n",
      "-5 y\n",
      "-4 u\n",
      "-3 m\n",
      "-2 m\n",
      "-1 y\n"
     ]
    }
   ],
   "source": [
    "for n, char in enumerate(my_string):\n",
    "    print(n - len(my_string), char)"
   ]
  },
  {
   "cell_type": "code",
   "execution_count": 7,
   "metadata": {
    "tags": []
   },
   "outputs": [
    {
     "name": "stdout",
     "output_type": "stream",
     "text": [
      "20\n"
     ]
    }
   ],
   "source": [
    "print(len(my_string))"
   ]
  },
  {
   "cell_type": "code",
   "execution_count": 5,
   "metadata": {
    "tags": []
   },
   "outputs": [
    {
     "name": "stdout",
     "output_type": "stream",
     "text": [
      "y\n"
     ]
    }
   ],
   "source": [
    "print(my_string[-2])"
   ]
  },
  {
   "cell_type": "code",
   "execution_count": null,
   "metadata": {
    "tags": []
   },
   "outputs": [],
   "source": [
    "# Test\n",
    "my_string[-20]"
   ]
  },
  {
   "cell_type": "code",
   "execution_count": null,
   "metadata": {
    "tags": []
   },
   "outputs": [],
   "source": [
    "# Chapter 3 exercise 2\n",
    "# Print the letter d in my_string\n",
    "\n",
    "my_string = \"Sandwiches are yummy\"\n",
    "# your code here\n"
   ]
  },
  {
   "cell_type": "code",
   "execution_count": 8,
   "metadata": {
    "tags": []
   },
   "outputs": [],
   "source": [
    "# Number of characters in a string using len()\n",
    "\n",
    "my_string = \"Sandwiches are yummy\""
   ]
  },
  {
   "cell_type": "code",
   "execution_count": 12,
   "metadata": {
    "tags": []
   },
   "outputs": [
    {
     "name": "stdout",
     "output_type": "stream",
     "text": [
      "1\n"
     ]
    }
   ],
   "source": [
    "print(my_string.find('and'))"
   ]
  },
  {
   "cell_type": "code",
   "execution_count": 15,
   "metadata": {
    "tags": []
   },
   "outputs": [
    {
     "name": "stdout",
     "output_type": "stream",
     "text": [
      "and\n"
     ]
    }
   ],
   "source": [
    "print(my_string[1:4])"
   ]
  },
  {
   "cell_type": "code",
   "execution_count": 10,
   "metadata": {
    "tags": []
   },
   "outputs": [
    {
     "name": "stdout",
     "output_type": "stream",
     "text": [
      "Help on built-in function find:\n",
      "\n",
      "find(...) method of builtins.str instance\n",
      "    S.find(sub[, start[, end]]) -> int\n",
      "    \n",
      "    Return the lowest index in S where substring sub is found,\n",
      "    such that sub is contained within S[start:end].  Optional\n",
      "    arguments start and end are interpreted as in slice notation.\n",
      "    \n",
      "    Return -1 on failure.\n",
      "\n"
     ]
    }
   ],
   "source": [
    "# How does the find method work?\n",
    "\n",
    "my_string = \"Sandwiches are yummy\"\n",
    "help(my_string.find)"
   ]
  },
  {
   "cell_type": "code",
   "execution_count": null,
   "metadata": {
    "tags": []
   },
   "outputs": [],
   "source": [
    "my_string.find('a')"
   ]
  },
  {
   "cell_type": "code",
   "execution_count": null,
   "metadata": {
    "tags": []
   },
   "outputs": [],
   "source": [
    "my_string.find('and')"
   ]
  },
  {
   "cell_type": "code",
   "execution_count": null,
   "metadata": {
    "tags": []
   },
   "outputs": [],
   "source": [
    "my_string.find('a', 5)"
   ]
  },
  {
   "cell_type": "code",
   "execution_count": null,
   "metadata": {
    "tags": []
   },
   "outputs": [],
   "source": [
    "my_string.find('a', 3, 8)"
   ]
  },
  {
   "cell_type": "code",
   "execution_count": 42,
   "metadata": {
    "tags": []
   },
   "outputs": [
    {
     "name": "stdout",
     "output_type": "stream",
     "text": [
      "This is a multi-line\n",
      " string just 2 show something.\n"
     ]
    }
   ],
   "source": [
    "my_f_string = f\"This is a multi-line\\n string just {2} show something.\"\n",
    "print(my_f_string)"
   ]
  },
  {
   "cell_type": "markdown",
   "metadata": {},
   "source": [
    "#### 4a. Counting vowels\n",
    "Count how many of each vowel (a,e,i,o,u) there are in the text string in the next cell. Print the count for each vowel with a single formatted string. Remember that vowels can be both lower and uppercase."
   ]
  },
  {
   "cell_type": "code",
   "execution_count": null,
   "metadata": {
    "tags": []
   },
   "outputs": [],
   "source": [
    "text = \"\"\"But I must explain to you how all this mistaken idea of denouncing pleasure and praising pain was born \n",
    "and I will give you a complete account of the system, and expound the actual teachings of the great explorer of the \n",
    "truth, the master-builder of human happiness. No one rejects, dislikes, or avoids pleasure itself, because it is \n",
    "pleasure, but because those who do not know how to pursue pleasure rationally encounter consequences that are \n",
    "extremely painful. Nor again is there anyone who loves or pursues or desires to obtain pain of itself, because it is \n",
    "pain, but because occasionally circumstances occur in which toil and pain can procure him some great pleasure. \n",
    "To take a trivial example, which of us ever undertakes laborious physical exercise, except to obtain some advantage \n",
    "from it? But who has any right to find fault with a man who chooses to enjoy a pleasure that has no annoying \n",
    "consequences, or one who avoids a pain that produces no resultant pleasure? On the other hand, we denounce with \n",
    "righteous indignation and dislike men who are so beguiled and demoralized by the charms of pleasure of the moment, \n",
    "so blinded by desire, that they cannot foresee the pain and trouble that are bound to ensue; and equal blame belongs \n",
    "to those who fail in their duty through weakness of will, which is the same as saying through shrinking from toil \n",
    "and pain.\"\"\""
   ]
  },
  {
   "cell_type": "markdown",
   "metadata": {},
   "source": [
    "**Pay attention to:**\n",
    "\n",
    "* find the right string method\n",
    "* count upper and lower cased characters"
   ]
  },
  {
   "cell_type": "markdown",
   "metadata": {},
   "source": [
    "**Good**"
   ]
  },
  {
   "cell_type": "code",
   "execution_count": null,
   "metadata": {},
   "outputs": [],
   "source": [
    "# count each vowel, both for uppercase and lowercase\n",
    "vowel_a = text.count(\"a\") + text.count(\"A\")\n",
    "vowel_e = text.count(\"e\") + text.count(\"E\")\n",
    "vowel_i = text.count(\"i\") + text.count(\"I\")\n",
    "vowel_o = text.count(\"o\") + text.count(\"O\")\n",
    "vowel_u = text.count(\"u\") + text.count(\"U\")\n",
    "\n",
    "# print result\n",
    "print (f\"\"\"Amount of vowels in this text:  \n",
    "{vowel_a} A's\n",
    "{vowel_e} E's\n",
    "{vowel_i} I's \n",
    "{vowel_o} O's \n",
    "{vowel_u} U's\"\"\")"
   ]
  },
  {
   "cell_type": "markdown",
   "metadata": {},
   "source": [
    "**Okay: Good start, but does not follow instructions**"
   ]
  },
  {
   "cell_type": "code",
   "execution_count": null,
   "metadata": {
    "tags": []
   },
   "outputs": [],
   "source": [
    "# your code here\n",
    "count1 = text.count ('o')\n",
    "print (count1)\n",
    "count2 = text. count('O')\n",
    "print (count2)\n",
    "count3 = text. count ('i')\n",
    "print (count3)\n",
    "count4 = text. count ('I')\n",
    "print (count4)\n",
    "count5 = text. count ('a')\n",
    "print (count5)\n",
    "count6 = text. count ('A')\n",
    "print (count6)\n",
    "count7 = text. count ('e')\n",
    "print (count7)\n",
    "count8 = text. count ('E')\n",
    "print (count8)\n",
    "count9 = text. count ('u')\n",
    "print (count9)\n",
    "count10 = text. count ('U')\n",
    "print (count10)\n",
    "print (count1+count2+count3+count4+count5+count6+count7+count8+count9+count10)"
   ]
  },
  {
   "cell_type": "markdown",
   "metadata": {},
   "source": [
    "**Not ok: Someone got stuck - can you diagnose the problem?**"
   ]
  },
  {
   "cell_type": "code",
   "execution_count": null,
   "metadata": {},
   "outputs": [],
   "source": [
    "print(len())\n",
    "\n",
    "#I could only figure out that I have to use len but since len counts the \n",
    "#letters I'd have to add something to it but don't know how to word it \n",
    "#for the program to read it correctly."
   ]
  },
  {
   "cell_type": "markdown",
   "metadata": {},
   "source": [
    "**Not ok: Partially Correct solution, but does not use string methods**\n",
    "\n",
    "Why does this approach not fulfil the criteria stated in the instructions?\n",
    "\n",
    "What is a good idea in this approach?\n",
    "\n"
   ]
  },
  {
   "cell_type": "code",
   "execution_count": null,
   "metadata": {},
   "outputs": [],
   "source": [
    "count_a = 0\n",
    "count_e = 0\n",
    "count_i = 0\n",
    "count_o = 0\n",
    "count_u = 0\n",
    "\n",
    "text_lower = text.lower()\n",
    "\n",
    "for letter in text_lower:\n",
    "    if letter == 'a':\n",
    "        count_a += 1\n",
    "    elif letter == 'e':\n",
    "        count_e += 1\n",
    "    elif letter == 'i':\n",
    "        count_i += 1\n",
    "    elif letter == 'o':\n",
    "        count_o += 1\n",
    "    elif letter == 'u':\n",
    "        count_u += 1\n",
    "\n",
    "f\"The number of vowels in the text is distributed as follows: a: {count_a}, e: {count_e}, i: {count_i}, o: {count_o}, u: {count_u}\""
   ]
  },
  {
   "cell_type": "markdown",
   "metadata": {},
   "source": [
    "**Good**\n",
    "\n",
    "Nice approach! What could be improved?"
   ]
  },
  {
   "cell_type": "code",
   "execution_count": null,
   "metadata": {
    "tags": []
   },
   "outputs": [],
   "source": [
    "# your code here\n",
    "text = text.lower()\n",
    "print(f\"The numbers of vowels are the following: \\na = {text.count('a')}\\ne = {text.count('e')}\\ni = {text.count('i')}\\no = {text.count('o')}\\nu = {text.count('u')}\")\n",
    "\n"
   ]
  },
  {
   "cell_type": "markdown",
   "metadata": {},
   "source": [
    "**What does the method casefold do?**"
   ]
  },
  {
   "cell_type": "code",
   "execution_count": null,
   "metadata": {},
   "outputs": [],
   "source": [
    "help(str.casefold()"
   ]
  },
  {
   "cell_type": "code",
   "execution_count": null,
   "metadata": {
    "tags": []
   },
   "outputs": [],
   "source": [
    "test = 'E'\n",
    "test_c = test.casefold()\n",
    "\n",
    "if test_c == 'e':\n",
    "    print('case irrelevant!')"
   ]
  },
  {
   "cell_type": "markdown",
   "metadata": {},
   "source": [
    "#### 4b. Printing the lexicon\n",
    "Have a good look at the internal representation of the string below. Use a combination of string methods (you will need at least 3 different ones and some will have to be used multiple times) in the correct order to remove punctuation and redundant whitespaces, and print each word in lowercase characters on a new line. The result should look like:\n",
    "\n",
    "```the  \n",
    "quick  \n",
    "brown  \n",
    "fox  \n",
    "jumps  \n",
    "etc.\n",
    "```"
   ]
  },
  {
   "cell_type": "code",
   "execution_count": 44,
   "metadata": {
    "tags": []
   },
   "outputs": [
    {
     "name": "stdout",
     "output_type": "stream",
     "text": [
      "'           The quick, brown fox jumps over a lazy dog.\\tDJs flock by when MTV ax quiz prog. \\nJunk MTV quiz graced by fox whelps.\\tBawds jog, flick quartz, vex nymphs. \\nWaltz, bad nymph, for quick jigs vex!\\tFox nymphs grab quick-jived waltz. \\nBrick quiz whangs jumpy veldt fox.       '\n"
     ]
    }
   ],
   "source": [
    "text = \"\"\"           The quick, brown fox jumps over a lazy dog.\\tDJs flock by when MTV ax quiz prog. \n",
    "Junk MTV quiz graced by fox whelps.\\tBawds jog, flick quartz, vex nymphs. \n",
    "Waltz, bad nymph, for quick jigs vex!\\tFox nymphs grab quick-jived waltz. \n",
    "Brick quiz whangs jumpy veldt fox.       \"\"\"\n",
    "\n",
    "print(repr(text))\n"
   ]
  },
  {
   "cell_type": "markdown",
   "metadata": {},
   "source": [
    "**Strategy: Start with a small example**\n",
    "\n",
    "Below: Two possible approaches"
   ]
  },
  {
   "cell_type": "code",
   "execution_count": null,
   "metadata": {
    "tags": []
   },
   "outputs": [],
   "source": [
    "my_text = 'some words here!!!????!!'\n",
    "#help(my_text.replace)"
   ]
  },
  {
   "cell_type": "code",
   "execution_count": 45,
   "metadata": {
    "tags": []
   },
   "outputs": [
    {
     "name": "stdout",
     "output_type": "stream",
     "text": [
      "Help on method_descriptor:\n",
      "\n",
      "replace(self, old, new, count=-1, /)\n",
      "    Return a copy with all occurrences of substring old replaced by new.\n",
      "    \n",
      "      count\n",
      "        Maximum number of occurrences to replace.\n",
      "        -1 (the default value) means replace all occurrences.\n",
      "    \n",
      "    If the optional argument count is given, only the first count occurrences are\n",
      "    replaced.\n",
      "\n"
     ]
    }
   ],
   "source": [
    "help(str.replace)"
   ]
  },
  {
   "cell_type": "code",
   "execution_count": 55,
   "metadata": {
    "tags": []
   },
   "outputs": [
    {
     "name": "stdout",
     "output_type": "stream",
     "text": [
      "some words here!!!????!!\n",
      "some words here????\n"
     ]
    }
   ],
   "source": [
    "my_text = 'some words here!!!????!!'\n",
    "my_new_text = my_text.replace('!', '')\n",
    "print(my_text)\n",
    "print(my_new_text)"
   ]
  },
  {
   "cell_type": "code",
   "execution_count": 47,
   "metadata": {
    "tags": []
   },
   "outputs": [
    {
     "name": "stdout",
     "output_type": "stream",
     "text": [
      "some words here!!!????!!\n"
     ]
    }
   ],
   "source": [
    "print(my_text)"
   ]
  },
  {
   "cell_type": "code",
   "execution_count": null,
   "metadata": {
    "tags": []
   },
   "outputs": [],
   "source": [
    "my_text = my_text.replace('!', '') \n",
    "my_text =  my_text.replace('?', '') \n",
    "\n",
    "my_words = my_text.split(' ')\n",
    "my_words_newlines = '\\n'.join(my_words)\n",
    "print(my_words_newlines)"
   ]
  },
  {
   "cell_type": "code",
   "execution_count": null,
   "metadata": {
    "tags": []
   },
   "outputs": [],
   "source": [
    "my_other_text = 'this is another text!!!!'\n",
    "my_new_string = my_other_text.replace('!', '')\n",
    "my_new_string_newlines = my_new_string.replace(' ', '\\n')\n",
    "print(my_new_string_newlines)"
   ]
  },
  {
   "cell_type": "markdown",
   "metadata": {
    "tags": []
   },
   "source": [
    "**Remove whitespace at the end with strip**"
   ]
  },
  {
   "cell_type": "code",
   "execution_count": null,
   "metadata": {
    "tags": []
   },
   "outputs": [],
   "source": [
    "my_other_text = '     this is another text!!!!    '\n",
    "my_new_text = my_other_text.strip()\n",
    "print(repr(my_new_text))"
   ]
  },
  {
   "cell_type": "markdown",
   "metadata": {},
   "source": [
    "**Attention: Strings are immutable**\n",
    "\n",
    "In other words: always assign the output of a string method to a variable. "
   ]
  },
  {
   "cell_type": "code",
   "execution_count": null,
   "metadata": {},
   "outputs": [],
   "source": [
    "my_string = 'some \\twords here.'\n",
    "my_string.replace('\\t', '')\n",
    "print('blablaba')\n",
    "print(my_string)"
   ]
  },
  {
   "cell_type": "code",
   "execution_count": null,
   "metadata": {},
   "outputs": [],
   "source": [
    "my_string = 'some words here.'\n",
    "my_string.split()\n",
    "print(my_string)"
   ]
  },
  {
   "cell_type": "code",
   "execution_count": null,
   "metadata": {},
   "outputs": [],
   "source": [
    "help(str.replace)"
   ]
  },
  {
   "cell_type": "markdown",
   "metadata": {},
   "source": [
    "**Not okay: What is going wrong here?**\n",
    "\n",
    "...and what can we learn about strings from this example?"
   ]
  },
  {
   "cell_type": "code",
   "execution_count": 62,
   "metadata": {
    "tags": []
   },
   "outputs": [
    {
     "name": "stdout",
     "output_type": "stream",
     "text": [
      "           The quick, brown fox jumps over a lazy dog.\tDJs flock by when MTV ax quiz prog. \n",
      "Junk MTV quiz graced by fox whelps.\tBawds jog, flick quartz, vex nymphs. \n",
      "Waltz, bad nymph, for quick jigs vex!\tFox nymphs grab quick-jived waltz. \n",
      "Brick quiz whangs jumpy veldt fox. \n",
      "\n",
      "           The quick, brown fox jumps over a lazy dog.\tDJs flock by when MTV ax quiz prog. \n",
      "Junk MTV quiz graced by fox whelps.\tBawds jog, flick quartz, vex nymphs. \n",
      "Waltz, bad nymph, for quick jigs vex\tFox nymphs grab quick-jived waltz. \n",
      "Brick quiz whangs jumpy veldt fox. \n"
     ]
    }
   ],
   "source": [
    "text = \"\"\"           The quick, brown fox jumps over a lazy dog.\\tDJs flock by when MTV ax quiz prog. \n",
    "Junk MTV quiz graced by fox whelps.\\tBawds jog, flick quartz, vex nymphs. \n",
    "Waltz, bad nymph, for quick jigs vex!\\tFox nymphs grab quick-jived waltz. \n",
    "Brick quiz whangs jumpy veldt fox. \"\"\"\n",
    "\n",
    "print(text)\n",
    "\n",
    "print()\n",
    "replaced_text=text.replace('!' , '').replace('.', '')\n",
    "\n",
    "print(replaced_text)\n",
    "\n",
    "\n",
    "# replaced_text=text.replace(',' , '')\n",
    "# replaced_text=text.replace('.' , '')\n",
    "# replaced_text=text.replace('!' , '')\n",
    "# replaced_text=text.replace('\\n' , '')\n",
    "# replaced_text=text.replace('\\t' , '')\n",
    "# replaced_text=text.strip()\n",
    "\n",
    "\n"
   ]
  },
  {
   "cell_type": "code",
   "execution_count": 69,
   "metadata": {
    "tags": []
   },
   "outputs": [
    {
     "data": {
      "text/plain": [
       "0"
      ]
     },
     "execution_count": 69,
     "metadata": {},
     "output_type": "execute_result"
    }
   ],
   "source": [
    "'my string'.replace('i', '') and 0 and 'true string'"
   ]
  },
  {
   "cell_type": "code",
   "execution_count": 65,
   "metadata": {
    "tags": []
   },
   "outputs": [
    {
     "data": {
      "text/plain": [
       "True"
      ]
     },
     "execution_count": 65,
     "metadata": {},
     "output_type": "execute_result"
    }
   ],
   "source": [
    "bool('aaa')"
   ]
  },
  {
   "cell_type": "code",
   "execution_count": 66,
   "metadata": {
    "tags": []
   },
   "outputs": [
    {
     "data": {
      "text/plain": [
       "False"
      ]
     },
     "execution_count": 66,
     "metadata": {},
     "output_type": "execute_result"
    }
   ],
   "source": [
    "bool('')"
   ]
  },
  {
   "cell_type": "code",
   "execution_count": 64,
   "metadata": {
    "tags": []
   },
   "outputs": [
    {
     "data": {
      "text/plain": [
       "False"
      ]
     },
     "execution_count": 64,
     "metadata": {},
     "output_type": "execute_result"
    }
   ],
   "source": [
    "'my string'.replace('i', '') == 'my_string'.replace('n', '')"
   ]
  },
  {
   "cell_type": "markdown",
   "metadata": {},
   "source": [
    "**Good**"
   ]
  },
  {
   "cell_type": "code",
   "execution_count": null,
   "metadata": {},
   "outputs": [],
   "source": [
    "text = text.lstrip() # what does this do?\n",
    "text = text.rstrip() # what does this do?\n",
    "text = text.replace('\\t', ' ')\n",
    "text = text.replace('\\n', ' ')\n",
    "text = text.replace(',', '')\n",
    "text = text.replace('.', '')\n",
    "text = text.lower()\n",
    "text = text.replace('  ', ' ')\n",
    "text = text.replace(' ', '\\n')\n",
    "print(text)"
   ]
  },
  {
   "cell_type": "markdown",
   "metadata": {},
   "source": [
    "**Good, but can be solved without the for-loop**\n",
    "\n",
    "Can you help?"
   ]
  },
  {
   "cell_type": "code",
   "execution_count": null,
   "metadata": {},
   "outputs": [],
   "source": [
    "text = \"\"\"           The quick, brown fox jumps over a lazy dog.\\tDJs flock by when MTV ax quiz prog. \n",
    "Junk MTV quiz graced by fox whelps.\\tBawds jog, flick quartz, vex nymphs. \n",
    "Waltz, bad nymph, for quick jigs vex!\\tFox nymphs grab quick-jived waltz. \n",
    "Brick quiz whangs jumpy veldt fox.       \"\"\"\n",
    "text = text.strip()\n",
    "text = text.lower()\n",
    "\n",
    "text = text.replace(\"\\t\",\" \")\n",
    "text = text.replace(\".\",\" \")\n",
    "text = text.replace(\",\",\" \")\n",
    "text = text.replace(\"!\",\" \")\n",
    "# this of course would have to be extended if there were different special characters in the text\n",
    "\n",
    "text_list = text.split()\n",
    "\n",
    "for i in text_list:\n",
    "    print(i)"
   ]
  },
  {
   "cell_type": "markdown",
   "metadata": {},
   "source": [
    "**Also good, but could be simplified further**"
   ]
  },
  {
   "cell_type": "code",
   "execution_count": null,
   "metadata": {},
   "outputs": [],
   "source": [
    "text = \"\"\"           The quick, brown fox jumps over a lazy dog.\\tDJs flock by when MTV ax quiz prog. \n",
    "Junk MTV quiz graced by fox whelps.\\tBawds jog, flick quartz, vex nymphs. \n",
    "Waltz, bad nymph, for quick jigs vex!\\tFox nymphs grab quick-jived waltz. \n",
    "Brick quiz whangs jumpy veldt fox.       \"\"\"\n",
    "\n",
    "text = text.strip()\n",
    "text = text.lower()\n",
    "text = text.replace(\"\\t\", \"\\n\")\n",
    "text = text.replace(\".\", \"\")\n",
    "text = text.replace(\",\", \"\")\n",
    "text = text.replace(\"!\", \"\")\n",
    "\n",
    "# Using this method ^ I created one sentence per line. Since the assignment mentioned that I should print each word in lowercase characters on a new line,\n",
    "# the next step would be as follows:\n",
    "\n",
    "text = text.split(\" \")\n",
    "text = \"\\n\".join(text)\n",
    "\n",
    "print(text)"
   ]
  },
  {
   "cell_type": "markdown",
   "metadata": {},
   "source": [
    "**OK, but hard to read and not complete**\n",
    "\n",
    "--> What is missing"
   ]
  },
  {
   "cell_type": "code",
   "execution_count": null,
   "metadata": {},
   "outputs": [],
   "source": [
    "text = \"\"\"           The quick, brown fox jumps over a lazy dog.\\tDJs flock by when MTV ax quiz prog. \n",
    "Junk MTV quiz graced by fox whelps.\\tBawds jog, flick quartz, vex nymphs. \n",
    "Waltz, bad nymph, for quick jigs vex!\\tFox nymphs grab quick-jived waltz. \n",
    "Brick quiz whangs jumpy veldt fox.       \"\"\"\n",
    "text = text.strip().replace(\"\\n\",\"\").replace(\"\\t\", \" \").replace(\",\",\"\").lower().replace(\" \",\"\\n\")\n",
    "\n",
    "print(text)"
   ]
  },
  {
   "cell_type": "markdown",
   "metadata": {},
   "source": [
    "#### 4c. Passwords\n",
    "\n",
    "Write a program that asks a user for a password and checks some simple requirements of a password. If necessary, print out the following warnings (use if-statements):\n",
    "\n",
    "1. Your password should contain at least 6 characters.\n",
    "2. Your password should contain no more than 12 characters.\n",
    "3. Your password only contains alphabetic characters! Please also use digits and/or special characters.\n",
    "4. Your password only contains digits! Please also use alphabetic and/or special characters.\n",
    "5. Your password should contain at least one special character.\n",
    "6. Your password contains only lowercase letters! Please also use uppercase letters.\n",
    "7. Your password contains only uppercase letters! Please also use lowercase letters."
   ]
  },
  {
   "cell_type": "markdown",
   "metadata": {},
   "source": [
    "**Pay attention to:**\n",
    "\n",
    "* string methods - exploit the power of what the standard library has to offer!\n",
    "* boolean expressions - combine in the right way\n",
    "* user-friendliness: if-if or if-elif?"
   ]
  },
  {
   "cell_type": "markdown",
   "metadata": {},
   "source": [
    "**Ok, but not the most user-friendly option:**\n",
    "\n",
    "* If vs elif?\n",
    "* Readability: how to check booleans?"
   ]
  },
  {
   "cell_type": "code",
   "execution_count": null,
   "metadata": {},
   "outputs": [],
   "source": [
    "password = 'test'\n",
    "dir(str)"
   ]
  },
  {
   "cell_type": "code",
   "execution_count": null,
   "metadata": {},
   "outputs": [],
   "source": [
    "help(str.isalpha)"
   ]
  },
  {
   "cell_type": "code",
   "execution_count": null,
   "metadata": {},
   "outputs": [],
   "source": [
    "# Your password should contain at least 6 characters.\n",
    "password = 'testte'\n",
    "\n",
    "if len(password) < 6:\n",
    "    print('Your password should contain at least 6 characters.')"
   ]
  },
  {
   "cell_type": "code",
   "execution_count": null,
   "metadata": {},
   "outputs": [],
   "source": [
    "test = '4'\n",
    "print(test.isalpha())"
   ]
  },
  {
   "cell_type": "markdown",
   "metadata": {},
   "source": [
    "**Good**\n"
   ]
  },
  {
   "cell_type": "code",
   "execution_count": null,
   "metadata": {
    "tags": []
   },
   "outputs": [],
   "source": [
    "# your code here\n",
    "password = input ('enter your password:')\n",
    "\n",
    "if len(password) <6:\n",
    "    print ('Your password should contain at least 6 characters.')\n",
    "if len(password) >12:\n",
    "    print ('Your password should contain no more than 12 characters.')\n",
    "if password.isalpha():\n",
    "    print ('Your password only contains alphabetic characters! Please also use digits and/or special characters.')\n",
    "if password.isdigit():\n",
    "    print ('Your password only contains digits! Please also use alphabetic and/or special characters.')\n",
    "if password.isalnum():\n",
    "    print ('Your password should contain at least one special character.')\n",
    "if password.islower():\n",
    "    print ('Your password contains only lowercase letters! Please also use uppercase letters.')\n",
    "if password.isupper():\n",
    "    print ('Your password contains only uppercase letters! Please also use lowercase letters.')\n"
   ]
  },
  {
   "cell_type": "markdown",
   "metadata": {},
   "source": [
    "**Okay: Correct solution, but not really convenient and not complete**"
   ]
  },
  {
   "cell_type": "code",
   "execution_count": null,
   "metadata": {
    "tags": []
   },
   "outputs": [],
   "source": [
    "# your code here\n",
    "password = input(\"password: \")\n",
    "if len(password) < 6:\n",
    "    print(\"Your password should contain at least 6 characters.\")\n",
    "elif len(password) >= 12:\n",
    "    print(\"Your password should contain no more than 12 characters.\")\n",
    "elif password.isalpha() == True:\n",
    "    print(\"Your password only contains alphabetic characters! Please also use digits and/or special characters.\")\n",
    "elif password.isdigit() == True:\n",
    "    print(\"Your password only contains digits! Please also use alphabetic and/or special characters.\")\n",
    "elif password.isalnum():\n",
    "    print (\"Your password should contain at least one special character.\")\n",
    "elif password.islower() == True:\n",
    "    print(\"Your password contains only lowercase letters! Please also use uppercase letters.\")\n",
    "elif password.isupper() == True:\n",
    "    print(\"Your password contains only uppercase letters! Please also use lowercase letters.\")\n",
    "else:\n",
    "    print(\"Password accepted.\")"
   ]
  },
  {
   "cell_type": "markdown",
   "metadata": {},
   "source": [
    "**Does the following solution work?**"
   ]
  },
  {
   "cell_type": "code",
   "execution_count": null,
   "metadata": {
    "tags": []
   },
   "outputs": [],
   "source": [
    "password = input(\"Please create a password.\")\n",
    "\n",
    "if len(password) < 6:\n",
    "    print(\"Your password should contain at least 6 characters.\")\n",
    "elif len(password) > 12:\n",
    "    print(\"Your password should contain no more than 12 characters.\")\n",
    "\n",
    "if password.isalpha() == True:\n",
    "    print(\"Your password only contains alphabetic characters! Please also use digits and/or special characters.\")\n",
    "elif password.isdigit() == True:\n",
    "    print(\"Your password only contains digits! Please also use alphabetic and/or special characters.\")\n",
    "elif password.isalnum() == True:\n",
    "    print(\"Your password should contain at least one special character.\")\n",
    "\n",
    "if password.islower() == True:\n",
    "    print(\"Your password contains only lowercase letters! Please also use uppercase letters.\")\n",
    "elif password.isupper() == True:\n",
    "    print(\"Your password contains only uppercase letters! Please also use lowercase letters.\")"
   ]
  },
  {
   "cell_type": "code",
   "execution_count": null,
   "metadata": {
    "tags": []
   },
   "outputs": [],
   "source": [
    "password = 'te st'\n",
    "if password.isalnum():\n",
    "    print(\"Your password should contain at least one special character.\")"
   ]
  },
  {
   "cell_type": "code",
   "execution_count": null,
   "metadata": {},
   "outputs": [],
   "source": [
    "password = 'test'\n",
    "if password.isalnum():\n",
    "    print(\"Your password should contain at least one special character.\")"
   ]
  },
  {
   "cell_type": "code",
   "execution_count": null,
   "metadata": {},
   "outputs": [],
   "source": [
    "test = 'test5'\n",
    "test.isalnum()"
   ]
  },
  {
   "cell_type": "markdown",
   "metadata": {},
   "source": [
    "**Aside: Learning more about methods**\n",
    "\n",
    "* read the documentation by calling help\n",
    "* test and try to find interesting/informative cases\n",
    "* google"
   ]
  },
  {
   "cell_type": "code",
   "execution_count": null,
   "metadata": {},
   "outputs": [],
   "source": [
    "help(test.isalnum)"
   ]
  },
  {
   "cell_type": "code",
   "execution_count": null,
   "metadata": {
    "tags": []
   },
   "outputs": [],
   "source": [
    "test = 'hi5'\n",
    "\n",
    "print(test.isdigit())"
   ]
  },
  {
   "cell_type": "code",
   "execution_count": null,
   "metadata": {
    "tags": []
   },
   "outputs": [],
   "source": [
    "help(str.isdigit)"
   ]
  },
  {
   "cell_type": "code",
   "execution_count": null,
   "metadata": {
    "tags": []
   },
   "outputs": [],
   "source": [
    "help(str.isnumeric)"
   ]
  },
  {
   "cell_type": "code",
   "execution_count": null,
   "metadata": {
    "tags": []
   },
   "outputs": [],
   "source": [
    "test = 'hi5'\n",
    "print(test.isnumeric())\n",
    "print(test.isdigit())"
   ]
  },
  {
   "cell_type": "code",
   "execution_count": null,
   "metadata": {
    "tags": []
   },
   "outputs": [],
   "source": [
    "test = '12345'\n",
    "print(test.isnumeric())\n",
    "print(test.isdigit())"
   ]
  },
  {
   "cell_type": "code",
   "execution_count": null,
   "metadata": {
    "tags": []
   },
   "outputs": [],
   "source": [
    "test_demo = 'This is a superscript\\u00b2'\n",
    "print(test_demo)\n",
    "test = '\\u00b2'\n",
    "print(test)\n",
    "print(test.isnumeric())\n",
    "print(test.isdigit())"
   ]
  },
  {
   "cell_type": "code",
   "execution_count": null,
   "metadata": {
    "tags": []
   },
   "outputs": [],
   "source": [
    "test = '⅓'\n",
    "print(test)\n",
    "print(test.isnumeric())\n",
    "print(test.isdigit())"
   ]
  },
  {
   "cell_type": "code",
   "execution_count": null,
   "metadata": {
    "tags": []
   },
   "outputs": [],
   "source": [
    "test = '0.3'\n",
    "print(test)\n",
    "print(test.isnumeric())\n",
    "print(test.isdigit())"
   ]
  },
  {
   "cell_type": "markdown",
   "metadata": {},
   "source": [
    "**Good: Explicit, but not everything is necessary**\n",
    "\n",
    "Illustration of possible variations\n",
    "\n",
    "To improve: \n",
    "\n",
    "* There are specific methods to check upper and lower case\n",
    "* `== 1` is not the most readable way of checking if something is true. "
   ]
  },
  {
   "cell_type": "code",
   "execution_count": null,
   "metadata": {
    "tags": []
   },
   "outputs": [],
   "source": [
    "\n",
    "password = input(\"Please enter your new password: \")\n",
    "\n",
    "#1 - check length (too short)\n",
    "if len(password) < 6:\n",
    "    print(\"Password must contain 6 characters\")\n",
    "    \n",
    "#2 - check length (too long)\n",
    "if len(password) > 12:\n",
    "    print(\"Password must not contain more than 12 characters\")\n",
    "    \n",
    "#3 - check if only alphabetic\n",
    "if password.isalpha() == 1 and password.isalnum():\n",
    "    print(\"Password only contains alphabetic characters! Please also use digits and/or special characters\")\n",
    "\n",
    "#4 - check if only numeric\n",
    "if password.isnumeric() == 1:\n",
    "    print(\"Password only contains digits! Please also use alphabetic charachters and/or special characters\")\n",
    "    \n",
    "#5 - check if there are special characters\n",
    "if password.isalnum() == 1:\n",
    "    print(\"Passwor d must contain at least one special character\")\n",
    "\n",
    "#6 - check if only lowercase\n",
    "if password.lower() == password:\n",
    "    print(\"Password contains only lowercase letters! Please also use uppercase letters\")\n",
    "    \n",
    "#7 - check if only uppercase\n",
    "if password.upper() == password:\n",
    "    print(\"Password contains only uppercase letters! Please also use lowercase letters\")"
   ]
  },
  {
   "cell_type": "markdown",
   "metadata": {},
   "source": [
    "## Exercise 5: Boolean Logic and Conditions"
   ]
  },
  {
   "cell_type": "markdown",
   "metadata": {},
   "source": [
    "#### 5a. Speeding\n",
    "\n",
    "Write code to solve the following scenario:\n",
    "\n",
    "You are driving a little too fast, and a police officer stops you. Write code to compute and print the result, encoded as a string: 'no ticket', 'small ticket', 'big ticket'. If speed is 60 or less, the result is 'no ticket'. If speed is between 61 and 80 inclusive, the result is 'small ticket'. If speed is 81 or more, the result is 'big ticket'. Unless it is your birthday -- on that day, your speed can be 5 higher in all cases."
   ]
  },
  {
   "cell_type": "markdown",
   "metadata": {},
   "source": [
    "**Good**\n",
    "\n",
    "Can we shorten this?"
   ]
  },
  {
   "cell_type": "code",
   "execution_count": null,
   "metadata": {
    "tags": []
   },
   "outputs": [],
   "source": [
    "# your code here\n",
    "speed = int (input ('what is your speed:'))\n",
    "birthday = input('is it your birthday? (yes/no)').lower()\n",
    "\n",
    "if birthday == 'no':\n",
    "    if speed <= 60:\n",
    "        print ('no ticket')\n",
    "    if 61<= speed <=80:\n",
    "        print ('small ticket')\n",
    "    if speed > 80:\n",
    "        print ('big ticket')\n",
    "if birthday == 'yes':\n",
    "    if speed <= 65:\n",
    "        print ('no ticket')\n",
    "    if 66<= speed <=85:\n",
    "        print ('small ticket')\n",
    "    if speed > 85:\n",
    "        print ('big ticket')"
   ]
  },
  {
   "cell_type": "markdown",
   "metadata": {},
   "source": [
    "**Short solution**"
   ]
  },
  {
   "cell_type": "code",
   "execution_count": 71,
   "metadata": {
    "tags": []
   },
   "outputs": [
    {
     "name": "stdout",
     "output_type": "stream",
     "text": [
      "big ticket\n"
     ]
    }
   ],
   "source": [
    "speed = 100\n",
    "birthday = False\n",
    "\n",
    "if birthday:\n",
    "    speed = speed - 5\n",
    "    \n",
    "if speed >= 81:\n",
    "    result = 'big ticket'\n",
    "elif speed >= 61:\n",
    "    result = 'small ticket'\n",
    "elif speed <= 60:\n",
    "    result = 'no ticket'\n",
    "    \n",
    "\n",
    "print(result)"
   ]
  },
  {
   "cell_type": "code",
   "execution_count": 74,
   "metadata": {
    "tags": []
   },
   "outputs": [
    {
     "name": "stdout",
     "output_type": "stream",
     "text": [
      "something\n"
     ]
    }
   ],
   "source": [
    "if 'string' and 'string':\n",
    "    print('something')"
   ]
  },
  {
   "cell_type": "code",
   "execution_count": 79,
   "metadata": {
    "tags": []
   },
   "outputs": [
    {
     "name": "stdout",
     "output_type": "stream",
     "text": [
      "['this', 'is', 'a', 'string', 'with', 'space']\n",
      "this\n",
      "is\n",
      "a\n",
      "string\n",
      "with\n",
      "space\n"
     ]
    }
   ],
   "source": [
    "my_string = 'this is a string with space'\n",
    "my_list = my_string.split()\n",
    "print(my_list)\n",
    "my_string_joined = '\\n'.join(my_list)\n",
    "print(my_string_joined)"
   ]
  },
  {
   "cell_type": "markdown",
   "metadata": {},
   "source": [
    "**Not okay: Would this work?**\n",
    "\n",
    "Does it give the correct output? Could if go wrong?\n",
    "\n",
    "Try speed above 80\n",
    "\n",
    "--> Good illustration of if-if-if vs if-elif-elif"
   ]
  },
  {
   "cell_type": "code",
   "execution_count": 73,
   "metadata": {
    "tags": []
   },
   "outputs": [
    {
     "name": "stdout",
     "output_type": "stream",
     "text": [
      "big ticket\n"
     ]
    }
   ],
   "source": [
    "speed = 100\n",
    "birthday = False\n",
    "\n",
    "if birthday:\n",
    "    speed = speed - 5\n",
    "    \n",
    "if speed >= 81:\n",
    "    result = 'big ticket'\n",
    "    #print(result)\n",
    "elif speed >= 61:\n",
    "    result = 'small ticket'\n",
    "    #print(result)\n",
    "elif speed <= 60:\n",
    "    result = 'no ticket'\n",
    "    #print(result)\n",
    "    \n",
    "\n",
    "print(result)"
   ]
  },
  {
   "cell_type": "markdown",
   "metadata": {},
   "source": [
    "#### 5b. Alarm clock\n",
    "\n",
    "Write code to set you alarm clock! Given the day of the week and information about whether you are currently on vacation or not, your code should print the time you want to be woken up following these constraints: \n",
    "\n",
    "Weekdays, the alarm should be \"7:00\" and on the weekend it should be \"10:00\". Unless we are on vacation -- then on weekdays it should be \"10:00\" and weekends it should be \"off\".\n",
    "\n",
    "\n",
    "Encode the weeks days as ints in the following way: 0=Sun, 1=Mon, 2=Tue, ...6=Sat. Encode the vacation infromation as boolean. Your code should assign the correct time to a variable as a string (following this format: \"7:00\") and print it.\n",
    "\n",
    "Note: Encoding the days as an integer helps you with defining conditions. You can check whether the week day is in a certain interval (instead of writing code for every single day). "
   ]
  },
  {
   "cell_type": "code",
   "execution_count": null,
   "metadata": {},
   "outputs": [],
   "source": [
    "weekday = input('specify weekday')\n",
    "\n",
    "# also ok - sorry for the typing ;-) "
   ]
  },
  {
   "cell_type": "markdown",
   "metadata": {},
   "source": [
    "**Good: Nice solution**\n",
    "\n"
   ]
  },
  {
   "cell_type": "code",
   "execution_count": null,
   "metadata": {},
   "outputs": [],
   "source": [
    "day_tomorrow = 3\n",
    "vacation = True\n",
    "\n",
    "if day_tomorrow in [0,6,7]: # weekends\n",
    "    if vacation == True:\n",
    "        alarm = \"off\"\n",
    "    else:\n",
    "        alarm = \"10:00\"\n",
    "else: # weekdays\n",
    "    if vacation == True:\n",
    "        alarm = \"10:00\"\n",
    "    else:\n",
    "        alarm = \"7:00\"\n",
    "        \n",
    "        \n",
    "if alarm == \"off\":  \n",
    "    print(\"The alarm is \" + alarm)\n",
    "else: \n",
    "    print(\"The alarm will go off at \" + alarm)"
   ]
  },
  {
   "cell_type": "markdown",
   "metadata": {},
   "source": [
    "**Good**\n",
    "\n",
    "--> Why use integers for the week days? Consider the solution below."
   ]
  },
  {
   "cell_type": "code",
   "execution_count": null,
   "metadata": {},
   "outputs": [],
   "source": [
    "weekday = 2\n",
    "# 0=Sunday, 1=Monday, 2=Tuesday, 3=Wednesday, 4=Thursday, 5=Friday, 6=Saturday\n",
    "vacation = False\n",
    "time = \"\"\n",
    "\n",
    "if vacation == False:\n",
    "    \n",
    "    #if weekday > 0 and weekday < 6:\n",
    "    if 0 < weekday < 3:\n",
    "        time = \"7:00\"\n",
    "        if weekday == 2:\n",
    "            print(\"Happy Tuesday\")\n",
    "    elif 3 < 6:\n",
    "        time = '8:00'\n",
    "    else:\n",
    "        time = \"10:00\"\n",
    "    \n",
    "        \n",
    "else:\n",
    "    if weekday > 0 and weekday < 6:\n",
    "        time = \"10:00\"\n",
    "    else:\n",
    "        time = \"off\"\n",
    "        \n",
    "print(time)"
   ]
  },
  {
   "cell_type": "markdown",
   "metadata": {},
   "source": [
    "**Does this work?**\n",
    "\n",
    "--> What is missing?\n",
    "\n",
    "Tip: Try weekend during vacation (should be off)"
   ]
  },
  {
   "cell_type": "code",
   "execution_count": null,
   "metadata": {
    "tags": []
   },
   "outputs": [],
   "source": [
    "today = 6\n",
    "vacation = 'yes'\n",
    "\n",
    "seven = '7:00'\n",
    "ten = '10:00'\n",
    "\n",
    "\n",
    "if today != 0 and today != 6 and vacation == 'no':\n",
    "    print('Wake up at', seven)\n",
    "else:\n",
    "    print('Wake up at', ten)"
   ]
  },
  {
   "cell_type": "markdown",
   "metadata": {},
   "source": [
    "**Start, but not quite there**"
   ]
  },
  {
   "cell_type": "code",
   "execution_count": null,
   "metadata": {},
   "outputs": [],
   "source": [
    "# your code here\n",
    "day = input()\n",
    "if day == 'monday':\n",
    "    print('7:00')\n",
    "if day == 'tuesday':\n",
    "    print('7:00')\n",
    "if day == 'wednesday':\n",
    "    print('7:00')\n",
    "if day == 'thursday':\n",
    "    print('7:00')\n",
    "if day == 'friday':\n",
    "    print('7:00')\n",
    "if day == 'saturday':\n",
    "    print('10:00')\n",
    "if day == 'sunday':\n",
    "    print('10:00')"
   ]
  },
  {
   "cell_type": "markdown",
   "metadata": {},
   "source": [
    "#### 5c. Parcel delivery\n",
    "The required postage for an  international parcel delivery service is calculated based on item weight and country of destination:\n",
    "\n",
    "\n",
    "| Tariff zone | 0 - 2 kg | 2 - 5 kg | 5 - 10 kg | 10 - 20 kg | 20 - 30 kg |\n",
    "|-------------|----------|----------|-----------|------------|------------|\n",
    "|EUR 1 | € 13.00 | € 19.50 | € 25.00 | € 34.00 | € 45.00 | \n",
    "|EUR 2 | € 18.50 | € 25.00 | € 31.00 | € 40.00 | € 55.00 | \n",
    "|World | € 24.30 | € 34.30 | € 58.30 | € 105.30 | - | \n",
    "\n",
    "Ask a user for the `weight` and `zone`. Use (nested) `if`-statements to find the required postage based on these variables. Assign the result to a variable `postage` and print the result using a full sentence:\n",
    "\n",
    "`The price of sending a [...] kg parcel to the [...] zone is € [...].`"
   ]
  },
  {
   "cell_type": "markdown",
   "metadata": {},
   "source": [
    "**Good**\n",
    "\n",
    "\n",
    "Tiny improvement possible\n",
    "\n",
    "--> Can you find the problem?\n",
    "\n",
    "Tip: \n",
    "First test 20kg in EUR 1, then test 40kg in zone EUR 1. If you can't see the problem, restart the kernel and test 40kg in EUR 1 again."
   ]
  },
  {
   "cell_type": "code",
   "execution_count": null,
   "metadata": {
    "tags": []
   },
   "outputs": [],
   "source": [
    "# your code here\n",
    "weight = float(input('what is your weight please?'))\n",
    "zone = input('what is your zone please?')\n",
    "\n",
    "if zone == \"EUR 1\":\n",
    "    if weight <= 2:\n",
    "        postage = 13.00\n",
    "    elif weight <= 5:\n",
    "        postage = 19.50\n",
    "    elif weight <= 10:\n",
    "        postage = 25.00\n",
    "    elif weight <= 20:\n",
    "        postage = 34.00\n",
    "    elif weight <= 30:\n",
    "        postage = 45\n",
    "\n",
    "elif zone == \"EUR 2\":\n",
    "    if weight <= 2:\n",
    "        postage = 18.50\n",
    "    elif weight <= 5:\n",
    "        postage = 25.00\n",
    "    elif weight <= 10:\n",
    "        postage = 31.00\n",
    "    elif weight <= 20:\n",
    "        postage = 40.00\n",
    "    elif weight <= 30:\n",
    "        postage = 55.00\n",
    "\n",
    "elif zone == \"World\":\n",
    "    if weight <= 2:\n",
    "        postage = 24.30\n",
    "    elif weight <= 5:\n",
    "        postage = 34.30\n",
    "    elif weight <= 10:\n",
    "        postage = 58.30\n",
    "    elif weight <= 20:\n",
    "        postage = 105.30\n",
    "    elif weight <= 30:\n",
    "        postage = \"not possible\"\n",
    "\n",
    "price = f'The price of sending a {weight} kg parcel to the {zone} zone is € {postage}.'\n",
    "print(price)"
   ]
  },
  {
   "cell_type": "markdown",
   "metadata": {},
   "source": [
    "**Can you fix it?**"
   ]
  },
  {
   "cell_type": "code",
   "execution_count": null,
   "metadata": {},
   "outputs": [],
   "source": [
    "# your code here\n",
    "weight = 40\n",
    "zone = 'EUR 1'\n",
    "\n",
    "if zone == \"EUR 1\":\n",
    "    if weight <= 2:\n",
    "        postage = 13.00\n",
    "        print(postage)\n",
    "    elif weight <= 5:\n",
    "        postage = 19.50\n",
    "        print(postage)\n",
    "    elif weight <= 10:\n",
    "        postage = 25.00\n",
    "        print(postage)\n",
    "    elif weight <= 20:\n",
    "        postage = 34.00\n",
    "        print(postage)\n",
    "    elif weight <= 30:\n",
    "        postage = 45\n",
    "        print(postage)\n",
    "print(postage)"
   ]
  },
  {
   "cell_type": "markdown",
   "metadata": {},
   "source": [
    "**Why nested if-conditions are useful:**"
   ]
  },
  {
   "cell_type": "code",
   "execution_count": null,
   "metadata": {},
   "outputs": [],
   "source": [
    "weight = input(\"what is the weight of your package: \")\n",
    "print (weight)\n",
    "\n",
    "zone = input(\"what is the country of destination: \")\n",
    "print (zone)\n",
    "\n",
    "if weight <=2 and zone \"Eur 1\":\n",
    "    postage = 13\n",
    "    \n",
    "if weight <=2 and zone \"Eur 2\":\n",
    "    postage = 18.50\n",
    "    \n",
    "if weight <=2 and zone \"World\":\n",
    "    postage = 24.30\n",
    "    \n",
    "    \n",
    "print (f\"The price of sending a {weight} kg parcel to the {zone} is $ {postage})\n",
    "    "
   ]
  }
 ],
 "metadata": {
  "kernelspec": {
   "display_name": "Python 3 (ipykernel)",
   "language": "python",
   "name": "python3"
  },
  "language_info": {
   "codemirror_mode": {
    "name": "ipython",
    "version": 3
   },
   "file_extension": ".py",
   "mimetype": "text/x-python",
   "name": "python",
   "nbconvert_exporter": "python",
   "pygments_lexer": "ipython3",
   "version": "3.10.12"
  }
 },
 "nbformat": 4,
 "nbformat_minor": 4
}
